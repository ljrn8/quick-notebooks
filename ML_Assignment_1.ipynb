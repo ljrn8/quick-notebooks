{
  "nbformat": 4,
  "nbformat_minor": 0,
  "metadata": {
    "colab": {
      "provenance": [],
      "toc_visible": true,
      "collapsed_sections": [
        "nePAkfe_Q9AV"
      ],
      "authorship_tag": "ABX9TyNTuimRSK0ZDbZQ53fJJM+C",
      "include_colab_link": true
    },
    "kernelspec": {
      "name": "python3",
      "display_name": "Python 3"
    },
    "language_info": {
      "name": "python"
    }
  },
  "cells": [
    {
      "cell_type": "markdown",
      "metadata": {
        "id": "view-in-github",
        "colab_type": "text"
      },
      "source": [
        "<a href=\"https://colab.research.google.com/github/ljrn8/quick-notebooks/blob/main/ML_Assignment_1.ipynb\" target=\"_parent\"><img src=\"https://colab.research.google.com/assets/colab-badge.svg\" alt=\"Open In Colab\"/></a>"
      ]
    },
    {
      "cell_type": "markdown",
      "source": [
        "# COMP3010 Machine Learning Assignment | 20757218 Joel Hoefs\n"
      ],
      "metadata": {
        "id": "_ZJ8k7_aML-x"
      }
    },
    {
      "cell_type": "markdown",
      "source": [
        "## Setup"
      ],
      "metadata": {
        "id": "nePAkfe_Q9AV"
      }
    },
    {
      "cell_type": "code",
      "execution_count": 244,
      "metadata": {
        "colab": {
          "base_uri": "https://localhost:8080/"
        },
        "id": "TSAf3zNrHvvo",
        "outputId": "9822d378-cc51-4fac-957a-e8d9b29b5cc5"
      },
      "outputs": [
        {
          "output_type": "stream",
          "name": "stdout",
          "text": [
            "['.config', 'test.csv', 'train.csv', 'sample_prediction.csv', 'y_pred.csv', 'sample_data']\n"
          ]
        }
      ],
      "source": [
        "import numpy as np\n",
        "import pandas as pd\n",
        "import matplotlib.pyplot as plt\n",
        "import os\n",
        "import sklearn\n",
        "\n",
        "files = os.listdir('.')\n",
        "assert files\n",
        "print(os.listdir('.'))"
      ]
    },
    {
      "cell_type": "code",
      "source": [
        "sample_pred = pd.read_csv('sample_prediction.csv', index_col=False)\n",
        "df = pd.read_csv('train.csv', index_col=False)      # train/validation\n",
        "test_df = pd.read_csv('test.csv', index_col=False)  # test\n",
        "len(df), len(test_df), len(sample_pred)"
      ],
      "metadata": {
        "colab": {
          "base_uri": "https://localhost:8080/"
        },
        "id": "U32yXaCLH8CT",
        "outputId": "66e881f8-3a0a-49d4-8161-51715381e31b"
      },
      "execution_count": 245,
      "outputs": [
        {
          "output_type": "execute_result",
          "data": {
            "text/plain": [
              "(10050, 3203, 3203)"
            ]
          },
          "metadata": {},
          "execution_count": 245
        }
      ]
    },
    {
      "cell_type": "code",
      "source": [
        "df.columns"
      ],
      "metadata": {
        "colab": {
          "base_uri": "https://localhost:8080/"
        },
        "id": "UnFSM-AeL8n0",
        "outputId": "e48d59cb-c0fb-43ae-ee82-c7435fea6113"
      },
      "execution_count": 246,
      "outputs": [
        {
          "output_type": "execute_result",
          "data": {
            "text/plain": [
              "Index(['Unnamed: 0', 'Tank Failure Pressure (bar)', 'Liquid Ratio',\n",
              "       'Tank Width (m)', 'Tank Length (m)', 'Tank Height (m)',\n",
              "       'BLEVE Height (m)', 'Vapour Height (m)', 'Vapour Temperature (K)',\n",
              "       'Liquid Temperature (K)', 'Obstacle Distance to BLEVE (m)',\n",
              "       'Obstacle Width (m)', 'Obstacle Height (m)', 'Obstacle Thickness (m)',\n",
              "       'Obstacle Angle', 'Status', 'Liquid Critical Pressure (bar)',\n",
              "       'Liquid Boiling Temperature (K)', 'Liquid Critical Temperature (K)',\n",
              "       'Sensor ID', 'Sensor Position Side', 'Sensor Position x',\n",
              "       'Sensor Position y', 'Sensor Position z', 'Target Pressure (bar)'],\n",
              "      dtype='object')"
            ]
          },
          "metadata": {},
          "execution_count": 246
        }
      ]
    },
    {
      "cell_type": "code",
      "source": [
        "for data in (df, test_df):\n",
        "  data = data.drop('Unnamed: 0', axis=1)"
      ],
      "metadata": {
        "id": "kGqhpRBRL-Ht"
      },
      "execution_count": 247,
      "outputs": []
    },
    {
      "cell_type": "markdown",
      "source": [
        "## Preprocessing\n"
      ],
      "metadata": {
        "id": "rcEO0iUKKQWq"
      }
    },
    {
      "cell_type": "code",
      "source": [
        "print(f'na rows in train/valid: {len(df.dropna()) - len(df)}')\n",
        "print(f'na rows in test: {len(test_df.dropna()) - len(test_df)}')"
      ],
      "metadata": {
        "colab": {
          "base_uri": "https://localhost:8080/"
        },
        "id": "oQlmk-hu2eh-",
        "outputId": "f14540dc-7b6e-4278-ea68-624afe120498"
      },
      "execution_count": 248,
      "outputs": [
        {
          "output_type": "stream",
          "name": "stdout",
          "text": [
            "na rows in train/valid: -110\n",
            "na rows in test: 0\n"
          ]
        }
      ]
    },
    {
      "cell_type": "code",
      "source": [
        "# 110 is insignificant -> delete columns\n",
        "df = df.dropna()"
      ],
      "metadata": {
        "id": "iKl7oFat6moz"
      },
      "execution_count": 249,
      "outputs": []
    },
    {
      "cell_type": "code",
      "source": [
        "from scipy import stats\n",
        "\n",
        "# filter outliers with the Z score method\n",
        "def filter_outliers(df, cols, threshhold_z=2):\n",
        "  df_c = df[cols]\n",
        "  z = stats.zscore(df_c)\n",
        "  non_outliers = abs(z) < threshhold_z\n",
        "\n",
        "  print()\n",
        "  for c in cols:\n",
        "    print(f'outliers in [{c}] = {(~non_outliers[c]).sum()}')\n",
        "\n",
        "  non_outliers_mask = non_outliers.all(axis=1)\n",
        "  outliers = len(df_c) - len(df_c[non_outliers_mask])\n",
        "  rate = outliers / len(df_c)\n",
        "  print(f'num outliers: {outliers}\\noutlier rate: {rate*100} %')\n",
        "\n",
        "  return non_outliers_mask, df[non_outliers_mask]\n",
        "\n",
        "drop_cols = ['Status', 'Unnamed: 0']\n",
        "non_outliers_mask, filtered = filter_outliers(df, df.drop(drop_cols, axis=1).columns, threshhold_z=3.5)\n",
        "non_outliers_mask_test, filtered_test = filter_outliers(test_df, test_df.drop(drop_cols, axis=1).columns, threshhold_z=3.5)"
      ],
      "metadata": {
        "colab": {
          "base_uri": "https://localhost:8080/"
        },
        "id": "ynrOH94i656H",
        "outputId": "d29198a4-751d-4d32-f5c1-075ef90fbe64"
      },
      "execution_count": 250,
      "outputs": [
        {
          "output_type": "stream",
          "name": "stdout",
          "text": [
            "\n",
            "outliers in [Tank Failure Pressure (bar)] = 48\n",
            "outliers in [Liquid Ratio] = 0\n",
            "outliers in [Tank Width (m)] = 0\n",
            "outliers in [Tank Length (m)] = 0\n",
            "outliers in [Tank Height (m)] = 0\n",
            "outliers in [BLEVE Height (m)] = 0\n",
            "outliers in [Vapour Height (m)] = 0\n",
            "outliers in [Vapour Temperature (K)] = 0\n",
            "outliers in [Liquid Temperature (K)] = 0\n",
            "outliers in [Obstacle Distance to BLEVE (m)] = 0\n",
            "outliers in [Obstacle Width (m)] = 0\n",
            "outliers in [Obstacle Height (m)] = 0\n",
            "outliers in [Obstacle Thickness (m)] = 0\n",
            "outliers in [Obstacle Angle] = 0\n",
            "outliers in [Liquid Critical Pressure (bar)] = 0\n",
            "outliers in [Liquid Boiling Temperature (K)] = 0\n",
            "outliers in [Liquid Critical Temperature (K)] = 0\n",
            "outliers in [Sensor ID] = 0\n",
            "outliers in [Sensor Position Side] = 0\n",
            "outliers in [Sensor Position x] = 0\n",
            "outliers in [Sensor Position y] = 10\n",
            "outliers in [Sensor Position z] = 0\n",
            "outliers in [Target Pressure (bar)] = 142\n",
            "num outliers: 200\n",
            "outlier rate: 2.0120724346076457 %\n",
            "\n",
            "outliers in [Tank Failure Pressure (bar)] = 0\n",
            "outliers in [Liquid Ratio] = 0\n",
            "outliers in [Tank Width (m)] = 0\n",
            "outliers in [Tank Length (m)] = 0\n",
            "outliers in [Tank Height (m)] = 0\n",
            "outliers in [BLEVE Height (m)] = 0\n",
            "outliers in [Vapour Height (m)] = 0\n",
            "outliers in [Vapour Temperature (K)] = 0\n",
            "outliers in [Liquid Temperature (K)] = 0\n",
            "outliers in [Obstacle Distance to BLEVE (m)] = 0\n",
            "outliers in [Obstacle Width (m)] = 0\n",
            "outliers in [Obstacle Height (m)] = 0\n",
            "outliers in [Obstacle Thickness (m)] = 0\n",
            "outliers in [Obstacle Angle] = 0\n",
            "outliers in [Liquid Critical Pressure (bar)] = 0\n",
            "outliers in [Liquid Boiling Temperature (K)] = 0\n",
            "outliers in [Liquid Critical Temperature (K)] = 0\n",
            "outliers in [Sensor ID] = 0\n",
            "outliers in [Sensor Position Side] = 0\n",
            "outliers in [Sensor Position x] = 0\n",
            "outliers in [Sensor Position y] = 0\n",
            "outliers in [Sensor Position z] = 0\n",
            "num outliers: 0\n",
            "outlier rate: 0.0 %\n"
          ]
        }
      ]
    },
    {
      "cell_type": "code",
      "source": [
        "df = df[non_outliers_mask]"
      ],
      "metadata": {
        "id": "snuhXywn8q-v"
      },
      "execution_count": 251,
      "outputs": []
    },
    {
      "cell_type": "code",
      "source": [
        "# drop duplicates\n",
        "print(len(df))\n",
        "df = df.drop_duplicates()\n",
        "print(len(df))"
      ],
      "metadata": {
        "id": "wZc0ozYI8ydF",
        "colab": {
          "base_uri": "https://localhost:8080/"
        },
        "outputId": "f250e4ea-77a5-4b83-e4e9-b35e07c3d425"
      },
      "execution_count": 252,
      "outputs": [
        {
          "output_type": "stream",
          "name": "stdout",
          "text": [
            "9740\n",
            "9692\n"
          ]
        }
      ]
    },
    {
      "cell_type": "code",
      "source": [
        "def filter_range(df, c, ub, lb):\n",
        "  df_filtered = df[(df[c] >= lb) & (df[c] <= ub)]\n",
        "  n_filtered =  len(df) - len(df_filtered)\n",
        "  print(f'number of out-of-bounds [{c}] instances = {n_filtered}')\n",
        "  return df_filtered\n",
        "\n",
        "# rational metric upperbound for Kelvin/metres\n",
        "UB = 1_000\n",
        "\n",
        "filter_range_map = {\n",
        "  'Tank Failure Pressure (bar)': (0, np.inf),\n",
        "  'Liquid Ratio': (0, 1),\n",
        "  'Tank Width (m)': (0, UB),\n",
        "  'Tank Length (m)': (0, UB),\n",
        "  'Tank Height (m)': (0, UB),\n",
        "  'Vapour Height (m)': (0, UB),\n",
        "  'BLEVE Height (m)': (0, UB),\n",
        "  'Vapour Temperature (K)': (0, np.inf),\n",
        "  'Liquid Temperature (K)': (0, UB),\n",
        "  'Obstacle Distance to BLEVE (m)': (0, UB),\n",
        "  'Obstacle Width (m)': (0, UB),\n",
        "  'Obstacle Height (m)': (0, UB),\n",
        "  'Obstacle Thickness (m)': (0, UB),\n",
        "  'Obstacle Angle': (0, 30),\n",
        "  'Sensor ID': (1, 27),\n",
        "  'Sensor Position Side': (1, 5),\n",
        "  'Sensor Position x': (-UB, UB),\n",
        "  'Sensor Position y': (-UB, UB),\n",
        "  'Sensor Position z': (-UB, UB),\n",
        "  'Target Pressure (bar)': (0, np.inf),\n",
        "}\n",
        "\n",
        "df_interm = df.copy()\n",
        "for column, (lb, ub) in filter_range_map.items():\n",
        "  train_interm = filter_range(df_interm, column, ub, lb)"
      ],
      "metadata": {
        "colab": {
          "base_uri": "https://localhost:8080/"
        },
        "id": "5NZpeefV9N2X",
        "outputId": "0489c10f-72f1-4aa9-bcec-c5b8a1a39171"
      },
      "execution_count": 253,
      "outputs": [
        {
          "output_type": "stream",
          "name": "stdout",
          "text": [
            "number of out-of-bounds [Tank Failure Pressure (bar)] instances = 0\n",
            "number of out-of-bounds [Liquid Ratio] instances = 0\n",
            "number of out-of-bounds [Tank Width (m)] instances = 0\n",
            "number of out-of-bounds [Tank Length (m)] instances = 0\n",
            "number of out-of-bounds [Tank Height (m)] instances = 0\n",
            "number of out-of-bounds [Vapour Height (m)] instances = 0\n",
            "number of out-of-bounds [BLEVE Height (m)] instances = 149\n",
            "number of out-of-bounds [Vapour Temperature (K)] instances = 0\n",
            "number of out-of-bounds [Liquid Temperature (K)] instances = 0\n",
            "number of out-of-bounds [Obstacle Distance to BLEVE (m)] instances = 0\n",
            "number of out-of-bounds [Obstacle Width (m)] instances = 0\n",
            "number of out-of-bounds [Obstacle Height (m)] instances = 0\n",
            "number of out-of-bounds [Obstacle Thickness (m)] instances = 0\n",
            "number of out-of-bounds [Obstacle Angle] instances = 0\n",
            "number of out-of-bounds [Sensor ID] instances = 0\n",
            "number of out-of-bounds [Sensor Position Side] instances = 0\n",
            "number of out-of-bounds [Sensor Position x] instances = 0\n",
            "number of out-of-bounds [Sensor Position y] instances = 0\n",
            "number of out-of-bounds [Sensor Position z] instances = 0\n",
            "number of out-of-bounds [Target Pressure (bar)] instances = 0\n"
          ]
        }
      ]
    },
    {
      "cell_type": "code",
      "source": [
        "plt.hist(df['BLEVE Height (m)'], bins=500)\n",
        "plt.xlim(-0.05, 0.3)"
      ],
      "metadata": {
        "colab": {
          "base_uri": "https://localhost:8080/",
          "height": 0
        },
        "id": "jTytgSnM9d2E",
        "outputId": "c680ae91-6130-42f8-d620-e3e100c7ce2d"
      },
      "execution_count": 254,
      "outputs": [
        {
          "output_type": "execute_result",
          "data": {
            "text/plain": [
              "(-0.05, 0.3)"
            ]
          },
          "metadata": {},
          "execution_count": 254
        },
        {
          "output_type": "display_data",
          "data": {
            "text/plain": [
              "<Figure size 640x480 with 1 Axes>"
            ],
            "image/png": "[encoded data removed]"
          },
          "metadata": {}
        }
      ]
    },
    {
      "cell_type": "code",
      "source": [
        "# some BLEVE Height (m) measurements were negative, so I'll just round them up\n",
        "df['BLEVE Height (m)'] = df['BLEVE Height (m)'].map(lambda x: max(x, 0))"
      ],
      "metadata": {
        "id": "ToKFFJVF9duI"
      },
      "execution_count": 255,
      "outputs": []
    },
    {
      "cell_type": "code",
      "source": [
        "# ensure no incorrect categorical/ordinal entries:\n",
        "for c in ('Status', 'Sensor Position Side', 'Sensor ID'):\n",
        "  print(c + ' unique values: ')\n",
        "  print(np.unique(df[c]))\n",
        "  print()"
      ],
      "metadata": {
        "colab": {
          "base_uri": "https://localhost:8080/"
        },
        "id": "tIK4tqat9dlZ",
        "outputId": "2ad3fb70-e8a9-459a-dcf3-44ddd7f620f9"
      },
      "execution_count": 256,
      "outputs": [
        {
          "output_type": "stream",
          "name": "stdout",
          "text": [
            "Status unique values: \n",
            "['Saperheated' 'Subcoled' 'Subcool' 'Subcooled' 'Superheat' 'Superheated'\n",
            " 'subcooled' 'superheated']\n",
            "\n",
            "Sensor Position Side unique values: \n",
            "[1. 2. 3. 4. 5.]\n",
            "\n",
            "Sensor ID unique values: \n",
            "[ 1.  2.  3.  4.  5.  6.  7.  8.  9. 10. 11. 12. 13. 14. 15. 16. 17. 18.\n",
            " 19. 20. 21. 22. 23. 24. 25. 26. 27.]\n",
            "\n"
          ]
        }
      ]
    },
    {
      "cell_type": "code",
      "source": [
        "def status_map(name):\n",
        "  if name in ['Saperheated', 'Superheat', 'Superheated', 'superheated']:\n",
        "    return 'superheated'\n",
        "  else:\n",
        "    return 'subcooled'\n",
        "\n",
        "df['Status'] = df['Status'].map(status_map)\n",
        "np.unique(df['Status'])"
      ],
      "metadata": {
        "colab": {
          "base_uri": "https://localhost:8080/"
        },
        "id": "yDA06PnI9tJ3",
        "outputId": "015ad907-8a58-489a-8923-c0e308da7049"
      },
      "execution_count": 257,
      "outputs": [
        {
          "output_type": "execute_result",
          "data": {
            "text/plain": [
              "array(['subcooled', 'superheated'], dtype=object)"
            ]
          },
          "metadata": {},
          "execution_count": 257
        }
      ]
    },
    {
      "cell_type": "code",
      "source": [
        "# Feature Engineering:\n",
        "for data in (df, test_df):\n",
        "\n",
        "  # Dimension Ratio's\n",
        "  data['Tank width/length Ratio'] = data['Tank Width (m)'] / data['Tank Length (m)']\n",
        "  data['Tank width/height Ratio'] =  data['Tank Width (m)'] / data['Tank Height (m)']\n",
        "\n",
        "  # precise distance to sensor\n",
        "  sensor_offsets = np.sqrt(data['Sensor Position x']**2 + data['Sensor Position y']**2 + data['Sensor Position z']**2)\n",
        "  data['Sensor-Obstacle Distance'] = data['Obstacle Distance to BLEVE (m)'] + sensor_offsets"
      ],
      "metadata": {
        "id": "oc32bB53-K4j"
      },
      "execution_count": 258,
      "outputs": []
    },
    {
      "cell_type": "code",
      "source": [
        "# data type conversion\n",
        "df['Status'] = df['Status'].map({\"superheated\": 0, \"subcooled\": 1})\n",
        "test_df['Status'] = test_df['Status'].map({\"Superheated\": 0, \"Subcooled\": 1})\n",
        "\n",
        "# TODO: OHE"
      ],
      "metadata": {
        "id": "IrNwY4zg-Kyg"
      },
      "execution_count": 259,
      "outputs": []
    },
    {
      "cell_type": "markdown",
      "source": [
        "Feature Selection done with perumatation importance using XGBoost"
      ],
      "metadata": {
        "id": "cQ3Y-WO_J9qJ"
      }
    },
    {
      "cell_type": "code",
      "source": [
        "from sklearn.datasets import load_diabetes\n",
        "from sklearn.model_selection import train_test_split\n",
        "import xgboost as xgb\n",
        "from sklearn.inspection import permutation_importance\n",
        "\n",
        "X, y = df.drop('Target Pressure (bar)', axis=1), df['Target Pressure (bar)']\n",
        "X_train, X_val, y_train, y_val = train_test_split(X, y , test_size=0.2)\n",
        "\n",
        "model = xgb.XGBRegressor().fit(X_train, y_train)\n",
        "model.score(X_val, y_val)\n",
        "\n",
        "r = permutation_importance(model, X_val, y_val,\n",
        "                           n_repeats=50,\n",
        "                           random_state=0)"
      ],
      "metadata": {
        "id": "qYjV3o_YHpru"
      },
      "execution_count": 260,
      "outputs": []
    },
    {
      "cell_type": "code",
      "source": [
        "importance_df = pd.DataFrame({\n",
        "    'Feature': X.columns,\n",
        "    'mean': [np.mean(r.importances[i]) for i in range(len(X.columns))],\n",
        "    'dist': [r.importances[i] for i in range(len(X.columns))],\n",
        "}).sort_values(by='mean')\n",
        "\n",
        "plt.figure(figsize=(10, 6))\n",
        "\n",
        "plt.boxplot(importance_df['dist'].values, vert=False, patch_artist=True, widths=0.7)\n",
        "\n",
        "plt.yticks(range(1, len(importance_df) + 1), importance_df['Feature'])\n",
        "plt.title('Permutation Importance')\n",
        "\n",
        "plt.show()"
      ],
      "metadata": {
        "colab": {
          "base_uri": "https://localhost:8080/",
          "height": 0
        },
        "id": "nkTtVg6ZKqKF",
        "outputId": "7bd86ab8-dbd6-465c-d1ae-2082c959bfa9"
      },
      "execution_count": 261,
      "outputs": [
        {
          "output_type": "display_data",
          "data": {
            "text/plain": [
              "<Figure size 1000x600 with 1 Axes>"
            ],
            "image/png": "[encoded data removed]"
          },
          "metadata": {}
        }
      ]
    },
    {
      "cell_type": "code",
      "source": [
        "# Remove bottom 3 features\n",
        "def permutation_filter(df):\n",
        "  return df.drop(\n",
        "      ['Liquid Boiling Temperature (K)', 'Sensor Position Side', 'Liquid Critical Temperature (K)'],\n",
        "      axis=1)"
      ],
      "metadata": {
        "id": "mKcVXgDYLtn8"
      },
      "execution_count": 262,
      "outputs": []
    },
    {
      "cell_type": "markdown",
      "source": [
        "alternatively, I consider using PCA for 17 components"
      ],
      "metadata": {
        "id": "ABoo8FhcOcuO"
      }
    },
    {
      "cell_type": "code",
      "source": [
        "from sklearn.decomposition import PCA\n",
        "from sklearn.preprocessing import StandardScaler\n",
        "\n",
        "X, y = df.drop('Target Pressure (bar)', axis=1), df['Target Pressure (bar)']\n",
        "scaler = StandardScaler()\n",
        "\n",
        "pca = PCA(n_components=17)\n",
        "X_scaled = scaler.fit_transform(X)\n",
        "X_pca = pca.fit_transform(X_scaled)\n",
        "\n",
        "plt.figure(figsize=(8, 6))\n",
        "plt.bar(range(1, len(pca.explained_variance_ratio_) + 1), pca.explained_variance_ratio_)\n",
        "plt.title('Explained Variance by Principal Components')\n",
        "plt.show()"
      ],
      "metadata": {
        "colab": {
          "base_uri": "https://localhost:8080/",
          "height": 0
        },
        "id": "n8Ug3vqnNtly",
        "outputId": "98686d79-6d81-47db-f8b5-6429938c5f02"
      },
      "execution_count": 263,
      "outputs": [
        {
          "output_type": "display_data",
          "data": {
            "text/plain": [
              "<Figure size 800x600 with 1 Axes>"
            ],
            "image/png": "[encoded data removed]"
          },
          "metadata": {}
        }
      ]
    },
    {
      "cell_type": "markdown",
      "source": [
        "## Model Developement"
      ],
      "metadata": {
        "id": "lJwRHXhJKchb"
      }
    },
    {
      "cell_type": "code",
      "source": [
        "from sklearn.model_selection import train_test_split\n",
        "import xgboost as xgb\n",
        "from sklearn.metrics import r2_score, mean_absolute_percentage_error\n",
        "from sklearn.ensemble import RandomForestRegressor\n",
        "from sklearn.svm import SVR\n",
        "from sklearn.linear_model import LinearRegression\n",
        "from sklearn.model_selection import cross_validate\n",
        "from sklearn.metrics import recall_score, make_scorer\n",
        "from sklearn.preprocessing import StandardScaler\n",
        "from sklearn.pipeline import Pipeline\n",
        "\n",
        "df = df.drop('Unnamed: 0', axis=1)\n",
        "X, y =  df.drop('Target Pressure (bar)', axis=1), df['Target Pressure (bar)']\n",
        "\n",
        "# dataset based on perumtation importance selection\n",
        "X_pfi = permutation_filter(X)\n",
        "\n",
        "# dataset based on PCA features\n",
        "pca = PCA(n_components=17)\n",
        "X_scaled = scaler.fit_transform(X)\n",
        "X_pca = pca.fit_transform(X_scaled)"
      ],
      "metadata": {
        "id": "UmRjq_chIj0H",
        "collapsed": true
      },
      "execution_count": 265,
      "outputs": []
    },
    {
      "cell_type": "markdown",
      "source": [
        "#### Model Selection"
      ],
      "metadata": {
        "id": "EKwws7NNLRq5"
      }
    },
    {
      "cell_type": "code",
      "source": [
        "scoring = {\n",
        "    'R2': make_scorer(r2_score),\n",
        "    'MAPE': make_scorer(mean_absolute_percentage_error)\n",
        "}\n",
        "\n",
        "scores = []\n",
        "\n",
        "for X, dataset in (\n",
        "    (X_pfi, 'Permutation importance'),\n",
        "     (X_pca, 'PCA')):\n",
        "\n",
        "  for (model, name) in ((xgb.XGBRegressor(), 'XGboost'),\n",
        "                        (RandomForestRegressor(), 'RF'),\n",
        "                        (SVR(), 'SVM'),\n",
        "                        (LinearRegression(), 'LR')):\n",
        "\n",
        "\n",
        "    pipe = Pipeline([('scaler', StandardScaler()), (name, model)])\n",
        "\n",
        "    scores_dict = cross_validate(pipe, X, y, scoring=scoring,\n",
        "                        cv=5, return_train_score=True)\n",
        "\n",
        "    scores.append((dataset + ' & ' + name, {\n",
        "        'mean_test_R2': scores_dict['test_R2'].mean(),\n",
        "        'mean_test_MAPE': scores_dict['test_MAPE'].mean(),\n",
        "        'mean_train_MAPE': scores_dict['train_MAPE'].mean()\n",
        "    }))\n",
        "\n",
        "scores"
      ],
      "metadata": {
        "id": "TkCiTuQlBj2D",
        "colab": {
          "base_uri": "https://localhost:8080/"
        },
        "outputId": "0c04366b-9b2e-4fe3-c858-e5ca1d98f9da"
      },
      "execution_count": 267,
      "outputs": [
        {
          "output_type": "execute_result",
          "data": {
            "text/plain": [
              "[('Permutation importance & XGboost',\n",
              "  {'mean_test_R2': np.float64(0.8223014252458276),\n",
              "   'mean_test_MAPE': np.float64(0.35292802687806646),\n",
              "   'mean_train_MAPE': np.float64(0.10161400477604868)}),\n",
              " ('Permutation importance & RF',\n",
              "  {'mean_test_R2': np.float64(0.7723926311524196),\n",
              "   'mean_test_MAPE': np.float64(0.3699820146241805),\n",
              "   'mean_train_MAPE': np.float64(0.06828293831780964)}),\n",
              " ('Permutation importance & SVM',\n",
              "  {'mean_test_R2': np.float64(0.7599575155394788),\n",
              "   'mean_test_MAPE': np.float64(0.5903621563428294),\n",
              "   'mean_train_MAPE': np.float64(0.42834028581741723)}),\n",
              " ('Permutation importance & LR',\n",
              "  {'mean_test_R2': np.float64(0.5749597556983066),\n",
              "   'mean_test_MAPE': np.float64(0.9847561982729232),\n",
              "   'mean_train_MAPE': np.float64(0.9724892696430834)}),\n",
              " ('PCA & XGboost',\n",
              "  {'mean_test_R2': np.float64(0.6549496996108524),\n",
              "   'mean_test_MAPE': np.float64(0.6851273110884722),\n",
              "   'mean_train_MAPE': np.float64(0.19531492557723698)}),\n",
              " ('PCA & RF',\n",
              "  {'mean_test_R2': np.float64(0.6200606496615043),\n",
              "   'mean_test_MAPE': np.float64(0.7127852704427003),\n",
              "   'mean_train_MAPE': np.float64(0.17402166118771284)}),\n",
              " ('PCA & SVM',\n",
              "  {'mean_test_R2': np.float64(0.7377000158969327),\n",
              "   'mean_test_MAPE': np.float64(0.6161683059491285),\n",
              "   'mean_train_MAPE': np.float64(0.4528242616152374)}),\n",
              " ('PCA & LR',\n",
              "  {'mean_test_R2': np.float64(0.29036658692789513),\n",
              "   'mean_test_MAPE': np.float64(1.1141721639073068),\n",
              "   'mean_train_MAPE': np.float64(1.102487220798119)})]"
            ]
          },
          "metadata": {},
          "execution_count": 267
        }
      ]
    },
    {
      "cell_type": "markdown",
      "source": [
        "* Permutation importance did better than PCA\n",
        "* SVM & LR underperformed\n",
        "* All methods overfit significantly"
      ],
      "metadata": {
        "id": "UQ2ZGE_VXtIz"
      }
    },
    {
      "cell_type": "code",
      "source": [
        "import torch.optim as optim\n",
        "from sklearn.preprocessing import MinMaxScaler, StandardScaler\n",
        "import torch\n",
        "import torch.nn as nn\n",
        "\n",
        "class NN(nn.Module):\n",
        "  def __init__(self, input_size, hidden_layers):\n",
        "    super(NN, self).__init__()\n",
        "\n",
        "    layers = []\n",
        "    layers.append(nn.Linear(input_size, hidden_layers[0]))\n",
        "    layers.append(nn.ReLU())\n",
        "\n",
        "    for i in range(1, len(hidden_layers)):\n",
        "      layers.append(nn.Linear(hidden_layers[i-1], hidden_layers[i]))\n",
        "      layers.append(nn.ReLU())\n",
        "\n",
        "    layers.append(nn.Linear(hidden_layers[-1], 1))\n",
        "    self.model = nn.Sequential(*layers)\n",
        "\n",
        "  def forward(self, x):\n",
        "    return self.model(x)\n",
        "\n",
        "\n",
        "def train_nn(\n",
        "    epochs,\n",
        "    input_size,\n",
        "    hidden_layers,\n",
        "    lr,\n",
        "    evaluations=3,\n",
        "    X=X, y=y,\n",
        "    train_full=False,\n",
        "    quite_output=False\n",
        "):\n",
        "\n",
        "  # Extra preprocessing\n",
        "  ss = StandardScaler()\n",
        "  X = ss.fit_transform(X)\n",
        "  X_torch = torch.tensor(X, dtype=torch.float32)\n",
        "  y_torch = torch.tensor(y, dtype=torch.float32).reshape(-1, 1)\n",
        "  X_train, X_valid, y_train, y_valid = train_test_split(\n",
        "      X_torch, y_torch, test_size=0.2, random_state=0)\n",
        "\n",
        "  # if training on all the data, ignore validation\n",
        "  if train_full:\n",
        "    X_train = torch.cat((X_train, X_valid), dim=0)\n",
        "    y_train = torch.cat((y_train, y_valid), dim=0)\n",
        "\n",
        "  # compile model\n",
        "  model = NN(input_size, hidden_layers)\n",
        "  criterion = nn.MSELoss()\n",
        "  optimizer = optim.Adam(model.parameters(), lr=lr)\n",
        "\n",
        "  R2, MAPE, MAPE_train = [], [], []\n",
        "\n",
        "  # training loop\n",
        "  for epoch in range(epochs):\n",
        "    optimizer.zero_grad()\n",
        "    y_pred_train = model(X_train)\n",
        "    loss = criterion(y_pred_train, y_train)\n",
        "    loss.backward()\n",
        "    optimizer.step()\n",
        "\n",
        "    # evaluation\n",
        "    if not train_full and (epoch % (epochs // evaluations) == 0 or epoch == epochs - 1):\n",
        "\n",
        "      # training MAPE\n",
        "      y_p_train = y_pred_train.detach().numpy()\n",
        "      mape_train = mean_absolute_percentage_error(y_train.detach().numpy(), y_p_train)\n",
        "\n",
        "      # validation\n",
        "      y_pred_valid = model(X_valid)\n",
        "      y_v, y_p = y_valid.detach().numpy(), y_pred_valid.detach().numpy()\n",
        "      mape_valid = mean_absolute_percentage_error(y_v, y_p)\n",
        "      r2 = r2_score(y_v, y_p)\n",
        "\n",
        "      if not quite_output:\n",
        "        print(f\"\\nEpoch {epoch}/{epochs}: loss {loss}\")\n",
        "        print('Training MAPE: ', mape_train)\n",
        "        print('Validation MAPE: ', mape_valid)\n",
        "        print('Validation R2: ', r2)\n",
        "\n",
        "      R2.append(r2)\n",
        "      MAPE.append(mape_valid)\n",
        "      MAPE_train.append(mape_train)\n",
        "\n",
        "  return model, (R2, MAPE, MAPE_train)\n",
        "\n",
        "\n",
        "model, metrics = train_nn(\n",
        "    epochs=500, input_size=26, hidden_layers=(64, 32), lr=0.005)"
      ],
      "metadata": {
        "colab": {
          "base_uri": "https://localhost:8080/"
        },
        "id": "m0RhpXesKd10",
        "outputId": "e8c2b377-a8a5-4d2a-d44a-4ae32c120378"
      },
      "execution_count": 111,
      "outputs": [
        {
          "output_type": "stream",
          "name": "stdout",
          "text": [
            "\n",
            "Epoch 0/500: loss 0.2580089867115021\n",
            "Training MAPE:  1.3145647048950195\n",
            "Validation MAPE:  0.8115102052688599\n",
            "Validation R2:  -0.7069426774978638\n",
            "\n",
            "Epoch 166/500: loss 0.004452533088624477\n",
            "Training MAPE:  0.22432668507099152\n",
            "Validation MAPE:  0.22868508100509644\n",
            "Validation R2:  0.9331936240196228\n",
            "\n",
            "Epoch 332/500: loss 0.00249403715133667\n",
            "Training MAPE:  0.1738561987876892\n",
            "Validation MAPE:  0.19063325226306915\n",
            "Validation R2:  0.9476388692855835\n",
            "\n",
            "Epoch 498/500: loss 0.0019171176245436072\n",
            "Training MAPE:  0.158497616648674\n",
            "Validation MAPE:  0.1759832352399826\n",
            "Validation R2:  0.9501838088035583\n",
            "\n",
            "Epoch 499/500: loss 0.001939502079039812\n",
            "Training MAPE:  0.15534646809101105\n",
            "Validation MAPE:  0.17922534048557281\n",
            "Validation R2:  0.9504052400588989\n"
          ]
        }
      ]
    },
    {
      "cell_type": "markdown",
      "source": [
        "MLP performed best without tuning"
      ],
      "metadata": {
        "id": "JrH2FDXV2JSv"
      }
    },
    {
      "cell_type": "markdown",
      "source": [
        "#### Hyperparameter Tuning"
      ],
      "metadata": {
        "id": "CQ6lfVg7LT2L"
      }
    },
    {
      "cell_type": "markdown",
      "source": [
        "##### XGBoost"
      ],
      "metadata": {
        "id": "f8o8GB-m18cw"
      }
    },
    {
      "cell_type": "code",
      "source": [
        "from sklearn.model_selection import GridSearchCV, RandomizedSearchCV\n",
        "from sklearn.metrics import recall_score, make_scorer\n",
        "\n",
        "model = xgb.XGBRegressor()\n",
        "\n",
        "param_grid = {\n",
        "    'n_estimators': [50, 70, 100],\n",
        "    'learning_rate': [0.01, 0.1, 0.2],\n",
        "    'max_depth': [3, 5, 7],\n",
        "    'min_child_weight': [1, 5, 7],\n",
        "    'subsample': [0.8, 0.9, 1.0],\n",
        "    'gamma': [0.2, 0.3, 0.5],\n",
        "}\n",
        "\n",
        "scoring = {\n",
        "    'R2': make_scorer(r2_score),\n",
        "    'MAPE': make_scorer(mean_absolute_percentage_error, greater_is_better=False)\n",
        "}\n",
        "\n",
        "grid_search = RandomizedSearchCV(estimator=model, param_distributions=param_grid,\n",
        "                                scoring=scoring, cv=3, verbose=2, refit='MAPE', n_iter=500)\n",
        "\n",
        "grid_search.fit(X_pfi, y)"
      ],
      "metadata": {
        "id": "eX-rW4NBYGIE"
      },
      "execution_count": null,
      "outputs": []
    },
    {
      "cell_type": "code",
      "source": [
        "print(\"Best Hyperparameters: \", grid_search.best_params_)\n",
        "print(\"Best Score: \", grid_search.best_score_)\n",
        "\n",
        "best_model = grid_search.best_estimator_\n",
        "scores_dict = cross_validate(best_model, X_pfi, y, scoring=scoring,\n",
        "                        cv=5, return_train_score=True)\n",
        "\n",
        "print('average test MAPE')\n",
        "print(scores_dict['test_MAPE'].mean())"
      ],
      "metadata": {
        "colab": {
          "base_uri": "https://localhost:8080/"
        },
        "id": "wASYf8GuYGEf",
        "outputId": "cd4da6d2-bcbb-4411-b74f-dd63fa0e423a"
      },
      "execution_count": null,
      "outputs": [
        {
          "output_type": "stream",
          "name": "stdout",
          "text": [
            "Best Hyperparameters:  {'subsample': 0.9, 'n_estimators': 100, 'min_child_weight': 5, 'max_depth': 5, 'learning_rate': 0.1, 'gamma': 0.2}\n",
            "Best Score:  -0.3328082714570958\n",
            "average test MAPE\n",
            "-0.3236637992914192\n"
          ]
        }
      ]
    },
    {
      "cell_type": "markdown",
      "source": [
        "##### Random Forest"
      ],
      "metadata": {
        "id": "RJeqh-AMcxPS"
      }
    },
    {
      "cell_type": "code",
      "source": [
        "from sklearn.model_selection import GridSearchCV\n",
        "\n",
        "param_grid = {\n",
        "    'n_estimators': [50, 100, 150],\n",
        "    'max_depth': [None, 10, 30],\n",
        "    'min_samples_leaf': [1, 2, 4],\n",
        "}\n",
        "\n",
        "grid_search = GridSearchCV(\n",
        "    estimator=RandomForestRegressor(),\n",
        "    param_grid=param_grid, cv=4,\n",
        "    n_jobs=-1, verbose=2,\n",
        "    scoring=make_scorer(mean_absolute_percentage_error, greater_is_better=False)\n",
        ")\n",
        "\n",
        "grid_search.fit(X, y)\n",
        "\n",
        "print(grid_search.best_params_)\n",
        "print(grid_search.best_estimator_)\n",
        "print(grid_search.best_score_)"
      ],
      "metadata": {
        "id": "wgzqt302XKSM",
        "colab": {
          "base_uri": "https://localhost:8080/"
        },
        "outputId": "d7417f55-b68a-4164-db7e-44651d94cca1"
      },
      "execution_count": null,
      "outputs": [
        {
          "output_type": "stream",
          "name": "stdout",
          "text": [
            "Fitting 4 folds for each of 27 candidates, totalling 108 fits\n",
            "{'max_depth': 30, 'min_samples_leaf': 4, 'n_estimators': 100}\n",
            "RandomForestRegressor(max_depth=30, min_samples_leaf=4)\n",
            "-0.37203561615746095\n"
          ]
        }
      ]
    },
    {
      "cell_type": "markdown",
      "source": [
        "##### Nueral Network"
      ],
      "metadata": {
        "id": "LJP8RrYJcSMA"
      }
    },
    {
      "cell_type": "code",
      "source": [
        "model = train_nn(epochs=500, input_size=26, hidden_layers=(128, 64, 32), lr=0.005)"
      ],
      "metadata": {
        "colab": {
          "base_uri": "https://localhost:8080/"
        },
        "id": "65bjfAt4P9ao",
        "outputId": "44e2df7e-59ee-4558-da32-62946cc1a7ab"
      },
      "execution_count": null,
      "outputs": [
        {
          "output_type": "stream",
          "name": "stdout",
          "text": [
            "Epoch 0/500: loss 0.20214775204658508\n",
            "MAPE:  0.7335477471351624\n",
            "R2:  -0.2978501319885254\n",
            "Epoch 166/500: loss 0.002607242437079549\n",
            "MAPE:  0.19364212453365326\n",
            "R2:  0.9456027150154114\n",
            "Epoch 332/500: loss 0.0018161863554269075\n",
            "MAPE:  0.17660051584243774\n",
            "R2:  0.954575777053833\n",
            "Epoch 498/500: loss 0.0010386693757027388\n",
            "MAPE:  0.16466814279556274\n",
            "R2:  0.9583035111427307\n",
            "Epoch 499/500: loss 0.0010762885212898254\n",
            "MAPE:  0.16003292798995972\n",
            "R2:  0.9574868083000183\n"
          ]
        }
      ]
    },
    {
      "cell_type": "code",
      "source": [
        "# instead of grid search or random search,\n",
        "# Im only looking at a few logical hyper parameter configurations\n",
        "\n",
        "results = []\n",
        "for HP in (\n",
        "      ((128, 64, 32), 0.005, 600),      # medium\n",
        "      ((64, 32), 0.01, 300),            # small\n",
        "      ((64, 32, 16), 0.01, 300),        # small and long\n",
        "      ((256, 128, 64, 32), 0.001, 800)  # big\n",
        "):\n",
        "\n",
        "  layers, lr, epochs = HP\n",
        "  model, metrics = train_nn(epochs=epochs, input_size=26, hidden_layers=layers, lr=lr, evaluations=1)\n",
        "  R2, MAPE, MAPE_train = metrics\n",
        "  results.append((HP, (model, R2[-1], MAPE[-1], MAPE_train[-1])))\n",
        "\n",
        "results"
      ],
      "metadata": {
        "colab": {
          "base_uri": "https://localhost:8080/"
        },
        "id": "RyeoM777ScGm",
        "outputId": "d23cba5f-2380-4778-ac51-f69e880bd66f"
      },
      "execution_count": 97,
      "outputs": [
        {
          "output_type": "stream",
          "name": "stdout",
          "text": [
            "\n",
            "Epoch 0/600: loss 0.1342993676662445\n",
            "Training MAPE:  0.8683297038078308\n",
            "Validation MAPE:  1.8730664253234863\n",
            "Validation R2:  -0.010225653648376465\n",
            "\n",
            "Epoch 599/600: loss 0.0010112227173522115\n",
            "Training MAPE:  0.1192188709974289\n",
            "Validation MAPE:  0.15275132656097412\n",
            "Validation R2:  0.9542748928070068\n",
            "\n",
            "Epoch 0/300: loss 0.26429283618927\n",
            "Training MAPE:  1.436339259147644\n",
            "Validation MAPE:  1.0431528091430664\n",
            "Validation R2:  -0.18890833854675293\n",
            "\n",
            "Epoch 299/300: loss 0.002282654633745551\n",
            "Training MAPE:  0.16746579110622406\n",
            "Validation MAPE:  0.17834602296352386\n",
            "Validation R2:  0.9540501236915588\n",
            "\n",
            "Epoch 0/300: loss 0.19695249199867249\n",
            "Training MAPE:  0.77011638879776\n",
            "Validation MAPE:  0.7475148439407349\n",
            "Validation R2:  -0.32981038093566895\n",
            "\n",
            "Epoch 299/300: loss 0.0025632723700255156\n",
            "Training MAPE:  0.18346761167049408\n",
            "Validation MAPE:  0.18260042369365692\n",
            "Validation R2:  0.9444722533226013\n",
            "\n",
            "Epoch 0/800: loss 0.25914058089256287\n",
            "Training MAPE:  1.4526710510253906\n",
            "Validation MAPE:  1.1895908117294312\n",
            "Validation R2:  -1.1118948459625244\n",
            "\n",
            "Epoch 799/800: loss 0.0006566827069036663\n",
            "Training MAPE:  0.10758434981107712\n",
            "Validation MAPE:  0.15446047484874725\n",
            "Validation R2:  0.9574001431465149\n"
          ]
        },
        {
          "output_type": "execute_result",
          "data": {
            "text/plain": [
              "[(((128, 64, 32), 0.005, 600),\n",
              "  (NN(\n",
              "     (model): Sequential(\n",
              "       (0): Linear(in_features=26, out_features=128, bias=True)\n",
              "       (1): ReLU()\n",
              "       (2): Linear(in_features=128, out_features=64, bias=True)\n",
              "       (3): ReLU()\n",
              "       (4): Linear(in_features=64, out_features=32, bias=True)\n",
              "       (5): ReLU()\n",
              "       (6): Linear(in_features=32, out_features=1, bias=True)\n",
              "     )\n",
              "   ),\n",
              "   0.9542748928070068,\n",
              "   0.15275132656097412,\n",
              "   0.1192188709974289)),\n",
              " (((64, 32), 0.01, 300),\n",
              "  (NN(\n",
              "     (model): Sequential(\n",
              "       (0): Linear(in_features=26, out_features=64, bias=True)\n",
              "       (1): ReLU()\n",
              "       (2): Linear(in_features=64, out_features=32, bias=True)\n",
              "       (3): ReLU()\n",
              "       (4): Linear(in_features=32, out_features=1, bias=True)\n",
              "     )\n",
              "   ),\n",
              "   0.9540501236915588,\n",
              "   0.17834602296352386,\n",
              "   0.16746579110622406)),\n",
              " (((64, 32, 16), 0.01, 300),\n",
              "  (NN(\n",
              "     (model): Sequential(\n",
              "       (0): Linear(in_features=26, out_features=64, bias=True)\n",
              "       (1): ReLU()\n",
              "       (2): Linear(in_features=64, out_features=32, bias=True)\n",
              "       (3): ReLU()\n",
              "       (4): Linear(in_features=32, out_features=16, bias=True)\n",
              "       (5): ReLU()\n",
              "       (6): Linear(in_features=16, out_features=1, bias=True)\n",
              "     )\n",
              "   ),\n",
              "   0.9444722533226013,\n",
              "   0.18260042369365692,\n",
              "   0.18346761167049408)),\n",
              " (((256, 128, 64, 32), 0.001, 800),\n",
              "  (NN(\n",
              "     (model): Sequential(\n",
              "       (0): Linear(in_features=26, out_features=256, bias=True)\n",
              "       (1): ReLU()\n",
              "       (2): Linear(in_features=256, out_features=128, bias=True)\n",
              "       (3): ReLU()\n",
              "       (4): Linear(in_features=128, out_features=64, bias=True)\n",
              "       (5): ReLU()\n",
              "       (6): Linear(in_features=64, out_features=32, bias=True)\n",
              "       (7): ReLU()\n",
              "       (8): Linear(in_features=32, out_features=1, bias=True)\n",
              "     )\n",
              "   ),\n",
              "   0.9574001431465149,\n",
              "   0.15446047484874725,\n",
              "   0.10758434981107712))]"
            ]
          },
          "metadata": {},
          "execution_count": 97
        }
      ]
    },
    {
      "cell_type": "code",
      "source": [
        "# best model was the large Nueral Network, but it seems to have overfit a bit\n",
        "# To prevent optimising too close to the validation data, ill choose the smaller NN\n",
        "# and refine the epoch number:\n",
        "model, metrics = train_nn(\n",
        "    epochs=2_000, input_size=26,\n",
        "    hidden_layers=(128, 64, 32),\n",
        "    lr=0.01, evaluations=50, quite_output=True)"
      ],
      "metadata": {
        "id": "pN6IAjGMW_OG"
      },
      "execution_count": 242,
      "outputs": []
    },
    {
      "cell_type": "code",
      "source": [
        "r2, mape, train_mape = metrics\n",
        "plt.plot(mape)\n",
        "plt.plot(train_mape)\n",
        "plt.legend(('validation MAPE', 'train MAPE'))\n",
        "plt.xlabel('Evaluation')\n",
        "plt.title('Small NN - 2k Epochs')\n",
        "plt.ylim((0.05, 0.6))"
      ],
      "metadata": {
        "colab": {
          "base_uri": "https://localhost:8080/",
          "height": 489
        },
        "id": "gHLxsz6SPHuU",
        "outputId": "14ea31d6-0d46-4ca3-b03a-f11e0d645831"
      },
      "execution_count": 243,
      "outputs": [
        {
          "output_type": "execute_result",
          "data": {
            "text/plain": [
              "(0.05, 0.6)"
            ]
          },
          "metadata": {},
          "execution_count": 243
        },
        {
          "output_type": "display_data",
          "data": {
            "text/plain": [
              "<Figure size 640x480 with 1 Axes>"
            ],
            "image/png": "[encoded data removed]"
          },
          "metadata": {}
        }
      ]
    },
    {
      "cell_type": "code",
      "source": [
        "# validation error stops decreasing at ~300 epochs\n",
        "model, metrics = train_nn(\n",
        "    epochs=300, input_size=26,\n",
        "    hidden_layers=(128, 64, 32),\n",
        "    lr=0.01, evaluations=3, quite_output=False)"
      ],
      "metadata": {
        "colab": {
          "base_uri": "https://localhost:8080/"
        },
        "id": "utaF2J_7QSJ7",
        "outputId": "cd9920e0-a4c9-42f6-db70-69dd3715240c"
      },
      "execution_count": 185,
      "outputs": [
        {
          "output_type": "stream",
          "name": "stdout",
          "text": [
            "\n",
            "Epoch 0/300: loss 0.14079870283603668\n",
            "Training MAPE:  0.8406504988670349\n",
            "Validation MAPE:  2.7427470684051514\n",
            "Validation R2:  -0.2796891927719116\n",
            "\n",
            "Epoch 100/300: loss 0.004340554587543011\n",
            "Training MAPE:  0.21556894481182098\n",
            "Validation MAPE:  0.20306992530822754\n",
            "Validation R2:  0.9406090974807739\n",
            "\n",
            "Epoch 200/300: loss 0.0019242552807554603\n",
            "Training MAPE:  0.16297666728496552\n",
            "Validation MAPE:  0.1722569763660431\n",
            "Validation R2:  0.9568973183631897\n",
            "\n",
            "Epoch 299/300: loss 0.001588734914548695\n",
            "Training MAPE:  0.1502300202846527\n",
            "Validation MAPE:  0.15566882491111755\n",
            "Validation R2:  0.9581281542778015\n"
          ]
        }
      ]
    },
    {
      "cell_type": "markdown",
      "source": [
        "### Final Evaluation"
      ],
      "metadata": {
        "id": "bFtX1ofHwlQK"
      }
    },
    {
      "cell_type": "code",
      "source": [
        "# results on validation data\n",
        "r2, mape, train_mape = metrics\n",
        "print('r2 score:', r2[-1])\n",
        "print('MAPE valid score:', mape[-1])\n",
        "print('MAPE training score:', train_mape[-1])"
      ],
      "metadata": {
        "colab": {
          "base_uri": "https://localhost:8080/"
        },
        "id": "6ZGdvzU6UxQh",
        "outputId": "4528ecb3-87e9-46ff-bedd-0ae1f03f04b3"
      },
      "execution_count": 186,
      "outputs": [
        {
          "output_type": "stream",
          "name": "stdout",
          "text": [
            "r2 score: 0.9581281542778015\n",
            "MAPE valid score: 0.15566882491111755\n",
            "MAPE training score: 0.1502300202846527\n"
          ]
        }
      ]
    },
    {
      "cell_type": "code",
      "source": [
        "# Fit to both the train and validation sets\n",
        "model, metrics = train_nn(\n",
        "    epochs=300, input_size=26,\n",
        "    hidden_layers=(128, 64, 32),\n",
        "    lr=0.01, quite_output=True, train_full=True)"
      ],
      "metadata": {
        "id": "Fh4L43tDP71H"
      },
      "execution_count": 187,
      "outputs": []
    },
    {
      "cell_type": "code",
      "source": [
        "test_df.columns"
      ],
      "metadata": {
        "colab": {
          "base_uri": "https://localhost:8080/"
        },
        "id": "99Zyi-ABRJx0",
        "outputId": "7e9b862b-0791-42f6-a34b-0634a9eb17b7"
      },
      "execution_count": 188,
      "outputs": [
        {
          "output_type": "execute_result",
          "data": {
            "text/plain": [
              "Index(['Unnamed: 0', 'Tank Failure Pressure (bar)', 'Liquid Ratio',\n",
              "       'Tank Width (m)', 'Tank Length (m)', 'Tank Height (m)',\n",
              "       'BLEVE Height (m)', 'Vapour Height (m)', 'Vapour Temperature (K)',\n",
              "       'Liquid Temperature (K)', 'Obstacle Distance to BLEVE (m)',\n",
              "       'Obstacle Width (m)', 'Obstacle Height (m)', 'Obstacle Thickness (m)',\n",
              "       'Obstacle Angle', 'Status', 'Liquid Critical Pressure (bar)',\n",
              "       'Liquid Boiling Temperature (K)', 'Liquid Critical Temperature (K)',\n",
              "       'Sensor ID', 'Sensor Position Side', 'Sensor Position x',\n",
              "       'Sensor Position y', 'Sensor Position z', 'Tank width/length Ratio',\n",
              "       'Tank width/height Ratio', 'Sensor-Obstacle Distance'],\n",
              "      dtype='object')"
            ]
          },
          "metadata": {},
          "execution_count": 188
        }
      ]
    },
    {
      "cell_type": "code",
      "source": [
        "# predict on test set\n",
        "ss = StandardScaler()\n",
        "X_test = ss.fit_transform(test_df.drop('Unnamed: 0', axis=1))\n",
        "X_test_torch = torch.tensor(X_test, dtype=torch.float32)\n",
        "\n",
        "model.eval()\n",
        "with torch.no_grad():\n",
        "    y_pred = model(X_test_torch).numpy()\n",
        "\n",
        "y_pred"
      ],
      "metadata": {
        "colab": {
          "base_uri": "https://localhost:8080/"
        },
        "id": "Zwxy4yOb6UUo",
        "outputId": "f1f6d646-b304-4d71-dc23-53f53c06dc25"
      },
      "execution_count": 195,
      "outputs": [
        {
          "output_type": "execute_result",
          "data": {
            "text/plain": [
              "array([[0.09635483],\n",
              "       [0.09835609],\n",
              "       [0.09044377],\n",
              "       ...,\n",
              "       [0.7783068 ],\n",
              "       [0.7265079 ],\n",
              "       [0.6963454 ]], dtype=float32)"
            ]
          },
          "metadata": {},
          "execution_count": 195
        }
      ]
    },
    {
      "cell_type": "code",
      "source": [
        "df = pd.DataFrame({\n",
        "    'Target Pressure (bar)': y_pred.reshape(len(y_pred)),\n",
        "    'ID': np.array(list(range(3203)))\n",
        "})"
      ],
      "metadata": {
        "id": "-E1MInWMz_jP"
      },
      "execution_count": 196,
      "outputs": []
    },
    {
      "cell_type": "code",
      "source": [
        "df"
      ],
      "metadata": {
        "colab": {
          "base_uri": "https://localhost:8080/",
          "height": 424
        },
        "id": "t_HlhXCrR6WZ",
        "outputId": "62159ea0-a693-4a37-d9b7-e8674a7093c9"
      },
      "execution_count": 197,
      "outputs": [
        {
          "output_type": "execute_result",
          "data": {
            "text/plain": [
              "      Target Pressure (bar)    ID\n",
              "0                  0.096355     0\n",
              "1                  0.098356     1\n",
              "2                  0.090444     2\n",
              "3                  0.065159     3\n",
              "4                  0.067432     4\n",
              "...                     ...   ...\n",
              "3198               0.795221  3198\n",
              "3199               0.789766  3199\n",
              "3200               0.778307  3200\n",
              "3201               0.726508  3201\n",
              "3202               0.696345  3202\n",
              "\n",
              "[3203 rows x 2 columns]"
            ],
            "text/html": [
              "\n",
              "  <div id=\"df-990bd754-e377-42e7-8cb0-ae6db9f22555\" class=\"colab-df-container\">\n",
              "    <div>\n",
              "<style scoped>\n",
              "    .dataframe tbody tr th:only-of-type {\n",
              "        vertical-align: middle;\n",
              "    }\n",
              "\n",
              "    .dataframe tbody tr th {\n",
              "        vertical-align: top;\n",
              "    }\n",
              "\n",
              "    .dataframe thead th {\n",
              "        text-align: right;\n",
              "    }\n",
              "</style>\n",
              "<table border=\"1\" class=\"dataframe\">\n",
              "  <thead>\n",
              "    <tr style=\"text-align: right;\">\n",
              "      <th></th>\n",
              "      <th>Target Pressure (bar)</th>\n",
              "      <th>ID</th>\n",
              "    </tr>\n",
              "  </thead>\n",
              "  <tbody>\n",
              "    <tr>\n",
              "      <th>0</th>\n",
              "      <td>0.096355</td>\n",
              "      <td>0</td>\n",
              "    </tr>\n",
              "    <tr>\n",
              "      <th>1</th>\n",
              "      <td>0.098356</td>\n",
              "      <td>1</td>\n",
              "    </tr>\n",
              "    <tr>\n",
              "      <th>2</th>\n",
              "      <td>0.090444</td>\n",
              "      <td>2</td>\n",
              "    </tr>\n",
              "    <tr>\n",
              "      <th>3</th>\n",
              "      <td>0.065159</td>\n",
              "      <td>3</td>\n",
              "    </tr>\n",
              "    <tr>\n",
              "      <th>4</th>\n",
              "      <td>0.067432</td>\n",
              "      <td>4</td>\n",
              "    </tr>\n",
              "    <tr>\n",
              "      <th>...</th>\n",
              "      <td>...</td>\n",
              "      <td>...</td>\n",
              "    </tr>\n",
              "    <tr>\n",
              "      <th>3198</th>\n",
              "      <td>0.795221</td>\n",
              "      <td>3198</td>\n",
              "    </tr>\n",
              "    <tr>\n",
              "      <th>3199</th>\n",
              "      <td>0.789766</td>\n",
              "      <td>3199</td>\n",
              "    </tr>\n",
              "    <tr>\n",
              "      <th>3200</th>\n",
              "      <td>0.778307</td>\n",
              "      <td>3200</td>\n",
              "    </tr>\n",
              "    <tr>\n",
              "      <th>3201</th>\n",
              "      <td>0.726508</td>\n",
              "      <td>3201</td>\n",
              "    </tr>\n",
              "    <tr>\n",
              "      <th>3202</th>\n",
              "      <td>0.696345</td>\n",
              "      <td>3202</td>\n",
              "    </tr>\n",
              "  </tbody>\n",
              "</table>\n",
              "<p>3203 rows × 2 columns</p>\n",
              "</div>\n",
              "    <div class=\"colab-df-buttons\">\n",
              "\n",
              "  <div class=\"colab-df-container\">\n",
              "    <button class=\"colab-df-convert\" onclick=\"convertToInteractive('df-990bd754-e377-42e7-8cb0-ae6db9f22555')\"\n",
              "            title=\"Convert this dataframe to an interactive table.\"\n",
              "            style=\"display:none;\">\n",
              "\n",
              "  <svg xmlns=\"http://www.w3.org/2000/svg\" height=\"24px\" viewBox=\"0 -960 960 960\">\n",
              "    <path d=\"M120-120v-720h720v720H120Zm60-500h600v-160H180v160Zm220 220h160v-160H400v160Zm0 220h160v-160H400v160ZM180-400h160v-160H180v160Zm440 0h160v-160H620v160ZM180-180h160v-160H180v160Zm440 0h160v-160H620v160Z\"/>\n",
              "  </svg>\n",
              "    </button>\n",
              "\n",
              "  <style>\n",
              "    .colab-df-container {\n",
              "      display:flex;\n",
              "      gap: 12px;\n",
              "    }\n",
              "\n",
              "    .colab-df-convert {\n",
              "      background-color: #E8F0FE;\n",
              "      border: none;\n",
              "      border-radius: 50%;\n",
              "      cursor: pointer;\n",
              "      display: none;\n",
              "      fill: #1967D2;\n",
              "      height: 32px;\n",
              "      padding: 0 0 0 0;\n",
              "      width: 32px;\n",
              "    }\n",
              "\n",
              "    .colab-df-convert:hover {\n",
              "      background-color: #E2EBFA;\n",
              "      box-shadow: 0px 1px 2px rgba(60, 64, 67, 0.3), 0px 1px 3px 1px rgba(60, 64, 67, 0.15);\n",
              "      fill: #174EA6;\n",
              "    }\n",
              "\n",
              "    .colab-df-buttons div {\n",
              "      margin-bottom: 4px;\n",
              "    }\n",
              "\n",
              "    [theme=dark] .colab-df-convert {\n",
              "      background-color: #3B4455;\n",
              "      fill: #D2E3FC;\n",
              "    }\n",
              "\n",
              "    [theme=dark] .colab-df-convert:hover {\n",
              "      background-color: #434B5C;\n",
              "      box-shadow: 0px 1px 3px 1px rgba(0, 0, 0, 0.15);\n",
              "      filter: drop-shadow(0px 1px 2px rgba(0, 0, 0, 0.3));\n",
              "      fill: #FFFFFF;\n",
              "    }\n",
              "  </style>\n",
              "\n",
              "    <script>\n",
              "      const buttonEl =\n",
              "        document.querySelector('#df-990bd754-e377-42e7-8cb0-ae6db9f22555 button.colab-df-convert');\n",
              "      buttonEl.style.display =\n",
              "        google.colab.kernel.accessAllowed ? 'block' : 'none';\n",
              "\n",
              "      async function convertToInteractive(key) {\n",
              "        const element = document.querySelector('#df-990bd754-e377-42e7-8cb0-ae6db9f22555');\n",
              "        const dataTable =\n",
              "          await google.colab.kernel.invokeFunction('convertToInteractive',\n",
              "                                                    [key], {});\n",
              "        if (!dataTable) return;\n",
              "\n",
              "        const docLinkHtml = 'Like what you see? Visit the ' +\n",
              "          '<a target=\"_blank\" href=https://colab.research.google.com/notebooks/data_table.ipynb>data table notebook</a>'\n",
              "          + ' to learn more about interactive tables.';\n",
              "        element.innerHTML = '';\n",
              "        dataTable['output_type'] = 'display_data';\n",
              "        await google.colab.output.renderOutput(dataTable, element);\n",
              "        const docLink = document.createElement('div');\n",
              "        docLink.innerHTML = docLinkHtml;\n",
              "        element.appendChild(docLink);\n",
              "      }\n",
              "    </script>\n",
              "  </div>\n",
              "\n",
              "\n",
              "<div id=\"df-e45acff3-c5b4-48bd-89fd-7cf831816918\">\n",
              "  <button class=\"colab-df-quickchart\" onclick=\"quickchart('df-e45acff3-c5b4-48bd-89fd-7cf831816918')\"\n",
              "            title=\"Suggest charts\"\n",
              "            style=\"display:none;\">\n",
              "\n",
              "<svg xmlns=\"http://www.w3.org/2000/svg\" height=\"24px\"viewBox=\"0 0 24 24\"\n",
              "     width=\"24px\">\n",
              "    <g>\n",
              "        <path d=\"M19 3H5c-1.1 0-2 .9-2 2v14c0 1.1.9 2 2 2h14c1.1 0 2-.9 2-2V5c0-1.1-.9-2-2-2zM9 17H7v-7h2v7zm4 0h-2V7h2v10zm4 0h-2v-4h2v4z\"/>\n",
              "    </g>\n",
              "</svg>\n",
              "  </button>\n",
              "\n",
              "<style>\n",
              "  .colab-df-quickchart {\n",
              "      --bg-color: #E8F0FE;\n",
              "      --fill-color: #1967D2;\n",
              "      --hover-bg-color: #E2EBFA;\n",
              "      --hover-fill-color: #174EA6;\n",
              "      --disabled-fill-color: #AAA;\n",
              "      --disabled-bg-color: #DDD;\n",
              "  }\n",
              "\n",
              "  [theme=dark] .colab-df-quickchart {\n",
              "      --bg-color: #3B4455;\n",
              "      --fill-color: #D2E3FC;\n",
              "      --hover-bg-color: #434B5C;\n",
              "      --hover-fill-color: #FFFFFF;\n",
              "      --disabled-bg-color: #3B4455;\n",
              "      --disabled-fill-color: #666;\n",
              "  }\n",
              "\n",
              "  .colab-df-quickchart {\n",
              "    background-color: var(--bg-color);\n",
              "    border: none;\n",
              "    border-radius: 50%;\n",
              "    cursor: pointer;\n",
              "    display: none;\n",
              "    fill: var(--fill-color);\n",
              "    height: 32px;\n",
              "    padding: 0;\n",
              "    width: 32px;\n",
              "  }\n",
              "\n",
              "  .colab-df-quickchart:hover {\n",
              "    background-color: var(--hover-bg-color);\n",
              "    box-shadow: 0 1px 2px rgba(60, 64, 67, 0.3), 0 1px 3px 1px rgba(60, 64, 67, 0.15);\n",
              "    fill: var(--button-hover-fill-color);\n",
              "  }\n",
              "\n",
              "  .colab-df-quickchart-complete:disabled,\n",
              "  .colab-df-quickchart-complete:disabled:hover {\n",
              "    background-color: var(--disabled-bg-color);\n",
              "    fill: var(--disabled-fill-color);\n",
              "    box-shadow: none;\n",
              "  }\n",
              "\n",
              "  .colab-df-spinner {\n",
              "    border: 2px solid var(--fill-color);\n",
              "    border-color: transparent;\n",
              "    border-bottom-color: var(--fill-color);\n",
              "    animation:\n",
              "      spin 1s steps(1) infinite;\n",
              "  }\n",
              "\n",
              "  @keyframes spin {\n",
              "    0% {\n",
              "      border-color: transparent;\n",
              "      border-bottom-color: var(--fill-color);\n",
              "      border-left-color: var(--fill-color);\n",
              "    }\n",
              "    20% {\n",
              "      border-color: transparent;\n",
              "      border-left-color: var(--fill-color);\n",
              "      border-top-color: var(--fill-color);\n",
              "    }\n",
              "    30% {\n",
              "      border-color: transparent;\n",
              "      border-left-color: var(--fill-color);\n",
              "      border-top-color: var(--fill-color);\n",
              "      border-right-color: var(--fill-color);\n",
              "    }\n",
              "    40% {\n",
              "      border-color: transparent;\n",
              "      border-right-color: var(--fill-color);\n",
              "      border-top-color: var(--fill-color);\n",
              "    }\n",
              "    60% {\n",
              "      border-color: transparent;\n",
              "      border-right-color: var(--fill-color);\n",
              "    }\n",
              "    80% {\n",
              "      border-color: transparent;\n",
              "      border-right-color: var(--fill-color);\n",
              "      border-bottom-color: var(--fill-color);\n",
              "    }\n",
              "    90% {\n",
              "      border-color: transparent;\n",
              "      border-bottom-color: var(--fill-color);\n",
              "    }\n",
              "  }\n",
              "</style>\n",
              "\n",
              "  <script>\n",
              "    async function quickchart(key) {\n",
              "      const quickchartButtonEl =\n",
              "        document.querySelector('#' + key + ' button');\n",
              "      quickchartButtonEl.disabled = true;  // To prevent multiple clicks.\n",
              "      quickchartButtonEl.classList.add('colab-df-spinner');\n",
              "      try {\n",
              "        const charts = await google.colab.kernel.invokeFunction(\n",
              "            'suggestCharts', [key], {});\n",
              "      } catch (error) {\n",
              "        console.error('Error during call to suggestCharts:', error);\n",
              "      }\n",
              "      quickchartButtonEl.classList.remove('colab-df-spinner');\n",
              "      quickchartButtonEl.classList.add('colab-df-quickchart-complete');\n",
              "    }\n",
              "    (() => {\n",
              "      let quickchartButtonEl =\n",
              "        document.querySelector('#df-e45acff3-c5b4-48bd-89fd-7cf831816918 button');\n",
              "      quickchartButtonEl.style.display =\n",
              "        google.colab.kernel.accessAllowed ? 'block' : 'none';\n",
              "    })();\n",
              "  </script>\n",
              "</div>\n",
              "\n",
              "  <div id=\"id_e68c2165-2f7c-4424-a96f-f4a2736f1cab\">\n",
              "    <style>\n",
              "      .colab-df-generate {\n",
              "        background-color: #E8F0FE;\n",
              "        border: none;\n",
              "        border-radius: 50%;\n",
              "        cursor: pointer;\n",
              "        display: none;\n",
              "        fill: #1967D2;\n",
              "        height: 32px;\n",
              "        padding: 0 0 0 0;\n",
              "        width: 32px;\n",
              "      }\n",
              "\n",
              "      .colab-df-generate:hover {\n",
              "        background-color: #E2EBFA;\n",
              "        box-shadow: 0px 1px 2px rgba(60, 64, 67, 0.3), 0px 1px 3px 1px rgba(60, 64, 67, 0.15);\n",
              "        fill: #174EA6;\n",
              "      }\n",
              "\n",
              "      [theme=dark] .colab-df-generate {\n",
              "        background-color: #3B4455;\n",
              "        fill: #D2E3FC;\n",
              "      }\n",
              "\n",
              "      [theme=dark] .colab-df-generate:hover {\n",
              "        background-color: #434B5C;\n",
              "        box-shadow: 0px 1px 3px 1px rgba(0, 0, 0, 0.15);\n",
              "        filter: drop-shadow(0px 1px 2px rgba(0, 0, 0, 0.3));\n",
              "        fill: #FFFFFF;\n",
              "      }\n",
              "    </style>\n",
              "    <button class=\"colab-df-generate\" onclick=\"generateWithVariable('df')\"\n",
              "            title=\"Generate code using this dataframe.\"\n",
              "            style=\"display:none;\">\n",
              "\n",
              "  <svg xmlns=\"http://www.w3.org/2000/svg\" height=\"24px\"viewBox=\"0 0 24 24\"\n",
              "       width=\"24px\">\n",
              "    <path d=\"M7,19H8.4L18.45,9,17,7.55,7,17.6ZM5,21V16.75L18.45,3.32a2,2,0,0,1,2.83,0l1.4,1.43a1.91,1.91,0,0,1,.58,1.4,1.91,1.91,0,0,1-.58,1.4L9.25,21ZM18.45,9,17,7.55Zm-12,3A5.31,5.31,0,0,0,4.9,8.1,5.31,5.31,0,0,0,1,6.5,5.31,5.31,0,0,0,4.9,4.9,5.31,5.31,0,0,0,6.5,1,5.31,5.31,0,0,0,8.1,4.9,5.31,5.31,0,0,0,12,6.5,5.46,5.46,0,0,0,6.5,12Z\"/>\n",
              "  </svg>\n",
              "    </button>\n",
              "    <script>\n",
              "      (() => {\n",
              "      const buttonEl =\n",
              "        document.querySelector('#id_e68c2165-2f7c-4424-a96f-f4a2736f1cab button.colab-df-generate');\n",
              "      buttonEl.style.display =\n",
              "        google.colab.kernel.accessAllowed ? 'block' : 'none';\n",
              "\n",
              "      buttonEl.onclick = () => {\n",
              "        google.colab.notebook.generateWithVariable('df');\n",
              "      }\n",
              "      })();\n",
              "    </script>\n",
              "  </div>\n",
              "\n",
              "    </div>\n",
              "  </div>\n"
            ],
            "application/vnd.google.colaboratory.intrinsic+json": {
              "type": "dataframe",
              "variable_name": "df",
              "summary": "{\n  \"name\": \"df\",\n  \"rows\": 3203,\n  \"fields\": [\n    {\n      \"column\": \"Target Pressure (bar)\",\n      \"properties\": {\n        \"dtype\": \"float32\",\n        \"num_unique_values\": 3203,\n        \"samples\": [\n          0.6603158712387085,\n          0.1150958314538002,\n          0.1494542956352234\n        ],\n        \"semantic_type\": \"\",\n        \"description\": \"\"\n      }\n    },\n    {\n      \"column\": \"ID\",\n      \"properties\": {\n        \"dtype\": \"number\",\n        \"std\": 924,\n        \"min\": 0,\n        \"max\": 3202,\n        \"num_unique_values\": 3203,\n        \"samples\": [\n          3008,\n          102,\n          862\n        ],\n        \"semantic_type\": \"\",\n        \"description\": \"\"\n      }\n    }\n  ]\n}"
            }
          },
          "metadata": {},
          "execution_count": 197
        }
      ]
    },
    {
      "cell_type": "code",
      "source": [
        "df.to_csv('y_pred.csv', index=False)"
      ],
      "metadata": {
        "id": "52sXz6f91ybD"
      },
      "execution_count": 198,
      "outputs": []
    }
  ]
}