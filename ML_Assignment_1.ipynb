{
  "nbformat": 4,
  "nbformat_minor": 0,
  "metadata": {
    "colab": {
      "provenance": [],
      "toc_visible": true,
      "authorship_tag": "ABX9TyODJyoJ1ssfJ/0NPtY3XVd6",
      "include_colab_link": true
    },
    "kernelspec": {
      "name": "python3",
      "display_name": "Python 3"
    },
    "language_info": {
      "name": "python"
    }
  },
  "cells": [
    {
      "cell_type": "markdown",
      "metadata": {
        "id": "view-in-github",
        "colab_type": "text"
      },
      "source": [
        "<a href=\"https://colab.research.google.com/github/ljrn8/quick-notebooks/blob/main/ML_Assignment_1.ipynb\" target=\"_parent\"><img src=\"https://colab.research.google.com/assets/colab-badge.svg\" alt=\"Open In Colab\"/></a>"
      ]
    },
    {
      "cell_type": "markdown",
      "source": [
        "# COMP3010 Machine Learning Assignment | 20757218 Joel Hoefs\n",
        "Markdown cells are organised based on the criteria given in the assingment description for clarities sake."
      ],
      "metadata": {
        "id": "_ZJ8k7_aML-x"
      }
    },
    {
      "cell_type": "markdown",
      "source": [
        "## Setup"
      ],
      "metadata": {
        "id": "nePAkfe_Q9AV"
      }
    },
    {
      "cell_type": "code",
      "execution_count": 68,
      "metadata": {
        "colab": {
          "base_uri": "https://localhost:8080/"
        },
        "id": "TSAf3zNrHvvo",
        "outputId": "07014a4f-7361-441c-851e-695c93daf44c"
      },
      "outputs": [
        {
          "output_type": "stream",
          "name": "stdout",
          "text": [
            ".config\n",
            "test.csv\n",
            "train.csv\n",
            "sample_prediction.csv\n",
            "sample_data\n"
          ]
        }
      ],
      "source": [
        "import numpy as np\n",
        "import pandas as pd\n",
        "import matplotlib.pyplot as plt\n",
        "import os\n",
        "import sklearn\n",
        "\n",
        "files = os.listdir('.')\n",
        "assert files\n",
        "for f in os.listdir('.'):\n",
        "  print(f)"
      ]
    },
    {
      "cell_type": "code",
      "source": [
        "sample_pred = pd.read_csv('sample_prediction.csv')\n",
        "train = pd.read_csv('train.csv')\n",
        "test = pd.read_csv('test.csv')\n",
        "list(train.columns)"
      ],
      "metadata": {
        "colab": {
          "base_uri": "https://localhost:8080/"
        },
        "id": "U32yXaCLH8CT",
        "outputId": "3f1a08b5-f153-43b4-af83-a9a333faeec6"
      },
      "execution_count": 86,
      "outputs": [
        {
          "output_type": "execute_result",
          "data": {
            "text/plain": [
              "['Unnamed: 0',\n",
              " 'Tank Failure Pressure (bar)',\n",
              " 'Liquid Ratio',\n",
              " 'Tank Width (m)',\n",
              " 'Tank Length (m)',\n",
              " 'Tank Height (m)',\n",
              " 'BLEVE Height (m)',\n",
              " 'Vapour Height (m)',\n",
              " 'Vapour Temperature (K)',\n",
              " 'Liquid Temperature (K)',\n",
              " 'Obstacle Distance to BLEVE (m)',\n",
              " 'Obstacle Width (m)',\n",
              " 'Obstacle Height (m)',\n",
              " 'Obstacle Thickness (m)',\n",
              " 'Obstacle Angle',\n",
              " 'Status',\n",
              " 'Liquid Critical Pressure (bar)',\n",
              " 'Liquid Boiling Temperature (K)',\n",
              " 'Liquid Critical Temperature (K)',\n",
              " 'Sensor ID',\n",
              " 'Sensor Position Side',\n",
              " 'Sensor Position x',\n",
              " 'Sensor Position y',\n",
              " 'Sensor Position z',\n",
              " 'Target Pressure (bar)']"
            ]
          },
          "metadata": {},
          "execution_count": 86
        }
      ]
    },
    {
      "cell_type": "markdown",
      "source": [
        "## Preprocessing\n"
      ],
      "metadata": {
        "id": "rcEO0iUKKQWq"
      }
    },
    {
      "cell_type": "markdown",
      "source": [
        "#### Identifying and Handling Missing Values\n",
        "\"Examine the dataset for missing or\n",
        "incomplete entries. Choose appropriate strategies such as imputation or deletion, depending on the context and potential impact on model performance.\""
      ],
      "metadata": {
        "id": "6xP9KDp6RAzZ"
      }
    },
    {
      "cell_type": "code",
      "source": [
        "train.info()"
      ],
      "metadata": {
        "colab": {
          "base_uri": "https://localhost:8080/"
        },
        "id": "R6CblsweMCQQ",
        "outputId": "c16385bd-6a19-413b-c34a-0d26e04f24e3"
      },
      "execution_count": 70,
      "outputs": [
        {
          "output_type": "stream",
          "name": "stdout",
          "text": [
            "<class 'pandas.core.frame.DataFrame'>\n",
            "RangeIndex: 10050 entries, 0 to 10049\n",
            "Data columns (total 25 columns):\n",
            " #   Column                           Non-Null Count  Dtype  \n",
            "---  ------                           --------------  -----  \n",
            " 0   Unnamed: 0                       10043 non-null  float64\n",
            " 1   Tank Failure Pressure (bar)      10040 non-null  float64\n",
            " 2   Liquid Ratio                     10041 non-null  float64\n",
            " 3   Tank Width (m)                   10043 non-null  float64\n",
            " 4   Tank Length (m)                  10045 non-null  float64\n",
            " 5   Tank Height (m)                  10042 non-null  float64\n",
            " 6   BLEVE Height (m)                 10040 non-null  float64\n",
            " 7   Vapour Height (m)                10041 non-null  float64\n",
            " 8   Vapour Temperature (K)           10022 non-null  float64\n",
            " 9   Liquid Temperature (K)           10022 non-null  float64\n",
            " 10  Obstacle Distance to BLEVE (m)   10042 non-null  float64\n",
            " 11  Obstacle Width (m)               10042 non-null  float64\n",
            " 12  Obstacle Height (m)              10042 non-null  float64\n",
            " 13  Obstacle Thickness (m)           10042 non-null  float64\n",
            " 14  Obstacle Angle                   10042 non-null  float64\n",
            " 15  Status                           10042 non-null  object \n",
            " 16  Liquid Critical Pressure (bar)   10022 non-null  float64\n",
            " 17  Liquid Boiling Temperature (K)   10023 non-null  float64\n",
            " 18  Liquid Critical Temperature (K)  10021 non-null  float64\n",
            " 19  Sensor ID                        10042 non-null  float64\n",
            " 20  Sensor Position Side             10040 non-null  float64\n",
            " 21  Sensor Position x                10043 non-null  float64\n",
            " 22  Sensor Position y                10041 non-null  float64\n",
            " 23  Sensor Position z                10043 non-null  float64\n",
            " 24  Target Pressure (bar)            10044 non-null  float64\n",
            "dtypes: float64(24), object(1)\n",
            "memory usage: 1.9+ MB\n"
          ]
        }
      ]
    },
    {
      "cell_type": "code",
      "source": [
        "# The amount of columns with null entries is insignificant -> deletion is appropriate.\n",
        "train_processed = train.dropna()\n",
        "print(f'n rows dropped: {len(train) - len(train_processed)}')"
      ],
      "metadata": {
        "colab": {
          "base_uri": "https://localhost:8080/"
        },
        "id": "Il6UvNmUNt9L",
        "outputId": "ae23f64d-9ebf-47d3-abda-62a292f57463"
      },
      "execution_count": 71,
      "outputs": [
        {
          "output_type": "stream",
          "name": "stdout",
          "text": [
            "n rows dropped: 110\n"
          ]
        }
      ]
    },
    {
      "cell_type": "markdown",
      "source": [
        "#### Outlier Detection and Treatment\n",
        "\"Detect and address any outliers that may distort your analysis. Apply suitable statistical techniques to correct or exclude these\n",
        "anomalies.\"\n",
        "\n"
      ],
      "metadata": {
        "id": "r_ckWBAPKhr5"
      }
    },
    {
      "cell_type": "code",
      "source": [
        "from scipy import stats\n",
        "\n",
        "# filter outliers with the Z score method (z=3)\n",
        "z = stats.zscore(train_processed.drop('Status', axis=1))\n",
        "non_outliers = abs(z) < 3\n",
        "non_outliers_mask = non_outliers.all(axis=1)\n",
        "\n",
        "outliers = len(train_processed) - len(train_processed[non_outliers_mask])\n",
        "rate = outliers / len(train_processed)\n",
        "print(f'num outliers: {outliers}\\noutlier rate: {rate*100} %')"
      ],
      "metadata": {
        "colab": {
          "base_uri": "https://localhost:8080/"
        },
        "id": "vCnOV2PH4OxJ",
        "outputId": "e5518826-4d54-4225-f8e7-0499090ea572"
      },
      "execution_count": 72,
      "outputs": [
        {
          "output_type": "stream",
          "name": "stdout",
          "text": [
            "num outliers: 290\n",
            "outlier rate: 2.9175050301810868 %\n"
          ]
        }
      ]
    },
    {
      "cell_type": "code",
      "source": [
        "import seaborn as sns\n",
        "\n",
        "outliers = abs(z) > 2\n",
        "columns = train_processed.drop('Status', axis=1).columns\n",
        "cols_ranked_by_outliers = sorted(columns, key=lambda c: -outliers[c].sum())\n",
        "\n",
        "# Get a quick idea of the number of outliers ommitted for the columns with most outliers\n",
        "for c in cols_ranked_by_outliers[:5]:\n",
        "\n",
        "    plt.figure(figsize=(8, 3))\n",
        "    ax = plt.subplot(1, 2, 1)\n",
        "    sns.boxplot(data=train_processed[c], width=0.5, ax=ax)\n",
        "    ax.set_title(c + ' before filter')\n",
        "\n",
        "    ax = plt.subplot(1, 2, 2)\n",
        "    sns.boxplot(data=train_processed[non_outliers_mask][c], width=0.5, ax=ax)\n",
        "    ax.set_title(c + ' after filter')\n",
        "\n",
        "    plt.show()"
      ],
      "metadata": {
        "colab": {
          "base_uri": "https://localhost:8080/",
          "height": 1000
        },
        "id": "1jLj7i_A6BKM",
        "outputId": "1548f271-2488-482f-dc6c-2a2043da1335"
      },
      "execution_count": 73,
      "outputs": [
        {
          "output_type": "display_data",
          "data": {
            "text/plain": [
              "<Figure size 800x300 with 2 Axes>"
            ],
            "image/png": "[encoded data removed]"
          },
          "metadata": {}
        },
        {
          "output_type": "display_data",
          "data": {
            "text/plain": [
              "<Figure size 800x300 with 2 Axes>"
            ],
            "image/png": "[encoded data removed]"
          },
          "metadata": {}
        },
        {
          "output_type": "display_data",
          "data": {
            "text/plain": [
              "<Figure size 800x300 with 2 Axes>"
            ],
            "image/png": "[encoded data removed]"
          },
          "metadata": {}
        },
        {
          "output_type": "display_data",
          "data": {
            "text/plain": [
              "<Figure size 800x300 with 2 Axes>"
            ],
            "image/png": "[encoded data removed]"
          },
          "metadata": {}
        },
        {
          "output_type": "display_data",
          "data": {
            "text/plain": [
              "<Figure size 800x300 with 2 Axes>"
            ],
            "image/png": "[encoded data removed]"
          },
          "metadata": {}
        }
      ]
    },
    {
      "cell_type": "code",
      "source": [
        "train_processed = train_processed[non_outliers_mask]"
      ],
      "metadata": {
        "id": "8RdQyFVo7s24"
      },
      "execution_count": 74,
      "outputs": []
    },
    {
      "cell_type": "markdown",
      "source": [
        "#### Duplicate Removal\n",
        "\"Ensure dataset integrity by identifying and removing duplicate\n",
        "records, which can otherwise bias the model.\""
      ],
      "metadata": {
        "id": "61cuZCtHKkrT"
      }
    },
    {
      "cell_type": "code",
      "source": [
        "train_drop_duplicates = train_processed.drop_duplicates()\n",
        "len(train_drop_duplicates), len(train_processed)"
      ],
      "metadata": {
        "id": "ByzRtgC1P5-H",
        "colab": {
          "base_uri": "https://localhost:8080/"
        },
        "outputId": "b94b5312-c280-4bde-eb93-086331c913b5"
      },
      "execution_count": 50,
      "outputs": [
        {
          "output_type": "execute_result",
          "data": {
            "text/plain": [
              "(8264, 8264)"
            ]
          },
          "metadata": {},
          "execution_count": 50
        }
      ]
    },
    {
      "cell_type": "markdown",
      "source": [
        "no duplicates found"
      ],
      "metadata": {
        "id": "DXi1tKFL87Y4"
      }
    },
    {
      "cell_type": "markdown",
      "source": [
        "#### Correcting Inaccurate Entries\n",
        "\"Carefully inspect the data for incorrect values and\n",
        "rectify them to maintain dataset quality.\"\n"
      ],
      "metadata": {
        "id": "KQvVm2yZKmHh"
      }
    },
    {
      "cell_type": "code",
      "source": [
        "train_processed.columns"
      ],
      "metadata": {
        "colab": {
          "base_uri": "https://localhost:8080/"
        },
        "id": "U7XSd9-DBSgk",
        "outputId": "c45a3e13-f68b-42d3-b842-16b81e75e903"
      },
      "execution_count": 79,
      "outputs": [
        {
          "output_type": "execute_result",
          "data": {
            "text/plain": [
              "Index(['Unnamed: 0', 'Tank Failure Pressure (bar)', 'Liquid Ratio',\n",
              "       'Tank Width (m)', 'Tank Length (m)', 'Tank Height (m)',\n",
              "       'BLEVE Height (m)', 'Vapour Height (m)', 'Vapour Temperature (K)',\n",
              "       'Liquid Temperature (K)', 'Obstacle Distance to BLEVE (m)',\n",
              "       'Obstacle Width (m)', 'Obstacle Height (m)', 'Obstacle Thickness (m)',\n",
              "       'Obstacle Angle', 'Status', 'Liquid Critical Pressure (bar)',\n",
              "       'Liquid Boiling Temperature (K)', 'Liquid Critical Temperature (K)',\n",
              "       'Sensor ID', 'Sensor Position Side', 'Sensor Position x',\n",
              "       'Sensor Position y', 'Sensor Position z', 'Target Pressure (bar)'],\n",
              "      dtype='object')"
            ]
          },
          "metadata": {},
          "execution_count": 79
        }
      ]
    },
    {
      "cell_type": "code",
      "source": [
        "def filter_range(df, c, ub, lb):\n",
        "  df_filtered = df[(df[c] >= lb) & (df[c] <= ub)]\n",
        "  n_filtered =  len(df) - len(df_filtered)\n",
        "  print(f'number of out-of-bounds [{c}] instances = {n_filtered}')\n",
        "  return df_filtered\n",
        "\n",
        "# rational metric upperbound for Kelvin/metres\n",
        "UB = 1_000\n",
        "\n",
        "filter_range_map = {\n",
        "  'Tank Failure Pressure (bar)': (0, np.inf),\n",
        "  'Liquid Ratio': (0, 1),\n",
        "  'Tank Width (m)': (0, UB),\n",
        "  'Tank Length (m)': (0, UB),\n",
        "  'Tank Height (m)': (0, UB),\n",
        "  'Vapour Height (m)': (0, UB),\n",
        "  'BLEVE Height (m)': (0, UB),\n",
        "  'Vapour Temperature (K)': (0, np.inf),\n",
        "  'Liquid Temperature (K)': (0, UB),\n",
        "  'Obstacle Distance to BLEVE (m)': (0, UB),\n",
        "  'Obstacle Width (m)': (0, UB),\n",
        "  'Obstacle Height (m)': (0, UB),\n",
        "  'Obstacle Thickness (m)': (0, UB),\n",
        "  'Obstacle Angle': (0, 30),\n",
        "  'Sensor ID': (1, 27),\n",
        "  'Sensor Position Side': (1, 5),\n",
        "  'Sensor Position x': (-UB, UB),\n",
        "  'Sensor Position y': (-UB, UB),\n",
        "  'Sensor Position z': (-UB, UB),\n",
        "  'Target Pressure (bar)': (0, np.inf),\n",
        "}\n",
        "\n",
        "train_interm = train_processed.copy()\n",
        "for column, (lb, ub) in filter_range_map.items():\n",
        "  train_interm = filter_range(train_interm, column, ub, lb)\n"
      ],
      "metadata": {
        "colab": {
          "base_uri": "https://localhost:8080/"
        },
        "id": "7CymiWhc895z",
        "outputId": "5e95c02c-0566-42ea-829a-3cd8edbc883f"
      },
      "execution_count": 122,
      "outputs": [
        {
          "output_type": "stream",
          "name": "stdout",
          "text": [
            "number of out-of-bounds [Tank Failure Pressure (bar)] instances = 0\n",
            "number of out-of-bounds [Liquid Ratio] instances = 0\n",
            "number of out-of-bounds [Tank Width (m)] instances = 0\n",
            "number of out-of-bounds [Tank Length (m)] instances = 0\n",
            "number of out-of-bounds [Tank Height (m)] instances = 0\n",
            "number of out-of-bounds [Vapour Height (m)] instances = 0\n",
            "number of out-of-bounds [BLEVE Height (m)] instances = 0\n",
            "number of out-of-bounds [Vapour Temperature (K)] instances = 0\n",
            "number of out-of-bounds [Liquid Temperature (K)] instances = 0\n",
            "number of out-of-bounds [Obstacle Distance to BLEVE (m)] instances = 0\n",
            "number of out-of-bounds [Obstacle Width (m)] instances = 0\n",
            "number of out-of-bounds [Obstacle Height (m)] instances = 0\n",
            "number of out-of-bounds [Obstacle Thickness (m)] instances = 0\n",
            "number of out-of-bounds [Obstacle Angle] instances = 0\n",
            "number of out-of-bounds [Sensor ID] instances = 0\n",
            "number of out-of-bounds [Sensor Position Side] instances = 0\n",
            "number of out-of-bounds [Sensor Position x] instances = 0\n",
            "number of out-of-bounds [Sensor Position y] instances = 0\n",
            "number of out-of-bounds [Sensor Position z] instances = 0\n",
            "number of out-of-bounds [Target Pressure (bar)] instances = 0\n"
          ]
        }
      ]
    },
    {
      "cell_type": "markdown",
      "source": [
        "All columns adhered to the required range, except 'BLEVE Height (m)'"
      ],
      "metadata": {
        "id": "Wj3mtAukF4qg"
      }
    },
    {
      "cell_type": "code",
      "source": [
        "plt.hist(train_processed['BLEVE Height (m)'], bins=500)\n",
        "plt.xlim(-0.1, 0.1)"
      ],
      "metadata": {
        "colab": {
          "base_uri": "https://localhost:8080/",
          "height": 447
        },
        "id": "PwWPS27IE3Ww",
        "outputId": "16bd5d94-a0ba-438c-b277-4b0cce0697cc"
      },
      "execution_count": 116,
      "outputs": [
        {
          "output_type": "execute_result",
          "data": {
            "text/plain": [
              "(-0.1, 0.1)"
            ]
          },
          "metadata": {},
          "execution_count": 116
        },
        {
          "output_type": "display_data",
          "data": {
            "text/plain": [
              "<Figure size 640x480 with 1 Axes>"
            ],
            "image/png": "[encoded data removed]"
          },
          "metadata": {}
        }
      ]
    },
    {
      "cell_type": "markdown",
      "source": [
        "some BlEVE Height measurements where negative, and given their proximity to 0, I will simply round up."
      ],
      "metadata": {
        "id": "5byBo-MzFtL7"
      }
    },
    {
      "cell_type": "code",
      "source": [
        "train_processed['BLEVE Height (m)'] = train_processed['BLEVE Height (m)'].map(lambda x: max(x, 0))"
      ],
      "metadata": {
        "id": "vPATCpl6F1FW"
      },
      "execution_count": 120,
      "outputs": []
    },
    {
      "cell_type": "code",
      "source": [
        "# ensure no incorrect categorical/ordinal entries:\n",
        "for c in ('Status', 'Sensor Position Side', 'Sensor ID'):\n",
        "  print(c + ' unique values: ')\n",
        "  print(np.unique(train_processed[c]))\n",
        "  print()"
      ],
      "metadata": {
        "colab": {
          "base_uri": "https://localhost:8080/"
        },
        "id": "COn4rTkeGzUm",
        "outputId": "31e11764-a40c-4f7a-dd5b-89a78ed981bb"
      },
      "execution_count": 126,
      "outputs": [
        {
          "output_type": "stream",
          "name": "stdout",
          "text": [
            "Status unique values: \n",
            "['subcooled' 'superheated']\n",
            "\n",
            "Sensor Position Side unique values: \n",
            "[1. 2. 3. 4. 5.]\n",
            "\n",
            "Sensor ID unique values: \n",
            "[ 1.  2.  3.  4.  5.  6.  7.  8.  9. 10. 11. 12. 13. 14. 15. 16. 17. 18.\n",
            " 19. 20. 21. 22. 23. 24. 25. 26. 27.]\n",
            "\n"
          ]
        }
      ]
    },
    {
      "cell_type": "markdown",
      "source": [
        "'Status' entries should be either 'subcooled' or 'superheated'"
      ],
      "metadata": {
        "id": "IIHPq6NbHgkY"
      }
    },
    {
      "cell_type": "code",
      "source": [
        "def status_map(name):\n",
        "  if name in ['Saperheated', 'Superheat', 'Superheated', 'superheated']:\n",
        "    return 'superheated'\n",
        "  else:\n",
        "    return 'subcooled'\n",
        "\n",
        "train_processed['Status'] = train_processed['Status'].map(status_map)\n",
        "np.unique(train_processed['Status'])"
      ],
      "metadata": {
        "colab": {
          "base_uri": "https://localhost:8080/"
        },
        "id": "nmkaumCHHXQo",
        "outputId": "a34dda70-be9d-4fbe-a089-ae8f3fea2df8"
      },
      "execution_count": 125,
      "outputs": [
        {
          "output_type": "execute_result",
          "data": {
            "text/plain": [
              "array(['subcooled', 'superheated'], dtype=object)"
            ]
          },
          "metadata": {},
          "execution_count": 125
        }
      ]
    },
    {
      "cell_type": "markdown",
      "source": [
        "#### Feature Selection\n",
        "\"Identify and retain only the features that exhibit meaningful correlation with the target variable. Consider building a “sparse” model using a reduced\n",
        "set of the most informative features\""
      ],
      "metadata": {
        "id": "TMjVppvwKnjj"
      }
    },
    {
      "cell_type": "code",
      "source": [],
      "metadata": {
        "id": "E5uVDw44ImJ-"
      },
      "execution_count": null,
      "outputs": []
    },
    {
      "cell_type": "code",
      "source": [],
      "metadata": {
        "id": "xni8A3PHIlu1"
      },
      "execution_count": null,
      "outputs": []
    },
    {
      "cell_type": "markdown",
      "source": [
        "#### Feature Engineering\n",
        "\"You are encouraged to derive new features that could improve\n",
        "model performance. For instance, the ratio Tank Width\n",
        "Tank Length may serve as a useful additional\n",
        "feature.\""
      ],
      "metadata": {
        "id": "zGuO1B6rKpSM"
      }
    },
    {
      "cell_type": "markdown",
      "source": [
        "#### Data Type Conversion\n",
        "\"Convert features to appropriate data types as required by\n",
        "your model. For example, categorical variables may need to be encoded into numerical\n",
        "formats using one-hot encoding or similar techniques\""
      ],
      "metadata": {
        "id": "lOF-hkhvKrCv"
      }
    },
    {
      "cell_type": "markdown",
      "source": [
        "#### Feature Scaling\n",
        "\"Apply normalization or standardization where appropriate, particularly for models sensitive to input magnitudes.\""
      ],
      "metadata": {
        "id": "3zndT4XUKs20"
      }
    },
    {
      "cell_type": "markdown",
      "source": [
        "#### Data Augmentation:\n",
        "\"To improve model robustness, consider techniques for increasing the number of training samples, such as synthetic data generation.\"\n"
      ],
      "metadata": {
        "id": "_FdZivbpKx4v"
      }
    },
    {
      "cell_type": "markdown",
      "source": [
        "#### Other Preprocessing Steps\n",
        "\"You may apply any other preprocessing methods that\n",
        "you find beneficial.\"\n"
      ],
      "metadata": {
        "id": "ukd8zGG5K0-S"
      }
    },
    {
      "cell_type": "markdown",
      "source": [
        "## Model Developement"
      ],
      "metadata": {
        "id": "lJwRHXhJKchb"
      }
    },
    {
      "cell_type": "code",
      "source": [
        "from sklearn.model_selection import train_test_split\n",
        "\n",
        "X, y = train.drop('Target Pressure (bar)', axis=1), train['Target Pressure (bar)']\n",
        "\n",
        "X_train, X_valid, y_train, y_valid = train_test_split(\n",
        "    X, y, test_size=0.2, random_state=42)\n",
        "\n",
        "for d in X_train, X_valid, y_train, y_valid:\n",
        "  print(len(d), end='\\t')"
      ],
      "metadata": {
        "colab": {
          "base_uri": "https://localhost:8080/"
        },
        "id": "UmRjq_chIj0H",
        "outputId": "38ce5294-648b-4c24-c6bb-12c80a9a5a99"
      },
      "execution_count": null,
      "outputs": [
        {
          "output_type": "stream",
          "name": "stdout",
          "text": [
            "8040\t2010\t8040\t2010\t"
          ]
        }
      ]
    },
    {
      "cell_type": "markdown",
      "source": [
        "#### Model Selection"
      ],
      "metadata": {
        "id": "EKwws7NNLRq5"
      }
    },
    {
      "cell_type": "markdown",
      "source": [
        "#### Hyperparameter Tuning"
      ],
      "metadata": {
        "id": "CQ6lfVg7LT2L"
      }
    },
    {
      "cell_type": "markdown",
      "source": [
        "#### Evaluation Metrics:"
      ],
      "metadata": {
        "id": "fLvds2poLWIm"
      }
    },
    {
      "cell_type": "markdown",
      "source": [
        "#### Model Ensembling (Optional)"
      ],
      "metadata": {
        "id": "2KaGU_G5LXbp"
      }
    }
  ]
}