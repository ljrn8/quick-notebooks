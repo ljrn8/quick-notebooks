{
  "metadata": {
    "kernelspec": {
      "language": "python",
      "display_name": "Python 3",
      "name": "python3"
    },
    "language_info": {
      "name": "python",
      "version": "3.10.10",
      "mimetype": "text/x-python",
      "codemirror_mode": {
        "name": "ipython",
        "version": 3
      },
      "pygments_lexer": "ipython3",
      "nbconvert_exporter": "python",
      "file_extension": ".py"
    },
    "colab": {
      "provenance": [],
      "gpuType": "T4",
      "collapsed_sections": [
        "eiiK-RV7IFi9",
        "hCe-LMm1LD4u"
      ],
      "include_colab_link": true
    },
    "accelerator": "GPU",
    "gpuClass": "standard"
  },
  "nbformat_minor": 0,
  "nbformat": 4,
  "cells": [
    {
      "cell_type": "markdown",
      "metadata": {
        "id": "view-in-github",
        "colab_type": "text"
      },
      "source": [
        "<a href=\"https://colab.research.google.com/github/ljrn8/QuickNotebooks/blob/main/ab_resistance_genes.ipynb\" target=\"_parent\"><img src=\"https://colab.research.google.com/assets/colab-badge.svg\" alt=\"Open In Colab\"/></a>"
      ]
    },
    {
      "cell_type": "code",
      "source": [
        "import numpy as np \n",
        "import pandas as pd \n",
        "import matplotlib.pyplot as plt\n",
        "\n",
        "import tensorflow as tf\n",
        "from tensorflow import keras\n",
        "from keras import layers\n",
        "\n",
        "from functools import partial\n",
        "from sklearn.metrics import ConfusionMatrixDisplay, accuracy_score"
      ],
      "metadata": {
        "_uuid": "8f2839f25d086af736a60e9eeb907d3b93b6e0e5",
        "_cell_guid": "b1076dfc-b9ad-4769-8c92-a6c4dae69d19",
        "execution": {
          "iopub.status.busy": "2023-05-13T01:46:37.195981Z",
          "iopub.execute_input": "2023-05-13T01:46:37.196858Z",
          "iopub.status.idle": "2023-05-13T01:46:37.218096Z",
          "shell.execute_reply.started": "2023-05-13T01:46:37.196820Z",
          "shell.execute_reply": "2023-05-13T01:46:37.216256Z"
        },
        "trusted": true,
        "id": "RyxBCLGj6GRe"
      },
      "execution_count": 1,
      "outputs": []
    },
    {
      "cell_type": "markdown",
      "source": [
        "# Setup"
      ],
      "metadata": {
        "id": "bC6TEwOTwbxg"
      }
    },
    {
      "cell_type": "code",
      "source": [
        "from google.colab import drive\n",
        "drive.mount('/content/drive')\n",
        "!cd /content/drive/MyDrive/\n",
        "!ls"
      ],
      "metadata": {
        "colab": {
          "base_uri": "https://localhost:8080/"
        },
        "id": "SgoHSOar8Op9",
        "outputId": "4dd79eef-ada8-4279-bab2-a9e7c811a92e"
      },
      "execution_count": 2,
      "outputs": [
        {
          "output_type": "stream",
          "name": "stdout",
          "text": [
            "Mounted at /content/drive\n",
            "drive  sample_data\n"
          ]
        }
      ]
    },
    {
      "cell_type": "code",
      "source": [
        "np_data = np.load('/content/drive/MyDrive/datasets/dataset.npy', allow_pickle=True)\n",
        "np_data"
      ],
      "metadata": {
        "execution": {
          "iopub.status.busy": "2023-05-13T01:31:04.974396Z",
          "iopub.execute_input": "2023-05-13T01:31:04.974777Z",
          "iopub.status.idle": "2023-05-13T01:31:05.062253Z",
          "shell.execute_reply.started": "2023-05-13T01:31:04.974744Z",
          "shell.execute_reply": "2023-05-13T01:31:05.061026Z"
        },
        "trusted": true,
        "colab": {
          "base_uri": "https://localhost:8080/"
        },
        "id": "G_iXVGZ46GRo",
        "outputId": "9a2b1ce6-7654-4534-c593-69906110d3b1"
      },
      "execution_count": 3,
      "outputs": [
        {
          "output_type": "execute_result",
          "data": {
            "text/plain": [
              "array({'resistant': array([False, False, False, ...,  True,  True, False]), 'genes': array(['ATGCACTACCGTATGATCCCCCTTCACTGGATGATGGAAATTGACTGCAATGGCTGCGCTAATAATACTTTGTCTCGTCGTTGGAATTACGACTTCTGGCACAAACACGTTGAACAGGTTAAATGCTACCGTCACAATATTCGTGACCAGACTTGA',\n",
              "       'ATGCACTACCGTATGATTCACTGGATGATGGAAATTGACTGCAATGGCTGCGCTAATAATACTTTGTCTCGTCGTTGGAATTACGACTTCTGGCACAAACCCGTTGAACAGGTTAAATGCTACCGTCACAATATTCGTGACCAGACTTGA',\n",
              "       'ATGCACTACCGTATGATTCACTGGATCGTGATGGAAATTGACTGCAATGGCTGCGCTAATAATACTTTGTCTCGTCGTTGGAATTACGACTTCTGGCACAAACACGTTGAACAGGTTAAATGCTACCGTCACAATATTCGTGACCAGACTTGA',\n",
              "       ...,\n",
              "       'ATGCACTACCGTATGATTCACTGGATGATGGAAACTGCAATGGCTGCGCTAATAATACTTTGTCTCGTCGTTGGAATTACGACTTCTGGCACAAACACGTTGAACAGGTTAAATGCTACCGTCACAATATTCGTGACCAGACTTGA',\n",
              "       'ATGCACTACCGTATGATTCACTGGATGATGGAAATTGACTTGCAATGGCTGCGCTAATAATACTTTGTCTCGTCGTTGGAATTACGACTTCTGGCACAAACACGTTGAACAGGTTAAATGCTACCGTCACAATATTCGTGACCAGACTTGA',\n",
              "       'ATGCACTACCGTATGATTCACTGGATGATGGAAATTGACTGCAATGGCTGCGCTAATAATACTTTGTCTCGTCGTTGGAATTACGACTTCTGGCACAAACACGTTGAACAGGTTAAATGCTACCGTCACAATATTCGTGACCAGACTTGA'],\n",
              "      dtype=object)}, dtype=object)"
            ]
          },
          "metadata": {},
          "execution_count": 3
        }
      ]
    },
    {
      "cell_type": "code",
      "source": [
        "# thanks to Alexander Scarlat .MD for the pandas dataframe convertion\n",
        "Datadict = np_data[()]\n",
        "df = pd.DataFrame.from_dict(Datadict)\n",
        "print(df.shape)\n",
        "df"
      ],
      "metadata": {
        "execution": {
          "iopub.status.busy": "2023-05-13T01:31:05.063972Z",
          "iopub.execute_input": "2023-05-13T01:31:05.065301Z",
          "iopub.status.idle": "2023-05-13T01:31:05.087418Z",
          "shell.execute_reply.started": "2023-05-13T01:31:05.065235Z",
          "shell.execute_reply": "2023-05-13T01:31:05.085758Z"
        },
        "trusted": true,
        "colab": {
          "base_uri": "https://localhost:8080/",
          "height": 441
        },
        "id": "dqMyO6MQ6GRp",
        "outputId": "c55cd631-3c71-497f-bfd6-3dca6f9ed4ec"
      },
      "execution_count": 4,
      "outputs": [
        {
          "output_type": "stream",
          "name": "stdout",
          "text": [
            "(100000, 2)\n"
          ]
        },
        {
          "output_type": "execute_result",
          "data": {
            "text/plain": [
              "       resistant                                              genes\n",
              "0          False  ATGCACTACCGTATGATCCCCCTTCACTGGATGATGGAAATTGACT...\n",
              "1          False  ATGCACTACCGTATGATTCACTGGATGATGGAAATTGACTGCAATG...\n",
              "2          False  ATGCACTACCGTATGATTCACTGGATCGTGATGGAAATTGACTGCA...\n",
              "3          False  ATGCACTACCGTATGATTCACTGGGTGATGGAAATTGACTGCAATG...\n",
              "4          False  ATGCACGACCGTATCATTCACTGGATGATGGAAATTGACTGCAATG...\n",
              "...          ...                                                ...\n",
              "99995      False  ATGCACTACCGTATGATTCACTGGATGATGGAAACTCTCTTTGACT...\n",
              "99996      False  ATGCACTACCGTATGATTCACTGGATGATGGAAATTGACTGCAATG...\n",
              "99997       True  ATGCACTACCGTATGATTCACTGGATGATGGAAACTGCAATGGCTG...\n",
              "99998       True  ATGCACTACCGTATGATTCACTGGATGATGGAAATTGACTTGCAAT...\n",
              "99999      False  ATGCACTACCGTATGATTCACTGGATGATGGAAATTGACTGCAATG...\n",
              "\n",
              "[100000 rows x 2 columns]"
            ],
            "text/html": [
              "\n",
              "  <div id=\"df-351554f7-d321-4ce1-be94-794aac4dd33f\">\n",
              "    <div class=\"colab-df-container\">\n",
              "      <div>\n",
              "<style scoped>\n",
              "    .dataframe tbody tr th:only-of-type {\n",
              "        vertical-align: middle;\n",
              "    }\n",
              "\n",
              "    .dataframe tbody tr th {\n",
              "        vertical-align: top;\n",
              "    }\n",
              "\n",
              "    .dataframe thead th {\n",
              "        text-align: right;\n",
              "    }\n",
              "</style>\n",
              "<table border=\"1\" class=\"dataframe\">\n",
              "  <thead>\n",
              "    <tr style=\"text-align: right;\">\n",
              "      <th></th>\n",
              "      <th>resistant</th>\n",
              "      <th>genes</th>\n",
              "    </tr>\n",
              "  </thead>\n",
              "  <tbody>\n",
              "    <tr>\n",
              "      <th>0</th>\n",
              "      <td>False</td>\n",
              "      <td>ATGCACTACCGTATGATCCCCCTTCACTGGATGATGGAAATTGACT...</td>\n",
              "    </tr>\n",
              "    <tr>\n",
              "      <th>1</th>\n",
              "      <td>False</td>\n",
              "      <td>ATGCACTACCGTATGATTCACTGGATGATGGAAATTGACTGCAATG...</td>\n",
              "    </tr>\n",
              "    <tr>\n",
              "      <th>2</th>\n",
              "      <td>False</td>\n",
              "      <td>ATGCACTACCGTATGATTCACTGGATCGTGATGGAAATTGACTGCA...</td>\n",
              "    </tr>\n",
              "    <tr>\n",
              "      <th>3</th>\n",
              "      <td>False</td>\n",
              "      <td>ATGCACTACCGTATGATTCACTGGGTGATGGAAATTGACTGCAATG...</td>\n",
              "    </tr>\n",
              "    <tr>\n",
              "      <th>4</th>\n",
              "      <td>False</td>\n",
              "      <td>ATGCACGACCGTATCATTCACTGGATGATGGAAATTGACTGCAATG...</td>\n",
              "    </tr>\n",
              "    <tr>\n",
              "      <th>...</th>\n",
              "      <td>...</td>\n",
              "      <td>...</td>\n",
              "    </tr>\n",
              "    <tr>\n",
              "      <th>99995</th>\n",
              "      <td>False</td>\n",
              "      <td>ATGCACTACCGTATGATTCACTGGATGATGGAAACTCTCTTTGACT...</td>\n",
              "    </tr>\n",
              "    <tr>\n",
              "      <th>99996</th>\n",
              "      <td>False</td>\n",
              "      <td>ATGCACTACCGTATGATTCACTGGATGATGGAAATTGACTGCAATG...</td>\n",
              "    </tr>\n",
              "    <tr>\n",
              "      <th>99997</th>\n",
              "      <td>True</td>\n",
              "      <td>ATGCACTACCGTATGATTCACTGGATGATGGAAACTGCAATGGCTG...</td>\n",
              "    </tr>\n",
              "    <tr>\n",
              "      <th>99998</th>\n",
              "      <td>True</td>\n",
              "      <td>ATGCACTACCGTATGATTCACTGGATGATGGAAATTGACTTGCAAT...</td>\n",
              "    </tr>\n",
              "    <tr>\n",
              "      <th>99999</th>\n",
              "      <td>False</td>\n",
              "      <td>ATGCACTACCGTATGATTCACTGGATGATGGAAATTGACTGCAATG...</td>\n",
              "    </tr>\n",
              "  </tbody>\n",
              "</table>\n",
              "<p>100000 rows × 2 columns</p>\n",
              "</div>\n",
              "      <button class=\"colab-df-convert\" onclick=\"convertToInteractive('df-351554f7-d321-4ce1-be94-794aac4dd33f')\"\n",
              "              title=\"Convert this dataframe to an interactive table.\"\n",
              "              style=\"display:none;\">\n",
              "        \n",
              "  <svg xmlns=\"http://www.w3.org/2000/svg\" height=\"24px\"viewBox=\"0 0 24 24\"\n",
              "       width=\"24px\">\n",
              "    <path d=\"M0 0h24v24H0V0z\" fill=\"none\"/>\n",
              "    <path d=\"M18.56 5.44l.94 2.06.94-2.06 2.06-.94-2.06-.94-.94-2.06-.94 2.06-2.06.94zm-11 1L8.5 8.5l.94-2.06 2.06-.94-2.06-.94L8.5 2.5l-.94 2.06-2.06.94zm10 10l.94 2.06.94-2.06 2.06-.94-2.06-.94-.94-2.06-.94 2.06-2.06.94z\"/><path d=\"M17.41 7.96l-1.37-1.37c-.4-.4-.92-.59-1.43-.59-.52 0-1.04.2-1.43.59L10.3 9.45l-7.72 7.72c-.78.78-.78 2.05 0 2.83L4 21.41c.39.39.9.59 1.41.59.51 0 1.02-.2 1.41-.59l7.78-7.78 2.81-2.81c.8-.78.8-2.07 0-2.86zM5.41 20L4 18.59l7.72-7.72 1.47 1.35L5.41 20z\"/>\n",
              "  </svg>\n",
              "      </button>\n",
              "      \n",
              "  <style>\n",
              "    .colab-df-container {\n",
              "      display:flex;\n",
              "      flex-wrap:wrap;\n",
              "      gap: 12px;\n",
              "    }\n",
              "\n",
              "    .colab-df-convert {\n",
              "      background-color: #E8F0FE;\n",
              "      border: none;\n",
              "      border-radius: 50%;\n",
              "      cursor: pointer;\n",
              "      display: none;\n",
              "      fill: #1967D2;\n",
              "      height: 32px;\n",
              "      padding: 0 0 0 0;\n",
              "      width: 32px;\n",
              "    }\n",
              "\n",
              "    .colab-df-convert:hover {\n",
              "      background-color: #E2EBFA;\n",
              "      box-shadow: 0px 1px 2px rgba(60, 64, 67, 0.3), 0px 1px 3px 1px rgba(60, 64, 67, 0.15);\n",
              "      fill: #174EA6;\n",
              "    }\n",
              "\n",
              "    [theme=dark] .colab-df-convert {\n",
              "      background-color: #3B4455;\n",
              "      fill: #D2E3FC;\n",
              "    }\n",
              "\n",
              "    [theme=dark] .colab-df-convert:hover {\n",
              "      background-color: #434B5C;\n",
              "      box-shadow: 0px 1px 3px 1px rgba(0, 0, 0, 0.15);\n",
              "      filter: drop-shadow(0px 1px 2px rgba(0, 0, 0, 0.3));\n",
              "      fill: #FFFFFF;\n",
              "    }\n",
              "  </style>\n",
              "\n",
              "      <script>\n",
              "        const buttonEl =\n",
              "          document.querySelector('#df-351554f7-d321-4ce1-be94-794aac4dd33f button.colab-df-convert');\n",
              "        buttonEl.style.display =\n",
              "          google.colab.kernel.accessAllowed ? 'block' : 'none';\n",
              "\n",
              "        async function convertToInteractive(key) {\n",
              "          const element = document.querySelector('#df-351554f7-d321-4ce1-be94-794aac4dd33f');\n",
              "          const dataTable =\n",
              "            await google.colab.kernel.invokeFunction('convertToInteractive',\n",
              "                                                     [key], {});\n",
              "          if (!dataTable) return;\n",
              "\n",
              "          const docLinkHtml = 'Like what you see? Visit the ' +\n",
              "            '<a target=\"_blank\" href=https://colab.research.google.com/notebooks/data_table.ipynb>data table notebook</a>'\n",
              "            + ' to learn more about interactive tables.';\n",
              "          element.innerHTML = '';\n",
              "          dataTable['output_type'] = 'display_data';\n",
              "          await google.colab.output.renderOutput(dataTable, element);\n",
              "          const docLink = document.createElement('div');\n",
              "          docLink.innerHTML = docLinkHtml;\n",
              "          element.appendChild(docLink);\n",
              "        }\n",
              "      </script>\n",
              "    </div>\n",
              "  </div>\n",
              "  "
            ]
          },
          "metadata": {},
          "execution_count": 4
        }
      ]
    },
    {
      "cell_type": "code",
      "source": [
        "# gene\n",
        "X = df['genes'].iloc[0]\n",
        "print(len(X), X)"
      ],
      "metadata": {
        "execution": {
          "iopub.status.busy": "2023-05-13T01:31:05.091116Z",
          "iopub.execute_input": "2023-05-13T01:31:05.091645Z",
          "iopub.status.idle": "2023-05-13T01:31:05.099173Z",
          "shell.execute_reply.started": "2023-05-13T01:31:05.091597Z",
          "shell.execute_reply": "2023-05-13T01:31:05.097630Z"
        },
        "trusted": true,
        "colab": {
          "base_uri": "https://localhost:8080/"
        },
        "id": "7cx-abmL6GRr",
        "outputId": "98614ef5-3f2a-4e68-f9c7-e44ab5fdebf0"
      },
      "execution_count": 5,
      "outputs": [
        {
          "output_type": "stream",
          "name": "stdout",
          "text": [
            "156 ATGCACTACCGTATGATCCCCCTTCACTGGATGATGGAAATTGACTGCAATGGCTGCGCTAATAATACTTTGTCTCGTCGTTGGAATTACGACTTCTGGCACAAACACGTTGAACAGGTTAAATGCTACCGTCACAATATTCGTGACCAGACTTGA\n"
          ]
        }
      ]
    },
    {
      "cell_type": "code",
      "source": [
        "df.info()"
      ],
      "metadata": {
        "execution": {
          "iopub.status.busy": "2023-05-13T01:31:05.101016Z",
          "iopub.execute_input": "2023-05-13T01:31:05.101990Z",
          "iopub.status.idle": "2023-05-13T01:31:05.155305Z",
          "shell.execute_reply.started": "2023-05-13T01:31:05.101915Z",
          "shell.execute_reply": "2023-05-13T01:31:05.153863Z"
        },
        "trusted": true,
        "colab": {
          "base_uri": "https://localhost:8080/"
        },
        "id": "FWt0S4_v6GRs",
        "outputId": "b3e6dc85-1453-436c-a668-7b90cc903e08"
      },
      "execution_count": 6,
      "outputs": [
        {
          "output_type": "stream",
          "name": "stdout",
          "text": [
            "<class 'pandas.core.frame.DataFrame'>\n",
            "RangeIndex: 100000 entries, 0 to 99999\n",
            "Data columns (total 2 columns):\n",
            " #   Column     Non-Null Count   Dtype \n",
            "---  ------     --------------   ----- \n",
            " 0   resistant  100000 non-null  bool  \n",
            " 1   genes      100000 non-null  object\n",
            "dtypes: bool(1), object(1)\n",
            "memory usage: 879.0+ KB\n"
          ]
        }
      ]
    },
    {
      "cell_type": "code",
      "source": [
        "from keras.utils import pad_sequences\n",
        "\n",
        "vocab = ['A', 'C', 'G', 'T']\n",
        "char2idx = {\n",
        "  char: (idx+1) for idx, char in enumerate(vocab)\n",
        "}\n",
        "\n",
        "# tokenize (convert to 1-4)\n",
        "def tokenize(sequence):\n",
        "  return [char2idx[char] for char in sequence]\n",
        "\n",
        "# one hot encode (convert to sparse vector)\n",
        "def encode(tokens):\n",
        "  tensor = tf.constant(tokens)\n",
        "  return np.asarray(tf.one_hot(tensor, len(vocab))).astype('int32')\n",
        "\n",
        "df['genes_tokenized'] = df['genes'].apply(tokenize)\n",
        "\n",
        "# pad right with 0's for the tokenized column\n",
        "X_token = pad_sequences(df['genes_tokenized'], maxlen=160, padding='post', truncating='post', value=0)\n",
        "\n",
        "X_enc = np.array([encode(tokens) for tokens in X_token])\n",
        "\n",
        "print(df.head(3))\n",
        "print(\"OHE:\\n \", X_enc[0][0][:5], \"\\n .... \")"
      ],
      "metadata": {
        "execution": {
          "iopub.status.busy": "2023-05-13T02:16:09.009607Z",
          "iopub.execute_input": "2023-05-13T02:16:09.009980Z",
          "iopub.status.idle": "2023-05-13T02:16:30.523025Z",
          "shell.execute_reply.started": "2023-05-13T02:16:09.009950Z",
          "shell.execute_reply": "2023-05-13T02:16:30.520871Z"
        },
        "trusted": true,
        "colab": {
          "base_uri": "https://localhost:8080/"
        },
        "id": "_YBvh9k86GRs",
        "outputId": "082e11cc-3883-4369-ef84-21ebb2fea8d2"
      },
      "execution_count": 9,
      "outputs": [
        {
          "output_type": "stream",
          "name": "stdout",
          "text": [
            "   resistant                                              genes  \\\n",
            "0      False  ATGCACTACCGTATGATCCCCCTTCACTGGATGATGGAAATTGACT...   \n",
            "1      False  ATGCACTACCGTATGATTCACTGGATGATGGAAATTGACTGCAATG...   \n",
            "2      False  ATGCACTACCGTATGATTCACTGGATCGTGATGGAAATTGACTGCA...   \n",
            "\n",
            "                                     genes_tokenized  \n",
            "0  [1, 4, 3, 2, 1, 2, 4, 1, 2, 2, 3, 4, 1, 4, 3, ...  \n",
            "1  [1, 4, 3, 2, 1, 2, 4, 1, 2, 2, 3, 4, 1, 4, 3, ...  \n",
            "2  [1, 4, 3, 2, 1, 2, 4, 1, 2, 2, 3, 4, 1, 4, 3, ...  \n",
            "OHE:\n",
            "  [[0 1 0 0]\n",
            " [0 0 0 0]\n",
            " [0 0 0 1]\n",
            " [0 0 1 0]\n",
            " [0 1 0 0]] \n",
            " .... \n"
          ]
        }
      ]
    },
    {
      "cell_type": "code",
      "source": [
        "y = np.array(df['resistant']).astype('int32')\n",
        "\n",
        "def split(X, ratio=0.8):\n",
        "  # take out test set (top 20%)\n",
        "  test_split = int(len(X) * ratio)\n",
        "  full_train, test = X[:test_split], X[test_split:]\n",
        "\n",
        "  # hold out top 20% of training for per epoch validation\n",
        "  validation_split = int(len(full_train) * ratio)\n",
        "  train, validation = full_train[:validation_split], full_train[validation_split:]\n",
        "  \n",
        "  return train, validation, test\n",
        "\n",
        "\n",
        "y_train, y_valid, y_test = split(y)\n",
        "X_enc_train, X_enc_valid, X_enc_test = split(X_enc)\n",
        "X_token_train, X_token_valid, X_token_test = split(X_token)"
      ],
      "metadata": {
        "id": "lTAWyAz06GRv"
      },
      "execution_count": 12,
      "outputs": []
    },
    {
      "cell_type": "markdown",
      "source": [
        "# SVM"
      ],
      "metadata": {
        "id": "eiiK-RV7IFi9"
      }
    },
    {
      "cell_type": "code",
      "source": [
        "''' from sklearn.metrics import ConfusionMatrixDisplay, accuracy_score\n",
        "from sklearn.svm import SVC\n",
        "\n",
        "svm = SVC(kernel='linear')\n",
        "svm.fit(X_token_train, y_train)\n",
        "\n",
        "y_pred = svm.predict(X_token_test)\n",
        "\n",
        "accuracy = accuracy_score(y_test, y_pred)\n",
        "print(\"Accuracy: \", accuracy)\n",
        "\n",
        "ConfusionMatrixDisplay.from_predictions(y_test, y_pred) '''\n",
        "\n",
        "# colab dies -> to much data for non parametric"
      ],
      "metadata": {
        "colab": {
          "base_uri": "https://localhost:8080/",
          "height": 91
        },
        "id": "Gsw_mv4aGunv",
        "outputId": "6b258611-c3a0-43ca-d25d-adc8ab7069a6"
      },
      "execution_count": null,
      "outputs": [
        {
          "output_type": "execute_result",
          "data": {
            "text/plain": [
              "' from sklearn.metrics import ConfusionMatrixDisplay, accuracy_score\\nfrom sklearn.svm import SVC\\n\\nsvm = SVC(kernel=\\'linear\\')\\nsvm.fit(X_token_train, y_train)\\n\\ny_pred = svm.predict(X_token_test)\\n\\naccuracy = accuracy_score(y_test, y_pred)\\nprint(\"Accuracy: \", accuracy)\\n\\nConfusionMatrixDisplay.from_predictions(y_test, y_pred) '"
            ],
            "application/vnd.google.colaboratory.intrinsic+json": {
              "type": "string"
            }
          },
          "metadata": {},
          "execution_count": 46
        }
      ]
    },
    {
      "cell_type": "markdown",
      "source": [
        "# MLP"
      ],
      "metadata": {
        "id": "hCe-LMm1LD4u"
      }
    },
    {
      "cell_type": "code",
      "source": [
        "DefaultDense = partial(\n",
        "  layers.Dense, \n",
        "  activation='relu',\n",
        "  kernel_initializer=\"he_uniform\",\n",
        "  kernel_regularizer= keras.regularizers.l2(0.01)\n",
        ")\n",
        "mlp_model = keras.Sequential([\n",
        "    keras.Input(160),\n",
        "    DefaultDense(20),\n",
        "    DefaultDense(10),\n",
        "    layers.Dense(1, activation='sigmoid')\n",
        "])\n",
        "mlp_model.compile(\n",
        "  loss='binary_crossentropy', \n",
        "  optimizer='adam', \n",
        "  metrics=['accuracy']\n",
        ")\n",
        "mlp_model.summary()"
      ],
      "metadata": {
        "id": "0xdpAQkTK4D7",
        "colab": {
          "base_uri": "https://localhost:8080/"
        },
        "outputId": "016ff0cb-49ea-4e71-edfe-b14ce60f88bf"
      },
      "execution_count": 17,
      "outputs": [
        {
          "output_type": "stream",
          "name": "stdout",
          "text": [
            "Model: \"sequential_1\"\n",
            "_________________________________________________________________\n",
            " Layer (type)                Output Shape              Param #   \n",
            "=================================================================\n",
            " dense_1 (Dense)             (None, 20)                3220      \n",
            "                                                                 \n",
            " dense_2 (Dense)             (None, 10)                210       \n",
            "                                                                 \n",
            " dense_3 (Dense)             (None, 1)                 11        \n",
            "                                                                 \n",
            "=================================================================\n",
            "Total params: 3,441\n",
            "Trainable params: 3,441\n",
            "Non-trainable params: 0\n",
            "_________________________________________________________________\n"
          ]
        }
      ]
    },
    {
      "cell_type": "code",
      "source": [
        "early_stopping_cb = keras.callbacks.EarlyStopping(patience=3) \n",
        "mlp_history = mlp_model.fit(X_token_train, y_train, epochs=7, batch_size=32, \n",
        "                    validation_data=(X_token_valid, y_valid),\n",
        "                    callbacks=[early_stopping_cb])"
      ],
      "metadata": {
        "id": "53CDWVBUNMpG"
      },
      "execution_count": null,
      "outputs": []
    },
    {
      "cell_type": "code",
      "source": [
        "pd.DataFrame(mlp_history.history)[['accuracy', 'val_accuracy']].plot()"
      ],
      "metadata": {
        "id": "wX6dfJhBPN-3"
      },
      "execution_count": null,
      "outputs": []
    },
    {
      "cell_type": "code",
      "source": [
        "y_pred = mlp_model.predict(X_token_test)\n",
        "y_pred = (y_pred > 0.5).astype(int)\n",
        "mlp_accuracy = accuracy_score(y_test, y_pred)\n",
        "\n",
        "print(\"Accuracy: \", mlp_accuracy)\n",
        "print(ConfusionMatrixDisplay.from_predictions(y_test, y_pred))"
      ],
      "metadata": {
        "id": "JxcPpDPKPvnU"
      },
      "execution_count": null,
      "outputs": []
    },
    {
      "cell_type": "markdown",
      "source": [
        "# GRU"
      ],
      "metadata": {
        "id": "ISEOmrUST9Hd"
      }
    },
    {
      "cell_type": "code",
      "source": [
        "gru_model = keras.Sequential([\n",
        "    layers.Bidirectional(\n",
        "        # bidirection wrapper converts LSTM to GRU\n",
        "        layers.LSTM(21, kernel_initializer='he_normal',\n",
        "                    kernel_regularizer='l2',\n",
        "                    dropout=0.3,\n",
        "                    activation='tanh'), \n",
        "        input_shape=(160, 4)\n",
        "    ),\n",
        "    layers.Dense(1, activation='sigmoid')\n",
        "])\n",
        "gru_model.compile(optimizer='adam', loss='binary_crossentropy', metrics=['accuracy'])\n",
        "gru_model.summary()"
      ],
      "metadata": {
        "colab": {
          "base_uri": "https://localhost:8080/"
        },
        "id": "wwSKNsHtnMee",
        "outputId": "58bda007-332b-4361-cd65-34bee2a17d0f"
      },
      "execution_count": 19,
      "outputs": [
        {
          "output_type": "stream",
          "name": "stdout",
          "text": [
            "Model: \"sequential_2\"\n",
            "_________________________________________________________________\n",
            " Layer (type)                Output Shape              Param #   \n",
            "=================================================================\n",
            " bidirectional_1 (Bidirectio  (None, 42)               4368      \n",
            " nal)                                                            \n",
            "                                                                 \n",
            " dense_4 (Dense)             (None, 1)                 43        \n",
            "                                                                 \n",
            "=================================================================\n",
            "Total params: 4,411\n",
            "Trainable params: 4,411\n",
            "Non-trainable params: 0\n",
            "_________________________________________________________________\n"
          ]
        }
      ]
    },
    {
      "cell_type": "code",
      "source": [
        "early_stopping_cb = keras.callbacks.EarlyStopping(patience=3) \n",
        "gru_history = gru_model.fit(X_enc_train, y_train, epochs=7, batch_size=32, \n",
        "                    validation_data=(X_enc_valid, y_valid),\n",
        "                    callbacks=[early_stopping_cb])"
      ],
      "metadata": {
        "colab": {
          "base_uri": "https://localhost:8080/",
          "height": 487
        },
        "id": "rpJq3cIfSIEJ",
        "outputId": "4417f105-f8a5-4458-90b7-2cb736e95729"
      },
      "execution_count": 21,
      "outputs": [
        {
          "output_type": "stream",
          "name": "stdout",
          "text": [
            "Epoch 1/7\n",
            "2000/2000 [==============================] - 40s 15ms/step - loss: 1.3491 - accuracy: 0.5452 - val_loss: 0.6786 - val_accuracy: 0.5608\n",
            "Epoch 2/7\n",
            "2000/2000 [==============================] - 26s 13ms/step - loss: 0.6801 - accuracy: 0.5448 - val_loss: 0.6558 - val_accuracy: 0.5339\n",
            "Epoch 3/7\n",
            "1337/2000 [===================>..........] - ETA: 7s - loss: 0.6492 - accuracy: 0.5653"
          ]
        },
        {
          "output_type": "error",
          "ename": "KeyboardInterrupt",
          "evalue": "ignored",
          "traceback": [
            "\u001b[0;31m---------------------------------------------------------------------------\u001b[0m",
            "\u001b[0;31mKeyboardInterrupt\u001b[0m                         Traceback (most recent call last)",
            "\u001b[0;32m<ipython-input-21-54fc7e749a47>\u001b[0m in \u001b[0;36m<cell line: 2>\u001b[0;34m()\u001b[0m\n\u001b[1;32m      1\u001b[0m \u001b[0mearly_stopping_cb\u001b[0m \u001b[0;34m=\u001b[0m \u001b[0mkeras\u001b[0m\u001b[0;34m.\u001b[0m\u001b[0mcallbacks\u001b[0m\u001b[0;34m.\u001b[0m\u001b[0mEarlyStopping\u001b[0m\u001b[0;34m(\u001b[0m\u001b[0mpatience\u001b[0m\u001b[0;34m=\u001b[0m\u001b[0;36m3\u001b[0m\u001b[0;34m)\u001b[0m\u001b[0;34m\u001b[0m\u001b[0;34m\u001b[0m\u001b[0m\n\u001b[0;32m----> 2\u001b[0;31m gru_history = gru_model.fit(X_enc_train, y_train, epochs=7, batch_size=32, \n\u001b[0m\u001b[1;32m      3\u001b[0m                     \u001b[0mvalidation_data\u001b[0m\u001b[0;34m=\u001b[0m\u001b[0;34m(\u001b[0m\u001b[0mX_enc_valid\u001b[0m\u001b[0;34m,\u001b[0m \u001b[0my_valid\u001b[0m\u001b[0;34m)\u001b[0m\u001b[0;34m,\u001b[0m\u001b[0;34m\u001b[0m\u001b[0;34m\u001b[0m\u001b[0m\n\u001b[1;32m      4\u001b[0m                     callbacks=[early_stopping_cb])\n",
            "\u001b[0;32m/usr/local/lib/python3.10/dist-packages/keras/utils/traceback_utils.py\u001b[0m in \u001b[0;36merror_handler\u001b[0;34m(*args, **kwargs)\u001b[0m\n\u001b[1;32m     63\u001b[0m         \u001b[0mfiltered_tb\u001b[0m \u001b[0;34m=\u001b[0m \u001b[0;32mNone\u001b[0m\u001b[0;34m\u001b[0m\u001b[0;34m\u001b[0m\u001b[0m\n\u001b[1;32m     64\u001b[0m         \u001b[0;32mtry\u001b[0m\u001b[0;34m:\u001b[0m\u001b[0;34m\u001b[0m\u001b[0;34m\u001b[0m\u001b[0m\n\u001b[0;32m---> 65\u001b[0;31m             \u001b[0;32mreturn\u001b[0m \u001b[0mfn\u001b[0m\u001b[0;34m(\u001b[0m\u001b[0;34m*\u001b[0m\u001b[0margs\u001b[0m\u001b[0;34m,\u001b[0m \u001b[0;34m**\u001b[0m\u001b[0mkwargs\u001b[0m\u001b[0;34m)\u001b[0m\u001b[0;34m\u001b[0m\u001b[0;34m\u001b[0m\u001b[0m\n\u001b[0m\u001b[1;32m     66\u001b[0m         \u001b[0;32mexcept\u001b[0m \u001b[0mException\u001b[0m \u001b[0;32mas\u001b[0m \u001b[0me\u001b[0m\u001b[0;34m:\u001b[0m\u001b[0;34m\u001b[0m\u001b[0;34m\u001b[0m\u001b[0m\n\u001b[1;32m     67\u001b[0m             \u001b[0mfiltered_tb\u001b[0m \u001b[0;34m=\u001b[0m \u001b[0m_process_traceback_frames\u001b[0m\u001b[0;34m(\u001b[0m\u001b[0me\u001b[0m\u001b[0;34m.\u001b[0m\u001b[0m__traceback__\u001b[0m\u001b[0;34m)\u001b[0m\u001b[0;34m\u001b[0m\u001b[0;34m\u001b[0m\u001b[0m\n",
            "\u001b[0;32m/usr/local/lib/python3.10/dist-packages/keras/engine/training.py\u001b[0m in \u001b[0;36mfit\u001b[0;34m(self, x, y, batch_size, epochs, verbose, callbacks, validation_split, validation_data, shuffle, class_weight, sample_weight, initial_epoch, steps_per_epoch, validation_steps, validation_batch_size, validation_freq, max_queue_size, workers, use_multiprocessing)\u001b[0m\n\u001b[1;32m   1674\u001b[0m                 \u001b[0mcallbacks\u001b[0m\u001b[0;34m.\u001b[0m\u001b[0mon_epoch_begin\u001b[0m\u001b[0;34m(\u001b[0m\u001b[0mepoch\u001b[0m\u001b[0;34m)\u001b[0m\u001b[0;34m\u001b[0m\u001b[0;34m\u001b[0m\u001b[0m\n\u001b[1;32m   1675\u001b[0m                 \u001b[0;32mwith\u001b[0m \u001b[0mdata_handler\u001b[0m\u001b[0;34m.\u001b[0m\u001b[0mcatch_stop_iteration\u001b[0m\u001b[0;34m(\u001b[0m\u001b[0;34m)\u001b[0m\u001b[0;34m:\u001b[0m\u001b[0;34m\u001b[0m\u001b[0;34m\u001b[0m\u001b[0m\n\u001b[0;32m-> 1676\u001b[0;31m                     \u001b[0;32mfor\u001b[0m \u001b[0mstep\u001b[0m \u001b[0;32min\u001b[0m \u001b[0mdata_handler\u001b[0m\u001b[0;34m.\u001b[0m\u001b[0msteps\u001b[0m\u001b[0;34m(\u001b[0m\u001b[0;34m)\u001b[0m\u001b[0;34m:\u001b[0m\u001b[0;34m\u001b[0m\u001b[0;34m\u001b[0m\u001b[0m\n\u001b[0m\u001b[1;32m   1677\u001b[0m                         with tf.profiler.experimental.Trace(\n\u001b[1;32m   1678\u001b[0m                             \u001b[0;34m\"train\"\u001b[0m\u001b[0;34m,\u001b[0m\u001b[0;34m\u001b[0m\u001b[0;34m\u001b[0m\u001b[0m\n",
            "\u001b[0;32m/usr/local/lib/python3.10/dist-packages/keras/engine/data_adapter.py\u001b[0m in \u001b[0;36msteps\u001b[0;34m(self)\u001b[0m\n\u001b[1;32m   1373\u001b[0m             \u001b[0;32mif\u001b[0m \u001b[0mself\u001b[0m\u001b[0;34m.\u001b[0m\u001b[0m_insufficient_data\u001b[0m\u001b[0;34m:\u001b[0m  \u001b[0;31m# Set by `catch_stop_iteration`.\u001b[0m\u001b[0;34m\u001b[0m\u001b[0;34m\u001b[0m\u001b[0m\n\u001b[1;32m   1374\u001b[0m                 \u001b[0;32mbreak\u001b[0m\u001b[0;34m\u001b[0m\u001b[0;34m\u001b[0m\u001b[0m\n\u001b[0;32m-> 1375\u001b[0;31m             \u001b[0moriginal_spe\u001b[0m \u001b[0;34m=\u001b[0m \u001b[0mself\u001b[0m\u001b[0;34m.\u001b[0m\u001b[0m_steps_per_execution\u001b[0m\u001b[0;34m.\u001b[0m\u001b[0mnumpy\u001b[0m\u001b[0;34m(\u001b[0m\u001b[0;34m)\u001b[0m\u001b[0;34m.\u001b[0m\u001b[0mitem\u001b[0m\u001b[0;34m(\u001b[0m\u001b[0;34m)\u001b[0m\u001b[0;34m\u001b[0m\u001b[0;34m\u001b[0m\u001b[0m\n\u001b[0m\u001b[1;32m   1376\u001b[0m             can_run_full_execution = (\n\u001b[1;32m   1377\u001b[0m                 \u001b[0moriginal_spe\u001b[0m \u001b[0;34m==\u001b[0m \u001b[0;36m1\u001b[0m\u001b[0;34m\u001b[0m\u001b[0;34m\u001b[0m\u001b[0m\n",
            "\u001b[0;32m/usr/local/lib/python3.10/dist-packages/tensorflow/python/ops/resource_variable_ops.py\u001b[0m in \u001b[0;36mnumpy\u001b[0;34m(self)\u001b[0m\n\u001b[1;32m    645\u001b[0m   \u001b[0;32mdef\u001b[0m \u001b[0mnumpy\u001b[0m\u001b[0;34m(\u001b[0m\u001b[0mself\u001b[0m\u001b[0;34m)\u001b[0m\u001b[0;34m:\u001b[0m\u001b[0;34m\u001b[0m\u001b[0;34m\u001b[0m\u001b[0m\n\u001b[1;32m    646\u001b[0m     \u001b[0;32mif\u001b[0m \u001b[0mcontext\u001b[0m\u001b[0;34m.\u001b[0m\u001b[0mexecuting_eagerly\u001b[0m\u001b[0;34m(\u001b[0m\u001b[0;34m)\u001b[0m\u001b[0;34m:\u001b[0m\u001b[0;34m\u001b[0m\u001b[0;34m\u001b[0m\u001b[0m\n\u001b[0;32m--> 647\u001b[0;31m       \u001b[0;32mreturn\u001b[0m \u001b[0mself\u001b[0m\u001b[0;34m.\u001b[0m\u001b[0mread_value\u001b[0m\u001b[0;34m(\u001b[0m\u001b[0;34m)\u001b[0m\u001b[0;34m.\u001b[0m\u001b[0mnumpy\u001b[0m\u001b[0;34m(\u001b[0m\u001b[0;34m)\u001b[0m\u001b[0;34m\u001b[0m\u001b[0;34m\u001b[0m\u001b[0m\n\u001b[0m\u001b[1;32m    648\u001b[0m     raise NotImplementedError(\n\u001b[1;32m    649\u001b[0m         \"numpy() is only available when eager execution is enabled.\")\n",
            "\u001b[0;32m/usr/local/lib/python3.10/dist-packages/tensorflow/python/framework/ops.py\u001b[0m in \u001b[0;36mnumpy\u001b[0;34m(self)\u001b[0m\n\u001b[1;32m   1158\u001b[0m     \"\"\"\n\u001b[1;32m   1159\u001b[0m     \u001b[0;31m# TODO(slebedev): Consider avoiding a copy for non-CPU or remote tensors.\u001b[0m\u001b[0;34m\u001b[0m\u001b[0;34m\u001b[0m\u001b[0m\n\u001b[0;32m-> 1160\u001b[0;31m     \u001b[0mmaybe_arr\u001b[0m \u001b[0;34m=\u001b[0m \u001b[0mself\u001b[0m\u001b[0;34m.\u001b[0m\u001b[0m_numpy\u001b[0m\u001b[0;34m(\u001b[0m\u001b[0;34m)\u001b[0m  \u001b[0;31m# pylint: disable=protected-access\u001b[0m\u001b[0;34m\u001b[0m\u001b[0;34m\u001b[0m\u001b[0m\n\u001b[0m\u001b[1;32m   1161\u001b[0m     \u001b[0;32mreturn\u001b[0m \u001b[0mmaybe_arr\u001b[0m\u001b[0;34m.\u001b[0m\u001b[0mcopy\u001b[0m\u001b[0;34m(\u001b[0m\u001b[0;34m)\u001b[0m \u001b[0;32mif\u001b[0m \u001b[0misinstance\u001b[0m\u001b[0;34m(\u001b[0m\u001b[0mmaybe_arr\u001b[0m\u001b[0;34m,\u001b[0m \u001b[0mnp\u001b[0m\u001b[0;34m.\u001b[0m\u001b[0mndarray\u001b[0m\u001b[0;34m)\u001b[0m \u001b[0;32melse\u001b[0m \u001b[0mmaybe_arr\u001b[0m\u001b[0;34m\u001b[0m\u001b[0;34m\u001b[0m\u001b[0m\n\u001b[1;32m   1162\u001b[0m \u001b[0;34m\u001b[0m\u001b[0m\n",
            "\u001b[0;32m/usr/local/lib/python3.10/dist-packages/tensorflow/python/framework/ops.py\u001b[0m in \u001b[0;36m_numpy\u001b[0;34m(self)\u001b[0m\n\u001b[1;32m   1124\u001b[0m   \u001b[0;32mdef\u001b[0m \u001b[0m_numpy\u001b[0m\u001b[0;34m(\u001b[0m\u001b[0mself\u001b[0m\u001b[0;34m)\u001b[0m\u001b[0;34m:\u001b[0m\u001b[0;34m\u001b[0m\u001b[0;34m\u001b[0m\u001b[0m\n\u001b[1;32m   1125\u001b[0m     \u001b[0;32mtry\u001b[0m\u001b[0;34m:\u001b[0m\u001b[0;34m\u001b[0m\u001b[0;34m\u001b[0m\u001b[0m\n\u001b[0;32m-> 1126\u001b[0;31m       \u001b[0;32mreturn\u001b[0m \u001b[0mself\u001b[0m\u001b[0;34m.\u001b[0m\u001b[0m_numpy_internal\u001b[0m\u001b[0;34m(\u001b[0m\u001b[0;34m)\u001b[0m\u001b[0;34m\u001b[0m\u001b[0;34m\u001b[0m\u001b[0m\n\u001b[0m\u001b[1;32m   1127\u001b[0m     \u001b[0;32mexcept\u001b[0m \u001b[0mcore\u001b[0m\u001b[0;34m.\u001b[0m\u001b[0m_NotOkStatusException\u001b[0m \u001b[0;32mas\u001b[0m \u001b[0me\u001b[0m\u001b[0;34m:\u001b[0m  \u001b[0;31m# pylint: disable=protected-access\u001b[0m\u001b[0;34m\u001b[0m\u001b[0;34m\u001b[0m\u001b[0m\n\u001b[1;32m   1128\u001b[0m       \u001b[0;32mraise\u001b[0m \u001b[0mcore\u001b[0m\u001b[0;34m.\u001b[0m\u001b[0m_status_to_exception\u001b[0m\u001b[0;34m(\u001b[0m\u001b[0me\u001b[0m\u001b[0;34m)\u001b[0m \u001b[0;32mfrom\u001b[0m \u001b[0;32mNone\u001b[0m  \u001b[0;31m# pylint: disable=protected-access\u001b[0m\u001b[0;34m\u001b[0m\u001b[0;34m\u001b[0m\u001b[0m\n",
            "\u001b[0;31mKeyboardInterrupt\u001b[0m: "
          ]
        }
      ]
    },
    {
      "cell_type": "code",
      "source": [
        "pd.DataFrame(gru_history.history)[['accuracy', 'val_accuracy']].plot()"
      ],
      "metadata": {
        "id": "dMXVpBWkxM38"
      },
      "execution_count": null,
      "outputs": []
    },
    {
      "cell_type": "code",
      "source": [
        "y_pred = gru_model.predict(X_enc_test)\n",
        "y_pred = (y_pred > 0.5).astype(\"int32\")\n",
        "gru_accuracy = accuracy_score(y_test, y_pred)\n",
        "\n",
        "print(\"Accuracy: \", gru_accuracy)\n",
        "print(ConfusionMatrixDisplay.from_predictions(y_test, y_pred))"
      ],
      "metadata": {
        "id": "mwEHZcSdTwV3"
      },
      "execution_count": null,
      "outputs": []
    },
    {
      "cell_type": "markdown",
      "source": [
        "# CNN"
      ],
      "metadata": {
        "id": "rUup6geCk-eD"
      }
    },
    {
      "cell_type": "code",
      "source": [
        "DefaultConv = partial(layers.Conv1D, kernel_size=3, strides=1, use_bias=False,\n",
        "                        padding='same', kernel_initializer='he_normal')\n",
        "\n",
        "cnn_model = keras.Sequential([\n",
        "    \n",
        "  DefaultConv(32, strides=1, input_shape=(160, 4)),\n",
        "\n",
        "  layers.Dropout(0.4),\n",
        "\n",
        "  layers.MaxPooling1D(3, strides=2),\n",
        "\n",
        "  DefaultConv(64),\n",
        "\n",
        "  layers.MaxPooling1D(2, strides=2),\n",
        "\n",
        "  layers.Flatten(),\n",
        "\n",
        "  layers.Dropout(0.4),\n",
        "\n",
        "  layers.Dense(64, activation=\"relu\"),\n",
        "\n",
        "  layers.Dense(1, activation=\"sigmoid\")\n",
        "\n",
        "])\n",
        "\n",
        "cnn_model.compile(optimizer='adam', loss='binary_crossentropy', metrics=['accuracy'])\n",
        "cnn_model.summary()"
      ],
      "metadata": {
        "colab": {
          "base_uri": "https://localhost:8080/"
        },
        "id": "SSDi5cCok_di",
        "outputId": "11fafabe-ed2d-497e-8734-c157d547e19b"
      },
      "execution_count": 34,
      "outputs": [
        {
          "output_type": "stream",
          "name": "stdout",
          "text": [
            "Model: \"sequential_7\"\n",
            "_________________________________________________________________\n",
            " Layer (type)                Output Shape              Param #   \n",
            "=================================================================\n",
            " conv1d_6 (Conv1D)           (None, 160, 32)           384       \n",
            "                                                                 \n",
            " dropout_6 (Dropout)         (None, 160, 32)           0         \n",
            "                                                                 \n",
            " max_pooling1d_2 (MaxPooling  (None, 79, 32)           0         \n",
            " 1D)                                                             \n",
            "                                                                 \n",
            " conv1d_7 (Conv1D)           (None, 79, 64)            6144      \n",
            "                                                                 \n",
            " max_pooling1d_3 (MaxPooling  (None, 39, 64)           0         \n",
            " 1D)                                                             \n",
            "                                                                 \n",
            " flatten_4 (Flatten)         (None, 2496)              0         \n",
            "                                                                 \n",
            " dropout_7 (Dropout)         (None, 2496)              0         \n",
            "                                                                 \n",
            " dense_11 (Dense)            (None, 64)                159808    \n",
            "                                                                 \n",
            " dense_12 (Dense)            (None, 1)                 65        \n",
            "                                                                 \n",
            "=================================================================\n",
            "Total params: 166,401\n",
            "Trainable params: 166,401\n",
            "Non-trainable params: 0\n",
            "_________________________________________________________________\n"
          ]
        }
      ]
    },
    {
      "cell_type": "code",
      "source": [
        "early_stopping_cb = keras.callbacks.EarlyStopping(patience=3) \n",
        "cnn_history = cnn_model.fit(X_enc_train, y_train, epochs=15, batch_size=32, \n",
        "                    validation_data=(X_enc_valid, y_valid),\n",
        "                    callbacks=[early_stopping_cb])"
      ],
      "metadata": {
        "colab": {
          "base_uri": "https://localhost:8080/"
        },
        "id": "ECCuJgXNmUTs",
        "outputId": "34e3b8a3-e9ba-49fc-850c-f6543c9f9300"
      },
      "execution_count": 35,
      "outputs": [
        {
          "output_type": "stream",
          "name": "stdout",
          "text": [
            "Epoch 1/15\n",
            "2000/2000 [==============================] - 10s 4ms/step - loss: 0.3479 - accuracy: 0.7920 - val_loss: 0.2171 - val_accuracy: 0.9699\n",
            "Epoch 2/15\n",
            "2000/2000 [==============================] - 9s 4ms/step - loss: 0.2311 - accuracy: 0.8895 - val_loss: 0.1432 - val_accuracy: 0.9650\n",
            "Epoch 3/15\n",
            "2000/2000 [==============================] - 8s 4ms/step - loss: 0.1686 - accuracy: 0.9274 - val_loss: 0.1595 - val_accuracy: 0.8916\n",
            "Epoch 4/15\n",
            "2000/2000 [==============================] - 8s 4ms/step - loss: 0.1372 - accuracy: 0.9447 - val_loss: 0.0948 - val_accuracy: 0.9730\n",
            "Epoch 5/15\n",
            "2000/2000 [==============================] - 9s 5ms/step - loss: 0.1126 - accuracy: 0.9576 - val_loss: 0.0921 - val_accuracy: 0.9721\n",
            "Epoch 6/15\n",
            "2000/2000 [==============================] - 8s 4ms/step - loss: 0.0960 - accuracy: 0.9661 - val_loss: 0.1057 - val_accuracy: 0.9693\n",
            "Epoch 7/15\n",
            "2000/2000 [==============================] - 9s 4ms/step - loss: 0.0875 - accuracy: 0.9707 - val_loss: 0.0513 - val_accuracy: 0.9852\n",
            "Epoch 8/15\n",
            "2000/2000 [==============================] - 8s 4ms/step - loss: 0.0834 - accuracy: 0.9726 - val_loss: 0.0694 - val_accuracy: 0.9804\n",
            "Epoch 9/15\n",
            "2000/2000 [==============================] - 8s 4ms/step - loss: 0.0774 - accuracy: 0.9752 - val_loss: 0.0821 - val_accuracy: 0.9753\n",
            "Epoch 10/15\n",
            "2000/2000 [==============================] - 9s 4ms/step - loss: 0.0732 - accuracy: 0.9772 - val_loss: 0.0972 - val_accuracy: 0.9722\n"
          ]
        }
      ]
    },
    {
      "cell_type": "code",
      "source": [
        "pd.DataFrame(cnn_history.history)[['accuracy', 'val_accuracy']].plot()"
      ],
      "metadata": {
        "colab": {
          "base_uri": "https://localhost:8080/",
          "height": 447
        },
        "id": "9JSLBC-woAMl",
        "outputId": "e96373d7-1f62-48ba-ce22-fa3e3884f95d"
      },
      "execution_count": 36,
      "outputs": [
        {
          "output_type": "execute_result",
          "data": {
            "text/plain": [
              "<Axes: >"
            ]
          },
          "metadata": {},
          "execution_count": 36
        },
        {
          "output_type": "display_data",
          "data": {
            "text/plain": [
              "<Figure size 640x480 with 1 Axes>"
            ],
            "image/png": "[encoded data removed]"
          },
          "metadata": {}
        }
      ]
    },
    {
      "cell_type": "code",
      "source": [
        "y_pred = cnn_model.predict(X_enc_test)\n",
        "y_pred = (y_pred > 0.5).astype(\"int32\")\n",
        "cnn_accuracy = accuracy_score(y_test, y_pred)\n",
        "\n",
        "print(\"Accuracy: \", cnn_accuracy)\n",
        "print(ConfusionMatrixDisplay.from_predictions(y_test, y_pred))"
      ],
      "metadata": {
        "colab": {
          "base_uri": "https://localhost:8080/",
          "height": 501
        },
        "id": "fFq1zCJloG62",
        "outputId": "f7c3cb5d-ee5e-43df-8df5-0ae997c6dce7"
      },
      "execution_count": 38,
      "outputs": [
        {
          "output_type": "stream",
          "name": "stdout",
          "text": [
            "625/625 [==============================] - 1s 2ms/step\n",
            "Accuracy:  0.97245\n",
            "<sklearn.metrics._plot.confusion_matrix.ConfusionMatrixDisplay object at 0x7f7a9c16f340>\n"
          ]
        },
        {
          "output_type": "display_data",
          "data": {
            "text/plain": [
              "<Figure size 640x480 with 2 Axes>"
            ],
            "image/png": "[encoded data removed]"
          },
          "metadata": {}
        }
      ]
    },
    {
      "cell_type": "markdown",
      "source": [
        "# TODO\n",
        "masking layers?\n",
        "codons -> split into 3 nucleo tides each\n",
        "save a bopy in guthub"
      ],
      "metadata": {
        "id": "eWESfVXv6GRx"
      }
    }
  ]
}