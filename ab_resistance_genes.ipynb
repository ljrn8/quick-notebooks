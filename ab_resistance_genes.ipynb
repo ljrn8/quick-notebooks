{
  "metadata": {
    "kernelspec": {
      "language": "python",
      "display_name": "Python 3",
      "name": "python3"
    },
    "language_info": {
      "name": "python",
      "version": "3.10.10",
      "mimetype": "text/x-python",
      "codemirror_mode": {
        "name": "ipython",
        "version": 3
      },
      "pygments_lexer": "ipython3",
      "nbconvert_exporter": "python",
      "file_extension": ".py"
    },
    "colab": {
      "provenance": [],
      "gpuType": "T4",
      "toc_visible": true,
      "include_colab_link": true
    },
    "accelerator": "GPU",
    "gpuClass": "standard"
  },
  "nbformat_minor": 0,
  "nbformat": 4,
  "cells": [
    {
      "cell_type": "markdown",
      "metadata": {
        "id": "view-in-github",
        "colab_type": "text"
      },
      "source": [
        "<a href=\"https://colab.research.google.com/github/ljrn8/QuickNotebooks/blob/main/ab_resistance_genes.ipynb\" target=\"_parent\"><img src=\"https://colab.research.google.com/assets/colab-badge.svg\" alt=\"Open In Colab\"/></a>"
      ]
    },
    {
      "cell_type": "markdown",
      "source": [
        "# Predicting Antibiotic Resistance Genes | Proof Of Concept\n",
        "---\n",
        "The situation is a simple binary classification on sequence data. The Dataset was original gathered from kaggle, but the author privated the dataset soon after I downloaded (not kidding).\n",
        "\n",
        "###  Results:\n",
        "\n",
        "all models consistantly get above 90% accuracy with little optimization\n",
        "\n",
        "- MLP = 94%\n",
        "- GRU = 97%\n",
        "- CNN = 98%\n",
        "\n",
        "In summary, resistance is easily identified through genes, predicting based off Pan / meta genomes will be less simple. Many improvements could have been made in light of future models."
      ],
      "metadata": {
        "id": "0QTMU_zLQUPa"
      }
    },
    {
      "cell_type": "code",
      "source": [
        "import numpy as np\n",
        "import pandas as pd\n",
        "import matplotlib.pyplot as plt\n",
        "\n",
        "import tensorflow as tf\n",
        "from tensorflow import keras\n",
        "from keras import layers\n",
        "\n",
        "from functools import partial\n",
        "from sklearn.metrics import ConfusionMatrixDisplay, accuracy_score"
      ],
      "metadata": {
        "_uuid": "8f2839f25d086af736a60e9eeb907d3b93b6e0e5",
        "_cell_guid": "b1076dfc-b9ad-4769-8c92-a6c4dae69d19",
        "execution": {
          "iopub.status.busy": "2023-05-13T01:46:37.195981Z",
          "iopub.execute_input": "2023-05-13T01:46:37.196858Z",
          "iopub.status.idle": "2023-05-13T01:46:37.218096Z",
          "shell.execute_reply.started": "2023-05-13T01:46:37.196820Z",
          "shell.execute_reply": "2023-05-13T01:46:37.216256Z"
        },
        "trusted": true,
        "id": "RyxBCLGj6GRe"
      },
      "execution_count": null,
      "outputs": []
    },
    {
      "cell_type": "markdown",
      "source": [
        "# Setup"
      ],
      "metadata": {
        "id": "bC6TEwOTwbxg"
      }
    },
    {
      "cell_type": "code",
      "source": [
        "from google.colab import drive\n",
        "drive.mount('/content/drive')\n",
        "!cd /content/drive/MyDrive/\n",
        "!ls"
      ],
      "metadata": {
        "colab": {
          "base_uri": "https://localhost:8080/"
        },
        "id": "SgoHSOar8Op9",
        "outputId": "05dd684d-8ee5-48c4-d291-92e3523690ca"
      },
      "execution_count": null,
      "outputs": [
        {
          "output_type": "stream",
          "name": "stdout",
          "text": [
            "Drive already mounted at /content/drive; to attempt to forcibly remount, call drive.mount(\"/content/drive\", force_remount=True).\n",
            "drive  sample_data\n"
          ]
        }
      ]
    },
    {
      "cell_type": "code",
      "source": [
        "np_data = np.load('/content/drive/MyDrive/datasets/dataset.npy', allow_pickle=True)\n",
        "np_data"
      ],
      "metadata": {
        "execution": {
          "iopub.status.busy": "2023-05-13T01:31:04.974396Z",
          "iopub.execute_input": "2023-05-13T01:31:04.974777Z",
          "iopub.status.idle": "2023-05-13T01:31:05.062253Z",
          "shell.execute_reply.started": "2023-05-13T01:31:04.974744Z",
          "shell.execute_reply": "2023-05-13T01:31:05.061026Z"
        },
        "trusted": true,
        "colab": {
          "base_uri": "https://localhost:8080/"
        },
        "id": "G_iXVGZ46GRo",
        "outputId": "e6edfbe0-6ca0-47d7-8dab-48df766d47a5"
      },
      "execution_count": null,
      "outputs": [
        {
          "output_type": "execute_result",
          "data": {
            "text/plain": [
              "array({'resistant': array([False, False, False, ...,  True,  True, False]), 'genes': array(['ATGCACTACCGTATGATCCCCCTTCACTGGATGATGGAAATTGACTGCAATGGCTGCGCTAATAATACTTTGTCTCGTCGTTGGAATTACGACTTCTGGCACAAACACGTTGAACAGGTTAAATGCTACCGTCACAATATTCGTGACCAGACTTGA',\n",
              "       'ATGCACTACCGTATGATTCACTGGATGATGGAAATTGACTGCAATGGCTGCGCTAATAATACTTTGTCTCGTCGTTGGAATTACGACTTCTGGCACAAACCCGTTGAACAGGTTAAATGCTACCGTCACAATATTCGTGACCAGACTTGA',\n",
              "       'ATGCACTACCGTATGATTCACTGGATCGTGATGGAAATTGACTGCAATGGCTGCGCTAATAATACTTTGTCTCGTCGTTGGAATTACGACTTCTGGCACAAACACGTTGAACAGGTTAAATGCTACCGTCACAATATTCGTGACCAGACTTGA',\n",
              "       ...,\n",
              "       'ATGCACTACCGTATGATTCACTGGATGATGGAAACTGCAATGGCTGCGCTAATAATACTTTGTCTCGTCGTTGGAATTACGACTTCTGGCACAAACACGTTGAACAGGTTAAATGCTACCGTCACAATATTCGTGACCAGACTTGA',\n",
              "       'ATGCACTACCGTATGATTCACTGGATGATGGAAATTGACTTGCAATGGCTGCGCTAATAATACTTTGTCTCGTCGTTGGAATTACGACTTCTGGCACAAACACGTTGAACAGGTTAAATGCTACCGTCACAATATTCGTGACCAGACTTGA',\n",
              "       'ATGCACTACCGTATGATTCACTGGATGATGGAAATTGACTGCAATGGCTGCGCTAATAATACTTTGTCTCGTCGTTGGAATTACGACTTCTGGCACAAACACGTTGAACAGGTTAAATGCTACCGTCACAATATTCGTGACCAGACTTGA'],\n",
              "      dtype=object)}, dtype=object)"
            ]
          },
          "metadata": {},
          "execution_count": 5
        }
      ]
    },
    {
      "cell_type": "code",
      "source": [
        "# thanks to Alexander Scarlat .MD for the pandas dataframe convertion\n",
        "Datadict = np_data[()]\n",
        "df = pd.DataFrame.from_dict(Datadict)\n",
        "print(df.shape)\n",
        "df"
      ],
      "metadata": {
        "execution": {
          "iopub.status.busy": "2023-05-13T01:31:05.063972Z",
          "iopub.execute_input": "2023-05-13T01:31:05.065301Z",
          "iopub.status.idle": "2023-05-13T01:31:05.087418Z",
          "shell.execute_reply.started": "2023-05-13T01:31:05.065235Z",
          "shell.execute_reply": "2023-05-13T01:31:05.085758Z"
        },
        "trusted": true,
        "colab": {
          "base_uri": "https://localhost:8080/",
          "height": 441
        },
        "id": "dqMyO6MQ6GRp",
        "outputId": "be9f911c-3580-468f-f455-10356650eac1"
      },
      "execution_count": null,
      "outputs": [
        {
          "output_type": "stream",
          "name": "stdout",
          "text": [
            "(100000, 2)\n"
          ]
        },
        {
          "output_type": "execute_result",
          "data": {
            "text/plain": [
              "       resistant                                              genes\n",
              "0          False  ATGCACTACCGTATGATCCCCCTTCACTGGATGATGGAAATTGACT...\n",
              "1          False  ATGCACTACCGTATGATTCACTGGATGATGGAAATTGACTGCAATG...\n",
              "2          False  ATGCACTACCGTATGATTCACTGGATCGTGATGGAAATTGACTGCA...\n",
              "3          False  ATGCACTACCGTATGATTCACTGGGTGATGGAAATTGACTGCAATG...\n",
              "4          False  ATGCACGACCGTATCATTCACTGGATGATGGAAATTGACTGCAATG...\n",
              "...          ...                                                ...\n",
              "99995      False  ATGCACTACCGTATGATTCACTGGATGATGGAAACTCTCTTTGACT...\n",
              "99996      False  ATGCACTACCGTATGATTCACTGGATGATGGAAATTGACTGCAATG...\n",
              "99997       True  ATGCACTACCGTATGATTCACTGGATGATGGAAACTGCAATGGCTG...\n",
              "99998       True  ATGCACTACCGTATGATTCACTGGATGATGGAAATTGACTTGCAAT...\n",
              "99999      False  ATGCACTACCGTATGATTCACTGGATGATGGAAATTGACTGCAATG...\n",
              "\n",
              "[100000 rows x 2 columns]"
            ],
            "text/html": [
              "\n",
              "  <div id=\"df-f69a98ad-8c3f-425e-b578-2d23d658f6f5\">\n",
              "    <div class=\"colab-df-container\">\n",
              "      <div>\n",
              "<style scoped>\n",
              "    .dataframe tbody tr th:only-of-type {\n",
              "        vertical-align: middle;\n",
              "    }\n",
              "\n",
              "    .dataframe tbody tr th {\n",
              "        vertical-align: top;\n",
              "    }\n",
              "\n",
              "    .dataframe thead th {\n",
              "        text-align: right;\n",
              "    }\n",
              "</style>\n",
              "<table border=\"1\" class=\"dataframe\">\n",
              "  <thead>\n",
              "    <tr style=\"text-align: right;\">\n",
              "      <th></th>\n",
              "      <th>resistant</th>\n",
              "      <th>genes</th>\n",
              "    </tr>\n",
              "  </thead>\n",
              "  <tbody>\n",
              "    <tr>\n",
              "      <th>0</th>\n",
              "      <td>False</td>\n",
              "      <td>ATGCACTACCGTATGATCCCCCTTCACTGGATGATGGAAATTGACT...</td>\n",
              "    </tr>\n",
              "    <tr>\n",
              "      <th>1</th>\n",
              "      <td>False</td>\n",
              "      <td>ATGCACTACCGTATGATTCACTGGATGATGGAAATTGACTGCAATG...</td>\n",
              "    </tr>\n",
              "    <tr>\n",
              "      <th>2</th>\n",
              "      <td>False</td>\n",
              "      <td>ATGCACTACCGTATGATTCACTGGATCGTGATGGAAATTGACTGCA...</td>\n",
              "    </tr>\n",
              "    <tr>\n",
              "      <th>3</th>\n",
              "      <td>False</td>\n",
              "      <td>ATGCACTACCGTATGATTCACTGGGTGATGGAAATTGACTGCAATG...</td>\n",
              "    </tr>\n",
              "    <tr>\n",
              "      <th>4</th>\n",
              "      <td>False</td>\n",
              "      <td>ATGCACGACCGTATCATTCACTGGATGATGGAAATTGACTGCAATG...</td>\n",
              "    </tr>\n",
              "    <tr>\n",
              "      <th>...</th>\n",
              "      <td>...</td>\n",
              "      <td>...</td>\n",
              "    </tr>\n",
              "    <tr>\n",
              "      <th>99995</th>\n",
              "      <td>False</td>\n",
              "      <td>ATGCACTACCGTATGATTCACTGGATGATGGAAACTCTCTTTGACT...</td>\n",
              "    </tr>\n",
              "    <tr>\n",
              "      <th>99996</th>\n",
              "      <td>False</td>\n",
              "      <td>ATGCACTACCGTATGATTCACTGGATGATGGAAATTGACTGCAATG...</td>\n",
              "    </tr>\n",
              "    <tr>\n",
              "      <th>99997</th>\n",
              "      <td>True</td>\n",
              "      <td>ATGCACTACCGTATGATTCACTGGATGATGGAAACTGCAATGGCTG...</td>\n",
              "    </tr>\n",
              "    <tr>\n",
              "      <th>99998</th>\n",
              "      <td>True</td>\n",
              "      <td>ATGCACTACCGTATGATTCACTGGATGATGGAAATTGACTTGCAAT...</td>\n",
              "    </tr>\n",
              "    <tr>\n",
              "      <th>99999</th>\n",
              "      <td>False</td>\n",
              "      <td>ATGCACTACCGTATGATTCACTGGATGATGGAAATTGACTGCAATG...</td>\n",
              "    </tr>\n",
              "  </tbody>\n",
              "</table>\n",
              "<p>100000 rows × 2 columns</p>\n",
              "</div>\n",
              "      <button class=\"colab-df-convert\" onclick=\"convertToInteractive('df-f69a98ad-8c3f-425e-b578-2d23d658f6f5')\"\n",
              "              title=\"Convert this dataframe to an interactive table.\"\n",
              "              style=\"display:none;\">\n",
              "        \n",
              "  <svg xmlns=\"http://www.w3.org/2000/svg\" height=\"24px\"viewBox=\"0 0 24 24\"\n",
              "       width=\"24px\">\n",
              "    <path d=\"M0 0h24v24H0V0z\" fill=\"none\"/>\n",
              "    <path d=\"M18.56 5.44l.94 2.06.94-2.06 2.06-.94-2.06-.94-.94-2.06-.94 2.06-2.06.94zm-11 1L8.5 8.5l.94-2.06 2.06-.94-2.06-.94L8.5 2.5l-.94 2.06-2.06.94zm10 10l.94 2.06.94-2.06 2.06-.94-2.06-.94-.94-2.06-.94 2.06-2.06.94z\"/><path d=\"M17.41 7.96l-1.37-1.37c-.4-.4-.92-.59-1.43-.59-.52 0-1.04.2-1.43.59L10.3 9.45l-7.72 7.72c-.78.78-.78 2.05 0 2.83L4 21.41c.39.39.9.59 1.41.59.51 0 1.02-.2 1.41-.59l7.78-7.78 2.81-2.81c.8-.78.8-2.07 0-2.86zM5.41 20L4 18.59l7.72-7.72 1.47 1.35L5.41 20z\"/>\n",
              "  </svg>\n",
              "      </button>\n",
              "      \n",
              "  <style>\n",
              "    .colab-df-container {\n",
              "      display:flex;\n",
              "      flex-wrap:wrap;\n",
              "      gap: 12px;\n",
              "    }\n",
              "\n",
              "    .colab-df-convert {\n",
              "      background-color: #E8F0FE;\n",
              "      border: none;\n",
              "      border-radius: 50%;\n",
              "      cursor: pointer;\n",
              "      display: none;\n",
              "      fill: #1967D2;\n",
              "      height: 32px;\n",
              "      padding: 0 0 0 0;\n",
              "      width: 32px;\n",
              "    }\n",
              "\n",
              "    .colab-df-convert:hover {\n",
              "      background-color: #E2EBFA;\n",
              "      box-shadow: 0px 1px 2px rgba(60, 64, 67, 0.3), 0px 1px 3px 1px rgba(60, 64, 67, 0.15);\n",
              "      fill: #174EA6;\n",
              "    }\n",
              "\n",
              "    [theme=dark] .colab-df-convert {\n",
              "      background-color: #3B4455;\n",
              "      fill: #D2E3FC;\n",
              "    }\n",
              "\n",
              "    [theme=dark] .colab-df-convert:hover {\n",
              "      background-color: #434B5C;\n",
              "      box-shadow: 0px 1px 3px 1px rgba(0, 0, 0, 0.15);\n",
              "      filter: drop-shadow(0px 1px 2px rgba(0, 0, 0, 0.3));\n",
              "      fill: #FFFFFF;\n",
              "    }\n",
              "  </style>\n",
              "\n",
              "      <script>\n",
              "        const buttonEl =\n",
              "          document.querySelector('#df-f69a98ad-8c3f-425e-b578-2d23d658f6f5 button.colab-df-convert');\n",
              "        buttonEl.style.display =\n",
              "          google.colab.kernel.accessAllowed ? 'block' : 'none';\n",
              "\n",
              "        async function convertToInteractive(key) {\n",
              "          const element = document.querySelector('#df-f69a98ad-8c3f-425e-b578-2d23d658f6f5');\n",
              "          const dataTable =\n",
              "            await google.colab.kernel.invokeFunction('convertToInteractive',\n",
              "                                                     [key], {});\n",
              "          if (!dataTable) return;\n",
              "\n",
              "          const docLinkHtml = 'Like what you see? Visit the ' +\n",
              "            '<a target=\"_blank\" href=https://colab.research.google.com/notebooks/data_table.ipynb>data table notebook</a>'\n",
              "            + ' to learn more about interactive tables.';\n",
              "          element.innerHTML = '';\n",
              "          dataTable['output_type'] = 'display_data';\n",
              "          await google.colab.output.renderOutput(dataTable, element);\n",
              "          const docLink = document.createElement('div');\n",
              "          docLink.innerHTML = docLinkHtml;\n",
              "          element.appendChild(docLink);\n",
              "        }\n",
              "      </script>\n",
              "    </div>\n",
              "  </div>\n",
              "  "
            ]
          },
          "metadata": {},
          "execution_count": 6
        }
      ]
    },
    {
      "cell_type": "code",
      "source": [
        "# gene\n",
        "X = df['genes'].iloc[0]\n",
        "print(len(X), X)"
      ],
      "metadata": {
        "execution": {
          "iopub.status.busy": "2023-05-13T01:31:05.091116Z",
          "iopub.execute_input": "2023-05-13T01:31:05.091645Z",
          "iopub.status.idle": "2023-05-13T01:31:05.099173Z",
          "shell.execute_reply.started": "2023-05-13T01:31:05.091597Z",
          "shell.execute_reply": "2023-05-13T01:31:05.097630Z"
        },
        "trusted": true,
        "colab": {
          "base_uri": "https://localhost:8080/"
        },
        "id": "7cx-abmL6GRr",
        "outputId": "f3421207-bb65-4b11-a9ed-c7be093d11ce"
      },
      "execution_count": null,
      "outputs": [
        {
          "output_type": "stream",
          "name": "stdout",
          "text": [
            "156 ATGCACTACCGTATGATCCCCCTTCACTGGATGATGGAAATTGACTGCAATGGCTGCGCTAATAATACTTTGTCTCGTCGTTGGAATTACGACTTCTGGCACAAACACGTTGAACAGGTTAAATGCTACCGTCACAATATTCGTGACCAGACTTGA\n"
          ]
        }
      ]
    },
    {
      "cell_type": "code",
      "source": [
        "df.info()"
      ],
      "metadata": {
        "execution": {
          "iopub.status.busy": "2023-05-13T01:31:05.101016Z",
          "iopub.execute_input": "2023-05-13T01:31:05.101990Z",
          "iopub.status.idle": "2023-05-13T01:31:05.155305Z",
          "shell.execute_reply.started": "2023-05-13T01:31:05.101915Z",
          "shell.execute_reply": "2023-05-13T01:31:05.153863Z"
        },
        "trusted": true,
        "colab": {
          "base_uri": "https://localhost:8080/"
        },
        "id": "FWt0S4_v6GRs",
        "outputId": "4470784e-9994-456d-fcc7-3d62bfd1c263"
      },
      "execution_count": null,
      "outputs": [
        {
          "output_type": "stream",
          "name": "stdout",
          "text": [
            "<class 'pandas.core.frame.DataFrame'>\n",
            "RangeIndex: 100000 entries, 0 to 99999\n",
            "Data columns (total 2 columns):\n",
            " #   Column     Non-Null Count   Dtype \n",
            "---  ------     --------------   ----- \n",
            " 0   resistant  100000 non-null  bool  \n",
            " 1   genes      100000 non-null  object\n",
            "dtypes: bool(1), object(1)\n",
            "memory usage: 879.0+ KB\n"
          ]
        }
      ]
    },
    {
      "cell_type": "code",
      "source": [
        "val_counts = df[\"resistant\"].value_counts()\n",
        "print(val_counts)\n",
        "val_counts.plot(kind=\"bar\")"
      ],
      "metadata": {
        "colab": {
          "base_uri": "https://localhost:8080/",
          "height": 520
        },
        "id": "-zAxqWjKLuER",
        "outputId": "6a29e0cc-cf5a-4799-b06c-8d04ee45e528"
      },
      "execution_count": null,
      "outputs": [
        {
          "output_type": "stream",
          "name": "stdout",
          "text": [
            "False    50297\n",
            "True     49703\n",
            "Name: resistant, dtype: int64\n"
          ]
        },
        {
          "output_type": "execute_result",
          "data": {
            "text/plain": [
              "<Axes: >"
            ]
          },
          "metadata": {},
          "execution_count": 18
        },
        {
          "output_type": "display_data",
          "data": {
            "text/plain": [
              "<Figure size 640x480 with 1 Axes>"
            ],
            "image/png": "[encoded data removed]"
          },
          "metadata": {}
        }
      ]
    },
    {
      "cell_type": "code",
      "source": [
        "from keras.utils import pad_sequences\n",
        "\n",
        "vocab = ['A', 'C', 'G', 'T']\n",
        "char2idx = {\n",
        "  char: (idx+1) for idx, char in enumerate(vocab)\n",
        "}\n",
        "\n",
        "# tokenize (convert to ATGC to 1-4)\n",
        "def tokenize(sequence):\n",
        "  return [char2idx[char] for char in sequence]\n",
        "\n",
        "# one hot encode (convert to sparse vector)\n",
        "def encode(tokens):\n",
        "  tensor = tf.constant(tokens)\n",
        "  one_hot = np.asarray(tf.one_hot(tensor, len(vocab)))\n",
        "  return one_hot.astype(\"int32\")\n",
        "\n",
        "df['genes_tokenized'] = df['genes'].apply(tokenize)\n",
        "\n",
        "# pad right with 0's for the tokenized column\n",
        "X_token = pad_sequences(df['genes_tokenized'], maxlen=160, padding='post', truncating='post', value=0)\n",
        "\n",
        "X_enc = np.array([encode(tokens) for tokens in X_token])\n",
        "\n",
        "print(df.head(3))\n",
        "print(\"OHE:\\n \", X_enc[0][0][:5], \"\\n .... \")"
      ],
      "metadata": {
        "execution": {
          "iopub.status.busy": "2023-05-13T02:16:09.009607Z",
          "iopub.execute_input": "2023-05-13T02:16:09.009980Z",
          "iopub.status.idle": "2023-05-13T02:16:30.523025Z",
          "shell.execute_reply.started": "2023-05-13T02:16:09.009950Z",
          "shell.execute_reply": "2023-05-13T02:16:30.520871Z"
        },
        "trusted": true,
        "colab": {
          "base_uri": "https://localhost:8080/"
        },
        "id": "_YBvh9k86GRs",
        "outputId": "b8af518d-3b41-4b69-bdbb-32e1920bc3ac"
      },
      "execution_count": null,
      "outputs": [
        {
          "output_type": "stream",
          "name": "stdout",
          "text": [
            "   resistant                                              genes  \\\n",
            "0      False  ATGCACTACCGTATGATCCCCCTTCACTGGATGATGGAAATTGACT...   \n",
            "1      False  ATGCACTACCGTATGATTCACTGGATGATGGAAATTGACTGCAATG...   \n",
            "2      False  ATGCACTACCGTATGATTCACTGGATCGTGATGGAAATTGACTGCA...   \n",
            "\n",
            "                                     genes_tokenized  \n",
            "0  [1, 4, 3, 2, 1, 2, 4, 1, 2, 2, 3, 4, 1, 4, 3, ...  \n",
            "1  [1, 4, 3, 2, 1, 2, 4, 1, 2, 2, 3, 4, 1, 4, 3, ...  \n",
            "2  [1, 4, 3, 2, 1, 2, 4, 1, 2, 2, 3, 4, 1, 4, 3, ...  \n",
            "OHE:\n",
            "  [0 1 0 0] \n",
            " .... \n"
          ]
        }
      ]
    },
    {
      "cell_type": "code",
      "source": [
        "y = np.array(df['resistant']).astype('int32')\n",
        "\n",
        "def split(X, ratio=0.8):\n",
        "  # take out test set (top 20%)\n",
        "  test_split = int(len(X) * ratio)\n",
        "  full_train, test = X[:test_split], X[test_split:]\n",
        "\n",
        "  # hold out top 20% of training for per epoch validation\n",
        "  validation_split = int(len(full_train) * ratio)\n",
        "  train, validation = full_train[:validation_split], full_train[validation_split:]\n",
        "\n",
        "  return train, validation, test\n",
        "\n",
        "y_train, y_valid, y_test = split(y)\n",
        "X_enc_train, X_enc_valid, X_enc_test = split(X_enc)\n",
        "X_token_train, X_token_valid, X_token_test = split(X_token)"
      ],
      "metadata": {
        "id": "lTAWyAz06GRv"
      },
      "execution_count": null,
      "outputs": []
    },
    {
      "cell_type": "markdown",
      "source": [
        "# SVM"
      ],
      "metadata": {
        "id": "eiiK-RV7IFi9"
      }
    },
    {
      "cell_type": "code",
      "source": [
        "''' from sklearn.metrics import ConfusionMatrixDisplay, accuracy_score\n",
        "from sklearn.svm import SVC\n",
        "\n",
        "svm = SVC(kernel='linear')\n",
        "svm.fit(X_token_train, y_train)\n",
        "\n",
        "y_pred = svm.predict(X_token_test)\n",
        "\n",
        "accuracy = accuracy_score(y_test, y_pred)\n",
        "print(\"Accuracy: \", accuracy)\n",
        "\n",
        "ConfusionMatrixDisplay.from_predictions(y_test, y_pred) '''\n",
        "\n",
        "# colab dies -> to much data for non parametric"
      ],
      "metadata": {
        "colab": {
          "base_uri": "https://localhost:8080/",
          "height": 91
        },
        "id": "Gsw_mv4aGunv",
        "outputId": "6b258611-c3a0-43ca-d25d-adc8ab7069a6"
      },
      "execution_count": null,
      "outputs": [
        {
          "output_type": "execute_result",
          "data": {
            "text/plain": [
              "' from sklearn.metrics import ConfusionMatrixDisplay, accuracy_score\\nfrom sklearn.svm import SVC\\n\\nsvm = SVC(kernel=\\'linear\\')\\nsvm.fit(X_token_train, y_train)\\n\\ny_pred = svm.predict(X_token_test)\\n\\naccuracy = accuracy_score(y_test, y_pred)\\nprint(\"Accuracy: \", accuracy)\\n\\nConfusionMatrixDisplay.from_predictions(y_test, y_pred) '"
            ],
            "application/vnd.google.colaboratory.intrinsic+json": {
              "type": "string"
            }
          },
          "metadata": {},
          "execution_count": 46
        }
      ]
    },
    {
      "cell_type": "markdown",
      "source": [
        "# MLP"
      ],
      "metadata": {
        "id": "hCe-LMm1LD4u"
      }
    },
    {
      "cell_type": "code",
      "source": [
        "DefaultDense = partial(\n",
        "  layers.Dense,\n",
        "  activation='relu',\n",
        "  kernel_initializer=\"he_uniform\",\n",
        "  kernel_regularizer= keras.regularizers.l2(0.01)\n",
        ")\n",
        "mlp_model = keras.Sequential([\n",
        "    keras.Input(160),\n",
        "    DefaultDense(20), # technically not a MLP cos 2 hidden layers but who cares\n",
        "    DefaultDense(10),\n",
        "    layers.Dense(1, activation='sigmoid')\n",
        "])\n",
        "mlp_model.compile(\n",
        "  loss='binary_crossentropy',\n",
        "  optimizer='adam',\n",
        "  metrics=['accuracy']\n",
        ")\n",
        "mlp_model.summary()"
      ],
      "metadata": {
        "id": "0xdpAQkTK4D7",
        "colab": {
          "base_uri": "https://localhost:8080/"
        },
        "outputId": "5a35c7fb-cc52-4329-98dd-fa8d65550c3b"
      },
      "execution_count": null,
      "outputs": [
        {
          "output_type": "stream",
          "name": "stdout",
          "text": [
            "Model: \"sequential_5\"\n",
            "_________________________________________________________________\n",
            " Layer (type)                Output Shape              Param #   \n",
            "=================================================================\n",
            " dense_5 (Dense)             (None, 20)                3220      \n",
            "                                                                 \n",
            " dense_6 (Dense)             (None, 10)                210       \n",
            "                                                                 \n",
            " dense_7 (Dense)             (None, 1)                 11        \n",
            "                                                                 \n",
            "=================================================================\n",
            "Total params: 3,441\n",
            "Trainable params: 3,441\n",
            "Non-trainable params: 0\n",
            "_________________________________________________________________\n"
          ]
        }
      ]
    },
    {
      "cell_type": "code",
      "source": [
        "early_stopping_cb = keras.callbacks.EarlyStopping(patience=3) # stop training if overfits\n",
        "mlp_history = mlp_model.fit(X_token_train, y_train, epochs=7, batch_size=32,\n",
        "                    validation_data=(X_token_valid, y_valid),\n",
        "                    callbacks=[early_stopping_cb])"
      ],
      "metadata": {
        "id": "53CDWVBUNMpG",
        "colab": {
          "base_uri": "https://localhost:8080/"
        },
        "outputId": "570a3348-42a5-467f-9feb-fe8e18886bf5"
      },
      "execution_count": null,
      "outputs": [
        {
          "output_type": "stream",
          "name": "stdout",
          "text": [
            "Epoch 1/7\n",
            "2000/2000 [==============================] - 11s 4ms/step - loss: 0.5642 - accuracy: 0.8198 - val_loss: 0.4192 - val_accuracy: 0.8253\n",
            "Epoch 2/7\n",
            "2000/2000 [==============================] - 7s 4ms/step - loss: 0.3807 - accuracy: 0.8690 - val_loss: 0.3375 - val_accuracy: 0.8997\n",
            "Epoch 3/7\n",
            "2000/2000 [==============================] - 7s 4ms/step - loss: 0.3240 - accuracy: 0.8942 - val_loss: 0.3045 - val_accuracy: 0.8778\n",
            "Epoch 4/7\n",
            "2000/2000 [==============================] - 8s 4ms/step - loss: 0.2894 - accuracy: 0.9073 - val_loss: 0.2623 - val_accuracy: 0.9394\n",
            "Epoch 5/7\n",
            "2000/2000 [==============================] - 7s 4ms/step - loss: 0.2677 - accuracy: 0.9138 - val_loss: 0.3057 - val_accuracy: 0.8553\n",
            "Epoch 6/7\n",
            "2000/2000 [==============================] - 8s 4ms/step - loss: 0.2536 - accuracy: 0.9183 - val_loss: 0.2251 - val_accuracy: 0.9302\n",
            "Epoch 7/7\n",
            "2000/2000 [==============================] - 7s 3ms/step - loss: 0.2382 - accuracy: 0.9226 - val_loss: 0.2163 - val_accuracy: 0.9400\n"
          ]
        }
      ]
    },
    {
      "cell_type": "code",
      "source": [
        "pd.DataFrame(mlp_history.history)[['accuracy', 'val_accuracy']].plot()"
      ],
      "metadata": {
        "id": "wX6dfJhBPN-3",
        "colab": {
          "base_uri": "https://localhost:8080/",
          "height": 447
        },
        "outputId": "40688912-6422-4451-b053-6f668ab0153b"
      },
      "execution_count": null,
      "outputs": [
        {
          "output_type": "execute_result",
          "data": {
            "text/plain": [
              "<Axes: >"
            ]
          },
          "metadata": {},
          "execution_count": 33
        },
        {
          "output_type": "display_data",
          "data": {
            "text/plain": [
              "<Figure size 640x480 with 1 Axes>"
            ],
            "image/png": "[encoded data removed]"
          },
          "metadata": {}
        }
      ]
    },
    {
      "cell_type": "code",
      "source": [
        "y_pred = mlp_model.predict(X_token_test)\n",
        "y_pred = (y_pred > 0.5).astype(\"int32\")\n",
        "mlp_accuracy = accuracy_score(y_test, y_pred)\n",
        "\n",
        "print(\"Accuracy: \", mlp_accuracy)\n",
        "print(ConfusionMatrixDisplay.from_predictions(y_test, y_pred))"
      ],
      "metadata": {
        "id": "JxcPpDPKPvnU",
        "colab": {
          "base_uri": "https://localhost:8080/",
          "height": 501
        },
        "outputId": "9504352d-cd4d-4f56-c11e-03c470b6404a"
      },
      "execution_count": null,
      "outputs": [
        {
          "output_type": "stream",
          "name": "stdout",
          "text": [
            "625/625 [==============================] - 3s 4ms/step\n",
            "Accuracy:  0.94245\n",
            "<sklearn.metrics._plot.confusion_matrix.ConfusionMatrixDisplay object at 0x7f71d9db1870>\n"
          ]
        },
        {
          "output_type": "display_data",
          "data": {
            "text/plain": [
              "<Figure size 640x480 with 2 Axes>"
            ],
            "image/png": "[encoded data removed]"
          },
          "metadata": {}
        }
      ]
    },
    {
      "cell_type": "markdown",
      "source": [
        "# GRU"
      ],
      "metadata": {
        "id": "ISEOmrUST9Hd"
      }
    },
    {
      "cell_type": "code",
      "source": [
        "gru_model = keras.Sequential([\n",
        "    layers.Bidirectional(\n",
        "        # bidirection wrapper converts LSTM to GRU\n",
        "        layers.LSTM(100, kernel_initializer='he_normal',\n",
        "                    # kernel_regularizer='l2',\n",
        "                    # dropout=0.3,\n",
        "                    activation='tanh'),\n",
        "        input_shape=(160, 4)\n",
        "    ),\n",
        "    # add another dense?\n",
        "    layers.Dense(1, activation='sigmoid')\n",
        "])\n",
        "gru_model.compile(optimizer='adam', loss='binary_crossentropy', metrics=['accuracy'])\n",
        "gru_model.summary()"
      ],
      "metadata": {
        "colab": {
          "base_uri": "https://localhost:8080/"
        },
        "id": "wwSKNsHtnMee",
        "outputId": "a57667f6-d0ed-4ffb-fc80-6e75d46584e6"
      },
      "execution_count": null,
      "outputs": [
        {
          "output_type": "stream",
          "name": "stdout",
          "text": [
            "Model: \"sequential_4\"\n",
            "_________________________________________________________________\n",
            " Layer (type)                Output Shape              Param #   \n",
            "=================================================================\n",
            " bidirectional_5 (Bidirectio  (None, 200)              84000     \n",
            " nal)                                                            \n",
            "                                                                 \n",
            " dense_4 (Dense)             (None, 1)                 201       \n",
            "                                                                 \n",
            "=================================================================\n",
            "Total params: 84,201\n",
            "Trainable params: 84,201\n",
            "Non-trainable params: 0\n",
            "_________________________________________________________________\n"
          ]
        }
      ]
    },
    {
      "cell_type": "code",
      "source": [
        "early_stopping_cb = keras.callbacks.EarlyStopping(patience=3)\n",
        "gru_history = gru_model.fit(X_enc_train, y_train, epochs=7, batch_size=32,\n",
        "                    validation_data=(X_enc_valid, y_valid),\n",
        "                    callbacks=[early_stopping_cb])"
      ],
      "metadata": {
        "id": "rpJq3cIfSIEJ",
        "colab": {
          "base_uri": "https://localhost:8080/"
        },
        "outputId": "ae376361-16e0-4492-b9ee-ecf7e141720a"
      },
      "execution_count": null,
      "outputs": [
        {
          "output_type": "stream",
          "name": "stdout",
          "text": [
            "Epoch 1/7\n",
            "2000/2000 [==============================] - 39s 18ms/step - loss: 0.4432 - accuracy: 0.7350 - val_loss: 0.2594 - val_accuracy: 0.8799\n",
            "Epoch 2/7\n",
            "2000/2000 [==============================] - 36s 18ms/step - loss: 0.2597 - accuracy: 0.8619 - val_loss: 0.2513 - val_accuracy: 0.8722\n",
            "Epoch 3/7\n",
            "2000/2000 [==============================] - 35s 17ms/step - loss: 0.2255 - accuracy: 0.8869 - val_loss: 0.2157 - val_accuracy: 0.8968\n",
            "Epoch 4/7\n",
            "2000/2000 [==============================] - 34s 17ms/step - loss: 0.1987 - accuracy: 0.9018 - val_loss: 0.1527 - val_accuracy: 0.9444\n",
            "Epoch 5/7\n",
            "2000/2000 [==============================] - 38s 19ms/step - loss: 0.3001 - accuracy: 0.8568 - val_loss: 0.1974 - val_accuracy: 0.9073\n",
            "Epoch 6/7\n",
            "2000/2000 [==============================] - 31s 15ms/step - loss: 0.1954 - accuracy: 0.9114 - val_loss: 0.1858 - val_accuracy: 0.9140\n",
            "Epoch 7/7\n",
            "2000/2000 [==============================] - 30s 15ms/step - loss: 0.1679 - accuracy: 0.9192 - val_loss: 0.0688 - val_accuracy: 0.9805\n"
          ]
        }
      ]
    },
    {
      "cell_type": "code",
      "source": [
        "pd.DataFrame(gru_history.history)[['accuracy', 'val_accuracy']].plot()"
      ],
      "metadata": {
        "id": "dMXVpBWkxM38",
        "colab": {
          "base_uri": "https://localhost:8080/",
          "height": 447
        },
        "outputId": "eff594ce-23d0-4639-f49c-4a478add3451"
      },
      "execution_count": null,
      "outputs": [
        {
          "output_type": "execute_result",
          "data": {
            "text/plain": [
              "<Axes: >"
            ]
          },
          "metadata": {},
          "execution_count": 29
        },
        {
          "output_type": "display_data",
          "data": {
            "text/plain": [
              "<Figure size 640x480 with 1 Axes>"
            ],
            "image/png": "[encoded data removed]"
          },
          "metadata": {}
        }
      ]
    },
    {
      "cell_type": "markdown",
      "source": [
        "overfits; should re-add dropout/regularization"
      ],
      "metadata": {
        "id": "5Oxlmp8hPxJs"
      }
    },
    {
      "cell_type": "code",
      "source": [
        "y_pred = gru_model.predict(X_enc_test)\n",
        "y_pred = (y_pred > 0.5).astype(\"int32\")\n",
        "gru_accuracy = accuracy_score(y_test, y_pred)\n",
        "\n",
        "print(\"Accuracy: \", gru_accuracy)\n",
        "print(ConfusionMatrixDisplay.from_predictions(y_test, y_pred))"
      ],
      "metadata": {
        "id": "mwEHZcSdTwV3",
        "colab": {
          "base_uri": "https://localhost:8080/",
          "height": 501
        },
        "outputId": "7a763649-7f3f-4947-b61b-ed0c2ed0c62e"
      },
      "execution_count": null,
      "outputs": [
        {
          "output_type": "stream",
          "name": "stdout",
          "text": [
            "625/625 [==============================] - 5s 6ms/step\n",
            "Accuracy:  0.9799\n",
            "<sklearn.metrics._plot.confusion_matrix.ConfusionMatrixDisplay object at 0x7f71e07b4040>\n"
          ]
        },
        {
          "output_type": "display_data",
          "data": {
            "text/plain": [
              "<Figure size 640x480 with 2 Axes>"
            ],
            "image/png": "[encoded data removed]"
          },
          "metadata": {}
        }
      ]
    },
    {
      "cell_type": "markdown",
      "source": [
        "# CNN"
      ],
      "metadata": {
        "id": "rUup6geCk-eD"
      }
    },
    {
      "cell_type": "code",
      "source": [
        "DefaultConv = partial(layers.Conv1D, kernel_size=3, strides=1, use_bias=False,\n",
        "                        padding='same', kernel_initializer='he_normal')\n",
        "\n",
        "cnn_model = keras.Sequential([\n",
        "\n",
        "  DefaultConv(32, strides=1, input_shape=(160, 4)),\n",
        "\n",
        "  layers.Dropout(0.4),\n",
        "\n",
        "  layers.MaxPooling1D(3, strides=2),\n",
        "\n",
        "  DefaultConv(64),\n",
        "\n",
        "  layers.MaxPooling1D(2, strides=2),\n",
        "\n",
        "  layers.Flatten(),\n",
        "\n",
        "  layers.Dropout(0.4),\n",
        "\n",
        "  layers.Dense(64, activation=\"relu\"),\n",
        "\n",
        "  layers.Dense(1, activation=\"sigmoid\")\n",
        "\n",
        "])\n",
        "\n",
        "cnn_model.compile(optimizer='adam', loss='binary_crossentropy', metrics=['accuracy'])\n",
        "cnn_model.summary()"
      ],
      "metadata": {
        "colab": {
          "base_uri": "https://localhost:8080/"
        },
        "id": "SSDi5cCok_di",
        "outputId": "11fafabe-ed2d-497e-8734-c157d547e19b"
      },
      "execution_count": null,
      "outputs": [
        {
          "output_type": "stream",
          "name": "stdout",
          "text": [
            "Model: \"sequential_7\"\n",
            "_________________________________________________________________\n",
            " Layer (type)                Output Shape              Param #   \n",
            "=================================================================\n",
            " conv1d_6 (Conv1D)           (None, 160, 32)           384       \n",
            "                                                                 \n",
            " dropout_6 (Dropout)         (None, 160, 32)           0         \n",
            "                                                                 \n",
            " max_pooling1d_2 (MaxPooling  (None, 79, 32)           0         \n",
            " 1D)                                                             \n",
            "                                                                 \n",
            " conv1d_7 (Conv1D)           (None, 79, 64)            6144      \n",
            "                                                                 \n",
            " max_pooling1d_3 (MaxPooling  (None, 39, 64)           0         \n",
            " 1D)                                                             \n",
            "                                                                 \n",
            " flatten_4 (Flatten)         (None, 2496)              0         \n",
            "                                                                 \n",
            " dropout_7 (Dropout)         (None, 2496)              0         \n",
            "                                                                 \n",
            " dense_11 (Dense)            (None, 64)                159808    \n",
            "                                                                 \n",
            " dense_12 (Dense)            (None, 1)                 65        \n",
            "                                                                 \n",
            "=================================================================\n",
            "Total params: 166,401\n",
            "Trainable params: 166,401\n",
            "Non-trainable params: 0\n",
            "_________________________________________________________________\n"
          ]
        }
      ]
    },
    {
      "cell_type": "code",
      "source": [
        "early_stopping_cb = keras.callbacks.EarlyStopping(patience=3)\n",
        "cnn_history = cnn_model.fit(X_enc_train, y_train, epochs=15, batch_size=32,\n",
        "                    validation_data=(X_enc_valid, y_valid),\n",
        "                    callbacks=[early_stopping_cb])"
      ],
      "metadata": {
        "colab": {
          "base_uri": "https://localhost:8080/"
        },
        "id": "ECCuJgXNmUTs",
        "outputId": "34e3b8a3-e9ba-49fc-850c-f6543c9f9300"
      },
      "execution_count": null,
      "outputs": [
        {
          "output_type": "stream",
          "name": "stdout",
          "text": [
            "Epoch 1/15\n",
            "2000/2000 [==============================] - 10s 4ms/step - loss: 0.3479 - accuracy: 0.7920 - val_loss: 0.2171 - val_accuracy: 0.9699\n",
            "Epoch 2/15\n",
            "2000/2000 [==============================] - 9s 4ms/step - loss: 0.2311 - accuracy: 0.8895 - val_loss: 0.1432 - val_accuracy: 0.9650\n",
            "Epoch 3/15\n",
            "2000/2000 [==============================] - 8s 4ms/step - loss: 0.1686 - accuracy: 0.9274 - val_loss: 0.1595 - val_accuracy: 0.8916\n",
            "Epoch 4/15\n",
            "2000/2000 [==============================] - 8s 4ms/step - loss: 0.1372 - accuracy: 0.9447 - val_loss: 0.0948 - val_accuracy: 0.9730\n",
            "Epoch 5/15\n",
            "2000/2000 [==============================] - 9s 5ms/step - loss: 0.1126 - accuracy: 0.9576 - val_loss: 0.0921 - val_accuracy: 0.9721\n",
            "Epoch 6/15\n",
            "2000/2000 [==============================] - 8s 4ms/step - loss: 0.0960 - accuracy: 0.9661 - val_loss: 0.1057 - val_accuracy: 0.9693\n",
            "Epoch 7/15\n",
            "2000/2000 [==============================] - 9s 4ms/step - loss: 0.0875 - accuracy: 0.9707 - val_loss: 0.0513 - val_accuracy: 0.9852\n",
            "Epoch 8/15\n",
            "2000/2000 [==============================] - 8s 4ms/step - loss: 0.0834 - accuracy: 0.9726 - val_loss: 0.0694 - val_accuracy: 0.9804\n",
            "Epoch 9/15\n",
            "2000/2000 [==============================] - 8s 4ms/step - loss: 0.0774 - accuracy: 0.9752 - val_loss: 0.0821 - val_accuracy: 0.9753\n",
            "Epoch 10/15\n",
            "2000/2000 [==============================] - 9s 4ms/step - loss: 0.0732 - accuracy: 0.9772 - val_loss: 0.0972 - val_accuracy: 0.9722\n"
          ]
        }
      ]
    },
    {
      "cell_type": "code",
      "source": [
        "pd.DataFrame(cnn_history.history)[['accuracy', 'val_accuracy']].plot()"
      ],
      "metadata": {
        "colab": {
          "base_uri": "https://localhost:8080/",
          "height": 447
        },
        "id": "9JSLBC-woAMl",
        "outputId": "e96373d7-1f62-48ba-ce22-fa3e3884f95d"
      },
      "execution_count": null,
      "outputs": [
        {
          "output_type": "execute_result",
          "data": {
            "text/plain": [
              "<Axes: >"
            ]
          },
          "metadata": {},
          "execution_count": 36
        },
        {
          "output_type": "display_data",
          "data": {
            "text/plain": [
              "<Figure size 640x480 with 1 Axes>"
            ],
            "image/png": "[encoded data removed]"
          },
          "metadata": {}
        }
      ]
    },
    {
      "cell_type": "code",
      "source": [
        "y_pred = cnn_model.predict(X_enc_test)\n",
        "y_pred = (y_pred > 0.5).astype(\"int32\")\n",
        "cnn_accuracy = accuracy_score(y_test, y_pred)\n",
        "\n",
        "print(\"Accuracy: \", cnn_accuracy)\n",
        "print(ConfusionMatrixDisplay.from_predictions(y_test, y_pred))"
      ],
      "metadata": {
        "colab": {
          "base_uri": "https://localhost:8080/",
          "height": 501
        },
        "id": "fFq1zCJloG62",
        "outputId": "f7c3cb5d-ee5e-43df-8df5-0ae997c6dce7"
      },
      "execution_count": null,
      "outputs": [
        {
          "output_type": "stream",
          "name": "stdout",
          "text": [
            "625/625 [==============================] - 1s 2ms/step\n",
            "Accuracy:  0.97245\n",
            "<sklearn.metrics._plot.confusion_matrix.ConfusionMatrixDisplay object at 0x7f7a9c16f340>\n"
          ]
        },
        {
          "output_type": "display_data",
          "data": {
            "text/plain": [
              "<Figure size 640x480 with 2 Axes>"
            ],
            "image/png": "[encoded data removed]"
          },
          "metadata": {}
        }
      ]
    },
    {
      "cell_type": "markdown",
      "source": [
        "# Improvements that could have been made\n",
        "\n",
        "- padding sequences is lazy and not sutable for GRU; real scenario would make use of variable length sequences\n",
        "\n",
        "- Didnt use \"k-mer\" strategy in from papers - again would have increased accuracy.\n",
        "\n",
        "- Hyper params werent optimized\n",
        "\n",
        "- didnt use codons\n",
        "\n",
        "- a combination of GRU and CNN would be perfect for longer sequences"
      ],
      "metadata": {
        "id": "eWESfVXv6GRx"
      }
    }
  ]
}