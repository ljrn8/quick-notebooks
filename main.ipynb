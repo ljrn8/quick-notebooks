{
  "nbformat": 4,
  "nbformat_minor": 0,
  "metadata": {
    "colab": {
      "provenance": [],
      "toc_visible": true,
      "authorship_tag": "ABX9TyP9wr93FbS4OVii9vmcK7BG",
      "include_colab_link": true
    },
    "kernelspec": {
      "name": "python3",
      "display_name": "Python 3"
    },
    "language_info": {
      "name": "python"
    }
  },
  "cells": [
    {
      "cell_type": "markdown",
      "metadata": {
        "id": "view-in-github",
        "colab_type": "text"
      },
      "source": [
        "<a href=\"https://colab.research.google.com/github/ljrn8/quick-notebooks/blob/main/main.ipynb\" target=\"_parent\"><img src=\"https://colab.research.google.com/assets/colab-badge.svg\" alt=\"Open In Colab\"/></a>"
      ]
    },
    {
      "cell_type": "markdown",
      "source": [
        "# COMP3010 Machine Learning Assignment | 20757218 Joel Hoefs\n"
      ],
      "metadata": {
        "id": "_ZJ8k7_aML-x"
      }
    },
    {
      "cell_type": "markdown",
      "source": [
        "## Setup"
      ],
      "metadata": {
        "id": "nePAkfe_Q9AV"
      }
    },
    {
      "cell_type": "code",
      "execution_count": 1,
      "metadata": {
        "colab": {
          "base_uri": "https://localhost:8080/"
        },
        "id": "TSAf3zNrHvvo",
        "outputId": "7f21f70a-c0c7-4b95-f1c4-d434af6e01cc"
      },
      "outputs": [
        {
          "output_type": "stream",
          "name": "stdout",
          "text": [
            "Requirement already satisfied: numpy in /usr/local/lib/python3.11/dist-packages (2.0.2)\n",
            "Collecting numpy\n",
            "  Downloading numpy-2.2.5-cp311-cp311-manylinux_2_17_x86_64.manylinux2014_x86_64.whl.metadata (62 kB)\n",
            "\u001b[2K     \u001b[90m━━━━━━━━━━━━━━━━━━━━━━━━━━━━━━━━━━━━━━━━\u001b[0m \u001b[32m62.0/62.0 kB\u001b[0m \u001b[31m1.7 MB/s\u001b[0m eta \u001b[36m0:00:00\u001b[0m\n",
            "\u001b[?25hDownloading numpy-2.2.5-cp311-cp311-manylinux_2_17_x86_64.manylinux2014_x86_64.whl (16.4 MB)\n",
            "\u001b[2K   \u001b[90m━━━━━━━━━━━━━━━━━━━━━━━━━━━━━━━━━━━━━━━━\u001b[0m \u001b[32m16.4/16.4 MB\u001b[0m \u001b[31m63.4 MB/s\u001b[0m eta \u001b[36m0:00:00\u001b[0m\n",
            "\u001b[?25hInstalling collected packages: numpy\n",
            "  Attempting uninstall: numpy\n",
            "    Found existing installation: numpy 2.0.2\n",
            "    Uninstalling numpy-2.0.2:\n",
            "      Successfully uninstalled numpy-2.0.2\n",
            "\u001b[31mERROR: pip's dependency resolver does not currently take into account all the packages that are installed. This behaviour is the source of the following dependency conflicts.\n",
            "tensorflow 2.18.0 requires numpy<2.1.0,>=1.26.0, but you have numpy 2.2.5 which is incompatible.\n",
            "numba 0.60.0 requires numpy<2.1,>=1.22, but you have numpy 2.2.5 which is incompatible.\u001b[0m\u001b[31m\n",
            "\u001b[0mSuccessfully installed numpy-2.2.5\n",
            "Collecting optuna\n",
            "  Downloading optuna-4.3.0-py3-none-any.whl.metadata (17 kB)\n",
            "Collecting alembic>=1.5.0 (from optuna)\n",
            "  Downloading alembic-1.15.2-py3-none-any.whl.metadata (7.3 kB)\n",
            "Collecting colorlog (from optuna)\n",
            "  Downloading colorlog-6.9.0-py3-none-any.whl.metadata (10 kB)\n",
            "Requirement already satisfied: numpy in /usr/local/lib/python3.11/dist-packages (from optuna) (2.2.5)\n",
            "Requirement already satisfied: packaging>=20.0 in /usr/local/lib/python3.11/dist-packages (from optuna) (24.2)\n",
            "Requirement already satisfied: sqlalchemy>=1.4.2 in /usr/local/lib/python3.11/dist-packages (from optuna) (2.0.40)\n",
            "Requirement already satisfied: tqdm in /usr/local/lib/python3.11/dist-packages (from optuna) (4.67.1)\n",
            "Requirement already satisfied: PyYAML in /usr/local/lib/python3.11/dist-packages (from optuna) (6.0.2)\n",
            "Requirement already satisfied: Mako in /usr/lib/python3/dist-packages (from alembic>=1.5.0->optuna) (1.1.3)\n",
            "Requirement already satisfied: typing-extensions>=4.12 in /usr/local/lib/python3.11/dist-packages (from alembic>=1.5.0->optuna) (4.13.2)\n",
            "Requirement already satisfied: greenlet>=1 in /usr/local/lib/python3.11/dist-packages (from sqlalchemy>=1.4.2->optuna) (3.2.1)\n",
            "Downloading optuna-4.3.0-py3-none-any.whl (386 kB)\n",
            "\u001b[2K   \u001b[90m━━━━━━━━━━━━━━━━━━━━━━━━━━━━━━━━━━━━━━━━\u001b[0m \u001b[32m386.6/386.6 kB\u001b[0m \u001b[31m7.4 MB/s\u001b[0m eta \u001b[36m0:00:00\u001b[0m\n",
            "\u001b[?25hDownloading alembic-1.15.2-py3-none-any.whl (231 kB)\n",
            "\u001b[2K   \u001b[90m━━━━━━━━━━━━━━━━━━━━━━━━━━━━━━━━━━━━━━━━\u001b[0m \u001b[32m231.9/231.9 kB\u001b[0m \u001b[31m16.0 MB/s\u001b[0m eta \u001b[36m0:00:00\u001b[0m\n",
            "\u001b[?25hDownloading colorlog-6.9.0-py3-none-any.whl (11 kB)\n",
            "Installing collected packages: colorlog, alembic, optuna\n",
            "Successfully installed alembic-1.15.2 colorlog-6.9.0 optuna-4.3.0\n",
            "  % Total    % Received % Xferd  Average Speed   Time    Time     Time  Current\n",
            "                                 Dload  Upload   Total   Spent    Left  Speed\n",
            "100 1186k  100 1186k    0     0  1544k      0 --:--:-- --:--:-- --:--:-- 1542k\n",
            "  % Total    % Received % Xferd  Average Speed   Time    Time     Time  Current\n",
            "                                 Dload  Upload   Total   Spent    Left  Speed\n",
            "100  328k  100  328k    0     0   549k      0 --:--:-- --:--:-- --:--:--  549k\n",
            "['.config', 'train.csv', 'test.csv', 'sample_data']\n"
          ]
        }
      ],
      "source": [
        "import numpy as np\n",
        "import pandas as pd\n",
        "import matplotlib.pyplot as plt\n",
        "import os\n",
        "import sklearn\n",
        "\n",
        "!pip install -U numpy\n",
        "!pip install -U optuna\n",
        "!curl -LJO https://raw.githubusercontent.com/qilinli/COMP3010-Machine-Learning/refs/heads/master/2025-assignment/train.csv\n",
        "!curl -LJO https://raw.githubusercontent.com/qilinli/COMP3010-Machine-Learning/refs/heads/master/2025-assignment/test.csv\n",
        "\n",
        "files = os.listdir('.')\n",
        "assert 'test.csv' in files\n",
        "assert 'train.csv' in files\n",
        "print(files)"
      ]
    },
    {
      "cell_type": "code",
      "source": [
        "df = pd.read_csv('train.csv', index_col=False).drop('Unnamed: 0', axis=1)      # train/validation\n",
        "test_df = pd.read_csv('test.csv', index_col=False).drop('Unnamed: 0', axis=1)  # test\n",
        "len(df), len(test_df)"
      ],
      "metadata": {
        "colab": {
          "base_uri": "https://localhost:8080/"
        },
        "id": "U32yXaCLH8CT",
        "outputId": "78aa4ec1-dc4b-49e5-db13-599264f744ec"
      },
      "execution_count": 2,
      "outputs": [
        {
          "output_type": "execute_result",
          "data": {
            "text/plain": [
              "(10050, 3203)"
            ]
          },
          "metadata": {},
          "execution_count": 2
        }
      ]
    },
    {
      "cell_type": "code",
      "source": [
        "df.columns"
      ],
      "metadata": {
        "colab": {
          "base_uri": "https://localhost:8080/"
        },
        "id": "UnFSM-AeL8n0",
        "outputId": "d6699749-fc26-4b9c-d9f7-52d3c25b2ea3"
      },
      "execution_count": 3,
      "outputs": [
        {
          "output_type": "execute_result",
          "data": {
            "text/plain": [
              "Index(['Tank Failure Pressure (bar)', 'Liquid Ratio', 'Tank Width (m)',\n",
              "       'Tank Length (m)', 'Tank Height (m)', 'BLEVE Height (m)',\n",
              "       'Vapour Height (m)', 'Vapour Temperature (K)', 'Liquid Temperature (K)',\n",
              "       'Obstacle Distance to BLEVE (m)', 'Obstacle Width (m)',\n",
              "       'Obstacle Height (m)', 'Obstacle Thickness (m)', 'Obstacle Angle',\n",
              "       'Status', 'Liquid Critical Pressure (bar)',\n",
              "       'Liquid Boiling Temperature (K)', 'Liquid Critical Temperature (K)',\n",
              "       'Sensor ID', 'Sensor Position Side', 'Sensor Position x',\n",
              "       'Sensor Position y', 'Sensor Position z', 'Target Pressure (bar)'],\n",
              "      dtype='object')"
            ]
          },
          "metadata": {},
          "execution_count": 3
        }
      ]
    },
    {
      "cell_type": "markdown",
      "source": [
        "## Preprocessing\n"
      ],
      "metadata": {
        "id": "rcEO0iUKKQWq"
      }
    },
    {
      "cell_type": "code",
      "source": [
        "# observe categorical columns\n",
        "categorical = ['Status', 'Sensor Position Side', 'Sensor ID']\n",
        "for c in categorical:\n",
        "  print(c,  ' unique values: ')\n",
        "  print(np.unique(list(df[c])))\n",
        "  print()"
      ],
      "metadata": {
        "colab": {
          "base_uri": "https://localhost:8080/"
        },
        "id": "R_b1LZTTWCWZ",
        "outputId": "c675a505-2412-4c0b-8ca4-0aef53f87172"
      },
      "execution_count": 4,
      "outputs": [
        {
          "output_type": "stream",
          "name": "stdout",
          "text": [
            "Status  unique values: \n",
            "['Saperheated' 'Subcoled' 'Subcool' 'Subcooled' 'Superheat' 'Superheated'\n",
            " 'nan' 'subcooled' 'superheated']\n",
            "\n",
            "Sensor Position Side  unique values: \n",
            "[ 1.  2.  3.  4.  5. nan]\n",
            "\n",
            "Sensor ID  unique values: \n",
            "[ 1.  2.  3.  4.  5.  6.  7.  8.  9. 10. 11. 12. 13. 14. 15. 16. 17. 18.\n",
            " 19. 20. 21. 22. 23. 24. 25. 26. 27. nan]\n",
            "\n"
          ]
        }
      ]
    },
    {
      "cell_type": "code",
      "source": [
        "# Fix invalid 'status' entries and dtype conversion\n",
        "def status_map(name):\n",
        "  if name in ['Saperheated', 'Superheat', 'Superheated', 'superheated']:\n",
        "    return 1\n",
        "  else:\n",
        "    return 0\n",
        "\n",
        "df['Status'] = df['Status'].map(status_map)\n",
        "test_df['Status'] = test_df['Status'].map(status_map)\n",
        "np.unique(df['Status'])"
      ],
      "metadata": {
        "colab": {
          "base_uri": "https://localhost:8080/"
        },
        "id": "kxnhpgScV-HW",
        "outputId": "8eadfc94-b2ce-4ceb-f64c-e37914801f74"
      },
      "execution_count": 5,
      "outputs": [
        {
          "output_type": "execute_result",
          "data": {
            "text/plain": [
              "array([0, 1])"
            ]
          },
          "metadata": {},
          "execution_count": 5
        }
      ]
    },
    {
      "cell_type": "code",
      "source": [
        "# observe NaN entries\n",
        "for c in df.columns:\n",
        "  print(f'NaN entries in [{c}]: ', pd.isna(df[c]).sum())"
      ],
      "metadata": {
        "colab": {
          "base_uri": "https://localhost:8080/"
        },
        "id": "nJSbEQQtYKJ2",
        "outputId": "ed16518e-f26f-4aa1-dd37-fcf4f4263316"
      },
      "execution_count": 6,
      "outputs": [
        {
          "output_type": "stream",
          "name": "stdout",
          "text": [
            "NaN entries in [Tank Failure Pressure (bar)]:  10\n",
            "NaN entries in [Liquid Ratio]:  9\n",
            "NaN entries in [Tank Width (m)]:  7\n",
            "NaN entries in [Tank Length (m)]:  5\n",
            "NaN entries in [Tank Height (m)]:  8\n",
            "NaN entries in [BLEVE Height (m)]:  10\n",
            "NaN entries in [Vapour Height (m)]:  9\n",
            "NaN entries in [Vapour Temperature (K)]:  28\n",
            "NaN entries in [Liquid Temperature (K)]:  28\n",
            "NaN entries in [Obstacle Distance to BLEVE (m)]:  8\n",
            "NaN entries in [Obstacle Width (m)]:  8\n",
            "NaN entries in [Obstacle Height (m)]:  8\n",
            "NaN entries in [Obstacle Thickness (m)]:  8\n",
            "NaN entries in [Obstacle Angle]:  8\n",
            "NaN entries in [Status]:  0\n",
            "NaN entries in [Liquid Critical Pressure (bar)]:  28\n",
            "NaN entries in [Liquid Boiling Temperature (K)]:  27\n",
            "NaN entries in [Liquid Critical Temperature (K)]:  29\n",
            "NaN entries in [Sensor ID]:  8\n",
            "NaN entries in [Sensor Position Side]:  10\n",
            "NaN entries in [Sensor Position x]:  7\n",
            "NaN entries in [Sensor Position y]:  9\n",
            "NaN entries in [Sensor Position z]:  7\n",
            "NaN entries in [Target Pressure (bar)]:  6\n"
          ]
        }
      ]
    },
    {
      "cell_type": "markdown",
      "source": [
        "NaN entries are somewhat evenly distributed, but are abundant. Thus I'll\n",
        " choose imputation over deletion, but only for the non-categorical columns."
      ],
      "metadata": {
        "id": "iMKx9m3lYpXC"
      }
    },
    {
      "cell_type": "code",
      "source": [
        "# fill nan entries with median imputation\n",
        "df = df.fillna(df.median(numeric_only=True))\n",
        "\n",
        "# dont impute categorical columns\n",
        "df = df[(~pd.isna(df[categorical])).all(axis=1)]\n",
        "\n",
        "assert pd.isna(df).all(axis=1).sum() == 0\n",
        "df[:3]"
      ],
      "metadata": {
        "colab": {
          "base_uri": "https://localhost:8080/",
          "height": 245
        },
        "id": "q5KDI1GfYHDe",
        "outputId": "fbaffd8b-97b6-4957-ba42-9356653eee1f"
      },
      "execution_count": 7,
      "outputs": [
        {
          "output_type": "execute_result",
          "data": {
            "text/plain": [
              "   Tank Failure Pressure (bar)  Liquid Ratio  Tank Width (m)  Tank Length (m)  \\\n",
              "0                        14.26          0.25            1.58             8.61   \n",
              "1                        14.14          0.25            1.59             8.58   \n",
              "2                        14.05          0.24            1.62             8.59   \n",
              "\n",
              "   Tank Height (m)  BLEVE Height (m)  Vapour Height (m)  \\\n",
              "0             1.79              1.01               1.40   \n",
              "1             1.81              1.00               1.41   \n",
              "2             1.79              0.98               1.38   \n",
              "\n",
              "   Vapour Temperature (K)  Liquid Temperature (K)  \\\n",
              "0                  457.14                  423.07   \n",
              "1                  457.71                  422.82   \n",
              "2                  456.58                  422.37   \n",
              "\n",
              "   Obstacle Distance to BLEVE (m)  ...  Status  \\\n",
              "0                            19.0  ...       1   \n",
              "1                            19.0  ...       1   \n",
              "2                            19.0  ...       1   \n",
              "\n",
              "   Liquid Critical Pressure (bar)  Liquid Boiling Temperature (K)  \\\n",
              "0                            37.9                            -1.0   \n",
              "1                            37.9                            -1.0   \n",
              "2                            37.9                            -1.0   \n",
              "\n",
              "   Liquid Critical Temperature (K)  Sensor ID  Sensor Position Side  \\\n",
              "0                            152.0       18.0                   2.0   \n",
              "1                            152.0       19.0                   3.0   \n",
              "2                            152.0       20.0                   3.0   \n",
              "\n",
              "   Sensor Position x  Sensor Position y  Sensor Position z  \\\n",
              "0              19.75               5.70                3.1   \n",
              "1              20.00              -5.15               -1.5   \n",
              "2              20.00              -5.15                0.8   \n",
              "\n",
              "   Target Pressure (bar)  \n",
              "0               0.588298  \n",
              "1               0.551524  \n",
              "2               0.550813  \n",
              "\n",
              "[3 rows x 24 columns]"
            ],
            "text/html": [
              "\n",
              "  <div id=\"df-bca4ee91-47b3-4b7e-b5f4-1f129c4c4146\" class=\"colab-df-container\">\n",
              "    <div>\n",
              "<style scoped>\n",
              "    .dataframe tbody tr th:only-of-type {\n",
              "        vertical-align: middle;\n",
              "    }\n",
              "\n",
              "    .dataframe tbody tr th {\n",
              "        vertical-align: top;\n",
              "    }\n",
              "\n",
              "    .dataframe thead th {\n",
              "        text-align: right;\n",
              "    }\n",
              "</style>\n",
              "<table border=\"1\" class=\"dataframe\">\n",
              "  <thead>\n",
              "    <tr style=\"text-align: right;\">\n",
              "      <th></th>\n",
              "      <th>Tank Failure Pressure (bar)</th>\n",
              "      <th>Liquid Ratio</th>\n",
              "      <th>Tank Width (m)</th>\n",
              "      <th>Tank Length (m)</th>\n",
              "      <th>Tank Height (m)</th>\n",
              "      <th>BLEVE Height (m)</th>\n",
              "      <th>Vapour Height (m)</th>\n",
              "      <th>Vapour Temperature (K)</th>\n",
              "      <th>Liquid Temperature (K)</th>\n",
              "      <th>Obstacle Distance to BLEVE (m)</th>\n",
              "      <th>...</th>\n",
              "      <th>Status</th>\n",
              "      <th>Liquid Critical Pressure (bar)</th>\n",
              "      <th>Liquid Boiling Temperature (K)</th>\n",
              "      <th>Liquid Critical Temperature (K)</th>\n",
              "      <th>Sensor ID</th>\n",
              "      <th>Sensor Position Side</th>\n",
              "      <th>Sensor Position x</th>\n",
              "      <th>Sensor Position y</th>\n",
              "      <th>Sensor Position z</th>\n",
              "      <th>Target Pressure (bar)</th>\n",
              "    </tr>\n",
              "  </thead>\n",
              "  <tbody>\n",
              "    <tr>\n",
              "      <th>0</th>\n",
              "      <td>14.26</td>\n",
              "      <td>0.25</td>\n",
              "      <td>1.58</td>\n",
              "      <td>8.61</td>\n",
              "      <td>1.79</td>\n",
              "      <td>1.01</td>\n",
              "      <td>1.40</td>\n",
              "      <td>457.14</td>\n",
              "      <td>423.07</td>\n",
              "      <td>19.0</td>\n",
              "      <td>...</td>\n",
              "      <td>1</td>\n",
              "      <td>37.9</td>\n",
              "      <td>-1.0</td>\n",
              "      <td>152.0</td>\n",
              "      <td>18.0</td>\n",
              "      <td>2.0</td>\n",
              "      <td>19.75</td>\n",
              "      <td>5.70</td>\n",
              "      <td>3.1</td>\n",
              "      <td>0.588298</td>\n",
              "    </tr>\n",
              "    <tr>\n",
              "      <th>1</th>\n",
              "      <td>14.14</td>\n",
              "      <td>0.25</td>\n",
              "      <td>1.59</td>\n",
              "      <td>8.58</td>\n",
              "      <td>1.81</td>\n",
              "      <td>1.00</td>\n",
              "      <td>1.41</td>\n",
              "      <td>457.71</td>\n",
              "      <td>422.82</td>\n",
              "      <td>19.0</td>\n",
              "      <td>...</td>\n",
              "      <td>1</td>\n",
              "      <td>37.9</td>\n",
              "      <td>-1.0</td>\n",
              "      <td>152.0</td>\n",
              "      <td>19.0</td>\n",
              "      <td>3.0</td>\n",
              "      <td>20.00</td>\n",
              "      <td>-5.15</td>\n",
              "      <td>-1.5</td>\n",
              "      <td>0.551524</td>\n",
              "    </tr>\n",
              "    <tr>\n",
              "      <th>2</th>\n",
              "      <td>14.05</td>\n",
              "      <td>0.24</td>\n",
              "      <td>1.62</td>\n",
              "      <td>8.59</td>\n",
              "      <td>1.79</td>\n",
              "      <td>0.98</td>\n",
              "      <td>1.38</td>\n",
              "      <td>456.58</td>\n",
              "      <td>422.37</td>\n",
              "      <td>19.0</td>\n",
              "      <td>...</td>\n",
              "      <td>1</td>\n",
              "      <td>37.9</td>\n",
              "      <td>-1.0</td>\n",
              "      <td>152.0</td>\n",
              "      <td>20.0</td>\n",
              "      <td>3.0</td>\n",
              "      <td>20.00</td>\n",
              "      <td>-5.15</td>\n",
              "      <td>0.8</td>\n",
              "      <td>0.550813</td>\n",
              "    </tr>\n",
              "  </tbody>\n",
              "</table>\n",
              "<p>3 rows × 24 columns</p>\n",
              "</div>\n",
              "    <div class=\"colab-df-buttons\">\n",
              "\n",
              "  <div class=\"colab-df-container\">\n",
              "    <button class=\"colab-df-convert\" onclick=\"convertToInteractive('df-bca4ee91-47b3-4b7e-b5f4-1f129c4c4146')\"\n",
              "            title=\"Convert this dataframe to an interactive table.\"\n",
              "            style=\"display:none;\">\n",
              "\n",
              "  <svg xmlns=\"http://www.w3.org/2000/svg\" height=\"24px\" viewBox=\"0 -960 960 960\">\n",
              "    <path d=\"M120-120v-720h720v720H120Zm60-500h600v-160H180v160Zm220 220h160v-160H400v160Zm0 220h160v-160H400v160ZM180-400h160v-160H180v160Zm440 0h160v-160H620v160ZM180-180h160v-160H180v160Zm440 0h160v-160H620v160Z\"/>\n",
              "  </svg>\n",
              "    </button>\n",
              "\n",
              "  <style>\n",
              "    .colab-df-container {\n",
              "      display:flex;\n",
              "      gap: 12px;\n",
              "    }\n",
              "\n",
              "    .colab-df-convert {\n",
              "      background-color: #E8F0FE;\n",
              "      border: none;\n",
              "      border-radius: 50%;\n",
              "      cursor: pointer;\n",
              "      display: none;\n",
              "      fill: #1967D2;\n",
              "      height: 32px;\n",
              "      padding: 0 0 0 0;\n",
              "      width: 32px;\n",
              "    }\n",
              "\n",
              "    .colab-df-convert:hover {\n",
              "      background-color: #E2EBFA;\n",
              "      box-shadow: 0px 1px 2px rgba(60, 64, 67, 0.3), 0px 1px 3px 1px rgba(60, 64, 67, 0.15);\n",
              "      fill: #174EA6;\n",
              "    }\n",
              "\n",
              "    .colab-df-buttons div {\n",
              "      margin-bottom: 4px;\n",
              "    }\n",
              "\n",
              "    [theme=dark] .colab-df-convert {\n",
              "      background-color: #3B4455;\n",
              "      fill: #D2E3FC;\n",
              "    }\n",
              "\n",
              "    [theme=dark] .colab-df-convert:hover {\n",
              "      background-color: #434B5C;\n",
              "      box-shadow: 0px 1px 3px 1px rgba(0, 0, 0, 0.15);\n",
              "      filter: drop-shadow(0px 1px 2px rgba(0, 0, 0, 0.3));\n",
              "      fill: #FFFFFF;\n",
              "    }\n",
              "  </style>\n",
              "\n",
              "    <script>\n",
              "      const buttonEl =\n",
              "        document.querySelector('#df-bca4ee91-47b3-4b7e-b5f4-1f129c4c4146 button.colab-df-convert');\n",
              "      buttonEl.style.display =\n",
              "        google.colab.kernel.accessAllowed ? 'block' : 'none';\n",
              "\n",
              "      async function convertToInteractive(key) {\n",
              "        const element = document.querySelector('#df-bca4ee91-47b3-4b7e-b5f4-1f129c4c4146');\n",
              "        const dataTable =\n",
              "          await google.colab.kernel.invokeFunction('convertToInteractive',\n",
              "                                                    [key], {});\n",
              "        if (!dataTable) return;\n",
              "\n",
              "        const docLinkHtml = 'Like what you see? Visit the ' +\n",
              "          '<a target=\"_blank\" href=https://colab.research.google.com/notebooks/data_table.ipynb>data table notebook</a>'\n",
              "          + ' to learn more about interactive tables.';\n",
              "        element.innerHTML = '';\n",
              "        dataTable['output_type'] = 'display_data';\n",
              "        await google.colab.output.renderOutput(dataTable, element);\n",
              "        const docLink = document.createElement('div');\n",
              "        docLink.innerHTML = docLinkHtml;\n",
              "        element.appendChild(docLink);\n",
              "      }\n",
              "    </script>\n",
              "  </div>\n",
              "\n",
              "\n",
              "    <div id=\"df-78cbd0e8-4c02-4adc-a7f6-6e80b3737b05\">\n",
              "      <button class=\"colab-df-quickchart\" onclick=\"quickchart('df-78cbd0e8-4c02-4adc-a7f6-6e80b3737b05')\"\n",
              "                title=\"Suggest charts\"\n",
              "                style=\"display:none;\">\n",
              "\n",
              "<svg xmlns=\"http://www.w3.org/2000/svg\" height=\"24px\"viewBox=\"0 0 24 24\"\n",
              "     width=\"24px\">\n",
              "    <g>\n",
              "        <path d=\"M19 3H5c-1.1 0-2 .9-2 2v14c0 1.1.9 2 2 2h14c1.1 0 2-.9 2-2V5c0-1.1-.9-2-2-2zM9 17H7v-7h2v7zm4 0h-2V7h2v10zm4 0h-2v-4h2v4z\"/>\n",
              "    </g>\n",
              "</svg>\n",
              "      </button>\n",
              "\n",
              "<style>\n",
              "  .colab-df-quickchart {\n",
              "      --bg-color: #E8F0FE;\n",
              "      --fill-color: #1967D2;\n",
              "      --hover-bg-color: #E2EBFA;\n",
              "      --hover-fill-color: #174EA6;\n",
              "      --disabled-fill-color: #AAA;\n",
              "      --disabled-bg-color: #DDD;\n",
              "  }\n",
              "\n",
              "  [theme=dark] .colab-df-quickchart {\n",
              "      --bg-color: #3B4455;\n",
              "      --fill-color: #D2E3FC;\n",
              "      --hover-bg-color: #434B5C;\n",
              "      --hover-fill-color: #FFFFFF;\n",
              "      --disabled-bg-color: #3B4455;\n",
              "      --disabled-fill-color: #666;\n",
              "  }\n",
              "\n",
              "  .colab-df-quickchart {\n",
              "    background-color: var(--bg-color);\n",
              "    border: none;\n",
              "    border-radius: 50%;\n",
              "    cursor: pointer;\n",
              "    display: none;\n",
              "    fill: var(--fill-color);\n",
              "    height: 32px;\n",
              "    padding: 0;\n",
              "    width: 32px;\n",
              "  }\n",
              "\n",
              "  .colab-df-quickchart:hover {\n",
              "    background-color: var(--hover-bg-color);\n",
              "    box-shadow: 0 1px 2px rgba(60, 64, 67, 0.3), 0 1px 3px 1px rgba(60, 64, 67, 0.15);\n",
              "    fill: var(--button-hover-fill-color);\n",
              "  }\n",
              "\n",
              "  .colab-df-quickchart-complete:disabled,\n",
              "  .colab-df-quickchart-complete:disabled:hover {\n",
              "    background-color: var(--disabled-bg-color);\n",
              "    fill: var(--disabled-fill-color);\n",
              "    box-shadow: none;\n",
              "  }\n",
              "\n",
              "  .colab-df-spinner {\n",
              "    border: 2px solid var(--fill-color);\n",
              "    border-color: transparent;\n",
              "    border-bottom-color: var(--fill-color);\n",
              "    animation:\n",
              "      spin 1s steps(1) infinite;\n",
              "  }\n",
              "\n",
              "  @keyframes spin {\n",
              "    0% {\n",
              "      border-color: transparent;\n",
              "      border-bottom-color: var(--fill-color);\n",
              "      border-left-color: var(--fill-color);\n",
              "    }\n",
              "    20% {\n",
              "      border-color: transparent;\n",
              "      border-left-color: var(--fill-color);\n",
              "      border-top-color: var(--fill-color);\n",
              "    }\n",
              "    30% {\n",
              "      border-color: transparent;\n",
              "      border-left-color: var(--fill-color);\n",
              "      border-top-color: var(--fill-color);\n",
              "      border-right-color: var(--fill-color);\n",
              "    }\n",
              "    40% {\n",
              "      border-color: transparent;\n",
              "      border-right-color: var(--fill-color);\n",
              "      border-top-color: var(--fill-color);\n",
              "    }\n",
              "    60% {\n",
              "      border-color: transparent;\n",
              "      border-right-color: var(--fill-color);\n",
              "    }\n",
              "    80% {\n",
              "      border-color: transparent;\n",
              "      border-right-color: var(--fill-color);\n",
              "      border-bottom-color: var(--fill-color);\n",
              "    }\n",
              "    90% {\n",
              "      border-color: transparent;\n",
              "      border-bottom-color: var(--fill-color);\n",
              "    }\n",
              "  }\n",
              "</style>\n",
              "\n",
              "      <script>\n",
              "        async function quickchart(key) {\n",
              "          const quickchartButtonEl =\n",
              "            document.querySelector('#' + key + ' button');\n",
              "          quickchartButtonEl.disabled = true;  // To prevent multiple clicks.\n",
              "          quickchartButtonEl.classList.add('colab-df-spinner');\n",
              "          try {\n",
              "            const charts = await google.colab.kernel.invokeFunction(\n",
              "                'suggestCharts', [key], {});\n",
              "          } catch (error) {\n",
              "            console.error('Error during call to suggestCharts:', error);\n",
              "          }\n",
              "          quickchartButtonEl.classList.remove('colab-df-spinner');\n",
              "          quickchartButtonEl.classList.add('colab-df-quickchart-complete');\n",
              "        }\n",
              "        (() => {\n",
              "          let quickchartButtonEl =\n",
              "            document.querySelector('#df-78cbd0e8-4c02-4adc-a7f6-6e80b3737b05 button');\n",
              "          quickchartButtonEl.style.display =\n",
              "            google.colab.kernel.accessAllowed ? 'block' : 'none';\n",
              "        })();\n",
              "      </script>\n",
              "    </div>\n",
              "\n",
              "    </div>\n",
              "  </div>\n"
            ],
            "application/vnd.google.colaboratory.intrinsic+json": {
              "type": "dataframe"
            }
          },
          "metadata": {},
          "execution_count": 7
        }
      ]
    },
    {
      "cell_type": "code",
      "source": [
        "# outlier detection and imputation\n",
        "def impute_outliers(df, columns, z):\n",
        "  for c in columns:\n",
        "    median = df[c].median()\n",
        "    threshold = z * df[c].std()\n",
        "    is_outlier = np.abs(df[c] - median) > threshold\n",
        "    print(f'outliers in [{c}]: {is_outlier.sum()}')\n",
        "    df[c] = np.where(is_outlier, median, df[c])\n",
        "\n",
        "cols = df.drop(categorical, axis=1).columns\n",
        "impute_outliers(df, z=3.5, columns=cols)"
      ],
      "metadata": {
        "colab": {
          "base_uri": "https://localhost:8080/"
        },
        "id": "Y79FC1E6bn5w",
        "outputId": "47e5783e-d6d6-47a9-8b73-d7ffc2fad104"
      },
      "execution_count": 8,
      "outputs": [
        {
          "output_type": "stream",
          "name": "stdout",
          "text": [
            "outliers in [Tank Failure Pressure (bar)]: 50\n",
            "outliers in [Liquid Ratio]: 0\n",
            "outliers in [Tank Width (m)]: 0\n",
            "outliers in [Tank Length (m)]: 0\n",
            "outliers in [Tank Height (m)]: 0\n",
            "outliers in [BLEVE Height (m)]: 0\n",
            "outliers in [Vapour Height (m)]: 0\n",
            "outliers in [Vapour Temperature (K)]: 0\n",
            "outliers in [Liquid Temperature (K)]: 0\n",
            "outliers in [Obstacle Distance to BLEVE (m)]: 0\n",
            "outliers in [Obstacle Width (m)]: 0\n",
            "outliers in [Obstacle Height (m)]: 0\n",
            "outliers in [Obstacle Thickness (m)]: 0\n",
            "outliers in [Obstacle Angle]: 0\n",
            "outliers in [Liquid Critical Pressure (bar)]: 0\n",
            "outliers in [Liquid Boiling Temperature (K)]: 0\n",
            "outliers in [Liquid Critical Temperature (K)]: 0\n",
            "outliers in [Sensor Position x]: 0\n",
            "outliers in [Sensor Position y]: 10\n",
            "outliers in [Sensor Position z]: 0\n",
            "outliers in [Target Pressure (bar)]: 161\n"
          ]
        }
      ]
    },
    {
      "cell_type": "code",
      "source": [
        "# 1 hot encodings for sensor ID and Sensor position side columns:\n",
        "for df_ in [df, test_df]:\n",
        "    df_['Sensor ID'] = pd.Categorical(df_['Sensor ID'])\n",
        "    df_['Sensor Position Side'] = pd.Categorical(df_['Sensor Position Side'])\n",
        "\n",
        "df = pd.get_dummies(df, columns=['Sensor ID', 'Sensor Position Side'])\n",
        "test_df = pd.get_dummies(test_df, columns=['Sensor ID', 'Sensor Position Side'])\n",
        "\n",
        "test_df.columns"
      ],
      "metadata": {
        "colab": {
          "base_uri": "https://localhost:8080/"
        },
        "id": "fZ9lDicjWDPR",
        "outputId": "6cae46ad-b975-4e2b-e54c-4d485a4af20e"
      },
      "execution_count": 9,
      "outputs": [
        {
          "output_type": "execute_result",
          "data": {
            "text/plain": [
              "Index(['Tank Failure Pressure (bar)', 'Liquid Ratio', 'Tank Width (m)',\n",
              "       'Tank Length (m)', 'Tank Height (m)', 'BLEVE Height (m)',\n",
              "       'Vapour Height (m)', 'Vapour Temperature (K)', 'Liquid Temperature (K)',\n",
              "       'Obstacle Distance to BLEVE (m)', 'Obstacle Width (m)',\n",
              "       'Obstacle Height (m)', 'Obstacle Thickness (m)', 'Obstacle Angle',\n",
              "       'Status', 'Liquid Critical Pressure (bar)',\n",
              "       'Liquid Boiling Temperature (K)', 'Liquid Critical Temperature (K)',\n",
              "       'Sensor Position x', 'Sensor Position y', 'Sensor Position z',\n",
              "       'Sensor ID_1', 'Sensor ID_2', 'Sensor ID_3', 'Sensor ID_4',\n",
              "       'Sensor ID_5', 'Sensor ID_6', 'Sensor ID_7', 'Sensor ID_8',\n",
              "       'Sensor ID_9', 'Sensor ID_10', 'Sensor ID_11', 'Sensor ID_12',\n",
              "       'Sensor ID_13', 'Sensor ID_14', 'Sensor ID_15', 'Sensor ID_16',\n",
              "       'Sensor ID_17', 'Sensor ID_18', 'Sensor ID_19', 'Sensor ID_20',\n",
              "       'Sensor ID_21', 'Sensor ID_22', 'Sensor ID_23', 'Sensor ID_24',\n",
              "       'Sensor ID_25', 'Sensor ID_26', 'Sensor ID_27',\n",
              "       'Sensor Position Side_1', 'Sensor Position Side_2',\n",
              "       'Sensor Position Side_3', 'Sensor Position Side_4',\n",
              "       'Sensor Position Side_5'],\n",
              "      dtype='object')"
            ]
          },
          "metadata": {},
          "execution_count": 9
        }
      ]
    },
    {
      "cell_type": "code",
      "source": [
        "# drop duplicates\n",
        "print(len(df))\n",
        "df = df.drop_duplicates()\n",
        "print(len(df))"
      ],
      "metadata": {
        "id": "wZc0ozYI8ydF",
        "colab": {
          "base_uri": "https://localhost:8080/"
        },
        "outputId": "345b06e6-32b5-4ed3-8829-b713d70ed615"
      },
      "execution_count": 10,
      "outputs": [
        {
          "output_type": "stream",
          "name": "stdout",
          "text": [
            "10050\n",
            "10000\n"
          ]
        }
      ]
    },
    {
      "cell_type": "code",
      "source": [
        "# remove invalid entries\n",
        "def filter_range(df, c, ub, lb):\n",
        "  df_filtered = df[(df[c] >= lb) & (df[c] <= ub)]\n",
        "  n_filtered =  len(df) - len(df_filtered)\n",
        "  print(f'number of out-of-bounds [{c}] instances = {n_filtered}')\n",
        "  return df_filtered\n",
        "\n",
        "# rational metric upperbound for Kelvin/metres\n",
        "UB = 1_000\n",
        "\n",
        "filter_range_map = {\n",
        "  'Tank Failure Pressure (bar)': (0, np.inf),\n",
        "  'Liquid Ratio': (0, 1),\n",
        "  'Tank Width (m)': (0, UB),\n",
        "  'Tank Length (m)': (0, UB),\n",
        "  'Tank Height (m)': (0, UB),\n",
        "  'Vapour Height (m)': (0, UB),\n",
        "  'BLEVE Height (m)': (0, UB),\n",
        "  'Vapour Temperature (K)': (0, np.inf),\n",
        "  'Liquid Temperature (K)': (0, UB),\n",
        "  'Obstacle Distance to BLEVE (m)': (0, UB),\n",
        "  'Obstacle Width (m)': (0, UB),\n",
        "  'Obstacle Height (m)': (0, UB),\n",
        "  'Obstacle Thickness (m)': (0, UB),\n",
        "  'Obstacle Angle': (0, 30),\n",
        "  'Sensor Position x': (-UB, UB),\n",
        "  'Sensor Position y': (-UB, UB),\n",
        "  'Sensor Position z': (-UB, UB),\n",
        "  'Target Pressure (bar)': (0, np.inf),\n",
        "}\n",
        "\n",
        "df_interm = df.copy()\n",
        "for column, (lb, ub) in filter_range_map.items():\n",
        "  train_interm = filter_range(df_interm, column, ub, lb)"
      ],
      "metadata": {
        "colab": {
          "base_uri": "https://localhost:8080/"
        },
        "id": "5NZpeefV9N2X",
        "outputId": "43ebe4d6-ce90-4661-88aa-168f1f4c2729"
      },
      "execution_count": 11,
      "outputs": [
        {
          "output_type": "stream",
          "name": "stdout",
          "text": [
            "number of out-of-bounds [Tank Failure Pressure (bar)] instances = 0\n",
            "number of out-of-bounds [Liquid Ratio] instances = 0\n",
            "number of out-of-bounds [Tank Width (m)] instances = 0\n",
            "number of out-of-bounds [Tank Length (m)] instances = 0\n",
            "number of out-of-bounds [Tank Height (m)] instances = 0\n",
            "number of out-of-bounds [Vapour Height (m)] instances = 0\n",
            "number of out-of-bounds [BLEVE Height (m)] instances = 157\n",
            "number of out-of-bounds [Vapour Temperature (K)] instances = 0\n",
            "number of out-of-bounds [Liquid Temperature (K)] instances = 0\n",
            "number of out-of-bounds [Obstacle Distance to BLEVE (m)] instances = 0\n",
            "number of out-of-bounds [Obstacle Width (m)] instances = 0\n",
            "number of out-of-bounds [Obstacle Height (m)] instances = 0\n",
            "number of out-of-bounds [Obstacle Thickness (m)] instances = 0\n",
            "number of out-of-bounds [Obstacle Angle] instances = 0\n",
            "number of out-of-bounds [Sensor Position x] instances = 0\n",
            "number of out-of-bounds [Sensor Position y] instances = 0\n",
            "number of out-of-bounds [Sensor Position z] instances = 0\n",
            "number of out-of-bounds [Target Pressure (bar)] instances = 0\n"
          ]
        }
      ]
    },
    {
      "cell_type": "code",
      "source": [
        "plt.hist(df['BLEVE Height (m)'], bins=500)\n",
        "plt.xlim(-0.05, 0.3)"
      ],
      "metadata": {
        "colab": {
          "base_uri": "https://localhost:8080/",
          "height": 448
        },
        "id": "jTytgSnM9d2E",
        "outputId": "3f287222-c739-4b0e-a982-9cc2ecfdcead"
      },
      "execution_count": 12,
      "outputs": [
        {
          "output_type": "execute_result",
          "data": {
            "text/plain": [
              "(-0.05, 0.3)"
            ]
          },
          "metadata": {},
          "execution_count": 12
        },
        {
          "output_type": "display_data",
          "data": {
            "text/plain": [
              "<Figure size 640x480 with 1 Axes>"
            ],
            "image/png": "[encoded data removed]"
          },
          "metadata": {}
        }
      ]
    },
    {
      "cell_type": "code",
      "source": [
        "# some BLEVE Height (m) measurements were negative, so I'll just round them up\n",
        "df['BLEVE Height (m)'] = df['BLEVE Height (m)'].map(lambda x: max(x, 0))"
      ],
      "metadata": {
        "id": "ToKFFJVF9duI"
      },
      "execution_count": 13,
      "outputs": []
    },
    {
      "cell_type": "code",
      "source": [
        "# Feature Engineering:\n",
        "for data in (df, test_df):\n",
        "\n",
        "  # Dimension Ratio's\n",
        "  data['Tank width/length Ratio'] = data['Tank Width (m)'] / data['Tank Length (m)']\n",
        "  data['Tank width/height Ratio'] =  data['Tank Width (m)'] / data['Tank Height (m)']\n",
        "\n",
        "  # precise distance to sensor\n",
        "  sensor_offsets = np.sqrt(data['Sensor Position x']**2 + data['Sensor Position y']**2 + data['Sensor Position z']**2)\n",
        "  data['Sensor-Obstacle Distance'] = data['Obstacle Distance to BLEVE (m)'] + sensor_offsets"
      ],
      "metadata": {
        "id": "oc32bB53-K4j"
      },
      "execution_count": 14,
      "outputs": []
    },
    {
      "cell_type": "markdown",
      "source": [
        "## Feature Selection"
      ],
      "metadata": {
        "id": "HHl9-dzsSgs_"
      }
    },
    {
      "cell_type": "markdown",
      "source": [
        "Feature Selection done with permutation importance using XGBoost"
      ],
      "metadata": {
        "id": "cQ3Y-WO_J9qJ"
      }
    },
    {
      "cell_type": "code",
      "source": [
        "from sklearn.datasets import load_diabetes\n",
        "from sklearn.model_selection import train_test_split\n",
        "import xgboost as xgb\n",
        "from sklearn.inspection import permutation_importance\n",
        "\n",
        "X, y = df.drop('Target Pressure (bar)', axis=1), df['Target Pressure (bar)']\n",
        "X_train, X_val, y_train, y_val = train_test_split(X, y , test_size=0.2)\n",
        "\n",
        "model = xgb.XGBRegressor().fit(X_train, y_train)\n",
        "model.score(X_val, y_val)\n",
        "\n",
        "r = permutation_importance(model, X_val, y_val,\n",
        "                           n_repeats=50,\n",
        "                           random_state=0)"
      ],
      "metadata": {
        "id": "qYjV3o_YHpru"
      },
      "execution_count": 37,
      "outputs": []
    },
    {
      "cell_type": "code",
      "source": [
        "importance_df = pd.DataFrame({\n",
        "    'Feature': X.columns,\n",
        "    'mean': [np.mean(r.importances[i]) for i in range(len(X.columns))],\n",
        "    'dist': [r.importances[i] for i in range(len(X.columns))],\n",
        "}).sort_values(by='mean')\n",
        "\n",
        "plt.figure(figsize=(10, 9))\n",
        "\n",
        "plt.boxplot(importance_df['dist'].values, vert=False, patch_artist=True, widths=0.7)\n",
        "\n",
        "plt.yticks(range(1, len(importance_df) + 1), importance_df['Feature'])\n",
        "plt.title('Permutation Importance')\n",
        "\n",
        "plt.show()"
      ],
      "metadata": {
        "colab": {
          "base_uri": "https://localhost:8080/",
          "height": 776
        },
        "id": "nkTtVg6ZKqKF",
        "outputId": "84b6b758-a14c-49cf-9122-ea6076aa109a"
      },
      "execution_count": 38,
      "outputs": [
        {
          "output_type": "display_data",
          "data": {
            "text/plain": [
              "<Figure size 1000x900 with 1 Axes>"
            ],
            "image/png": "[encoded data removed]"
          },
          "metadata": {}
        }
      ]
    },
    {
      "cell_type": "code",
      "source": [
        "# Remove bottom 3 features\n",
        "def permutation_filter(df, remove_features):\n",
        "  cols_ordered = list(importance_df['Feature'])\n",
        "  if 'Unnamed: 0' in df.columns: cols_ordered.remove('Unnamed: 0')\n",
        "  cols = list(cols_ordered[remove_features:])\n",
        "  return df[cols]"
      ],
      "metadata": {
        "id": "mKcVXgDYLtn8"
      },
      "execution_count": 39,
      "outputs": []
    },
    {
      "cell_type": "markdown",
      "source": [
        "alternatively, I consider using PCA for 20 components"
      ],
      "metadata": {
        "id": "ABoo8FhcOcuO"
      }
    },
    {
      "cell_type": "code",
      "source": [
        "from sklearn.decomposition import PCA\n",
        "from sklearn.preprocessing import StandardScaler\n",
        "\n",
        "X, y = df.drop('Target Pressure (bar)', axis=1), df['Target Pressure (bar)']\n",
        "scaler = StandardScaler()\n",
        "\n",
        "pca = PCA(n_components=20)\n",
        "X_scaled = scaler.fit_transform(X)\n",
        "X_pca = pca.fit_transform(X_scaled)\n",
        "\n",
        "plt.figure(figsize=(8, 6))\n",
        "plt.bar(range(1, len(pca.explained_variance_ratio_) + 1), pca.explained_variance_ratio_)\n",
        "plt.title('Explained Variance by Principal Components')\n",
        "plt.show()"
      ],
      "metadata": {
        "colab": {
          "base_uri": "https://localhost:8080/",
          "height": 545
        },
        "id": "n8Ug3vqnNtly",
        "outputId": "b0c73f32-860f-4b5f-fced-631774a50973"
      },
      "execution_count": 40,
      "outputs": [
        {
          "output_type": "display_data",
          "data": {
            "text/plain": [
              "<Figure size 800x600 with 1 Axes>"
            ],
            "image/png": "[encoded data removed]"
          },
          "metadata": {}
        }
      ]
    },
    {
      "cell_type": "markdown",
      "source": [
        "## Model Developement"
      ],
      "metadata": {
        "id": "lJwRHXhJKchb"
      }
    },
    {
      "cell_type": "code",
      "source": [
        "from sklearn.model_selection import train_test_split\n",
        "import xgboost as xgb\n",
        "from sklearn.metrics import r2_score, mean_absolute_percentage_error\n",
        "from sklearn.ensemble import RandomForestRegressor\n",
        "from sklearn.svm import SVR\n",
        "from sklearn.linear_model import LinearRegression\n",
        "from sklearn.model_selection import cross_validate\n",
        "from sklearn.metrics import recall_score, make_scorer\n",
        "from sklearn.preprocessing import StandardScaler\n",
        "from sklearn.pipeline import Pipeline\n",
        "\n",
        "df = df.drop('Unnamed: 0', axis=1, errors='ignore')\n",
        "X, y =  df.drop('Target Pressure (bar)', axis=1), df['Target Pressure (bar)']\n",
        "\n",
        "# dataset based on permutation importance selection\n",
        "X_pfi = permutation_filter(X, remove_features=3)\n",
        "\n",
        "# dataset based on PCA features\n",
        "pca = PCA(n_components=17)\n",
        "X_scaled = scaler.fit_transform(X)\n",
        "X_pca = pca.fit_transform(X_scaled)\n",
        "\n",
        "# CV evulations for R2 and MAPE\n",
        "def evaluate_cv(model, X, y, cv=4):\n",
        "  r2_scores = cross_validate(model, X, y, cv=cv, scoring='r2')['test_score']\n",
        "  mape_scorer = make_scorer(mean_absolute_percentage_error, greater_is_better=False)\n",
        "  mape_scores = cross_validate(model, X, y, cv=cv, scoring=mape_scorer)['test_score']\n",
        "  return {\n",
        "      \"R2_mean\": np.mean(r2_scores),\n",
        "      \"R2_std\": np.std(r2_scores),\n",
        "      \"MAPE_mean\": -np.mean(mape_scores),\n",
        "      \"MAPE_std\": np.std(mape_scores),\n",
        "  }\n"
      ],
      "metadata": {
        "id": "UmRjq_chIj0H",
        "collapsed": true
      },
      "execution_count": 42,
      "outputs": []
    },
    {
      "cell_type": "markdown",
      "source": [
        "#### Model Selection"
      ],
      "metadata": {
        "id": "EKwws7NNLRq5"
      }
    },
    {
      "cell_type": "code",
      "source": [
        "scores = []\n",
        "\n",
        "for X, dataset in ((X_pfi, 'Permutation importance'),\n",
        "                   (X_pca, 'PCA')):\n",
        "\n",
        "  for (model, name) in ((xgb.XGBRegressor(), 'XGboost'),\n",
        "                        (RandomForestRegressor(), 'RF'),\n",
        "                        (SVR(), 'SVM'),\n",
        "                        (LinearRegression(), 'LR')):\n",
        "\n",
        "    pipe = Pipeline([('scaler', StandardScaler()), (name, model)])\n",
        "    m = evaluate_cv(model=pipe, X=X, y=y, cv=5)\n",
        "    scores.append((dataset + ' & ' + name, m))\n",
        "\n",
        "scores"
      ],
      "metadata": {
        "id": "TkCiTuQlBj2D",
        "colab": {
          "base_uri": "https://localhost:8080/"
        },
        "outputId": "90b1075f-6c4d-4c4b-bfb0-ca2dba9526c3"
      },
      "execution_count": 43,
      "outputs": [
        {
          "output_type": "execute_result",
          "data": {
            "text/plain": [
              "[('Permutation importance & XGboost',\n",
              "  {'R2_mean': np.float64(0.6469000027383152),\n",
              "   'R2_std': np.float64(0.043936677316926805),\n",
              "   'MAPE_mean': np.float64(0.4300917089016334),\n",
              "   'MAPE_std': np.float64(0.022416181044167864)}),\n",
              " ('Permutation importance & RF',\n",
              "  {'R2_mean': np.float64(0.6333400276146958),\n",
              "   'R2_std': np.float64(0.04618870911187238),\n",
              "   'MAPE_mean': np.float64(0.4216584577982389),\n",
              "   'MAPE_std': np.float64(0.01971288608154072)}),\n",
              " ('Permutation importance & SVM',\n",
              "  {'R2_mean': np.float64(0.6837272378332664),\n",
              "   'R2_std': np.float64(0.07059796037531495),\n",
              "   'MAPE_mean': np.float64(0.5166130618873459),\n",
              "   'MAPE_std': np.float64(0.046694603499032275)}),\n",
              " ('Permutation importance & LR',\n",
              "  {'R2_mean': np.float64(0.593296128548886),\n",
              "   'R2_std': np.float64(0.03152547314524772),\n",
              "   'MAPE_mean': np.float64(0.7524204063440971),\n",
              "   'MAPE_std': np.float64(0.05778899573152956)}),\n",
              " ('PCA & XGboost',\n",
              "  {'R2_mean': np.float64(0.5123325466922827),\n",
              "   'R2_std': np.float64(0.020535223200400365),\n",
              "   'MAPE_mean': np.float64(0.5432809193063577),\n",
              "   'MAPE_std': np.float64(0.02294626035973117)}),\n",
              " ('PCA & RF',\n",
              "  {'R2_mean': np.float64(0.5379577429291051),\n",
              "   'R2_std': np.float64(0.008635704272948484),\n",
              "   'MAPE_mean': np.float64(0.5275257966520636),\n",
              "   'MAPE_std': np.float64(0.030209977746816195)}),\n",
              " ('PCA & SVM',\n",
              "  {'R2_mean': np.float64(0.5269854588658895),\n",
              "   'R2_std': np.float64(0.05711172709338435),\n",
              "   'MAPE_mean': np.float64(0.6356905490982043),\n",
              "   'MAPE_std': np.float64(0.04268864078764362)}),\n",
              " ('PCA & LR',\n",
              "  {'R2_mean': np.float64(0.4910640713103437),\n",
              "   'R2_std': np.float64(0.029459353106924265),\n",
              "   'MAPE_mean': np.float64(0.771729716168877),\n",
              "   'MAPE_std': np.float64(0.02681296009200779)})]"
            ]
          },
          "metadata": {},
          "execution_count": 43
        }
      ]
    },
    {
      "cell_type": "code",
      "source": [
        "for metric in ('MAPE', 'R2'):\n",
        "  fig, ax = plt.subplots(figsize=(10, 3))\n",
        "  for name, scores_dict in scores:\n",
        "    if not name.startswith('PCA'):\n",
        "      name = 'PFI'  + name[len('Permutation Importance'):]\n",
        "\n",
        "    plt.title(metric + ' (validation)')\n",
        "    c = 'green' if name.startswith('PCA') else 'blue'\n",
        "    plt.bar(name, scores_dict[f'{metric}_mean'], yerr=scores_dict[f'{metric}_std'], color=c)\n",
        "\n",
        "  plt.show()\n"
      ],
      "metadata": {
        "colab": {
          "base_uri": "https://localhost:8080/",
          "height": 611
        },
        "id": "IEZM6SvYuwQ_",
        "outputId": "5ebb4390-6d71-4f9f-f3e9-3e94c1e4407f"
      },
      "execution_count": 55,
      "outputs": [
        {
          "output_type": "display_data",
          "data": {
            "text/plain": [
              "<Figure size 1000x300 with 1 Axes>"
            ],
            "image/png": "[encoded data removed]"
          },
          "metadata": {}
        },
        {
          "output_type": "display_data",
          "data": {
            "text/plain": [
              "<Figure size 1000x300 with 1 Axes>"
            ],
            "image/png": "[encoded data removed]"
          },
          "metadata": {}
        }
      ]
    },
    {
      "cell_type": "markdown",
      "source": [
        "* Permutation importance did better than PCA\n",
        "* SVM & LR underperformed\n",
        "* All methods overfit significantly"
      ],
      "metadata": {
        "id": "UQ2ZGE_VXtIz"
      }
    },
    {
      "cell_type": "markdown",
      "source": [
        "*MLP* performed best without tuning"
      ],
      "metadata": {
        "id": "JrH2FDXV2JSv"
      }
    },
    {
      "cell_type": "markdown",
      "source": [
        "### XGBoost"
      ],
      "metadata": {
        "id": "f8o8GB-m18cw"
      }
    },
    {
      "cell_type": "code",
      "source": [
        "!pip install optuna cmaes"
      ],
      "metadata": {
        "id": "7-gBT6LzXpcM",
        "colab": {
          "base_uri": "https://localhost:8080/"
        },
        "outputId": "9bbc48e7-9dc9-43e2-83db-571bb01b2b30"
      },
      "execution_count": 31,
      "outputs": [
        {
          "output_type": "stream",
          "name": "stdout",
          "text": [
            "Requirement already satisfied: optuna in /usr/local/lib/python3.11/dist-packages (4.3.0)\n",
            "Collecting cmaes\n",
            "  Downloading cmaes-0.11.1-py3-none-any.whl.metadata (18 kB)\n",
            "Requirement already satisfied: alembic>=1.5.0 in /usr/local/lib/python3.11/dist-packages (from optuna) (1.15.2)\n",
            "Requirement already satisfied: colorlog in /usr/local/lib/python3.11/dist-packages (from optuna) (6.9.0)\n",
            "Requirement already satisfied: numpy in /usr/local/lib/python3.11/dist-packages (from optuna) (2.2.5)\n",
            "Requirement already satisfied: packaging>=20.0 in /usr/local/lib/python3.11/dist-packages (from optuna) (24.2)\n",
            "Requirement already satisfied: sqlalchemy>=1.4.2 in /usr/local/lib/python3.11/dist-packages (from optuna) (2.0.40)\n",
            "Requirement already satisfied: tqdm in /usr/local/lib/python3.11/dist-packages (from optuna) (4.67.1)\n",
            "Requirement already satisfied: PyYAML in /usr/local/lib/python3.11/dist-packages (from optuna) (6.0.2)\n",
            "Requirement already satisfied: Mako in /usr/lib/python3/dist-packages (from alembic>=1.5.0->optuna) (1.1.3)\n",
            "Requirement already satisfied: typing-extensions>=4.12 in /usr/local/lib/python3.11/dist-packages (from alembic>=1.5.0->optuna) (4.13.2)\n",
            "Requirement already satisfied: greenlet>=1 in /usr/local/lib/python3.11/dist-packages (from sqlalchemy>=1.4.2->optuna) (3.2.1)\n",
            "Downloading cmaes-0.11.1-py3-none-any.whl (35 kB)\n",
            "Installing collected packages: cmaes\n",
            "Successfully installed cmaes-0.11.1\n"
          ]
        }
      ]
    },
    {
      "cell_type": "code",
      "source": [
        "import optuna\n",
        "import cmaes\n",
        "import xgboost as xgb\n",
        "from sklearn.model_selection import cross_val_score\n",
        "from sklearn.metrics import mean_absolute_percentage_error, make_scorer\n",
        "\n",
        "df = df.drop('Unnamed: 0', axis=1, errors='ignore')\n",
        "X, y =  df.drop('Target Pressure (bar)', axis=1), df['Target Pressure (bar)']\n",
        "mape_scorer = make_scorer(mean_absolute_percentage_error, greater_is_better=False)\n",
        "X_train, X_val, y_train, y_val = train_test_split(\n",
        "        X, y, test_size=0.2, random_state=0)\n",
        "\n",
        "\n",
        "def objective(trial):\n",
        "  params = {\n",
        "      \"verbosity\": 0,\n",
        "      \"objective\": \"reg:squarederror\",\n",
        "      \"eval_metric\": \"rmse\",\n",
        "      \"booster\": \"gbtree\",\n",
        "      \"max_depth\": trial.suggest_int(\"max_depth\", 3, 10),\n",
        "      \"learning_rate\": trial.suggest_float(\"learning_rate\", 0.001, 0.5, log=True),\n",
        "      \"subsample\": trial.suggest_float(\"subsample\", 0.5, 1.0),\n",
        "      \"colsample_bytree\": trial.suggest_float(\"colsample_bytree\", 0.5, 1.0),\n",
        "      \"gamma\": trial.suggest_float(\"gamma\", 0, 5),\n",
        "      \"lambda\": trial.suggest_float(\"lambda\", 1e-3, 10.0, log=True),\n",
        "      \"alpha\": trial.suggest_float(\"alpha\", 1e-3, 10.0, log=True),\n",
        "      \"n_estimators\": trial.suggest_int(\"n_estimators\", 100, 2000),\n",
        "  }\n",
        "\n",
        "  model = xgb.XGBRegressor(**params)\n",
        "  # scores = cross_val_score(model, X, y, cv=4, scoring=mape_scorer)\n",
        "  model.fit(X_train, y_train)\n",
        "  score =  mean_absolute_percentage_error(model.predict(X_val), y_val)\n",
        "  return score\n",
        "\n",
        "cmaes_sampler = optuna.samplers.CmaEsSampler()\n",
        "study = optuna.create_study(direction=\"minimize\", sampler=cmaes_sampler)\n",
        "study.optimize(objective, n_trials=100)\n",
        "\n",
        "print(\"Best hyperparameters:\", study.best_params)\n",
        "print(study.best_trial)"
      ],
      "metadata": {
        "id": "n-t_NrDMXX0e",
        "colab": {
          "base_uri": "https://localhost:8080/"
        },
        "outputId": "936aabce-5fc7-4e45-a9e7-620211992d8b"
      },
      "execution_count": 57,
      "outputs": [
        {
          "output_type": "stream",
          "name": "stderr",
          "text": [
            "[I 2025-04-29 12:54:31,825] A new study created in memory with name: no-name-53e3adaa-e00e-46f7-908a-45f770926675\n",
            "[I 2025-04-29 12:54:38,636] Trial 0 finished with value: 0.3162909645858352 and parameters: {'max_depth': 10, 'learning_rate': 0.010133699900638159, 'subsample': 0.8432488040298143, 'colsample_bytree': 0.6628320682371436, 'gamma': 2.194196344748127, 'lambda': 0.8406024975786448, 'alpha': 0.07284456854867025, 'n_estimators': 1797}. Best is trial 0 with value: 0.3162909645858352.\n",
            "[I 2025-04-29 12:54:40,476] Trial 1 finished with value: 0.30233847526922225 and parameters: {'max_depth': 8, 'learning_rate': 0.0817002373493146, 'subsample': 0.8070303510503241, 'colsample_bytree': 0.6794547415764386, 'gamma': 1.7837061462665404, 'lambda': 0.12205112155896572, 'alpha': 0.15059688803325175, 'n_estimators': 1167}. Best is trial 1 with value: 0.30233847526922225.\n",
            "[I 2025-04-29 12:54:41,243] Trial 2 finished with value: 0.3196724295562469 and parameters: {'max_depth': 5, 'learning_rate': 0.025286184133119994, 'subsample': 0.7372891988787058, 'colsample_bytree': 0.6636446433754137, 'gamma': 2.2284715700557673, 'lambda': 0.28505916380890545, 'alpha': 0.061928855938398544, 'n_estimators': 624}. Best is trial 1 with value: 0.30233847526922225.\n",
            "[I 2025-04-29 12:54:42,041] Trial 3 finished with value: 0.29934996478573467 and parameters: {'max_depth': 6, 'learning_rate': 0.0736007461559926, 'subsample': 0.6612993992252433, 'colsample_bytree': 0.6564248573152908, 'gamma': 1.554199799135819, 'lambda': 1.2423732846551856, 'alpha': 0.010772468432571918, 'n_estimators': 566}. Best is trial 3 with value: 0.29934996478573467.\n",
            "[I 2025-04-29 12:54:44,847] Trial 4 finished with value: 0.34395638301516707 and parameters: {'max_depth': 8, 'learning_rate': 0.01697789538342455, 'subsample': 0.6672342096826577, 'colsample_bytree': 0.7918456129329936, 'gamma': 2.8518708103841686, 'lambda': 0.025526241210144296, 'alpha': 0.04579922581906996, 'n_estimators': 920}. Best is trial 3 with value: 0.29934996478573467.\n",
            "[I 2025-04-29 12:54:46,596] Trial 5 finished with value: 0.3160583129364105 and parameters: {'max_depth': 5, 'learning_rate': 0.005763741419339937, 'subsample': 0.629634869209961, 'colsample_bytree': 0.7712269013050302, 'gamma': 1.6153851329308497, 'lambda': 0.010566127965745416, 'alpha': 0.059407740288144405, 'n_estimators': 794}. Best is trial 3 with value: 0.29934996478573467.\n",
            "[I 2025-04-29 12:54:47,831] Trial 6 finished with value: 0.32239721680671485 and parameters: {'max_depth': 7, 'learning_rate': 0.017242556746913548, 'subsample': 0.7580669088211018, 'colsample_bytree': 0.7801249232921039, 'gamma': 2.207560711732556, 'lambda': 0.04424986210483814, 'alpha': 0.07344835077036888, 'n_estimators': 1021}. Best is trial 3 with value: 0.29934996478573467.\n",
            "[I 2025-04-29 12:54:48,512] Trial 7 finished with value: 0.33306714131076753 and parameters: {'max_depth': 4, 'learning_rate': 0.04403923886794265, 'subsample': 0.740358414980494, 'colsample_bytree': 0.6798020115559488, 'gamma': 2.7475086844954735, 'lambda': 0.13267199056833115, 'alpha': 0.7065992936991448, 'n_estimators': 634}. Best is trial 3 with value: 0.29934996478573467.\n",
            "[I 2025-04-29 12:54:50,117] Trial 8 finished with value: 0.3178552015910209 and parameters: {'max_depth': 8, 'learning_rate': 0.013787481061061832, 'subsample': 0.8168970540843024, 'colsample_bytree': 0.7602897458512934, 'gamma': 2.1499197641940127, 'lambda': 0.053028945290577355, 'alpha': 0.03696857553585076, 'n_estimators': 1351}. Best is trial 3 with value: 0.29934996478573467.\n",
            "[I 2025-04-29 12:54:51,192] Trial 9 finished with value: 0.35410652782778174 and parameters: {'max_depth': 6, 'learning_rate': 0.019256914370401414, 'subsample': 0.6118162201286518, 'colsample_bytree': 0.7192996921709619, 'gamma': 3.1983564867249004, 'lambda': 0.05776477622336578, 'alpha': 0.45389127187683787, 'n_estimators': 972}. Best is trial 3 with value: 0.29934996478573467.\n",
            "[I 2025-04-29 12:54:52,016] Trial 10 finished with value: 0.3511490039126411 and parameters: {'max_depth': 8, 'learning_rate': 0.03153803008298341, 'subsample': 0.7401884650422408, 'colsample_bytree': 0.8108947696632118, 'gamma': 3.3947292274617076, 'lambda': 0.38253657363452076, 'alpha': 0.3877018349634201, 'n_estimators': 738}. Best is trial 3 with value: 0.29934996478573467.\n",
            "[I 2025-04-29 12:54:53,908] Trial 11 finished with value: 0.42602378950874376 and parameters: {'max_depth': 7, 'learning_rate': 0.0028057505701560644, 'subsample': 0.6495355381277574, 'colsample_bytree': 0.8401764542250459, 'gamma': 3.3966587465627796, 'lambda': 0.037415271825333024, 'alpha': 0.42803477925109057, 'n_estimators': 646}. Best is trial 3 with value: 0.29934996478573467.\n",
            "[I 2025-04-29 12:54:57,921] Trial 12 finished with value: 0.31590077460548494 and parameters: {'max_depth': 8, 'learning_rate': 0.0058180135657989115, 'subsample': 0.6315435750090661, 'colsample_bytree': 0.7283140437028137, 'gamma': 0.8146154587485122, 'lambda': 0.6510081000075457, 'alpha': 0.037462478874921275, 'n_estimators': 498}. Best is trial 3 with value: 0.29934996478573467.\n",
            "[I 2025-04-29 12:54:58,508] Trial 13 finished with value: 0.32719518624960847 and parameters: {'max_depth': 6, 'learning_rate': 0.07787639029314304, 'subsample': 0.6112263999280209, 'colsample_bytree': 0.7904886698284492, 'gamma': 2.294511285343858, 'lambda': 0.9558159451149112, 'alpha': 0.10174921625811517, 'n_estimators': 550}. Best is trial 3 with value: 0.29934996478573467.\n",
            "[I 2025-04-29 12:54:59,347] Trial 14 finished with value: 0.30363858509929825 and parameters: {'max_depth': 5, 'learning_rate': 0.07564672576449188, 'subsample': 0.5885935577974953, 'colsample_bytree': 0.7071258256674503, 'gamma': 1.736455996981265, 'lambda': 0.05279318263665647, 'alpha': 0.007190774359600818, 'n_estimators': 847}. Best is trial 3 with value: 0.29934996478573467.\n",
            "[I 2025-04-29 12:55:00,368] Trial 15 finished with value: 0.2956378771586324 and parameters: {'max_depth': 3, 'learning_rate': 0.023991270569215597, 'subsample': 0.6961078312476942, 'colsample_bytree': 0.6580193947266287, 'gamma': 1.5402046891262289, 'lambda': 0.043499893746073576, 'alpha': 0.027589607455715134, 'n_estimators': 973}. Best is trial 15 with value: 0.2956378771586324.\n",
            "[I 2025-04-29 12:55:02,301] Trial 16 finished with value: 0.30447941655002264 and parameters: {'max_depth': 8, 'learning_rate': 0.006267773878395908, 'subsample': 0.7391250954519478, 'colsample_bytree': 0.6129626397750906, 'gamma': 1.6276342127642363, 'lambda': 1.3825846798742714, 'alpha': 0.019240407369652882, 'n_estimators': 1058}. Best is trial 15 with value: 0.2956378771586324.\n",
            "[I 2025-04-29 12:55:02,928] Trial 17 finished with value: 0.3124507246154925 and parameters: {'max_depth': 7, 'learning_rate': 0.016644796084960927, 'subsample': 0.6299244463759164, 'colsample_bytree': 0.5793279097583799, 'gamma': 1.6159865012265513, 'lambda': 0.6684119227309107, 'alpha': 0.006799592062916944, 'n_estimators': 292}. Best is trial 15 with value: 0.2956378771586324.\n",
            "[I 2025-04-29 12:55:03,799] Trial 18 finished with value: 0.2909726345472614 and parameters: {'max_depth': 9, 'learning_rate': 0.04158225722513136, 'subsample': 0.6695478251774254, 'colsample_bytree': 0.5155946939503172, 'gamma': 1.491273222408438, 'lambda': 0.1764664829389898, 'alpha': 0.030001716477961606, 'n_estimators': 824}. Best is trial 18 with value: 0.2909726345472614.\n",
            "[I 2025-04-29 12:55:05,078] Trial 19 finished with value: 0.2958103981439057 and parameters: {'max_depth': 5, 'learning_rate': 0.04506879726990617, 'subsample': 0.6700314674203154, 'colsample_bytree': 0.6669866508773186, 'gamma': 1.6924044432293663, 'lambda': 0.17698071332763674, 'alpha': 0.027390391082580248, 'n_estimators': 1190}. Best is trial 18 with value: 0.2909726345472614.\n",
            "[I 2025-04-29 12:55:06,312] Trial 20 finished with value: 0.3214142701941986 and parameters: {'max_depth': 5, 'learning_rate': 0.03435563631000062, 'subsample': 0.773651326236277, 'colsample_bytree': 0.6339329502119895, 'gamma': 2.431059198882645, 'lambda': 0.121382330753013, 'alpha': 0.47999695699164874, 'n_estimators': 1290}. Best is trial 18 with value: 0.2909726345472614.\n",
            "[I 2025-04-29 12:55:10,022] Trial 21 finished with value: 0.222496157153349 and parameters: {'max_depth': 6, 'learning_rate': 0.01588309824746316, 'subsample': 0.5981175767678348, 'colsample_bytree': 0.5620762213803108, 'gamma': 0.08087025248359775, 'lambda': 0.015733044342377992, 'alpha': 0.10673826871196718, 'n_estimators': 570}. Best is trial 21 with value: 0.222496157153349.\n",
            "[I 2025-04-29 12:55:10,440] Trial 22 finished with value: 0.3152597539868402 and parameters: {'max_depth': 4, 'learning_rate': 0.19159807959236544, 'subsample': 0.7378736035895292, 'colsample_bytree': 0.6890788770407712, 'gamma': 2.45106043510323, 'lambda': 0.8098463227598253, 'alpha': 0.0283653114145408, 'n_estimators': 416}. Best is trial 21 with value: 0.222496157153349.\n",
            "[I 2025-04-29 12:55:11,280] Trial 23 finished with value: 0.31869065389058016 and parameters: {'max_depth': 8, 'learning_rate': 0.025260213658275563, 'subsample': 0.884162219951235, 'colsample_bytree': 0.5836984515837949, 'gamma': 2.3663591353193816, 'lambda': 0.9833098333435458, 'alpha': 0.1491431182393646, 'n_estimators': 738}. Best is trial 21 with value: 0.222496157153349.\n",
            "[I 2025-04-29 12:55:12,436] Trial 24 finished with value: 0.3021947750714302 and parameters: {'max_depth': 5, 'learning_rate': 0.05341130274620135, 'subsample': 0.7592117258986486, 'colsample_bytree': 0.7056564233525398, 'gamma': 1.8438636860140025, 'lambda': 0.24106547953772445, 'alpha': 0.0038642748262186846, 'n_estimators': 1274}. Best is trial 21 with value: 0.222496157153349.\n",
            "[I 2025-04-29 12:55:13,351] Trial 25 finished with value: 0.29561630078795986 and parameters: {'max_depth': 8, 'learning_rate': 0.026469300611356796, 'subsample': 0.5888665431200593, 'colsample_bytree': 0.6197613878798816, 'gamma': 1.34676782167265, 'lambda': 0.1225136301652152, 'alpha': 0.030215069072727627, 'n_estimators': 685}. Best is trial 21 with value: 0.222496157153349.\n",
            "[I 2025-04-29 12:55:13,865] Trial 26 finished with value: 0.30783583877775195 and parameters: {'max_depth': 8, 'learning_rate': 0.07178198700640079, 'subsample': 0.5825658493132991, 'colsample_bytree': 0.5990156482687442, 'gamma': 1.658634757883738, 'lambda': 1.3738349725769046, 'alpha': 0.0818237628562894, 'n_estimators': 331}. Best is trial 21 with value: 0.222496157153349.\n",
            "[I 2025-04-29 12:55:15,098] Trial 27 finished with value: 0.34134828816387175 and parameters: {'max_depth': 5, 'learning_rate': 0.030017268703582952, 'subsample': 0.6688439086435577, 'colsample_bytree': 0.569125917921975, 'gamma': 3.107826988262461, 'lambda': 0.18345293827985382, 'alpha': 0.03705325401921711, 'n_estimators': 1319}. Best is trial 21 with value: 0.222496157153349.\n",
            "[I 2025-04-29 12:55:16,347] Trial 28 finished with value: 0.29532871789601767 and parameters: {'max_depth': 9, 'learning_rate': 0.09711896103361145, 'subsample': 0.7477866312988953, 'colsample_bytree': 0.5588567830084802, 'gamma': 1.566056287203839, 'lambda': 0.23514669678084216, 'alpha': 0.1377645129602454, 'n_estimators': 1383}. Best is trial 21 with value: 0.222496157153349.\n",
            "[I 2025-04-29 12:55:17,514] Trial 29 finished with value: 0.3227294575055203 and parameters: {'max_depth': 5, 'learning_rate': 0.04493972055492231, 'subsample': 0.8525249928799985, 'colsample_bytree': 0.5771853823891545, 'gamma': 2.5216120888926374, 'lambda': 0.3915410200896685, 'alpha': 0.0039018180087510863, 'n_estimators': 1308}. Best is trial 21 with value: 0.222496157153349.\n",
            "[I 2025-04-29 12:55:20,098] Trial 30 finished with value: 0.32188560918099735 and parameters: {'max_depth': 7, 'learning_rate': 0.0051356579202079386, 'subsample': 0.6727753586075826, 'colsample_bytree': 0.5452395342263306, 'gamma': 2.136936804168566, 'lambda': 0.04696051889737532, 'alpha': 0.06831883441268112, 'n_estimators': 1430}. Best is trial 21 with value: 0.222496157153349.\n",
            "[I 2025-04-29 12:55:22,309] Trial 31 finished with value: 0.28539970632998285 and parameters: {'max_depth': 6, 'learning_rate': 0.12423739967531944, 'subsample': 0.7345341719816741, 'colsample_bytree': 0.6590121712001693, 'gamma': 1.333716724404705, 'lambda': 0.05065159189004112, 'alpha': 0.029219967228995346, 'n_estimators': 795}. Best is trial 21 with value: 0.222496157153349.\n",
            "[I 2025-04-29 12:55:23,727] Trial 32 finished with value: 0.2228742492911793 and parameters: {'max_depth': 7, 'learning_rate': 0.039595389000051794, 'subsample': 0.6802815029997777, 'colsample_bytree': 0.607331623240773, 'gamma': 0.30936271204657617, 'lambda': 0.03461336825041753, 'alpha': 0.07281249165338699, 'n_estimators': 1188}. Best is trial 21 with value: 0.222496157153349.\n",
            "[I 2025-04-29 12:55:24,963] Trial 33 finished with value: 0.2971560907732895 and parameters: {'max_depth': 7, 'learning_rate': 0.009945354588948305, 'subsample': 0.6200757393934255, 'colsample_bytree': 0.668249309864196, 'gamma': 0.722167119261812, 'lambda': 0.5123218073315213, 'alpha': 0.08475078782317787, 'n_estimators': 345}. Best is trial 21 with value: 0.222496157153349.\n",
            "[I 2025-04-29 12:55:26,347] Trial 34 finished with value: 0.24193452336941645 and parameters: {'max_depth': 6, 'learning_rate': 0.08996049425680257, 'subsample': 0.6501055865384422, 'colsample_bytree': 0.6358817918149156, 'gamma': 0.3350405815827196, 'lambda': 0.20089429256673727, 'alpha': 0.7564621316447384, 'n_estimators': 1442}. Best is trial 21 with value: 0.222496157153349.\n",
            "[I 2025-04-29 12:55:27,916] Trial 35 finished with value: 0.3156932591333548 and parameters: {'max_depth': 6, 'learning_rate': 0.007610520119428323, 'subsample': 0.6197319814907707, 'colsample_bytree': 0.5153528307588375, 'gamma': 1.9155945238217844, 'lambda': 0.011612094772489354, 'alpha': 0.10046130127089739, 'n_estimators': 1123}. Best is trial 21 with value: 0.222496157153349.\n",
            "[I 2025-04-29 12:55:28,796] Trial 36 finished with value: 0.27961964845021453 and parameters: {'max_depth': 6, 'learning_rate': 0.01777066935901292, 'subsample': 0.678686158460551, 'colsample_bytree': 0.564510649056102, 'gamma': 1.1442119433567999, 'lambda': 0.010006673068970762, 'alpha': 0.004238008457566398, 'n_estimators': 517}. Best is trial 21 with value: 0.222496157153349.\n",
            "[I 2025-04-29 12:55:31,200] Trial 37 finished with value: 0.38526542375411027 and parameters: {'max_depth': 6, 'learning_rate': 0.0023104324831430528, 'subsample': 0.619415336387857, 'colsample_bytree': 0.6116333936334153, 'gamma': 2.3093764723151544, 'lambda': 0.5245055047497008, 'alpha': 0.014051313264400908, 'n_estimators': 1011}. Best is trial 21 with value: 0.222496157153349.\n",
            "[I 2025-04-29 12:55:33,126] Trial 38 finished with value: 0.30131573226553887 and parameters: {'max_depth': 6, 'learning_rate': 0.03948178827608663, 'subsample': 0.6315366132736009, 'colsample_bytree': 0.6668175881198772, 'gamma': 1.7155138118098123, 'lambda': 0.312778248763637, 'alpha': 0.005618060487708055, 'n_estimators': 1066}. Best is trial 21 with value: 0.222496157153349.\n",
            "[I 2025-04-29 12:55:35,063] Trial 39 finished with value: 0.2637533705479816 and parameters: {'max_depth': 6, 'learning_rate': 0.13110402667559443, 'subsample': 0.5430155598803317, 'colsample_bytree': 0.5374781733074021, 'gamma': 0.7310275781630631, 'lambda': 0.2974938959883304, 'alpha': 0.16733088986815695, 'n_estimators': 674}. Best is trial 21 with value: 0.222496157153349.\n",
            "[I 2025-04-29 12:55:36,454] Trial 40 finished with value: 0.2853816419005923 and parameters: {'max_depth': 10, 'learning_rate': 0.012998301092295363, 'subsample': 0.7429095950986508, 'colsample_bytree': 0.5759169146925639, 'gamma': 1.1909179538983652, 'lambda': 0.027521215572553125, 'alpha': 0.06875275099548249, 'n_estimators': 821}. Best is trial 21 with value: 0.222496157153349.\n",
            "[I 2025-04-29 12:55:36,912] Trial 41 finished with value: 0.30098260492535245 and parameters: {'max_depth': 6, 'learning_rate': 0.25063336057231256, 'subsample': 0.6810804767134057, 'colsample_bytree': 0.6581638991523324, 'gamma': 1.496237422187494, 'lambda': 0.04107102185385779, 'alpha': 0.04153645403005765, 'n_estimators': 398}. Best is trial 21 with value: 0.222496157153349.\n",
            "[I 2025-04-29 12:55:37,682] Trial 42 finished with value: 0.2377230935816271 and parameters: {'max_depth': 6, 'learning_rate': 0.03832199580761316, 'subsample': 0.5590692513935557, 'colsample_bytree': 0.5084926201721709, 'gamma': 0.39371132097188544, 'lambda': 0.011430829756042371, 'alpha': 0.5700817056723616, 'n_estimators': 533}. Best is trial 21 with value: 0.222496157153349.\n",
            "[I 2025-04-29 12:55:38,602] Trial 43 finished with value: 0.27117284279635995 and parameters: {'max_depth': 8, 'learning_rate': 0.2444709061456929, 'subsample': 0.6100269700863526, 'colsample_bytree': 0.6818972270990429, 'gamma': 0.8507400212456027, 'lambda': 1.2174215671835749, 'alpha': 0.08003987453586776, 'n_estimators': 968}. Best is trial 21 with value: 0.222496157153349.\n",
            "[I 2025-04-29 12:55:40,800] Trial 44 finished with value: 0.22473416083274783 and parameters: {'max_depth': 9, 'learning_rate': 0.01930543716272996, 'subsample': 0.5933167346242435, 'colsample_bytree': 0.5128298304241745, 'gamma': 0.2706625718072494, 'lambda': 0.04740079792952004, 'alpha': 0.016373952271349232, 'n_estimators': 1445}. Best is trial 21 with value: 0.222496157153349.\n",
            "[I 2025-04-29 12:55:42,951] Trial 45 finished with value: 0.240534454891193 and parameters: {'max_depth': 5, 'learning_rate': 0.01921655279445479, 'subsample': 0.7044470471111594, 'colsample_bytree': 0.7128678717063539, 'gamma': 0.2830744386828971, 'lambda': 0.018697557204299244, 'alpha': 0.16495493764855604, 'n_estimators': 1652}. Best is trial 21 with value: 0.222496157153349.\n",
            "[I 2025-04-29 12:55:43,718] Trial 46 finished with value: 0.27318168114565444 and parameters: {'max_depth': 8, 'learning_rate': 0.2027440517382318, 'subsample': 0.7413979839179493, 'colsample_bytree': 0.5127769707056123, 'gamma': 0.8055412844263788, 'lambda': 0.37744790308294796, 'alpha': 0.06630322155162123, 'n_estimators': 810}. Best is trial 21 with value: 0.222496157153349.\n",
            "[I 2025-04-29 12:55:45,143] Trial 47 finished with value: 0.27242346464693856 and parameters: {'max_depth': 5, 'learning_rate': 0.04566530585508238, 'subsample': 0.5684386883001121, 'colsample_bytree': 0.683093356866662, 'gamma': 1.037620608229732, 'lambda': 0.01284305570840811, 'alpha': 0.13517101988709046, 'n_estimators': 684}. Best is trial 21 with value: 0.222496157153349.\n",
            "[I 2025-04-29 12:55:48,168] Trial 48 finished with value: 0.24266285734947987 and parameters: {'max_depth': 6, 'learning_rate': 0.03647312270038118, 'subsample': 0.6661330371940831, 'colsample_bytree': 0.6846351529675629, 'gamma': 0.5134182564434933, 'lambda': 0.0834388449378844, 'alpha': 0.022392777371373147, 'n_estimators': 1070}. Best is trial 21 with value: 0.222496157153349.\n",
            "[I 2025-04-29 12:55:49,279] Trial 49 finished with value: 0.2605096994609726 and parameters: {'max_depth': 5, 'learning_rate': 0.023844102973932798, 'subsample': 0.6532421519969323, 'colsample_bytree': 0.560941340511419, 'gamma': 0.8941255211597519, 'lambda': 1.7888794017330503, 'alpha': 0.3163815206385422, 'n_estimators': 904}. Best is trial 21 with value: 0.222496157153349.\n",
            "[I 2025-04-29 12:55:50,536] Trial 50 finished with value: 0.23070789366433966 and parameters: {'max_depth': 7, 'learning_rate': 0.09990930728505153, 'subsample': 0.7252858029578388, 'colsample_bytree': 0.5936955262760094, 'gamma': 0.33181710137217824, 'lambda': 0.042176939552624006, 'alpha': 0.08579206357848185, 'n_estimators': 1276}. Best is trial 21 with value: 0.222496157153349.\n",
            "[I 2025-04-29 12:55:52,084] Trial 51 finished with value: 0.2594527471433919 and parameters: {'max_depth': 5, 'learning_rate': 0.03577957517728422, 'subsample': 0.6631992465862416, 'colsample_bytree': 0.653912125151624, 'gamma': 0.26608781845854873, 'lambda': 0.00222523803044102, 'alpha': 0.26590028706970226, 'n_estimators': 1401}. Best is trial 21 with value: 0.222496157153349.\n",
            "[I 2025-04-29 12:55:54,457] Trial 52 finished with value: 0.20752527381122626 and parameters: {'max_depth': 8, 'learning_rate': 0.01372265187401239, 'subsample': 0.5718085815731573, 'colsample_bytree': 0.5535815686896495, 'gamma': 0.14648640855475847, 'lambda': 0.11731572222430485, 'alpha': 0.054223442427825966, 'n_estimators': 835}. Best is trial 52 with value: 0.20752527381122626.\n",
            "[I 2025-04-29 12:55:55,214] Trial 53 finished with value: 0.2742485179804237 and parameters: {'max_depth': 8, 'learning_rate': 0.09802509147386484, 'subsample': 0.7061578876088915, 'colsample_bytree': 0.6196049934127726, 'gamma': 1.0638304568411043, 'lambda': 0.0389088470099867, 'alpha': 0.010678568908205087, 'n_estimators': 720}. Best is trial 52 with value: 0.20752527381122626.\n",
            "[I 2025-04-29 12:55:56,333] Trial 54 finished with value: 0.2748984841005389 and parameters: {'max_depth': 6, 'learning_rate': 0.09819159892249668, 'subsample': 0.6310970117879776, 'colsample_bytree': 0.5425498794306322, 'gamma': 0.28762073857430726, 'lambda': 0.04379319263832826, 'alpha': 0.04391968838570147, 'n_estimators': 1149}. Best is trial 52 with value: 0.20752527381122626.\n",
            "[I 2025-04-29 12:55:57,398] Trial 55 finished with value: 0.24280503570251244 and parameters: {'max_depth': 5, 'learning_rate': 0.03403190555503923, 'subsample': 0.6517650038168643, 'colsample_bytree': 0.5832738731801697, 'gamma': 0.5696273559915129, 'lambda': 0.01314648402471299, 'alpha': 0.18951580051982733, 'n_estimators': 911}. Best is trial 52 with value: 0.20752527381122626.\n",
            "[I 2025-04-29 12:56:00,920] Trial 56 finished with value: 0.307114815899924 and parameters: {'max_depth': 6, 'learning_rate': 0.06449510269173261, 'subsample': 0.6603274316595857, 'colsample_bytree': 0.5771923126334214, 'gamma': 1.9800379985393137, 'lambda': 0.0642949984913205, 'alpha': 0.058307994158526, 'n_estimators': 1794}. Best is trial 52 with value: 0.20752527381122626.\n",
            "[I 2025-04-29 12:56:04,656] Trial 57 finished with value: 0.2381747961405805 and parameters: {'max_depth': 8, 'learning_rate': 0.006800059293936308, 'subsample': 0.7458786455073868, 'colsample_bytree': 0.687923027115666, 'gamma': 0.4144471863424175, 'lambda': 0.4449591761216207, 'alpha': 0.06537743484653318, 'n_estimators': 1496}. Best is trial 52 with value: 0.20752527381122626.\n",
            "[I 2025-04-29 12:56:05,790] Trial 58 finished with value: 0.248029763211273 and parameters: {'max_depth': 7, 'learning_rate': 0.05640587203218325, 'subsample': 0.6816041750594027, 'colsample_bytree': 0.531682937130123, 'gamma': 0.6479523396126672, 'lambda': 0.006018882270088213, 'alpha': 1.3538964680317838, 'n_estimators': 1067}. Best is trial 52 with value: 0.20752527381122626.\n",
            "[I 2025-04-29 12:56:13,279] Trial 59 finished with value: 0.19341010373315845 and parameters: {'max_depth': 10, 'learning_rate': 0.00979966463419544, 'subsample': 0.66913320407565, 'colsample_bytree': 0.5314731391614735, 'gamma': 0.0781258000190187, 'lambda': 0.49678043291224266, 'alpha': 0.004943587195623821, 'n_estimators': 1742}. Best is trial 59 with value: 0.19341010373315845.\n",
            "[I 2025-04-29 12:56:16,218] Trial 60 finished with value: 0.2821743142973076 and parameters: {'max_depth': 10, 'learning_rate': 0.005669135713450456, 'subsample': 0.6798141017899362, 'colsample_bytree': 0.5488570336434521, 'gamma': 1.134580290355023, 'lambda': 0.003633983990861925, 'alpha': 0.15798174293993283, 'n_estimators': 1657}. Best is trial 59 with value: 0.19341010373315845.\n",
            "[I 2025-04-29 12:56:18,154] Trial 61 finished with value: 0.2878508761348499 and parameters: {'max_depth': 9, 'learning_rate': 0.02452694525039994, 'subsample': 0.5615889835120089, 'colsample_bytree': 0.6771396946925081, 'gamma': 1.2060126790100316, 'lambda': 0.24992780941711454, 'alpha': 0.00791896745322481, 'n_estimators': 1721}. Best is trial 59 with value: 0.19341010373315845.\n",
            "[I 2025-04-29 12:56:19,336] Trial 62 finished with value: 0.2700965553481192 and parameters: {'max_depth': 7, 'learning_rate': 0.026112928334897638, 'subsample': 0.5489942201893269, 'colsample_bytree': 0.6202985039142562, 'gamma': 0.9037117096392566, 'lambda': 2.4365043323050815, 'alpha': 0.008898624582835815, 'n_estimators': 991}. Best is trial 59 with value: 0.19341010373315845.\n",
            "[I 2025-04-29 12:56:21,672] Trial 63 finished with value: 0.26807302568760916 and parameters: {'max_depth': 8, 'learning_rate': 0.011592703798778373, 'subsample': 0.7584310645479302, 'colsample_bytree': 0.603288730311526, 'gamma': 0.9074517520423336, 'lambda': 0.6228444532635993, 'alpha': 0.09864929034588898, 'n_estimators': 1805}. Best is trial 59 with value: 0.19341010373315845.\n",
            "[I 2025-04-29 12:56:27,159] Trial 64 finished with value: 0.22463485261192692 and parameters: {'max_depth': 8, 'learning_rate': 0.010417211460033072, 'subsample': 0.7362872458306926, 'colsample_bytree': 0.639765542408093, 'gamma': 0.27894163969782687, 'lambda': 0.07504852119800104, 'alpha': 0.045077170311692956, 'n_estimators': 998}. Best is trial 59 with value: 0.19341010373315845.\n",
            "[I 2025-04-29 12:56:29,152] Trial 65 finished with value: 0.30471165578847775 and parameters: {'max_depth': 9, 'learning_rate': 0.007148063909138436, 'subsample': 0.6474288790097282, 'colsample_bytree': 0.5843130549619002, 'gamma': 1.6068690594002106, 'lambda': 0.6992283691400937, 'alpha': 0.007535786048574418, 'n_estimators': 1299}. Best is trial 59 with value: 0.19341010373315845.\n",
            "[I 2025-04-29 12:56:31,253] Trial 66 finished with value: 0.23659286405490937 and parameters: {'max_depth': 7, 'learning_rate': 0.011432186317344053, 'subsample': 0.5668525442222777, 'colsample_bytree': 0.5916269923021481, 'gamma': 0.3906023616555111, 'lambda': 0.060491200675121974, 'alpha': 0.03275203449800404, 'n_estimators': 1065}. Best is trial 59 with value: 0.19341010373315845.\n",
            "[I 2025-04-29 12:56:33,674] Trial 67 finished with value: 0.28053914597453994 and parameters: {'max_depth': 8, 'learning_rate': 0.00794323733204005, 'subsample': 0.7834758392301961, 'colsample_bytree': 0.768904900309657, 'gamma': 1.0754067896741282, 'lambda': 0.9694115031083326, 'alpha': 0.00823035058737676, 'n_estimators': 1201}. Best is trial 59 with value: 0.19341010373315845.\n",
            "[I 2025-04-29 12:56:35,075] Trial 68 finished with value: 0.2208779429383847 and parameters: {'max_depth': 7, 'learning_rate': 0.05773003891104933, 'subsample': 0.9152188474931519, 'colsample_bytree': 0.6525041625954984, 'gamma': 0.2961179879808318, 'lambda': 1.8561914526754273, 'alpha': 0.3088874235457678, 'n_estimators': 1097}. Best is trial 59 with value: 0.19341010373315845.\n",
            "[I 2025-04-29 12:56:43,109] Trial 69 finished with value: 0.2657971627020764 and parameters: {'max_depth': 10, 'learning_rate': 0.007703374561492387, 'subsample': 0.5780766920901838, 'colsample_bytree': 0.6711085861144402, 'gamma': 0.6920103547302675, 'lambda': 0.6178620592369948, 'alpha': 0.002627368491900417, 'n_estimators': 1245}. Best is trial 59 with value: 0.19341010373315845.\n",
            "[I 2025-04-29 12:56:55,099] Trial 70 finished with value: 0.2582683094616957 and parameters: {'max_depth': 8, 'learning_rate': 0.00583908858382731, 'subsample': 0.7663702309682395, 'colsample_bytree': 0.57537862707954, 'gamma': 0.6564004246746926, 'lambda': 0.7831226884711672, 'alpha': 0.13228937979702976, 'n_estimators': 982}. Best is trial 59 with value: 0.19341010373315845.\n",
            "[I 2025-04-29 12:56:56,613] Trial 71 finished with value: 0.21784334541098654 and parameters: {'max_depth': 8, 'learning_rate': 0.08585050149192923, 'subsample': 0.7370057080656576, 'colsample_bytree': 0.7938426253498418, 'gamma': 0.25450266010638456, 'lambda': 0.1906448693803547, 'alpha': 0.15414750702250313, 'n_estimators': 1462}. Best is trial 59 with value: 0.19341010373315845.\n",
            "[I 2025-04-29 12:56:58,053] Trial 72 finished with value: 0.23839222987725323 and parameters: {'max_depth': 8, 'learning_rate': 0.026302796679085045, 'subsample': 0.7098395624911567, 'colsample_bytree': 0.6196230018569043, 'gamma': 0.4565454367258509, 'lambda': 0.21603246149574515, 'alpha': 0.004457434723292848, 'n_estimators': 945}. Best is trial 59 with value: 0.19341010373315845.\n",
            "[I 2025-04-29 12:56:58,812] Trial 73 finished with value: 0.2924460414695764 and parameters: {'max_depth': 5, 'learning_rate': 0.023174381033016795, 'subsample': 0.8879425458144127, 'colsample_bytree': 0.7017632003683162, 'gamma': 1.5213482049596978, 'lambda': 0.07776683496138118, 'alpha': 0.05845785448966835, 'n_estimators': 506}. Best is trial 59 with value: 0.19341010373315845.\n",
            "[I 2025-04-29 12:57:00,724] Trial 74 finished with value: 0.6019457085671902 and parameters: {'max_depth': 3, 'learning_rate': 0.008519057607426184, 'subsample': 0.7771682747803621, 'colsample_bytree': 0.7062773698949816, 'gamma': 0.19937153288553708, 'lambda': 2.33179599239776, 'alpha': 0.058717936099065754, 'n_estimators': 1101}. Best is trial 59 with value: 0.19341010373315845.\n",
            "[I 2025-04-29 12:57:03,437] Trial 75 finished with value: 0.263936787194883 and parameters: {'max_depth': 5, 'learning_rate': 0.030164360943461175, 'subsample': 0.6828090513957796, 'colsample_bytree': 0.7146126122601522, 'gamma': 0.8537048096514483, 'lambda': 1.630927436340234, 'alpha': 0.498455781004124, 'n_estimators': 605}. Best is trial 59 with value: 0.19341010373315845.\n",
            "[I 2025-04-29 12:57:06,631] Trial 76 finished with value: 0.269878815374757 and parameters: {'max_depth': 8, 'learning_rate': 0.005563965602551974, 'subsample': 0.7759176143973795, 'colsample_bytree': 0.5866154994987461, 'gamma': 0.9165440953330045, 'lambda': 0.041506058373951514, 'alpha': 0.11901671063088445, 'n_estimators': 1443}. Best is trial 59 with value: 0.19341010373315845.\n",
            "[I 2025-04-29 12:57:07,816] Trial 77 finished with value: 0.3164907860589015 and parameters: {'max_depth': 5, 'learning_rate': 0.007049497734738112, 'subsample': 0.849337911179206, 'colsample_bytree': 0.6252564318123752, 'gamma': 1.629032766898466, 'lambda': 0.04397047627727762, 'alpha': 0.1917712795515934, 'n_estimators': 515}. Best is trial 59 with value: 0.19341010373315845.\n",
            "[I 2025-04-29 12:57:09,610] Trial 78 finished with value: 0.2506733016404207 and parameters: {'max_depth': 8, 'learning_rate': 0.017183205767730855, 'subsample': 0.9018578799819946, 'colsample_bytree': 0.6191706524190816, 'gamma': 0.6437083258909747, 'lambda': 1.7132281883893283, 'alpha': 0.10563181763344427, 'n_estimators': 1257}. Best is trial 59 with value: 0.19341010373315845.\n",
            "[I 2025-04-29 12:57:10,476] Trial 79 finished with value: 0.2776257695541251 and parameters: {'max_depth': 7, 'learning_rate': 0.04942671379984646, 'subsample': 0.7730625988200677, 'colsample_bytree': 0.5832736664652739, 'gamma': 1.1394570567294091, 'lambda': 1.6631506433803513, 'alpha': 0.5283924966600031, 'n_estimators': 794}. Best is trial 59 with value: 0.19341010373315845.\n",
            "[I 2025-04-29 12:57:12,573] Trial 80 finished with value: 0.2562923255272182 and parameters: {'max_depth': 5, 'learning_rate': 0.05265349583969973, 'subsample': 0.8586107537937677, 'colsample_bytree': 0.9183601181971499, 'gamma': 0.008588508749882567, 'lambda': 0.08472920616740688, 'alpha': 0.8794151457737023, 'n_estimators': 773}. Best is trial 59 with value: 0.19341010373315845.\n",
            "[I 2025-04-29 12:57:14,111] Trial 81 finished with value: 0.24576774736042387 and parameters: {'max_depth': 5, 'learning_rate': 0.12717014293175416, 'subsample': 0.80868609571351, 'colsample_bytree': 0.9228250097405859, 'gamma': 0.4807363231689399, 'lambda': 0.3453780356497194, 'alpha': 0.022742522742133727, 'n_estimators': 1542}. Best is trial 59 with value: 0.19341010373315845.\n",
            "[I 2025-04-29 12:57:19,826] Trial 82 finished with value: 0.2106412322801027 and parameters: {'max_depth': 8, 'learning_rate': 0.008759321885455933, 'subsample': 0.5869350673053415, 'colsample_bytree': 0.7006100074987844, 'gamma': 0.15419996657710705, 'lambda': 0.08133734171229196, 'alpha': 0.010114317082510236, 'n_estimators': 1033}. Best is trial 59 with value: 0.19341010373315845.\n",
            "[I 2025-04-29 12:57:21,022] Trial 83 finished with value: 0.36964028813992955 and parameters: {'max_depth': 5, 'learning_rate': 0.20255664249347177, 'subsample': 0.8732946981405038, 'colsample_bytree': 0.7753314178378693, 'gamma': 0.03417236129067261, 'lambda': 0.19230038478282377, 'alpha': 0.07956245293654673, 'n_estimators': 1184}. Best is trial 59 with value: 0.19341010373315845.\n",
            "[I 2025-04-29 12:57:22,095] Trial 84 finished with value: 0.24750595757539198 and parameters: {'max_depth': 8, 'learning_rate': 0.07280792121820419, 'subsample': 0.8438580734637253, 'colsample_bytree': 0.7634990748742259, 'gamma': 0.5645863885609768, 'lambda': 0.47061892005403666, 'alpha': 0.20938010935684426, 'n_estimators': 1026}. Best is trial 59 with value: 0.19341010373315845.\n",
            "[I 2025-04-29 12:57:23,559] Trial 85 finished with value: 0.26563892384660176 and parameters: {'max_depth': 9, 'learning_rate': 0.15027027722250177, 'subsample': 0.8285044800361259, 'colsample_bytree': 0.7056010912177854, 'gamma': 0.8046021760219106, 'lambda': 0.18043038149998336, 'alpha': 0.08671830706683761, 'n_estimators': 1701}. Best is trial 59 with value: 0.19341010373315845.\n",
            "[I 2025-04-29 12:57:24,622] Trial 86 finished with value: 0.27596251853618653 and parameters: {'max_depth': 7, 'learning_rate': 0.07527950354370298, 'subsample': 0.7454651184105929, 'colsample_bytree': 0.6681811142228887, 'gamma': 1.1879806948211507, 'lambda': 0.531532117199556, 'alpha': 0.08160152858279891, 'n_estimators': 909}. Best is trial 59 with value: 0.19341010373315845.\n",
            "[I 2025-04-29 12:57:25,860] Trial 87 finished with value: 0.30137042571109895 and parameters: {'max_depth': 8, 'learning_rate': 0.026262640582464556, 'subsample': 0.7529106266578612, 'colsample_bytree': 0.8052994771153207, 'gamma': 1.592603004770703, 'lambda': 2.83153161960575, 'alpha': 0.8950124747826428, 'n_estimators': 1034}. Best is trial 59 with value: 0.19341010373315845.\n",
            "[I 2025-04-29 12:57:27,970] Trial 88 finished with value: 0.28380288214102983 and parameters: {'max_depth': 10, 'learning_rate': 0.10193159029115309, 'subsample': 0.8031521351894737, 'colsample_bytree': 0.6838472727190308, 'gamma': 1.3181371310776446, 'lambda': 0.12284008319519721, 'alpha': 0.09117296778944667, 'n_estimators': 1326}. Best is trial 59 with value: 0.19341010373315845.\n",
            "[I 2025-04-29 12:57:30,100] Trial 89 finished with value: 0.25941763565642223 and parameters: {'max_depth': 5, 'learning_rate': 0.21016602543425592, 'subsample': 0.8088371869099023, 'colsample_bytree': 0.9613411823476701, 'gamma': 0.7939705164265392, 'lambda': 0.06636175243223473, 'alpha': 0.2590500069801364, 'n_estimators': 1235}. Best is trial 59 with value: 0.19341010373315845.\n",
            "[I 2025-04-29 12:57:31,369] Trial 90 finished with value: 0.298861177226157 and parameters: {'max_depth': 8, 'learning_rate': 0.037437931514923924, 'subsample': 0.7118029243765098, 'colsample_bytree': 0.7365118470258343, 'gamma': 1.582525788730893, 'lambda': 0.25892362970547583, 'alpha': 0.12922742081400665, 'n_estimators': 1201}. Best is trial 59 with value: 0.19341010373315845.\n",
            "[I 2025-04-29 12:57:32,590] Trial 91 finished with value: 0.28491179481732476 and parameters: {'max_depth': 7, 'learning_rate': 0.05396441487142898, 'subsample': 0.8015522470511208, 'colsample_bytree': 0.8561935224355945, 'gamma': 1.278569510791963, 'lambda': 0.04625954718983119, 'alpha': 0.024090497938321655, 'n_estimators': 1199}. Best is trial 59 with value: 0.19341010373315845.\n",
            "[I 2025-04-29 12:57:34,219] Trial 92 finished with value: 0.2766742586774845 and parameters: {'max_depth': 8, 'learning_rate': 0.03524909602237063, 'subsample': 0.5769563688730563, 'colsample_bytree': 0.6957354008735659, 'gamma': 1.00598627095672, 'lambda': 0.2701593698764619, 'alpha': 0.017478655733278843, 'n_estimators': 1601}. Best is trial 59 with value: 0.19341010373315845.\n",
            "[I 2025-04-29 12:57:37,782] Trial 93 finished with value: 0.2165152129801075 and parameters: {'max_depth': 8, 'learning_rate': 0.009287590019630691, 'subsample': 0.7276249466939253, 'colsample_bytree': 0.701759440463228, 'gamma': 0.22442447230902884, 'lambda': 0.5369836607914606, 'alpha': 0.025815908505614094, 'n_estimators': 1324}. Best is trial 59 with value: 0.19341010373315845.\n",
            "[I 2025-04-29 12:57:49,208] Trial 94 finished with value: 0.1821316060878947 and parameters: {'max_depth': 9, 'learning_rate': 0.00652890649837957, 'subsample': 0.6445245525276786, 'colsample_bytree': 0.7844359628738031, 'gamma': 0.04392675077041788, 'lambda': 0.5968915873856662, 'alpha': 0.015571252745348287, 'n_estimators': 1634}. Best is trial 94 with value: 0.1821316060878947.\n",
            "[I 2025-04-29 12:57:50,870] Trial 95 finished with value: 0.25998827337077024 and parameters: {'max_depth': 6, 'learning_rate': 0.026417837314574723, 'subsample': 0.865642818232824, 'colsample_bytree': 0.8522262725369627, 'gamma': 0.7860151277846832, 'lambda': 0.5244160484962732, 'alpha': 0.017616372744233676, 'n_estimators': 1491}. Best is trial 94 with value: 0.1821316060878947.\n",
            "[I 2025-04-29 12:57:54,560] Trial 96 finished with value: 0.2888409685277504 and parameters: {'max_depth': 7, 'learning_rate': 0.008315442783612228, 'subsample': 0.7129725675415457, 'colsample_bytree': 0.8136600031515735, 'gamma': 1.1667556907226375, 'lambda': 1.8782296933718092, 'alpha': 0.008426341814529134, 'n_estimators': 881}. Best is trial 94 with value: 0.1821316060878947.\n",
            "[I 2025-04-29 12:57:56,364] Trial 97 finished with value: 0.2149089435740527 and parameters: {'max_depth': 8, 'learning_rate': 0.06474296042487954, 'subsample': 0.7244452140376969, 'colsample_bytree': 0.792869566894501, 'gamma': 0.22425058885979782, 'lambda': 0.2998902934663278, 'alpha': 0.08746482671722197, 'n_estimators': 1536}. Best is trial 94 with value: 0.1821316060878947.\n",
            "[I 2025-04-29 12:57:57,876] Trial 98 finished with value: 0.27241877235877066 and parameters: {'max_depth': 8, 'learning_rate': 0.02839280188001242, 'subsample': 0.9212317554200162, 'colsample_bytree': 0.9154254824575335, 'gamma': 0.9120107784734535, 'lambda': 0.41513663794932276, 'alpha': 0.00397958748800881, 'n_estimators': 1159}. Best is trial 94 with value: 0.1821316060878947.\n",
            "[I 2025-04-29 12:57:59,283] Trial 99 finished with value: 0.281863751588388 and parameters: {'max_depth': 8, 'learning_rate': 0.12734918235207174, 'subsample': 0.7434826042438732, 'colsample_bytree': 0.8602625586477904, 'gamma': 1.2437040708395564, 'lambda': 0.1621345422857733, 'alpha': 0.0021859123956808114, 'n_estimators': 1575}. Best is trial 94 with value: 0.1821316060878947.\n"
          ]
        },
        {
          "output_type": "stream",
          "name": "stdout",
          "text": [
            "Best hyperparameters: {'max_depth': 9, 'learning_rate': 0.00652890649837957, 'subsample': 0.6445245525276786, 'colsample_bytree': 0.7844359628738031, 'gamma': 0.04392675077041788, 'lambda': 0.5968915873856662, 'alpha': 0.015571252745348287, 'n_estimators': 1634}\n",
            "FrozenTrial(number=94, state=1, values=[0.1821316060878947], datetime_start=datetime.datetime(2025, 4, 29, 12, 57, 37, 784908), datetime_complete=datetime.datetime(2025, 4, 29, 12, 57, 49, 207902), params={'max_depth': 9, 'learning_rate': 0.00652890649837957, 'subsample': 0.6445245525276786, 'colsample_bytree': 0.7844359628738031, 'gamma': 0.04392675077041788, 'lambda': 0.5968915873856662, 'alpha': 0.015571252745348287, 'n_estimators': 1634}, user_attrs={}, system_attrs={'cma:generation': 9, 'cma:popsize': 10, 'cma:n_restarts': 0, 'cma:n_restarts_with_large': 0, 'cma:poptype': 'small', 'cma:small_n_eval': 0, 'cma:large_n_eval': 0}, intermediate_values={}, distributions={'max_depth': IntDistribution(high=10, log=False, low=3, step=1), 'learning_rate': FloatDistribution(high=0.5, log=True, low=0.001, step=None), 'subsample': FloatDistribution(high=1.0, log=False, low=0.5, step=None), 'colsample_bytree': FloatDistribution(high=1.0, log=False, low=0.5, step=None), 'gamma': FloatDistribution(high=5.0, log=False, low=0.0, step=None), 'lambda': FloatDistribution(high=10.0, log=True, low=0.001, step=None), 'alpha': FloatDistribution(high=10.0, log=True, low=0.001, step=None), 'n_estimators': IntDistribution(high=2000, log=False, low=100, step=1)}, trial_id=94, value=None)\n"
          ]
        }
      ]
    },
    {
      "cell_type": "markdown",
      "source": [
        "### Random Forest"
      ],
      "metadata": {
        "id": "RJeqh-AMcxPS"
      }
    },
    {
      "cell_type": "code",
      "source": [
        "from sklearn.model_selection import GridSearchCV\n",
        "\n",
        "X_train, X_val, y_train, y_val = train_test_split(\n",
        "      X, y, test_size=0.2, random_state=0)\n",
        "\n",
        "def objective(trail):\n",
        "  params = {\n",
        "      'n_estimators': trail.suggest_int('n_estimatos', 20, 300),\n",
        "      'max_depth': trail.suggest_int('max_depth', 10, 50),\n",
        "      'min_samples_leaf': trail.suggest_int('min_samples_leaf', 1, 5)\n",
        "  }\n",
        "  model = RandomForestRegressor(**params)\n",
        "  model.fit(X_train, y_train)\n",
        "  score =  mean_absolute_percentage_error(model.predict(X_val), y_val)\n",
        "  return score\n",
        "\n",
        "study = optuna.create_study(direction='minimize')\n",
        "study.optimize(objective, n_trials=50)\n",
        "\n",
        "print(\"Best hyperparameters:\", study.best_params)\n",
        "print(study.best_trial)"
      ],
      "metadata": {
        "id": "wgzqt302XKSM",
        "colab": {
          "base_uri": "https://localhost:8080/"
        },
        "outputId": "5d0e71ca-ef19-47dc-9dad-155a43b71975"
      },
      "execution_count": 192,
      "outputs": [
        {
          "output_type": "stream",
          "name": "stderr",
          "text": [
            "[I 2025-04-29 08:49:25,789] A new study created in memory with name: no-name-85ae81fc-2169-4840-a936-647cd0a6eb84\n",
            "[I 2025-04-29 08:50:07,816] Trial 0 finished with value: 0.19320476776081058 and parameters: {'n_estimatos': 236, 'max_depth': 39, 'min_samples_leaf': 1}. Best is trial 0 with value: 0.19320476776081058.\n",
            "[I 2025-04-29 08:50:22,398] Trial 1 finished with value: 0.21125128342143437 and parameters: {'n_estimatos': 130, 'max_depth': 45, 'min_samples_leaf': 5}. Best is trial 0 with value: 0.19320476776081058.\n",
            "[I 2025-04-29 08:50:36,168] Trial 2 finished with value: 0.21081881755098364 and parameters: {'n_estimatos': 124, 'max_depth': 34, 'min_samples_leaf': 5}. Best is trial 0 with value: 0.19320476776081058.\n",
            "[I 2025-04-29 08:50:54,579] Trial 3 finished with value: 0.19372589686496114 and parameters: {'n_estimatos': 116, 'max_depth': 19, 'min_samples_leaf': 1}. Best is trial 0 with value: 0.19320476776081058.\n",
            "[I 2025-04-29 08:51:02,575] Trial 4 finished with value: 0.20801169078598608 and parameters: {'n_estimatos': 67, 'max_depth': 20, 'min_samples_leaf': 4}. Best is trial 0 with value: 0.19320476776081058.\n",
            "[I 2025-04-29 08:51:29,803] Trial 5 finished with value: 0.2050545912164234 and parameters: {'n_estimatos': 238, 'max_depth': 40, 'min_samples_leaf': 4}. Best is trial 0 with value: 0.19320476776081058.\n",
            "[I 2025-04-29 08:52:02,123] Trial 6 finished with value: 0.21147312029495224 and parameters: {'n_estimatos': 300, 'max_depth': 34, 'min_samples_leaf': 5}. Best is trial 0 with value: 0.19320476776081058.\n",
            "[I 2025-04-29 08:52:20,348] Trial 7 finished with value: 0.21504796898832954 and parameters: {'n_estimatos': 169, 'max_depth': 12, 'min_samples_leaf': 5}. Best is trial 0 with value: 0.19320476776081058.\n",
            "[I 2025-04-29 08:52:52,532] Trial 8 finished with value: 0.20547372248897322 and parameters: {'n_estimatos': 283, 'max_depth': 29, 'min_samples_leaf': 4}. Best is trial 0 with value: 0.19320476776081058.\n",
            "[I 2025-04-29 08:53:09,250] Trial 9 finished with value: 0.2279548513020729 and parameters: {'n_estimatos': 165, 'max_depth': 10, 'min_samples_leaf': 2}. Best is trial 0 with value: 0.19320476776081058.\n",
            "[I 2025-04-29 08:53:44,734] Trial 10 finished with value: 0.19325097638686242 and parameters: {'n_estimatos': 220, 'max_depth': 49, 'min_samples_leaf': 1}. Best is trial 0 with value: 0.19320476776081058.\n",
            "[I 2025-04-29 08:54:21,137] Trial 11 finished with value: 0.19381085926120697 and parameters: {'n_estimatos': 223, 'max_depth': 50, 'min_samples_leaf': 1}. Best is trial 0 with value: 0.19320476776081058.\n",
            "[I 2025-04-29 08:54:51,640] Trial 12 finished with value: 0.19494229571519409 and parameters: {'n_estimatos': 222, 'max_depth': 50, 'min_samples_leaf': 2}. Best is trial 0 with value: 0.19320476776081058.\n",
            "[I 2025-04-29 08:55:25,729] Trial 13 finished with value: 0.19574970990531587 and parameters: {'n_estimatos': 254, 'max_depth': 41, 'min_samples_leaf': 2}. Best is trial 0 with value: 0.19320476776081058.\n",
            "[I 2025-04-29 08:55:57,824] Trial 14 finished with value: 0.19342561379517417 and parameters: {'n_estimatos': 195, 'max_depth': 43, 'min_samples_leaf': 1}. Best is trial 0 with value: 0.19320476776081058.\n",
            "[I 2025-04-29 08:56:30,328] Trial 15 finished with value: 0.20106594326687194 and parameters: {'n_estimatos': 266, 'max_depth': 36, 'min_samples_leaf': 3}. Best is trial 0 with value: 0.19320476776081058.\n",
            "[I 2025-04-29 08:56:35,314] Trial 16 finished with value: 0.20262896977039568 and parameters: {'n_estimatos': 21, 'max_depth': 29, 'min_samples_leaf': 2}. Best is trial 0 with value: 0.19320476776081058.\n",
            "[I 2025-04-29 08:57:16,772] Trial 17 finished with value: 0.19295624217820845 and parameters: {'n_estimatos': 208, 'max_depth': 46, 'min_samples_leaf': 1}. Best is trial 17 with value: 0.19295624217820845.\n",
            "[I 2025-04-29 08:57:39,673] Trial 18 finished with value: 0.20009217832430654 and parameters: {'n_estimatos': 184, 'max_depth': 38, 'min_samples_leaf': 3}. Best is trial 17 with value: 0.19295624217820845.\n",
            "[I 2025-04-29 08:58:12,089] Trial 19 finished with value: 0.19338666088698955 and parameters: {'n_estimatos': 200, 'max_depth': 45, 'min_samples_leaf': 1}. Best is trial 17 with value: 0.19295624217820845.\n",
            "[I 2025-04-29 08:58:32,085] Trial 20 finished with value: 0.19385166450738148 and parameters: {'n_estimatos': 143, 'max_depth': 32, 'min_samples_leaf': 2}. Best is trial 17 with value: 0.19295624217820845.\n",
            "[I 2025-04-29 08:59:08,465] Trial 21 finished with value: 0.19293447872534839 and parameters: {'n_estimatos': 219, 'max_depth': 46, 'min_samples_leaf': 1}. Best is trial 21 with value: 0.19293447872534839.\n",
            "[I 2025-04-29 08:59:49,848] Trial 22 finished with value: 0.19301739940169746 and parameters: {'n_estimatos': 254, 'max_depth': 46, 'min_samples_leaf': 1}. Best is trial 21 with value: 0.19293447872534839.\n",
            "[I 2025-04-29 09:00:32,209] Trial 23 finished with value: 0.19322588875356736 and parameters: {'n_estimatos': 260, 'max_depth': 46, 'min_samples_leaf': 1}. Best is trial 21 with value: 0.19293447872534839.\n",
            "[I 2025-04-29 09:01:00,942] Trial 24 finished with value: 0.19647078038063884 and parameters: {'n_estimatos': 206, 'max_depth': 47, 'min_samples_leaf': 2}. Best is trial 21 with value: 0.19293447872534839.\n",
            "[I 2025-04-29 09:01:46,486] Trial 25 finished with value: 0.1936085568434674 and parameters: {'n_estimatos': 276, 'max_depth': 25, 'min_samples_leaf': 1}. Best is trial 21 with value: 0.19293447872534839.\n",
            "[I 2025-04-29 09:02:16,066] Trial 26 finished with value: 0.19999579075003587 and parameters: {'n_estimatos': 242, 'max_depth': 42, 'min_samples_leaf': 3}. Best is trial 21 with value: 0.19293447872534839.\n",
            "[I 2025-04-29 09:02:29,072] Trial 27 finished with value: 0.19662662245571416 and parameters: {'n_estimatos': 96, 'max_depth': 44, 'min_samples_leaf': 2}. Best is trial 21 with value: 0.19293447872534839.\n",
            "[I 2025-04-29 09:03:00,475] Trial 28 finished with value: 0.19317062943577276 and parameters: {'n_estimatos': 184, 'max_depth': 47, 'min_samples_leaf': 1}. Best is trial 21 with value: 0.19293447872534839.\n",
            "[I 2025-04-29 09:03:49,454] Trial 29 finished with value: 0.19237402953477475 and parameters: {'n_estimatos': 300, 'max_depth': 38, 'min_samples_leaf': 1}. Best is trial 29 with value: 0.19237402953477475.\n",
            "[I 2025-04-29 09:04:23,939] Trial 30 finished with value: 0.19945502904424928 and parameters: {'n_estimatos': 286, 'max_depth': 38, 'min_samples_leaf': 3}. Best is trial 29 with value: 0.19237402953477475.\n",
            "[I 2025-04-29 09:05:12,877] Trial 31 finished with value: 0.19462771117058864 and parameters: {'n_estimatos': 299, 'max_depth': 40, 'min_samples_leaf': 1}. Best is trial 29 with value: 0.19237402953477475.\n",
            "[I 2025-04-29 09:05:53,913] Trial 32 finished with value: 0.19424142976595585 and parameters: {'n_estimatos': 252, 'max_depth': 43, 'min_samples_leaf': 1}. Best is trial 29 with value: 0.19237402953477475.\n",
            "[I 2025-04-29 09:06:31,473] Trial 33 finished with value: 0.19256232069743634 and parameters: {'n_estimatos': 231, 'max_depth': 48, 'min_samples_leaf': 1}. Best is trial 29 with value: 0.19237402953477475.\n",
            "[I 2025-04-29 09:07:06,339] Trial 34 finished with value: 0.1947635238909762 and parameters: {'n_estimatos': 214, 'max_depth': 48, 'min_samples_leaf': 1}. Best is trial 29 with value: 0.19237402953477475.\n",
            "[I 2025-04-29 09:07:26,202] Trial 35 finished with value: 0.19697105919965388 and parameters: {'n_estimatos': 145, 'max_depth': 37, 'min_samples_leaf': 2}. Best is trial 29 with value: 0.19237402953477475.\n",
            "[I 2025-04-29 09:08:03,036] Trial 36 finished with value: 0.19373003060269406 and parameters: {'n_estimatos': 228, 'max_depth': 44, 'min_samples_leaf': 1}. Best is trial 29 with value: 0.19237402953477475.\n",
            "[I 2025-04-29 09:08:27,437] Trial 37 finished with value: 0.19525224267088462 and parameters: {'n_estimatos': 183, 'max_depth': 34, 'min_samples_leaf': 2}. Best is trial 29 with value: 0.19237402953477475.\n",
            "[I 2025-04-29 09:09:07,599] Trial 38 finished with value: 0.19356098264699073 and parameters: {'n_estimatos': 245, 'max_depth': 25, 'min_samples_leaf': 1}. Best is trial 29 with value: 0.19237402953477475.\n",
            "[I 2025-04-29 09:09:46,214] Trial 39 finished with value: 0.1937337594009482 and parameters: {'n_estimatos': 237, 'max_depth': 40, 'min_samples_leaf': 1}. Best is trial 29 with value: 0.19237402953477475.\n",
            "[I 2025-04-29 09:10:22,713] Trial 40 finished with value: 0.19504361641031817 and parameters: {'n_estimatos': 272, 'max_depth': 48, 'min_samples_leaf': 2}. Best is trial 29 with value: 0.19237402953477475.\n",
            "[I 2025-04-29 09:11:08,726] Trial 41 finished with value: 0.19330833692673124 and parameters: {'n_estimatos': 285, 'max_depth': 46, 'min_samples_leaf': 1}. Best is trial 29 with value: 0.19237402953477475.\n",
            "[I 2025-04-29 09:11:46,559] Trial 42 finished with value: 0.19320469444166935 and parameters: {'n_estimatos': 233, 'max_depth': 42, 'min_samples_leaf': 1}. Best is trial 29 with value: 0.19237402953477475.\n",
            "[I 2025-04-29 09:12:20,571] Trial 43 finished with value: 0.19337007488701094 and parameters: {'n_estimatos': 208, 'max_depth': 50, 'min_samples_leaf': 1}. Best is trial 29 with value: 0.19237402953477475.\n",
            "[I 2025-04-29 09:13:02,614] Trial 44 finished with value: 0.1941325249220971 and parameters: {'n_estimatos': 261, 'max_depth': 45, 'min_samples_leaf': 1}. Best is trial 29 with value: 0.19237402953477475.\n",
            "[I 2025-04-29 09:13:51,045] Trial 45 finished with value: 0.19367118497926805 and parameters: {'n_estimatos': 298, 'max_depth': 48, 'min_samples_leaf': 1}. Best is trial 29 with value: 0.19237402953477475.\n",
            "[I 2025-04-29 09:14:10,325] Trial 46 finished with value: 0.20508838605143898 and parameters: {'n_estimatos': 171, 'max_depth': 35, 'min_samples_leaf': 4}. Best is trial 29 with value: 0.19237402953477475.\n",
            "[I 2025-04-29 09:14:46,715] Trial 47 finished with value: 0.19565269173912175 and parameters: {'n_estimatos': 249, 'max_depth': 15, 'min_samples_leaf': 1}. Best is trial 29 with value: 0.19237402953477475.\n",
            "[I 2025-04-29 09:15:12,594] Trial 48 finished with value: 0.19452978359158365 and parameters: {'n_estimatos': 193, 'max_depth': 41, 'min_samples_leaf': 2}. Best is trial 29 with value: 0.19237402953477475.\n",
            "[I 2025-04-29 09:15:48,426] Trial 49 finished with value: 0.19379570862030016 and parameters: {'n_estimatos': 220, 'max_depth': 50, 'min_samples_leaf': 1}. Best is trial 29 with value: 0.19237402953477475.\n"
          ]
        },
        {
          "output_type": "stream",
          "name": "stdout",
          "text": [
            "Best hyperparameters: {'n_estimatos': 300, 'max_depth': 38, 'min_samples_leaf': 1}\n"
          ]
        }
      ]
    },
    {
      "cell_type": "markdown",
      "source": [
        "### Nueral Network"
      ],
      "metadata": {
        "id": "LJP8RrYJcSMA"
      }
    },
    {
      "cell_type": "code",
      "source": [
        "import torch.optim as optim\n",
        "import torch\n",
        "from torch.utils.data import TensorDataset\n",
        "\n",
        "scaler = StandardScaler()\n",
        "X, y =  df.drop('Target Pressure (bar)', axis=1), df['Target Pressure (bar)']\n",
        "X_test = np.array(test_df.drop('Unnamed: 0', axis=1, errors='ignore'))\n",
        "\n",
        "# fit scaler to both test and training\n",
        "scaler.fit(X)\n",
        "X_labelled_nn = scaler.transform(X)\n",
        "X_test_scaled = scaler.transform(X_test)\n",
        "\n",
        "# convert to torch tensors\n",
        "X_test_nn = torch.tensor(X_test_scaled, dtype=torch.float32)\n",
        "X_train, X_val, y_train, y_val = train_test_split(\n",
        "    X_labelled_nn.astype(np.float32),\n",
        "    np.array(y).astype(np.float32).reshape(-1, 1), test_size=0.2)\n",
        "\n",
        "train_dataset = TensorDataset(torch.tensor(X_train), torch.tensor(y_train))\n",
        "val_dataset = TensorDataset(torch.tensor(X_val), torch.tensor(y_val))"
      ],
      "metadata": {
        "id": "gJv_NZVJTFg3",
        "colab": {
          "base_uri": "https://localhost:8080/"
        },
        "outputId": "607dfbc0-f81a-43d8-fa6f-ff8b134b60c9"
      },
      "execution_count": 180,
      "outputs": [
        {
          "output_type": "stream",
          "name": "stderr",
          "text": [
            "/usr/local/lib/python3.11/dist-packages/sklearn/utils/validation.py:2739: UserWarning: X does not have valid feature names, but StandardScaler was fitted with feature names\n",
            "  warnings.warn(\n"
          ]
        }
      ]
    },
    {
      "cell_type": "code",
      "source": [
        "import torch.optim as optim\n",
        "from sklearn.preprocessing import MinMaxScaler, StandardScaler\n",
        "from sklearn.metrics import mean_absolute_percentage_error\n",
        "\n",
        "import optuna\n",
        "import torch\n",
        "import torch.nn as nn\n",
        "import torch.optim as optim\n",
        "from torch.utils.data import DataLoader, TensorDataset, random_split\n",
        "from sklearn.model_selection import train_test_split\n",
        "from sklearn.metrics import mean_squared_error\n",
        "import numpy as np\n",
        "\n",
        "\n",
        "class NN(nn.Module):\n",
        "  def __init__(self, input_size, hidden_layers):\n",
        "    super(NN, self).__init__()\n",
        "    layers = []\n",
        "    layers.append(nn.Linear(input_size, hidden_layers[0]))\n",
        "    layers.append(nn.ReLU())\n",
        "\n",
        "    for i in range(1, len(hidden_layers)):\n",
        "      layers.append(nn.Linear(hidden_layers[i-1], hidden_layers[i]))\n",
        "      layers.append(nn.ReLU())\n",
        "\n",
        "    layers.append(nn.Linear(hidden_layers[-1], 1))\n",
        "    self.model = nn.Sequential(*layers)\n",
        "\n",
        "  def forward(self, x):\n",
        "    return self.model(x)\n",
        "\n",
        "\n",
        "class EarlyStopper:\n",
        "  def __init__(self, patience=10, delta=1e-5):\n",
        "    self.patience = patience\n",
        "    self.delta = delta\n",
        "    self.counter = 0\n",
        "    self.best_score = None\n",
        "    self.early_stop = False\n",
        "\n",
        "  def check(self, model, val_loader):\n",
        "    current_score = evaluate(model, val_loader)\n",
        "    if self.best_score is None or current_score < self.best_score - self.delta:\n",
        "      self.best_score = current_score\n",
        "      self.counter = 0\n",
        "    else:\n",
        "      self.counter += 1\n",
        "\n",
        "    if self.counter >= self.patience:\n",
        "      self.early_stop = True\n",
        "\n",
        "    return self.early_stop, current_score\n",
        "\n",
        "\n",
        "def evaluate(model, data_loader):\n",
        "  model.eval()\n",
        "  all_preds, all_targets = [], []\n",
        "  with torch.no_grad():\n",
        "    for xb, yb in data_loader:\n",
        "      preds = model(xb)\n",
        "      all_preds.append(preds.numpy())\n",
        "      all_targets.append(yb.numpy())\n",
        "\n",
        "  all_preds = np.vstack(all_preds)\n",
        "  all_targets = np.vstack(all_targets)\n",
        "  return mean_absolute_percentage_error(all_targets, all_preds)\n",
        "\n",
        "\n",
        "def train(model, train_loader, val_loader,\n",
        "          epochs, lr, early_stopper=None):\n",
        "\n",
        "  mape_scores = []\n",
        "  criterion = nn.MSELoss()\n",
        "  optimizer = optim.Adam(model.parameters(), lr=lr)\n",
        "\n",
        "  for epoch in range(epochs):\n",
        "    model.train()\n",
        "    for xb, yb in train_loader:\n",
        "      optimizer.zero_grad()\n",
        "      preds = model(xb)\n",
        "      loss = criterion(preds, yb)\n",
        "      loss.backward()\n",
        "      optimizer.step()\n",
        "\n",
        "    if early_stopper:\n",
        "      should_stop, epoch_mape = early_stopper.check(model, val_loader)\n",
        "      mape_scores.append(epoch_mape)\n",
        "      if should_stop:\n",
        "        print(f\"Early stopping ended training at epoch {epoch + 1}\")\n",
        "        break\n",
        "\n",
        "  final_mape = evaluate(model, val_loader)\n",
        "  return final_mape, mape_scores\n",
        "\n",
        "\n",
        "def objective(trial):\n",
        "  # hyperparameter search space\n",
        "  n_layers = trial.suggest_int(\"n_layers\", 2, 4)\n",
        "  hidden_layers = [\n",
        "      trial.suggest_int(f\"hidden layer {i}\", 16, 256)\n",
        "      for i in range(n_layers)\n",
        "  ]\n",
        "  lr = trial.suggest_float(\"lr\", 1e-4, 1e-2, log=True)\n",
        "  batch_size = trial.suggest_categorical(\"batch_size\", [32, 64])\n",
        "  model = NN(input_size=56, hidden_layers=hidden_layers)\n",
        "\n",
        "  mape, each_mape = train(\n",
        "      model,\n",
        "      train_loader=DataLoader(train_dataset, batch_size=batch_size, shuffle=True),\n",
        "      val_loader=DataLoader(val_dataset, batch_size=batch_size, shuffle=False),\n",
        "      epochs=30, # limited epochs for optimization\n",
        "      lr=lr\n",
        "  )\n",
        "  return mape\n",
        "\n",
        "\n",
        "study = optuna.create_study(direction=\"minimize\")\n",
        "study.optimize(objective, n_trials=50)\n",
        "\n",
        "print(\"Best trial:\")\n",
        "print(study.best_trial)"
      ],
      "metadata": {
        "id": "m0RhpXesKd10",
        "colab": {
          "base_uri": "https://localhost:8080/"
        },
        "outputId": "cfc20569-9652-491b-ba06-3399358626d7"
      },
      "execution_count": 185,
      "outputs": [
        {
          "output_type": "stream",
          "name": "stderr",
          "text": [
            "[I 2025-04-29 08:15:52,490] A new study created in memory with name: no-name-4afabd27-1561-4c4c-bb47-e3a0541f0290\n",
            "[I 2025-04-29 08:16:02,547] Trial 0 finished with value: 0.3322831392288208 and parameters: {'n_layers': 2, 'hidden layer 0': 16, 'hidden layer 1': 200, 'lr': 0.0009557049356789547, 'batch_size': 64}. Best is trial 0 with value: 0.3322831392288208.\n",
            "[I 2025-04-29 08:16:13,490] Trial 1 finished with value: 0.2443496137857437 and parameters: {'n_layers': 4, 'hidden layer 0': 31, 'hidden layer 1': 80, 'hidden layer 2': 150, 'hidden layer 3': 16, 'lr': 0.00299885649538166, 'batch_size': 64}. Best is trial 1 with value: 0.2443496137857437.\n",
            "[I 2025-04-29 08:16:40,529] Trial 2 finished with value: 0.18839791417121887 and parameters: {'n_layers': 4, 'hidden layer 0': 134, 'hidden layer 1': 169, 'hidden layer 2': 247, 'hidden layer 3': 156, 'lr': 0.00036849183045986714, 'batch_size': 32}. Best is trial 2 with value: 0.18839791417121887.\n",
            "[I 2025-04-29 08:16:54,912] Trial 3 finished with value: 0.21397903561592102 and parameters: {'n_layers': 3, 'hidden layer 0': 133, 'hidden layer 1': 32, 'hidden layer 2': 117, 'lr': 0.0003371107065223302, 'batch_size': 32}. Best is trial 2 with value: 0.18839791417121887.\n",
            "[I 2025-04-29 08:17:05,789] Trial 4 finished with value: 0.22957809269428253 and parameters: {'n_layers': 3, 'hidden layer 0': 130, 'hidden layer 1': 82, 'hidden layer 2': 211, 'lr': 0.0002347252956793754, 'batch_size': 64}. Best is trial 2 with value: 0.18839791417121887.\n",
            "[I 2025-04-29 08:17:16,475] Trial 5 finished with value: 0.2389877587556839 and parameters: {'n_layers': 4, 'hidden layer 0': 77, 'hidden layer 1': 144, 'hidden layer 2': 20, 'hidden layer 3': 239, 'lr': 0.00012953372235345836, 'batch_size': 64}. Best is trial 2 with value: 0.18839791417121887.\n",
            "[I 2025-04-29 08:17:30,986] Trial 6 finished with value: 0.17183347046375275 and parameters: {'n_layers': 3, 'hidden layer 0': 239, 'hidden layer 1': 191, 'hidden layer 2': 140, 'lr': 0.001259588036960852, 'batch_size': 64}. Best is trial 6 with value: 0.17183347046375275.\n",
            "[I 2025-04-29 08:17:44,038] Trial 7 finished with value: 0.20889244973659515 and parameters: {'n_layers': 2, 'hidden layer 0': 75, 'hidden layer 1': 168, 'lr': 0.0012864702251060287, 'batch_size': 32}. Best is trial 6 with value: 0.17183347046375275.\n",
            "[I 2025-04-29 08:17:54,240] Trial 8 finished with value: 0.2673846483230591 and parameters: {'n_layers': 3, 'hidden layer 0': 74, 'hidden layer 1': 93, 'hidden layer 2': 242, 'lr': 0.00019379450843504264, 'batch_size': 64}. Best is trial 6 with value: 0.17183347046375275.\n",
            "[I 2025-04-29 08:18:09,363] Trial 9 finished with value: 0.26373091340065 and parameters: {'n_layers': 3, 'hidden layer 0': 45, 'hidden layer 1': 83, 'hidden layer 2': 101, 'lr': 0.0013817271430208596, 'batch_size': 32}. Best is trial 6 with value: 0.17183347046375275.\n",
            "[I 2025-04-29 08:18:23,594] Trial 10 finished with value: 0.2764674127101898 and parameters: {'n_layers': 2, 'hidden layer 0': 253, 'hidden layer 1': 242, 'lr': 0.007892885021929716, 'batch_size': 64}. Best is trial 6 with value: 0.17183347046375275.\n",
            "[I 2025-04-29 08:18:55,607] Trial 11 finished with value: 0.1736542284488678 and parameters: {'n_layers': 4, 'hidden layer 0': 232, 'hidden layer 1': 207, 'hidden layer 2': 179, 'hidden layer 3': 151, 'lr': 0.000575782535269012, 'batch_size': 32}. Best is trial 6 with value: 0.17183347046375275.\n",
            "[I 2025-04-29 08:19:30,063] Trial 12 finished with value: 0.17022812366485596 and parameters: {'n_layers': 4, 'hidden layer 0': 252, 'hidden layer 1': 254, 'hidden layer 2': 167, 'hidden layer 3': 127, 'lr': 0.0007320510467178641, 'batch_size': 32}. Best is trial 12 with value: 0.17022812366485596.\n",
            "[I 2025-04-29 08:19:58,016] Trial 13 finished with value: 0.20840662717819214 and parameters: {'n_layers': 3, 'hidden layer 0': 207, 'hidden layer 1': 256, 'hidden layer 2': 83, 'lr': 0.003044110136319411, 'batch_size': 32}. Best is trial 12 with value: 0.17022812366485596.\n",
            "[I 2025-04-29 08:20:15,976] Trial 14 finished with value: 0.18259820342063904 and parameters: {'n_layers': 4, 'hidden layer 0': 187, 'hidden layer 1': 229, 'hidden layer 2': 163, 'hidden layer 3': 59, 'lr': 0.002458865995827993, 'batch_size': 64}. Best is trial 12 with value: 0.17022812366485596.\n",
            "[I 2025-04-29 08:20:39,059] Trial 15 finished with value: 0.17867012321949005 and parameters: {'n_layers': 3, 'hidden layer 0': 179, 'hidden layer 1': 206, 'hidden layer 2': 196, 'lr': 0.0006718323724880024, 'batch_size': 32}. Best is trial 12 with value: 0.17022812366485596.\n",
            "[I 2025-04-29 08:21:02,295] Trial 16 finished with value: 0.18776926398277283 and parameters: {'n_layers': 3, 'hidden layer 0': 251, 'hidden layer 1': 177, 'hidden layer 2': 61, 'lr': 0.0019181875282227045, 'batch_size': 32}. Best is trial 12 with value: 0.17022812366485596.\n",
            "[I 2025-04-29 08:21:18,463] Trial 17 finished with value: 0.21579228341579437 and parameters: {'n_layers': 4, 'hidden layer 0': 218, 'hidden layer 1': 135, 'hidden layer 2': 133, 'hidden layer 3': 99, 'lr': 0.006258352286233405, 'batch_size': 64}. Best is trial 12 with value: 0.17022812366485596.\n",
            "[I 2025-04-29 08:21:28,245] Trial 18 finished with value: 0.2309931218624115 and parameters: {'n_layers': 2, 'hidden layer 0': 166, 'hidden layer 1': 228, 'lr': 0.000672458677810641, 'batch_size': 64}. Best is trial 12 with value: 0.17022812366485596.\n",
            "[I 2025-04-29 08:21:51,098] Trial 19 finished with value: 0.2664552628993988 and parameters: {'n_layers': 3, 'hidden layer 0': 206, 'hidden layer 1': 124, 'hidden layer 2': 144, 'lr': 0.00557638718626749, 'batch_size': 32}. Best is trial 12 with value: 0.17022812366485596.\n",
            "[I 2025-04-29 08:22:07,860] Trial 20 finished with value: 0.1810203194618225 and parameters: {'n_layers': 4, 'hidden layer 0': 159, 'hidden layer 1': 190, 'hidden layer 2': 216, 'hidden layer 3': 218, 'lr': 0.00046907634715088006, 'batch_size': 64}. Best is trial 12 with value: 0.17022812366485596.\n",
            "[I 2025-04-29 08:22:40,575] Trial 21 finished with value: 0.1617375612258911 and parameters: {'n_layers': 4, 'hidden layer 0': 231, 'hidden layer 1': 219, 'hidden layer 2': 174, 'hidden layer 3': 154, 'lr': 0.0006905040351981676, 'batch_size': 32}. Best is trial 21 with value: 0.1617375612258911.\n",
            "[I 2025-04-29 08:23:16,825] Trial 22 finished with value: 0.17298755049705505 and parameters: {'n_layers': 4, 'hidden layer 0': 231, 'hidden layer 1': 226, 'hidden layer 2': 174, 'hidden layer 3': 181, 'lr': 0.0009708993481031728, 'batch_size': 32}. Best is trial 21 with value: 0.1617375612258911.\n",
            "[I 2025-04-29 08:23:51,912] Trial 23 finished with value: 0.17681683599948883 and parameters: {'n_layers': 4, 'hidden layer 0': 254, 'hidden layer 1': 256, 'hidden layer 2': 124, 'hidden layer 3': 101, 'lr': 0.0017063811620321766, 'batch_size': 32}. Best is trial 21 with value: 0.1617375612258911.\n",
            "[I 2025-04-29 08:24:26,427] Trial 24 finished with value: 0.16240409016609192 and parameters: {'n_layers': 4, 'hidden layer 0': 231, 'hidden layer 1': 219, 'hidden layer 2': 198, 'hidden layer 3': 109, 'lr': 0.0009144303656326401, 'batch_size': 32}. Best is trial 21 with value: 0.1617375612258911.\n",
            "[I 2025-04-29 08:24:59,617] Trial 25 finished with value: 0.17230944335460663 and parameters: {'n_layers': 4, 'hidden layer 0': 198, 'hidden layer 1': 225, 'hidden layer 2': 203, 'hidden layer 3': 110, 'lr': 0.000799895838256879, 'batch_size': 32}. Best is trial 21 with value: 0.1617375612258911.\n",
            "[I 2025-04-29 08:25:29,152] Trial 26 finished with value: 0.17049507796764374 and parameters: {'n_layers': 4, 'hidden layer 0': 220, 'hidden layer 1': 242, 'hidden layer 2': 186, 'hidden layer 3': 126, 'lr': 0.0004216719407114735, 'batch_size': 32}. Best is trial 21 with value: 0.1617375612258911.\n",
            "[I 2025-04-29 08:25:56,440] Trial 27 finished with value: 0.19105644524097443 and parameters: {'n_layers': 4, 'hidden layer 0': 105, 'hidden layer 1': 216, 'hidden layer 2': 225, 'hidden layer 3': 189, 'lr': 0.00028000764712950653, 'batch_size': 32}. Best is trial 21 with value: 0.1617375612258911.\n",
            "[I 2025-04-29 08:26:15,578] Trial 28 finished with value: 0.24908140301704407 and parameters: {'n_layers': 4, 'hidden layer 0': 155, 'hidden layer 1': 16, 'hidden layer 2': 167, 'hidden layer 3': 64, 'lr': 0.000124236042606968, 'batch_size': 32}. Best is trial 21 with value: 0.1617375612258911.\n",
            "[I 2025-04-29 08:26:49,380] Trial 29 finished with value: 0.16459721326828003 and parameters: {'n_layers': 4, 'hidden layer 0': 189, 'hidden layer 1': 156, 'hidden layer 2': 234, 'hidden layer 3': 141, 'lr': 0.0009596332478313003, 'batch_size': 32}. Best is trial 21 with value: 0.1617375612258911.\n",
            "[I 2025-04-29 08:27:23,350] Trial 30 finished with value: 0.18231533467769623 and parameters: {'n_layers': 4, 'hidden layer 0': 189, 'hidden layer 1': 150, 'hidden layer 2': 233, 'hidden layer 3': 173, 'lr': 0.0010430702623811852, 'batch_size': 32}. Best is trial 21 with value: 0.1617375612258911.\n",
            "[I 2025-04-29 08:27:53,136] Trial 31 finished with value: 0.17501051723957062 and parameters: {'n_layers': 4, 'hidden layer 0': 217, 'hidden layer 1': 189, 'hidden layer 2': 197, 'hidden layer 3': 129, 'lr': 0.000540684232235342, 'batch_size': 32}. Best is trial 21 with value: 0.1617375612258911.\n",
            "[I 2025-04-29 08:28:24,019] Trial 32 finished with value: 0.16747796535491943 and parameters: {'n_layers': 4, 'hidden layer 0': 238, 'hidden layer 1': 113, 'hidden layer 2': 256, 'hidden layer 3': 138, 'lr': 0.0009348250315721515, 'batch_size': 32}. Best is trial 21 with value: 0.1617375612258911.\n",
            "[I 2025-04-29 08:28:55,431] Trial 33 finished with value: 0.1814696192741394 and parameters: {'n_layers': 4, 'hidden layer 0': 234, 'hidden layer 1': 122, 'hidden layer 2': 229, 'hidden layer 3': 147, 'lr': 0.0009188862161440218, 'batch_size': 32}. Best is trial 21 with value: 0.1617375612258911.\n",
            "[I 2025-04-29 08:29:23,853] Trial 34 finished with value: 0.21976006031036377 and parameters: {'n_layers': 4, 'hidden layer 0': 175, 'hidden layer 1': 100, 'hidden layer 2': 250, 'hidden layer 3': 84, 'lr': 0.0018893261197074, 'batch_size': 32}. Best is trial 21 with value: 0.1617375612258911.\n",
            "[I 2025-04-29 08:29:55,720] Trial 35 finished with value: 0.20280838012695312 and parameters: {'n_layers': 4, 'hidden layer 0': 201, 'hidden layer 1': 54, 'hidden layer 2': 251, 'hidden layer 3': 164, 'lr': 0.003575370637703263, 'batch_size': 32}. Best is trial 21 with value: 0.1617375612258911.\n",
            "[I 2025-04-29 08:30:24,279] Trial 36 finished with value: 0.17636379599571228 and parameters: {'n_layers': 4, 'hidden layer 0': 147, 'hidden layer 1': 157, 'hidden layer 2': 220, 'hidden layer 3': 198, 'lr': 0.00034139163042951846, 'batch_size': 32}. Best is trial 21 with value: 0.1617375612258911.\n",
            "[I 2025-04-29 08:30:53,117] Trial 37 finished with value: 0.19045348465442657 and parameters: {'n_layers': 4, 'hidden layer 0': 240, 'hidden layer 1': 61, 'hidden layer 2': 256, 'hidden layer 3': 137, 'lr': 0.0011536095614962064, 'batch_size': 32}. Best is trial 21 with value: 0.1617375612258911.\n",
            "[I 2025-04-29 08:31:25,209] Trial 38 finished with value: 0.21301227807998657 and parameters: {'n_layers': 4, 'hidden layer 0': 222, 'hidden layer 1': 114, 'hidden layer 2': 233, 'hidden layer 3': 119, 'lr': 0.0015462521799314397, 'batch_size': 32}. Best is trial 21 with value: 0.1617375612258911.\n",
            "[I 2025-04-29 08:31:44,460] Trial 39 finished with value: 0.20865006744861603 and parameters: {'n_layers': 3, 'hidden layer 0': 193, 'hidden layer 1': 172, 'hidden layer 2': 210, 'lr': 0.00019273442049174425, 'batch_size': 32}. Best is trial 21 with value: 0.1617375612258911.\n",
            "[I 2025-04-29 08:32:09,669] Trial 40 finished with value: 0.18980085849761963 and parameters: {'n_layers': 4, 'hidden layer 0': 112, 'hidden layer 1': 134, 'hidden layer 2': 155, 'hidden layer 3': 84, 'lr': 0.002392984673370082, 'batch_size': 32}. Best is trial 21 with value: 0.1617375612258911.\n",
            "[I 2025-04-29 08:32:46,338] Trial 41 finished with value: 0.1745581030845642 and parameters: {'n_layers': 4, 'hidden layer 0': 242, 'hidden layer 1': 239, 'hidden layer 2': 188, 'hidden layer 3': 144, 'lr': 0.0008955737477302478, 'batch_size': 32}. Best is trial 21 with value: 0.1617375612258911.\n",
            "[I 2025-04-29 08:33:17,192] Trial 42 finished with value: 0.16533148288726807 and parameters: {'n_layers': 4, 'hidden layer 0': 247, 'hidden layer 1': 213, 'hidden layer 2': 154, 'hidden layer 3': 128, 'lr': 0.0007609893272141767, 'batch_size': 32}. Best is trial 21 with value: 0.1617375612258911.\n",
            "[I 2025-04-29 08:33:49,609] Trial 43 finished with value: 0.16281314194202423 and parameters: {'n_layers': 4, 'hidden layer 0': 226, 'hidden layer 1': 199, 'hidden layer 2': 239, 'hidden layer 3': 164, 'lr': 0.0005035862277926473, 'batch_size': 32}. Best is trial 21 with value: 0.1617375612258911.\n",
            "[I 2025-04-29 08:34:18,176] Trial 44 finished with value: 0.16536347568035126 and parameters: {'n_layers': 4, 'hidden layer 0': 208, 'hidden layer 1': 199, 'hidden layer 2': 154, 'hidden layer 3': 164, 'lr': 0.0005488623096329134, 'batch_size': 32}. Best is trial 21 with value: 0.1617375612258911.\n",
            "[I 2025-04-29 08:34:44,218] Trial 45 finished with value: 0.17916104197502136 and parameters: {'n_layers': 4, 'hidden layer 0': 223, 'hidden layer 1': 214, 'hidden layer 2': 208, 'hidden layer 3': 32, 'lr': 0.0003990139793743542, 'batch_size': 32}. Best is trial 21 with value: 0.1617375612258911.\n",
            "[I 2025-04-29 08:35:14,040] Trial 46 finished with value: 0.17459088563919067 and parameters: {'n_layers': 4, 'hidden layer 0': 228, 'hidden layer 1': 185, 'hidden layer 2': 240, 'hidden layer 3': 205, 'lr': 0.0002995984636959325, 'batch_size': 32}. Best is trial 21 with value: 0.1617375612258911.\n",
            "[I 2025-04-29 08:35:29,056] Trial 47 finished with value: 0.22244969010353088 and parameters: {'n_layers': 2, 'hidden layer 0': 212, 'hidden layer 1': 160, 'lr': 0.0006044400368325725, 'batch_size': 32}. Best is trial 21 with value: 0.1617375612258911.\n",
            "[I 2025-04-29 08:35:51,943] Trial 48 finished with value: 0.17608080804347992 and parameters: {'n_layers': 3, 'hidden layer 0': 247, 'hidden layer 1': 199, 'hidden layer 2': 179, 'lr': 0.0004773742061280203, 'batch_size': 32}. Best is trial 21 with value: 0.1617375612258911.\n",
            "[I 2025-04-29 08:36:23,808] Trial 49 finished with value: 0.16873802244663239 and parameters: {'n_layers': 4, 'hidden layer 0': 185, 'hidden layer 1': 214, 'hidden layer 2': 190, 'hidden layer 3': 159, 'lr': 0.0007248231761582449, 'batch_size': 32}. Best is trial 21 with value: 0.1617375612258911.\n"
          ]
        },
        {
          "output_type": "stream",
          "name": "stdout",
          "text": [
            "Best trial:\n",
            "FrozenTrial(number=21, state=1, values=[0.1617375612258911], datetime_start=datetime.datetime(2025, 4, 29, 8, 22, 7, 861383), datetime_complete=datetime.datetime(2025, 4, 29, 8, 22, 40, 574909), params={'n_layers': 4, 'hidden layer 0': 231, 'hidden layer 1': 219, 'hidden layer 2': 174, 'hidden layer 3': 154, 'lr': 0.0006905040351981676, 'batch_size': 32}, user_attrs={}, system_attrs={}, intermediate_values={}, distributions={'n_layers': IntDistribution(high=4, log=False, low=2, step=1), 'hidden layer 0': IntDistribution(high=256, log=False, low=16, step=1), 'hidden layer 1': IntDistribution(high=256, log=False, low=16, step=1), 'hidden layer 2': IntDistribution(high=256, log=False, low=16, step=1), 'hidden layer 3': IntDistribution(high=256, log=False, low=16, step=1), 'lr': FloatDistribution(high=0.01, log=True, low=0.0001, step=None), 'batch_size': CategoricalDistribution(choices=(32, 64))}, trial_id=21, value=None)\n"
          ]
        }
      ]
    },
    {
      "cell_type": "code",
      "source": [
        "study.best_params"
      ],
      "metadata": {
        "id": "7iNVWZHprvUu",
        "colab": {
          "base_uri": "https://localhost:8080/"
        },
        "outputId": "ea25a70c-59c0-4cf0-dc56-6bd8edf4b852"
      },
      "execution_count": 186,
      "outputs": [
        {
          "output_type": "execute_result",
          "data": {
            "text/plain": [
              "{'n_layers': 4,\n",
              " 'hidden layer 0': 231,\n",
              " 'hidden layer 1': 219,\n",
              " 'hidden layer 2': 174,\n",
              " 'hidden layer 3': 154,\n",
              " 'lr': 0.0006905040351981676,\n",
              " 'batch_size': 32}"
            ]
          },
          "metadata": {},
          "execution_count": 186
        }
      ]
    },
    {
      "cell_type": "markdown",
      "source": [
        "## Final Evaluation"
      ],
      "metadata": {
        "id": "bFtX1ofHwlQK"
      }
    },
    {
      "cell_type": "code",
      "source": [
        "batch_size = 32\n",
        "model = NN(hidden_layers=[231, 219, 174, 154], input_size=56)\n",
        "\n",
        "mape, mape_scores = train(\n",
        "    model,\n",
        "    train_loader=DataLoader(train_dataset, batch_size=batch_size, shuffle=True),\n",
        "    val_loader=DataLoader(val_dataset, batch_size=batch_size, shuffle=False),\n",
        "    epochs=500,\n",
        "    # relies on early stopping\n",
        "    early_stopper=EarlyStopper(patience=50, delta=1e-5),\n",
        "    lr=0.0006905040351981676,\n",
        ")\n",
        "\n",
        "print('validation MAPE: ', mape)\n",
        "plt.plot(mape_scores)\n",
        "plt.title('validation MAPE vs epoch')\n",
        "plt.show()"
      ],
      "metadata": {
        "id": "aR_V2Jscupn6",
        "colab": {
          "base_uri": "https://localhost:8080/",
          "height": 489
        },
        "outputId": "1ed1150e-2d02-448f-e5c3-1fd600546433"
      },
      "execution_count": 187,
      "outputs": [
        {
          "output_type": "stream",
          "name": "stdout",
          "text": [
            "Early stopping ended training at epoch 172\n",
            "validation MAPE:  0.15299952030181885\n"
          ]
        },
        {
          "output_type": "display_data",
          "data": {
            "text/plain": [
              "<Figure size 640x480 with 1 Axes>"
            ],
            "image/png": "[encoded data removed]"
          },
          "metadata": {}
        }
      ]
    },
    {
      "cell_type": "code",
      "source": [
        "model.eval()\n",
        "with torch.no_grad():\n",
        "    y_pred = model(X_test_nn).numpy()\n",
        "\n",
        "y_pred"
      ],
      "metadata": {
        "id": "rYhxc2qfgydD",
        "colab": {
          "base_uri": "https://localhost:8080/"
        },
        "outputId": "dc1ab261-b061-430f-dd76-a7b5d7406e48"
      },
      "execution_count": 188,
      "outputs": [
        {
          "output_type": "execute_result",
          "data": {
            "text/plain": [
              "array([[0.11624733],\n",
              "       [0.0904935 ],\n",
              "       [0.10950652],\n",
              "       ...,\n",
              "       [0.6828732 ],\n",
              "       [0.6253383 ],\n",
              "       [0.6081658 ]], shape=(3203, 1), dtype=float32)"
            ]
          },
          "metadata": {},
          "execution_count": 188
        }
      ]
    },
    {
      "cell_type": "code",
      "source": [
        "df = pd.DataFrame({\n",
        "    'Target Pressure (bar)': y_pred.reshape(len(y_pred)),\n",
        "    'ID': np.array(list(range(3203)))\n",
        "})"
      ],
      "metadata": {
        "id": "-E1MInWMz_jP"
      },
      "execution_count": 189,
      "outputs": []
    },
    {
      "cell_type": "code",
      "source": [
        "df"
      ],
      "metadata": {
        "id": "t_HlhXCrR6WZ",
        "colab": {
          "base_uri": "https://localhost:8080/",
          "height": 423
        },
        "outputId": "e0871d39-34ae-420b-8692-1cb135146007"
      },
      "execution_count": 190,
      "outputs": [
        {
          "output_type": "execute_result",
          "data": {
            "text/plain": [
              "      Target Pressure (bar)    ID\n",
              "0                  0.116247     0\n",
              "1                  0.090494     1\n",
              "2                  0.109507     2\n",
              "3                  0.099341     3\n",
              "4                  0.088304     4\n",
              "...                     ...   ...\n",
              "3198               0.802418  3198\n",
              "3199               0.839750  3199\n",
              "3200               0.682873  3200\n",
              "3201               0.625338  3201\n",
              "3202               0.608166  3202\n",
              "\n",
              "[3203 rows x 2 columns]"
            ],
            "text/html": [
              "\n",
              "  <div id=\"df-89638163-1f0c-4183-9518-c4d0166ae9f8\" class=\"colab-df-container\">\n",
              "    <div>\n",
              "<style scoped>\n",
              "    .dataframe tbody tr th:only-of-type {\n",
              "        vertical-align: middle;\n",
              "    }\n",
              "\n",
              "    .dataframe tbody tr th {\n",
              "        vertical-align: top;\n",
              "    }\n",
              "\n",
              "    .dataframe thead th {\n",
              "        text-align: right;\n",
              "    }\n",
              "</style>\n",
              "<table border=\"1\" class=\"dataframe\">\n",
              "  <thead>\n",
              "    <tr style=\"text-align: right;\">\n",
              "      <th></th>\n",
              "      <th>Target Pressure (bar)</th>\n",
              "      <th>ID</th>\n",
              "    </tr>\n",
              "  </thead>\n",
              "  <tbody>\n",
              "    <tr>\n",
              "      <th>0</th>\n",
              "      <td>0.116247</td>\n",
              "      <td>0</td>\n",
              "    </tr>\n",
              "    <tr>\n",
              "      <th>1</th>\n",
              "      <td>0.090494</td>\n",
              "      <td>1</td>\n",
              "    </tr>\n",
              "    <tr>\n",
              "      <th>2</th>\n",
              "      <td>0.109507</td>\n",
              "      <td>2</td>\n",
              "    </tr>\n",
              "    <tr>\n",
              "      <th>3</th>\n",
              "      <td>0.099341</td>\n",
              "      <td>3</td>\n",
              "    </tr>\n",
              "    <tr>\n",
              "      <th>4</th>\n",
              "      <td>0.088304</td>\n",
              "      <td>4</td>\n",
              "    </tr>\n",
              "    <tr>\n",
              "      <th>...</th>\n",
              "      <td>...</td>\n",
              "      <td>...</td>\n",
              "    </tr>\n",
              "    <tr>\n",
              "      <th>3198</th>\n",
              "      <td>0.802418</td>\n",
              "      <td>3198</td>\n",
              "    </tr>\n",
              "    <tr>\n",
              "      <th>3199</th>\n",
              "      <td>0.839750</td>\n",
              "      <td>3199</td>\n",
              "    </tr>\n",
              "    <tr>\n",
              "      <th>3200</th>\n",
              "      <td>0.682873</td>\n",
              "      <td>3200</td>\n",
              "    </tr>\n",
              "    <tr>\n",
              "      <th>3201</th>\n",
              "      <td>0.625338</td>\n",
              "      <td>3201</td>\n",
              "    </tr>\n",
              "    <tr>\n",
              "      <th>3202</th>\n",
              "      <td>0.608166</td>\n",
              "      <td>3202</td>\n",
              "    </tr>\n",
              "  </tbody>\n",
              "</table>\n",
              "<p>3203 rows × 2 columns</p>\n",
              "</div>\n",
              "    <div class=\"colab-df-buttons\">\n",
              "\n",
              "  <div class=\"colab-df-container\">\n",
              "    <button class=\"colab-df-convert\" onclick=\"convertToInteractive('df-89638163-1f0c-4183-9518-c4d0166ae9f8')\"\n",
              "            title=\"Convert this dataframe to an interactive table.\"\n",
              "            style=\"display:none;\">\n",
              "\n",
              "  <svg xmlns=\"http://www.w3.org/2000/svg\" height=\"24px\" viewBox=\"0 -960 960 960\">\n",
              "    <path d=\"M120-120v-720h720v720H120Zm60-500h600v-160H180v160Zm220 220h160v-160H400v160Zm0 220h160v-160H400v160ZM180-400h160v-160H180v160Zm440 0h160v-160H620v160ZM180-180h160v-160H180v160Zm440 0h160v-160H620v160Z\"/>\n",
              "  </svg>\n",
              "    </button>\n",
              "\n",
              "  <style>\n",
              "    .colab-df-container {\n",
              "      display:flex;\n",
              "      gap: 12px;\n",
              "    }\n",
              "\n",
              "    .colab-df-convert {\n",
              "      background-color: #E8F0FE;\n",
              "      border: none;\n",
              "      border-radius: 50%;\n",
              "      cursor: pointer;\n",
              "      display: none;\n",
              "      fill: #1967D2;\n",
              "      height: 32px;\n",
              "      padding: 0 0 0 0;\n",
              "      width: 32px;\n",
              "    }\n",
              "\n",
              "    .colab-df-convert:hover {\n",
              "      background-color: #E2EBFA;\n",
              "      box-shadow: 0px 1px 2px rgba(60, 64, 67, 0.3), 0px 1px 3px 1px rgba(60, 64, 67, 0.15);\n",
              "      fill: #174EA6;\n",
              "    }\n",
              "\n",
              "    .colab-df-buttons div {\n",
              "      margin-bottom: 4px;\n",
              "    }\n",
              "\n",
              "    [theme=dark] .colab-df-convert {\n",
              "      background-color: #3B4455;\n",
              "      fill: #D2E3FC;\n",
              "    }\n",
              "\n",
              "    [theme=dark] .colab-df-convert:hover {\n",
              "      background-color: #434B5C;\n",
              "      box-shadow: 0px 1px 3px 1px rgba(0, 0, 0, 0.15);\n",
              "      filter: drop-shadow(0px 1px 2px rgba(0, 0, 0, 0.3));\n",
              "      fill: #FFFFFF;\n",
              "    }\n",
              "  </style>\n",
              "\n",
              "    <script>\n",
              "      const buttonEl =\n",
              "        document.querySelector('#df-89638163-1f0c-4183-9518-c4d0166ae9f8 button.colab-df-convert');\n",
              "      buttonEl.style.display =\n",
              "        google.colab.kernel.accessAllowed ? 'block' : 'none';\n",
              "\n",
              "      async function convertToInteractive(key) {\n",
              "        const element = document.querySelector('#df-89638163-1f0c-4183-9518-c4d0166ae9f8');\n",
              "        const dataTable =\n",
              "          await google.colab.kernel.invokeFunction('convertToInteractive',\n",
              "                                                    [key], {});\n",
              "        if (!dataTable) return;\n",
              "\n",
              "        const docLinkHtml = 'Like what you see? Visit the ' +\n",
              "          '<a target=\"_blank\" href=https://colab.research.google.com/notebooks/data_table.ipynb>data table notebook</a>'\n",
              "          + ' to learn more about interactive tables.';\n",
              "        element.innerHTML = '';\n",
              "        dataTable['output_type'] = 'display_data';\n",
              "        await google.colab.output.renderOutput(dataTable, element);\n",
              "        const docLink = document.createElement('div');\n",
              "        docLink.innerHTML = docLinkHtml;\n",
              "        element.appendChild(docLink);\n",
              "      }\n",
              "    </script>\n",
              "  </div>\n",
              "\n",
              "\n",
              "    <div id=\"df-36fd6a3e-31bb-4ae2-900e-07b2e7a5b03a\">\n",
              "      <button class=\"colab-df-quickchart\" onclick=\"quickchart('df-36fd6a3e-31bb-4ae2-900e-07b2e7a5b03a')\"\n",
              "                title=\"Suggest charts\"\n",
              "                style=\"display:none;\">\n",
              "\n",
              "<svg xmlns=\"http://www.w3.org/2000/svg\" height=\"24px\"viewBox=\"0 0 24 24\"\n",
              "     width=\"24px\">\n",
              "    <g>\n",
              "        <path d=\"M19 3H5c-1.1 0-2 .9-2 2v14c0 1.1.9 2 2 2h14c1.1 0 2-.9 2-2V5c0-1.1-.9-2-2-2zM9 17H7v-7h2v7zm4 0h-2V7h2v10zm4 0h-2v-4h2v4z\"/>\n",
              "    </g>\n",
              "</svg>\n",
              "      </button>\n",
              "\n",
              "<style>\n",
              "  .colab-df-quickchart {\n",
              "      --bg-color: #E8F0FE;\n",
              "      --fill-color: #1967D2;\n",
              "      --hover-bg-color: #E2EBFA;\n",
              "      --hover-fill-color: #174EA6;\n",
              "      --disabled-fill-color: #AAA;\n",
              "      --disabled-bg-color: #DDD;\n",
              "  }\n",
              "\n",
              "  [theme=dark] .colab-df-quickchart {\n",
              "      --bg-color: #3B4455;\n",
              "      --fill-color: #D2E3FC;\n",
              "      --hover-bg-color: #434B5C;\n",
              "      --hover-fill-color: #FFFFFF;\n",
              "      --disabled-bg-color: #3B4455;\n",
              "      --disabled-fill-color: #666;\n",
              "  }\n",
              "\n",
              "  .colab-df-quickchart {\n",
              "    background-color: var(--bg-color);\n",
              "    border: none;\n",
              "    border-radius: 50%;\n",
              "    cursor: pointer;\n",
              "    display: none;\n",
              "    fill: var(--fill-color);\n",
              "    height: 32px;\n",
              "    padding: 0;\n",
              "    width: 32px;\n",
              "  }\n",
              "\n",
              "  .colab-df-quickchart:hover {\n",
              "    background-color: var(--hover-bg-color);\n",
              "    box-shadow: 0 1px 2px rgba(60, 64, 67, 0.3), 0 1px 3px 1px rgba(60, 64, 67, 0.15);\n",
              "    fill: var(--button-hover-fill-color);\n",
              "  }\n",
              "\n",
              "  .colab-df-quickchart-complete:disabled,\n",
              "  .colab-df-quickchart-complete:disabled:hover {\n",
              "    background-color: var(--disabled-bg-color);\n",
              "    fill: var(--disabled-fill-color);\n",
              "    box-shadow: none;\n",
              "  }\n",
              "\n",
              "  .colab-df-spinner {\n",
              "    border: 2px solid var(--fill-color);\n",
              "    border-color: transparent;\n",
              "    border-bottom-color: var(--fill-color);\n",
              "    animation:\n",
              "      spin 1s steps(1) infinite;\n",
              "  }\n",
              "\n",
              "  @keyframes spin {\n",
              "    0% {\n",
              "      border-color: transparent;\n",
              "      border-bottom-color: var(--fill-color);\n",
              "      border-left-color: var(--fill-color);\n",
              "    }\n",
              "    20% {\n",
              "      border-color: transparent;\n",
              "      border-left-color: var(--fill-color);\n",
              "      border-top-color: var(--fill-color);\n",
              "    }\n",
              "    30% {\n",
              "      border-color: transparent;\n",
              "      border-left-color: var(--fill-color);\n",
              "      border-top-color: var(--fill-color);\n",
              "      border-right-color: var(--fill-color);\n",
              "    }\n",
              "    40% {\n",
              "      border-color: transparent;\n",
              "      border-right-color: var(--fill-color);\n",
              "      border-top-color: var(--fill-color);\n",
              "    }\n",
              "    60% {\n",
              "      border-color: transparent;\n",
              "      border-right-color: var(--fill-color);\n",
              "    }\n",
              "    80% {\n",
              "      border-color: transparent;\n",
              "      border-right-color: var(--fill-color);\n",
              "      border-bottom-color: var(--fill-color);\n",
              "    }\n",
              "    90% {\n",
              "      border-color: transparent;\n",
              "      border-bottom-color: var(--fill-color);\n",
              "    }\n",
              "  }\n",
              "</style>\n",
              "\n",
              "      <script>\n",
              "        async function quickchart(key) {\n",
              "          const quickchartButtonEl =\n",
              "            document.querySelector('#' + key + ' button');\n",
              "          quickchartButtonEl.disabled = true;  // To prevent multiple clicks.\n",
              "          quickchartButtonEl.classList.add('colab-df-spinner');\n",
              "          try {\n",
              "            const charts = await google.colab.kernel.invokeFunction(\n",
              "                'suggestCharts', [key], {});\n",
              "          } catch (error) {\n",
              "            console.error('Error during call to suggestCharts:', error);\n",
              "          }\n",
              "          quickchartButtonEl.classList.remove('colab-df-spinner');\n",
              "          quickchartButtonEl.classList.add('colab-df-quickchart-complete');\n",
              "        }\n",
              "        (() => {\n",
              "          let quickchartButtonEl =\n",
              "            document.querySelector('#df-36fd6a3e-31bb-4ae2-900e-07b2e7a5b03a button');\n",
              "          quickchartButtonEl.style.display =\n",
              "            google.colab.kernel.accessAllowed ? 'block' : 'none';\n",
              "        })();\n",
              "      </script>\n",
              "    </div>\n",
              "\n",
              "  <div id=\"id_2f13a288-89aa-461c-9aa7-edcde94028b1\">\n",
              "    <style>\n",
              "      .colab-df-generate {\n",
              "        background-color: #E8F0FE;\n",
              "        border: none;\n",
              "        border-radius: 50%;\n",
              "        cursor: pointer;\n",
              "        display: none;\n",
              "        fill: #1967D2;\n",
              "        height: 32px;\n",
              "        padding: 0 0 0 0;\n",
              "        width: 32px;\n",
              "      }\n",
              "\n",
              "      .colab-df-generate:hover {\n",
              "        background-color: #E2EBFA;\n",
              "        box-shadow: 0px 1px 2px rgba(60, 64, 67, 0.3), 0px 1px 3px 1px rgba(60, 64, 67, 0.15);\n",
              "        fill: #174EA6;\n",
              "      }\n",
              "\n",
              "      [theme=dark] .colab-df-generate {\n",
              "        background-color: #3B4455;\n",
              "        fill: #D2E3FC;\n",
              "      }\n",
              "\n",
              "      [theme=dark] .colab-df-generate:hover {\n",
              "        background-color: #434B5C;\n",
              "        box-shadow: 0px 1px 3px 1px rgba(0, 0, 0, 0.15);\n",
              "        filter: drop-shadow(0px 1px 2px rgba(0, 0, 0, 0.3));\n",
              "        fill: #FFFFFF;\n",
              "      }\n",
              "    </style>\n",
              "    <button class=\"colab-df-generate\" onclick=\"generateWithVariable('df')\"\n",
              "            title=\"Generate code using this dataframe.\"\n",
              "            style=\"display:none;\">\n",
              "\n",
              "  <svg xmlns=\"http://www.w3.org/2000/svg\" height=\"24px\"viewBox=\"0 0 24 24\"\n",
              "       width=\"24px\">\n",
              "    <path d=\"M7,19H8.4L18.45,9,17,7.55,7,17.6ZM5,21V16.75L18.45,3.32a2,2,0,0,1,2.83,0l1.4,1.43a1.91,1.91,0,0,1,.58,1.4,1.91,1.91,0,0,1-.58,1.4L9.25,21ZM18.45,9,17,7.55Zm-12,3A5.31,5.31,0,0,0,4.9,8.1,5.31,5.31,0,0,0,1,6.5,5.31,5.31,0,0,0,4.9,4.9,5.31,5.31,0,0,0,6.5,1,5.31,5.31,0,0,0,8.1,4.9,5.31,5.31,0,0,0,12,6.5,5.46,5.46,0,0,0,6.5,12Z\"/>\n",
              "  </svg>\n",
              "    </button>\n",
              "    <script>\n",
              "      (() => {\n",
              "      const buttonEl =\n",
              "        document.querySelector('#id_2f13a288-89aa-461c-9aa7-edcde94028b1 button.colab-df-generate');\n",
              "      buttonEl.style.display =\n",
              "        google.colab.kernel.accessAllowed ? 'block' : 'none';\n",
              "\n",
              "      buttonEl.onclick = () => {\n",
              "        google.colab.notebook.generateWithVariable('df');\n",
              "      }\n",
              "      })();\n",
              "    </script>\n",
              "  </div>\n",
              "\n",
              "    </div>\n",
              "  </div>\n"
            ],
            "application/vnd.google.colaboratory.intrinsic+json": {
              "type": "dataframe",
              "variable_name": "df",
              "summary": "{\n  \"name\": \"df\",\n  \"rows\": 3203,\n  \"fields\": [\n    {\n      \"column\": \"Target Pressure (bar)\",\n      \"properties\": {\n        \"dtype\": \"float32\",\n        \"num_unique_values\": 3202,\n        \"samples\": [\n          0.8920142650604248,\n          0.02186059206724167,\n          1.0854798555374146\n        ],\n        \"semantic_type\": \"\",\n        \"description\": \"\"\n      }\n    },\n    {\n      \"column\": \"ID\",\n      \"properties\": {\n        \"dtype\": \"number\",\n        \"std\": 924,\n        \"min\": 0,\n        \"max\": 3202,\n        \"num_unique_values\": 3203,\n        \"samples\": [\n          3008,\n          102,\n          862\n        ],\n        \"semantic_type\": \"\",\n        \"description\": \"\"\n      }\n    }\n  ]\n}"
            }
          },
          "metadata": {},
          "execution_count": 190
        }
      ]
    },
    {
      "cell_type": "code",
      "source": [
        "df.to_csv('y_pred.csv', index=False)"
      ],
      "metadata": {
        "id": "52sXz6f91ybD"
      },
      "execution_count": 191,
      "outputs": []
    }
  ]
}