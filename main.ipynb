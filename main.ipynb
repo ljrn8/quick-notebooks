{
  "nbformat": 4,
  "nbformat_minor": 0,
  "metadata": {
    "colab": {
      "provenance": [],
      "collapsed_sections": [
        "nePAkfe_Q9AV",
        "rcEO0iUKKQWq"
      ],
      "toc_visible": true,
      "authorship_tag": "ABX9TyOpLn+07yRw1gmCaCA2iqbf",
      "include_colab_link": true
    },
    "kernelspec": {
      "name": "python3",
      "display_name": "Python 3"
    },
    "language_info": {
      "name": "python"
    }
  },
  "cells": [
    {
      "cell_type": "markdown",
      "metadata": {
        "id": "view-in-github",
        "colab_type": "text"
      },
      "source": [
        "<a href=\"https://colab.research.google.com/github/ljrn8/quick-notebooks/blob/main/main.ipynb\" target=\"_parent\"><img src=\"https://colab.research.google.com/assets/colab-badge.svg\" alt=\"Open In Colab\"/></a>"
      ]
    },
    {
      "cell_type": "markdown",
      "source": [
        "# COMP3010 Machine Learning Assignment | 20757218 Joel Hoefs\n"
      ],
      "metadata": {
        "id": "_ZJ8k7_aML-x"
      }
    },
    {
      "cell_type": "markdown",
      "source": [
        "## Setup"
      ],
      "metadata": {
        "id": "nePAkfe_Q9AV"
      }
    },
    {
      "cell_type": "code",
      "execution_count": 127,
      "metadata": {
        "colab": {
          "base_uri": "https://localhost:8080/"
        },
        "id": "TSAf3zNrHvvo",
        "outputId": "c9034af2-0750-4eb6-c3fa-a0a2873978e7"
      },
      "outputs": [
        {
          "output_type": "stream",
          "name": "stdout",
          "text": [
            "Requirement already satisfied: numpy in /usr/local/lib/python3.11/dist-packages (2.2.5)\n",
            "Requirement already satisfied: optuna in /usr/local/lib/python3.11/dist-packages (4.3.0)\n",
            "Requirement already satisfied: alembic>=1.5.0 in /usr/local/lib/python3.11/dist-packages (from optuna) (1.15.2)\n",
            "Requirement already satisfied: colorlog in /usr/local/lib/python3.11/dist-packages (from optuna) (6.9.0)\n",
            "Requirement already satisfied: numpy in /usr/local/lib/python3.11/dist-packages (from optuna) (2.2.5)\n",
            "Requirement already satisfied: packaging>=20.0 in /usr/local/lib/python3.11/dist-packages (from optuna) (24.2)\n",
            "Requirement already satisfied: sqlalchemy>=1.4.2 in /usr/local/lib/python3.11/dist-packages (from optuna) (2.0.40)\n",
            "Requirement already satisfied: tqdm in /usr/local/lib/python3.11/dist-packages (from optuna) (4.67.1)\n",
            "Requirement already satisfied: PyYAML in /usr/local/lib/python3.11/dist-packages (from optuna) (6.0.2)\n",
            "Requirement already satisfied: Mako in /usr/lib/python3/dist-packages (from alembic>=1.5.0->optuna) (1.1.3)\n",
            "Requirement already satisfied: typing-extensions>=4.12 in /usr/local/lib/python3.11/dist-packages (from alembic>=1.5.0->optuna) (4.13.2)\n",
            "Requirement already satisfied: greenlet>=1 in /usr/local/lib/python3.11/dist-packages (from sqlalchemy>=1.4.2->optuna) (3.2.0)\n",
            "  % Total    % Received % Xferd  Average Speed   Time    Time     Time  Current\n",
            "                                 Dload  Upload   Total   Spent    Left  Speed\n",
            "100 1186k  100 1186k    0     0  3442k      0 --:--:-- --:--:-- --:--:-- 3449k\n",
            "  % Total    % Received % Xferd  Average Speed   Time    Time     Time  Current\n",
            "                                 Dload  Upload   Total   Spent    Left  Speed\n",
            "100  328k  100  328k    0     0  1284k      0 --:--:-- --:--:-- --:--:-- 1289k\n",
            "['.config', 'y_pred.csv', 'test.csv', 'train.csv', 'sample_data']\n"
          ]
        }
      ],
      "source": [
        "import numpy as np\n",
        "import pandas as pd\n",
        "import matplotlib.pyplot as plt\n",
        "import os\n",
        "import sklearn\n",
        "\n",
        "!pip install -U numpy\n",
        "!pip install -U optuna\n",
        "!curl -LJO https://raw.githubusercontent.com/qilinli/COMP3010-Machine-Learning/refs/heads/master/2025-assignment/train.csv\n",
        "!curl -LJO https://raw.githubusercontent.com/qilinli/COMP3010-Machine-Learning/refs/heads/master/2025-assignment/test.csv\n",
        "\n",
        "files = os.listdir('.')\n",
        "assert 'test.csv' in files\n",
        "assert 'train.csv' in files\n",
        "print(files)"
      ]
    },
    {
      "cell_type": "code",
      "source": [
        "df = pd.read_csv('train.csv', index_col=False)      # train/validation\n",
        "test_df = pd.read_csv('test.csv', index_col=False)  # test\n",
        "len(df), len(test_df)"
      ],
      "metadata": {
        "colab": {
          "base_uri": "https://localhost:8080/"
        },
        "id": "U32yXaCLH8CT",
        "outputId": "e94670ee-fcfa-4f23-f26e-48462577ef02"
      },
      "execution_count": 128,
      "outputs": [
        {
          "output_type": "execute_result",
          "data": {
            "text/plain": [
              "(10050, 3203)"
            ]
          },
          "metadata": {},
          "execution_count": 128
        }
      ]
    },
    {
      "cell_type": "code",
      "source": [
        "df.columns"
      ],
      "metadata": {
        "colab": {
          "base_uri": "https://localhost:8080/"
        },
        "id": "UnFSM-AeL8n0",
        "outputId": "52e2cde8-0021-42cc-eefa-3a86b9548240"
      },
      "execution_count": 129,
      "outputs": [
        {
          "output_type": "execute_result",
          "data": {
            "text/plain": [
              "Index(['Unnamed: 0', 'Tank Failure Pressure (bar)', 'Liquid Ratio',\n",
              "       'Tank Width (m)', 'Tank Length (m)', 'Tank Height (m)',\n",
              "       'BLEVE Height (m)', 'Vapour Height (m)', 'Vapour Temperature (K)',\n",
              "       'Liquid Temperature (K)', 'Obstacle Distance to BLEVE (m)',\n",
              "       'Obstacle Width (m)', 'Obstacle Height (m)', 'Obstacle Thickness (m)',\n",
              "       'Obstacle Angle', 'Status', 'Liquid Critical Pressure (bar)',\n",
              "       'Liquid Boiling Temperature (K)', 'Liquid Critical Temperature (K)',\n",
              "       'Sensor ID', 'Sensor Position Side', 'Sensor Position x',\n",
              "       'Sensor Position y', 'Sensor Position z', 'Target Pressure (bar)'],\n",
              "      dtype='object')"
            ]
          },
          "metadata": {},
          "execution_count": 129
        }
      ]
    },
    {
      "cell_type": "code",
      "source": [
        "for data in (df, test_df):\n",
        "  data = data.drop('Unnamed: 0', axis=1)"
      ],
      "metadata": {
        "id": "kGqhpRBRL-Ht"
      },
      "execution_count": 130,
      "outputs": []
    },
    {
      "cell_type": "markdown",
      "source": [
        "## Preprocessing\n"
      ],
      "metadata": {
        "id": "rcEO0iUKKQWq"
      }
    },
    {
      "cell_type": "code",
      "source": [
        "print(f'na rows in train/valid: {len(df.dropna()) - len(df)}')\n",
        "print(f'na rows in test: {len(test_df.dropna()) - len(test_df)}')"
      ],
      "metadata": {
        "colab": {
          "base_uri": "https://localhost:8080/"
        },
        "id": "oQlmk-hu2eh-",
        "outputId": "4df506e8-7a0f-4f02-f21d-c0306c04e4ba"
      },
      "execution_count": 131,
      "outputs": [
        {
          "output_type": "stream",
          "name": "stdout",
          "text": [
            "na rows in train/valid: -110\n",
            "na rows in test: 0\n"
          ]
        }
      ]
    },
    {
      "cell_type": "code",
      "source": [
        "# 110 is insignificant -> delete columns\n",
        "df = df.dropna()"
      ],
      "metadata": {
        "id": "iKl7oFat6moz"
      },
      "execution_count": 132,
      "outputs": []
    },
    {
      "cell_type": "code",
      "source": [
        "from scipy import stats\n",
        "\n",
        "# filter outliers with the Z score method\n",
        "def filter_outliers(df, cols, threshhold_z=2):\n",
        "  df_c = df[cols]\n",
        "  z = stats.zscore(df_c)\n",
        "  non_outliers = abs(z) < threshhold_z\n",
        "\n",
        "  print()\n",
        "  for c in cols:\n",
        "    print(f'outliers in [{c}] = {(~non_outliers[c]).sum()}')\n",
        "\n",
        "  non_outliers_mask = non_outliers.all(axis=1)\n",
        "  outliers = len(df_c) - len(df_c[non_outliers_mask])\n",
        "  rate = outliers / len(df_c)\n",
        "  print(f'num outliers: {outliers}\\noutlier rate: {rate*100} %')\n",
        "\n",
        "  return non_outliers_mask, df[non_outliers_mask]\n",
        "\n",
        "drop_cols = ['Status', 'Unnamed: 0']\n",
        "non_outliers_mask, filtered = filter_outliers(df, df.drop(drop_cols, axis=1).columns, threshhold_z=3.5)\n",
        "non_outliers_mask_test, filtered_test = filter_outliers(test_df, test_df.drop(drop_cols, axis=1).columns, threshhold_z=3.5)"
      ],
      "metadata": {
        "colab": {
          "base_uri": "https://localhost:8080/"
        },
        "id": "ynrOH94i656H",
        "outputId": "94a6032d-6b23-4267-e880-81910beab15c"
      },
      "execution_count": 133,
      "outputs": [
        {
          "output_type": "stream",
          "name": "stdout",
          "text": [
            "\n",
            "outliers in [Tank Failure Pressure (bar)] = 48\n",
            "outliers in [Liquid Ratio] = 0\n",
            "outliers in [Tank Width (m)] = 0\n",
            "outliers in [Tank Length (m)] = 0\n",
            "outliers in [Tank Height (m)] = 0\n",
            "outliers in [BLEVE Height (m)] = 0\n",
            "outliers in [Vapour Height (m)] = 0\n",
            "outliers in [Vapour Temperature (K)] = 0\n",
            "outliers in [Liquid Temperature (K)] = 0\n",
            "outliers in [Obstacle Distance to BLEVE (m)] = 0\n",
            "outliers in [Obstacle Width (m)] = 0\n",
            "outliers in [Obstacle Height (m)] = 0\n",
            "outliers in [Obstacle Thickness (m)] = 0\n",
            "outliers in [Obstacle Angle] = 0\n",
            "outliers in [Liquid Critical Pressure (bar)] = 0\n",
            "outliers in [Liquid Boiling Temperature (K)] = 0\n",
            "outliers in [Liquid Critical Temperature (K)] = 0\n",
            "outliers in [Sensor ID] = 0\n",
            "outliers in [Sensor Position Side] = 0\n",
            "outliers in [Sensor Position x] = 0\n",
            "outliers in [Sensor Position y] = 10\n",
            "outliers in [Sensor Position z] = 0\n",
            "outliers in [Target Pressure (bar)] = 142\n",
            "num outliers: 200\n",
            "outlier rate: 2.0120724346076457 %\n",
            "\n",
            "outliers in [Tank Failure Pressure (bar)] = 0\n",
            "outliers in [Liquid Ratio] = 0\n",
            "outliers in [Tank Width (m)] = 0\n",
            "outliers in [Tank Length (m)] = 0\n",
            "outliers in [Tank Height (m)] = 0\n",
            "outliers in [BLEVE Height (m)] = 0\n",
            "outliers in [Vapour Height (m)] = 0\n",
            "outliers in [Vapour Temperature (K)] = 0\n",
            "outliers in [Liquid Temperature (K)] = 0\n",
            "outliers in [Obstacle Distance to BLEVE (m)] = 0\n",
            "outliers in [Obstacle Width (m)] = 0\n",
            "outliers in [Obstacle Height (m)] = 0\n",
            "outliers in [Obstacle Thickness (m)] = 0\n",
            "outliers in [Obstacle Angle] = 0\n",
            "outliers in [Liquid Critical Pressure (bar)] = 0\n",
            "outliers in [Liquid Boiling Temperature (K)] = 0\n",
            "outliers in [Liquid Critical Temperature (K)] = 0\n",
            "outliers in [Sensor ID] = 0\n",
            "outliers in [Sensor Position Side] = 0\n",
            "outliers in [Sensor Position x] = 0\n",
            "outliers in [Sensor Position y] = 0\n",
            "outliers in [Sensor Position z] = 0\n",
            "num outliers: 0\n",
            "outlier rate: 0.0 %\n"
          ]
        }
      ]
    },
    {
      "cell_type": "code",
      "source": [
        "df = df[non_outliers_mask]"
      ],
      "metadata": {
        "id": "snuhXywn8q-v"
      },
      "execution_count": 134,
      "outputs": []
    },
    {
      "cell_type": "code",
      "source": [
        "# drop duplicates\n",
        "print(len(df))\n",
        "df = df.drop_duplicates()\n",
        "print(len(df))"
      ],
      "metadata": {
        "id": "wZc0ozYI8ydF",
        "colab": {
          "base_uri": "https://localhost:8080/"
        },
        "outputId": "019651ca-2063-43c7-a33a-555b9f4b0cd8"
      },
      "execution_count": 135,
      "outputs": [
        {
          "output_type": "stream",
          "name": "stdout",
          "text": [
            "9740\n",
            "9692\n"
          ]
        }
      ]
    },
    {
      "cell_type": "code",
      "source": [
        "def filter_range(df, c, ub, lb):\n",
        "  df_filtered = df[(df[c] >= lb) & (df[c] <= ub)]\n",
        "  n_filtered =  len(df) - len(df_filtered)\n",
        "  print(f'number of out-of-bounds [{c}] instances = {n_filtered}')\n",
        "  return df_filtered\n",
        "\n",
        "# rational metric upperbound for Kelvin/metres\n",
        "UB = 1_000\n",
        "\n",
        "filter_range_map = {\n",
        "  'Tank Failure Pressure (bar)': (0, np.inf),\n",
        "  'Liquid Ratio': (0, 1),\n",
        "  'Tank Width (m)': (0, UB),\n",
        "  'Tank Length (m)': (0, UB),\n",
        "  'Tank Height (m)': (0, UB),\n",
        "  'Vapour Height (m)': (0, UB),\n",
        "  'BLEVE Height (m)': (0, UB),\n",
        "  'Vapour Temperature (K)': (0, np.inf),\n",
        "  'Liquid Temperature (K)': (0, UB),\n",
        "  'Obstacle Distance to BLEVE (m)': (0, UB),\n",
        "  'Obstacle Width (m)': (0, UB),\n",
        "  'Obstacle Height (m)': (0, UB),\n",
        "  'Obstacle Thickness (m)': (0, UB),\n",
        "  'Obstacle Angle': (0, 30),\n",
        "  'Sensor ID': (1, 27),\n",
        "  'Sensor Position Side': (1, 5),\n",
        "  'Sensor Position x': (-UB, UB),\n",
        "  'Sensor Position y': (-UB, UB),\n",
        "  'Sensor Position z': (-UB, UB),\n",
        "  'Target Pressure (bar)': (0, np.inf),\n",
        "}\n",
        "\n",
        "df_interm = df.copy()\n",
        "for column, (lb, ub) in filter_range_map.items():\n",
        "  train_interm = filter_range(df_interm, column, ub, lb)"
      ],
      "metadata": {
        "colab": {
          "base_uri": "https://localhost:8080/"
        },
        "id": "5NZpeefV9N2X",
        "outputId": "f43dac34-de62-46e3-a0cc-b2910243be26"
      },
      "execution_count": 136,
      "outputs": [
        {
          "output_type": "stream",
          "name": "stdout",
          "text": [
            "number of out-of-bounds [Tank Failure Pressure (bar)] instances = 0\n",
            "number of out-of-bounds [Liquid Ratio] instances = 0\n",
            "number of out-of-bounds [Tank Width (m)] instances = 0\n",
            "number of out-of-bounds [Tank Length (m)] instances = 0\n",
            "number of out-of-bounds [Tank Height (m)] instances = 0\n",
            "number of out-of-bounds [Vapour Height (m)] instances = 0\n",
            "number of out-of-bounds [BLEVE Height (m)] instances = 149\n",
            "number of out-of-bounds [Vapour Temperature (K)] instances = 0\n",
            "number of out-of-bounds [Liquid Temperature (K)] instances = 0\n",
            "number of out-of-bounds [Obstacle Distance to BLEVE (m)] instances = 0\n",
            "number of out-of-bounds [Obstacle Width (m)] instances = 0\n",
            "number of out-of-bounds [Obstacle Height (m)] instances = 0\n",
            "number of out-of-bounds [Obstacle Thickness (m)] instances = 0\n",
            "number of out-of-bounds [Obstacle Angle] instances = 0\n",
            "number of out-of-bounds [Sensor ID] instances = 0\n",
            "number of out-of-bounds [Sensor Position Side] instances = 0\n",
            "number of out-of-bounds [Sensor Position x] instances = 0\n",
            "number of out-of-bounds [Sensor Position y] instances = 0\n",
            "number of out-of-bounds [Sensor Position z] instances = 0\n",
            "number of out-of-bounds [Target Pressure (bar)] instances = 0\n"
          ]
        }
      ]
    },
    {
      "cell_type": "code",
      "source": [
        "plt.hist(df['BLEVE Height (m)'], bins=500)\n",
        "plt.xlim(-0.05, 0.3)"
      ],
      "metadata": {
        "colab": {
          "base_uri": "https://localhost:8080/",
          "height": 0
        },
        "id": "jTytgSnM9d2E",
        "outputId": "cc705c99-80f3-4cec-aac5-cca71b00c99b"
      },
      "execution_count": 137,
      "outputs": [
        {
          "output_type": "execute_result",
          "data": {
            "text/plain": [
              "(-0.05, 0.3)"
            ]
          },
          "metadata": {},
          "execution_count": 137
        },
        {
          "output_type": "display_data",
          "data": {
            "text/plain": [
              "<Figure size 640x480 with 1 Axes>"
            ],
            "image/png": "[encoded data removed]"
          },
          "metadata": {}
        }
      ]
    },
    {
      "cell_type": "code",
      "source": [
        "# some BLEVE Height (m) measurements were negative, so I'll just round them up\n",
        "df['BLEVE Height (m)'] = df['BLEVE Height (m)'].map(lambda x: max(x, 0))"
      ],
      "metadata": {
        "id": "ToKFFJVF9duI"
      },
      "execution_count": 138,
      "outputs": []
    },
    {
      "cell_type": "code",
      "source": [
        "# ensure no incorrect categorical/ordinal entries:\n",
        "for c in ('Status', 'Sensor Position Side', 'Sensor ID'):\n",
        "  print(c + ' unique values: ')\n",
        "  print(np.unique(df[c]))\n",
        "  print()"
      ],
      "metadata": {
        "colab": {
          "base_uri": "https://localhost:8080/"
        },
        "id": "tIK4tqat9dlZ",
        "outputId": "dacbfd4f-bce2-4ff4-a9e1-661947cc26cc"
      },
      "execution_count": 139,
      "outputs": [
        {
          "output_type": "stream",
          "name": "stdout",
          "text": [
            "Status unique values: \n",
            "['Saperheated' 'Subcoled' 'Subcool' 'Subcooled' 'Superheat' 'Superheated'\n",
            " 'subcooled' 'superheated']\n",
            "\n",
            "Sensor Position Side unique values: \n",
            "[1. 2. 3. 4. 5.]\n",
            "\n",
            "Sensor ID unique values: \n",
            "[ 1.  2.  3.  4.  5.  6.  7.  8.  9. 10. 11. 12. 13. 14. 15. 16. 17. 18.\n",
            " 19. 20. 21. 22. 23. 24. 25. 26. 27.]\n",
            "\n"
          ]
        }
      ]
    },
    {
      "cell_type": "code",
      "source": [
        "def status_map(name):\n",
        "  if name in ['Saperheated', 'Superheat', 'Superheated', 'superheated']:\n",
        "    return 'superheated'\n",
        "  else:\n",
        "    return 'subcooled'\n",
        "\n",
        "df['Status'] = df['Status'].map(status_map)\n",
        "np.unique(df['Status'])"
      ],
      "metadata": {
        "colab": {
          "base_uri": "https://localhost:8080/"
        },
        "id": "yDA06PnI9tJ3",
        "outputId": "cff678d7-be04-45b3-ff39-508d85b74250"
      },
      "execution_count": 140,
      "outputs": [
        {
          "output_type": "execute_result",
          "data": {
            "text/plain": [
              "array(['subcooled', 'superheated'], dtype=object)"
            ]
          },
          "metadata": {},
          "execution_count": 140
        }
      ]
    },
    {
      "cell_type": "code",
      "source": [
        "# Feature Engineering:\n",
        "for data in (df, test_df):\n",
        "\n",
        "  # Dimension Ratio's\n",
        "  data['Tank width/length Ratio'] = data['Tank Width (m)'] / data['Tank Length (m)']\n",
        "  data['Tank width/height Ratio'] =  data['Tank Width (m)'] / data['Tank Height (m)']\n",
        "\n",
        "  # precise distance to sensor\n",
        "  sensor_offsets = np.sqrt(data['Sensor Position x']**2 + data['Sensor Position y']**2 + data['Sensor Position z']**2)\n",
        "  data['Sensor-Obstacle Distance'] = data['Obstacle Distance to BLEVE (m)'] + sensor_offsets"
      ],
      "metadata": {
        "id": "oc32bB53-K4j"
      },
      "execution_count": 141,
      "outputs": []
    },
    {
      "cell_type": "code",
      "source": [
        "# data type conversion\n",
        "df['Status'] = df['Status'].map({\"superheated\": 0, \"subcooled\": 1})\n",
        "test_df['Status'] = test_df['Status'].map({\"Superheated\": 0, \"Subcooled\": 1})\n",
        "\n",
        "# TODO: OHE"
      ],
      "metadata": {
        "id": "IrNwY4zg-Kyg"
      },
      "execution_count": 142,
      "outputs": []
    },
    {
      "cell_type": "markdown",
      "source": [
        "Feature Selection done with perumatation importance using XGBoost"
      ],
      "metadata": {
        "id": "cQ3Y-WO_J9qJ"
      }
    },
    {
      "cell_type": "code",
      "source": [
        "from sklearn.datasets import load_diabetes\n",
        "from sklearn.model_selection import train_test_split\n",
        "import xgboost as xgb\n",
        "from sklearn.inspection import permutation_importance\n",
        "\n",
        "X, y = df.drop('Target Pressure (bar)', axis=1), df['Target Pressure (bar)']\n",
        "X_train, X_val, y_train, y_val = train_test_split(X, y , test_size=0.2)\n",
        "\n",
        "model = xgb.XGBRegressor().fit(X_train, y_train)\n",
        "model.score(X_val, y_val)\n",
        "\n",
        "r = permutation_importance(model, X_val, y_val,\n",
        "                           n_repeats=50,\n",
        "                           random_state=0)"
      ],
      "metadata": {
        "id": "qYjV3o_YHpru"
      },
      "execution_count": 143,
      "outputs": []
    },
    {
      "cell_type": "code",
      "source": [
        "importance_df = pd.DataFrame({\n",
        "    'Feature': X.columns,\n",
        "    'mean': [np.mean(r.importances[i]) for i in range(len(X.columns))],\n",
        "    'dist': [r.importances[i] for i in range(len(X.columns))],\n",
        "}).sort_values(by='mean')\n",
        "\n",
        "plt.figure(figsize=(10, 6))\n",
        "\n",
        "plt.boxplot(importance_df['dist'].values, vert=False, patch_artist=True, widths=0.7)\n",
        "\n",
        "plt.yticks(range(1, len(importance_df) + 1), importance_df['Feature'])\n",
        "plt.title('Permutation Importance')\n",
        "\n",
        "plt.show()"
      ],
      "metadata": {
        "colab": {
          "base_uri": "https://localhost:8080/",
          "height": 0
        },
        "id": "nkTtVg6ZKqKF",
        "outputId": "053873d3-cd28-40ba-980d-743162de1c87"
      },
      "execution_count": 144,
      "outputs": [
        {
          "output_type": "display_data",
          "data": {
            "text/plain": [
              "<Figure size 1000x600 with 1 Axes>"
            ],
            "image/png": "[encoded data removed]"
          },
          "metadata": {}
        }
      ]
    },
    {
      "cell_type": "code",
      "source": [
        "list(importance_df['Feature'][0:])"
      ],
      "metadata": {
        "colab": {
          "base_uri": "https://localhost:8080/"
        },
        "id": "XZrbGuxVecHN",
        "outputId": "7b8c81fb-ce4e-4dc5-eb8c-2f629c544a79"
      },
      "execution_count": 145,
      "outputs": [
        {
          "output_type": "execute_result",
          "data": {
            "text/plain": [
              "['Liquid Critical Temperature (K)',\n",
              " 'Sensor Position Side',\n",
              " 'Liquid Boiling Temperature (K)',\n",
              " 'Liquid Critical Pressure (bar)',\n",
              " 'Vapour Temperature (K)',\n",
              " 'Obstacle Thickness (m)',\n",
              " 'Obstacle Height (m)',\n",
              " 'Obstacle Angle',\n",
              " 'Liquid Ratio',\n",
              " 'Obstacle Width (m)',\n",
              " 'Tank width/height Ratio',\n",
              " 'Unnamed: 0',\n",
              " 'Status',\n",
              " 'Liquid Temperature (K)',\n",
              " 'Tank Height (m)',\n",
              " 'Tank width/length Ratio',\n",
              " 'BLEVE Height (m)',\n",
              " 'Obstacle Distance to BLEVE (m)',\n",
              " 'Sensor Position x',\n",
              " 'Tank Width (m)',\n",
              " 'Sensor Position z',\n",
              " 'Sensor Position y',\n",
              " 'Tank Failure Pressure (bar)',\n",
              " 'Tank Length (m)',\n",
              " 'Sensor-Obstacle Distance',\n",
              " 'Vapour Height (m)',\n",
              " 'Sensor ID']"
            ]
          },
          "metadata": {},
          "execution_count": 145
        }
      ]
    },
    {
      "cell_type": "code",
      "source": [
        "# Remove bottom 3 features\n",
        "def permutation_filter(df, remove_features):\n",
        "  cols_ordered = list(importance_df['Feature'])\n",
        "  cols_ordered.remove('Unnamed: 0')\n",
        "  cols = list(cols_ordered[remove_features:])\n",
        "  return df[cols]"
      ],
      "metadata": {
        "id": "mKcVXgDYLtn8"
      },
      "execution_count": 146,
      "outputs": []
    },
    {
      "cell_type": "markdown",
      "source": [
        "alternatively, I consider using PCA for 17 components"
      ],
      "metadata": {
        "id": "ABoo8FhcOcuO"
      }
    },
    {
      "cell_type": "code",
      "source": [
        "from sklearn.decomposition import PCA\n",
        "from sklearn.preprocessing import StandardScaler\n",
        "\n",
        "X, y = df.drop('Target Pressure (bar)', axis=1), df['Target Pressure (bar)']\n",
        "scaler = StandardScaler()\n",
        "\n",
        "pca = PCA(n_components=17)\n",
        "X_scaled = scaler.fit_transform(X)\n",
        "X_pca = pca.fit_transform(X_scaled)\n",
        "\n",
        "plt.figure(figsize=(8, 6))\n",
        "plt.bar(range(1, len(pca.explained_variance_ratio_) + 1), pca.explained_variance_ratio_)\n",
        "plt.title('Explained Variance by Principal Components')\n",
        "plt.show()"
      ],
      "metadata": {
        "colab": {
          "base_uri": "https://localhost:8080/",
          "height": 0
        },
        "id": "n8Ug3vqnNtly",
        "outputId": "3685d85e-21aa-40b4-b92a-7fd509ca3595"
      },
      "execution_count": 147,
      "outputs": [
        {
          "output_type": "display_data",
          "data": {
            "text/plain": [
              "<Figure size 800x600 with 1 Axes>"
            ],
            "image/png": "[encoded data removed]"
          },
          "metadata": {}
        }
      ]
    },
    {
      "cell_type": "markdown",
      "source": [
        "## Model Developement"
      ],
      "metadata": {
        "id": "lJwRHXhJKchb"
      }
    },
    {
      "cell_type": "code",
      "source": [
        "from sklearn.model_selection import train_test_split\n",
        "import xgboost as xgb\n",
        "from sklearn.metrics import r2_score, mean_absolute_percentage_error\n",
        "from sklearn.ensemble import RandomForestRegressor\n",
        "from sklearn.svm import SVR\n",
        "from sklearn.linear_model import LinearRegression\n",
        "from sklearn.model_selection import cross_validate\n",
        "from sklearn.metrics import recall_score, make_scorer\n",
        "from sklearn.preprocessing import StandardScaler\n",
        "from sklearn.pipeline import Pipeline\n",
        "\n",
        "df = df.drop('Unnamed: 0', axis=1, errors='ignore')\n",
        "X, y =  df.drop('Target Pressure (bar)', axis=1), df['Target Pressure (bar)']\n",
        "\n",
        "# dataset based on permutation importance selection\n",
        "X_pfi = permutation_filter(X, remove_features=3)\n",
        "\n",
        "# dataset based on PCA features\n",
        "pca = PCA(n_components=17)\n",
        "X_scaled = scaler.fit_transform(X)\n",
        "X_pca = pca.fit_transform(X_scaled)\n",
        "\n",
        "# CV evulations for R2 and MAPE\n",
        "def evaluate_cv(model, X, y, cv=4):\n",
        "  r2_scores = cross_validate(model, X, y, cv=cv, scoring='r2')['test_score']\n",
        "  mape_scorer = make_scorer(mean_absolute_percentage_error, greater_is_better=False)\n",
        "  mape_scores = cross_validate(model, X, y, cv=cv, scoring=mape_scorer)['test_score']\n",
        "  return {\n",
        "      \"R2_mean\": np.mean(r2_scores),\n",
        "      \"R2_std\": np.std(r2_scores),\n",
        "      \"MAPE_mean\": -np.mean(mape_scores),\n",
        "      \"MAPE_std\": np.std(mape_scores),\n",
        "  }\n"
      ],
      "metadata": {
        "id": "UmRjq_chIj0H",
        "collapsed": true
      },
      "execution_count": 154,
      "outputs": []
    },
    {
      "cell_type": "markdown",
      "source": [
        "#### Model Selection"
      ],
      "metadata": {
        "id": "EKwws7NNLRq5"
      }
    },
    {
      "cell_type": "code",
      "source": [
        "scores = []\n",
        "\n",
        "for X, dataset in ((X_pfi, 'Permutation importance'),\n",
        "                   (X_pca, 'PCA')):\n",
        "\n",
        "  for (model, name) in ((xgb.XGBRegressor(), 'XGboost'),\n",
        "                        (RandomForestRegressor(), 'RF'),\n",
        "                        (SVR(), 'SVM'),\n",
        "                        (LinearRegression(), 'LR')):\n",
        "\n",
        "    pipe = Pipeline([('scaler', StandardScaler()), (name, model)])\n",
        "    m = evaluate_cv(model=pipe, X=X, y=y, cv=5)\n",
        "    scores.append((dataset + ' & ' + name, m))\n",
        "\n",
        "scores"
      ],
      "metadata": {
        "id": "TkCiTuQlBj2D",
        "colab": {
          "base_uri": "https://localhost:8080/"
        },
        "outputId": "5dcac7f6-c5a6-4aa7-de01-fb220a81c995"
      },
      "execution_count": 155,
      "outputs": [
        {
          "output_type": "execute_result",
          "data": {
            "text/plain": [
              "[('Permutation importance & XGboost',\n",
              "  {'R2_mean': np.float64(0.8218651710720748),\n",
              "   'R2_std': np.float64(0.022153665684976596),\n",
              "   'MAPE_mean': np.float64(0.35017268468785145),\n",
              "   'MAPE_std': np.float64(0.025381407194609983)}),\n",
              " ('Permutation importance & RF',\n",
              "  {'R2_mean': np.float64(0.7694522481398686),\n",
              "   'R2_std': np.float64(0.020940774910786466),\n",
              "   'MAPE_mean': np.float64(0.36930893576346935),\n",
              "   'MAPE_std': np.float64(0.02796858137257)}),\n",
              " ('Permutation importance & SVM',\n",
              "  {'R2_mean': np.float64(0.7599575155394789),\n",
              "   'R2_std': np.float64(0.028560935257736123),\n",
              "   'MAPE_mean': np.float64(0.5903621563428285),\n",
              "   'MAPE_std': np.float64(0.038956408734593884)}),\n",
              " ('Permutation importance & LR',\n",
              "  {'R2_mean': np.float64(0.5749597556983065),\n",
              "   'R2_std': np.float64(0.014685619524845966),\n",
              "   'MAPE_mean': np.float64(0.9847561982729232),\n",
              "   'MAPE_std': np.float64(0.04818119572608875)}),\n",
              " ('PCA & XGboost',\n",
              "  {'R2_mean': np.float64(0.6549496996108524),\n",
              "   'R2_std': np.float64(0.04119409413519823),\n",
              "   'MAPE_mean': np.float64(0.6851273110884722),\n",
              "   'MAPE_std': np.float64(0.03991668847018367)}),\n",
              " ('PCA & RF',\n",
              "  {'R2_mean': np.float64(0.6217113746565608),\n",
              "   'R2_std': np.float64(0.03884012767269559),\n",
              "   'MAPE_mean': np.float64(0.7143599912415209),\n",
              "   'MAPE_std': np.float64(0.03867564554837687)}),\n",
              " ('PCA & SVM',\n",
              "  {'R2_mean': np.float64(0.7377000158969327),\n",
              "   'R2_std': np.float64(0.031175373980238247),\n",
              "   'MAPE_mean': np.float64(0.6161683059491285),\n",
              "   'MAPE_std': np.float64(0.037063828636685184)}),\n",
              " ('PCA & LR',\n",
              "  {'R2_mean': np.float64(0.29036658692789513),\n",
              "   'R2_std': np.float64(0.02009773868682352),\n",
              "   'MAPE_mean': np.float64(1.1141721639073068),\n",
              "   'MAPE_std': np.float64(0.07315043992574966)})]"
            ]
          },
          "metadata": {},
          "execution_count": 155
        }
      ]
    },
    {
      "cell_type": "code",
      "source": [
        "fig, ax = plt.subplots(figsize=(10, 3))\n",
        "\n",
        "for name, scores_dict in scores:\n",
        "  if not name.startswith('PCA'):\n",
        "    name = 'PFI'  + name[len('Perimation Importance '):]\n",
        "\n",
        "  c = 'cyan' if name.startswith('PCA') else 'blue'\n",
        "  plt.bar(name, scores_dict['MAPE_mean'], color=c)\n",
        "\n",
        "plt.show()"
      ],
      "metadata": {
        "colab": {
          "base_uri": "https://localhost:8080/",
          "height": 285
        },
        "id": "IEZM6SvYuwQ_",
        "outputId": "d0e71553-207b-4631-daa6-c361f33e131e"
      },
      "execution_count": 181,
      "outputs": [
        {
          "output_type": "display_data",
          "data": {
            "text/plain": [
              "<Figure size 1000x300 with 1 Axes>"
            ],
            "image/png": "[encoded data removed]"
          },
          "metadata": {}
        }
      ]
    },
    {
      "cell_type": "markdown",
      "source": [
        "* Permutation importance did better than PCA\n",
        "* SVM & LR underperformed\n",
        "* All methods overfit significantly"
      ],
      "metadata": {
        "id": "UQ2ZGE_VXtIz"
      }
    },
    {
      "cell_type": "markdown",
      "source": [
        "*MLP* performed best without tuning"
      ],
      "metadata": {
        "id": "JrH2FDXV2JSv"
      }
    },
    {
      "cell_type": "markdown",
      "source": [
        "### XGBoost"
      ],
      "metadata": {
        "id": "f8o8GB-m18cw"
      }
    },
    {
      "cell_type": "code",
      "source": [
        "!pip install optuna"
      ],
      "metadata": {
        "id": "7-gBT6LzXpcM"
      },
      "execution_count": null,
      "outputs": []
    },
    {
      "cell_type": "code",
      "source": [
        "import optuna\n",
        "import xgboost as xgb\n",
        "from sklearn.model_selection import cross_val_score\n",
        "from sklearn.metrics import mean_absolute_percentage_error, make_scorer\n",
        "\n",
        "mape_scorer = make_scorer(mean_absolute_percentage_error, greater_is_better=False)\n",
        "\n",
        "def objective(trial):\n",
        "    params = {\n",
        "        \"verbosity\": 0,\n",
        "        \"objective\": \"reg:squarederror\",\n",
        "        \"eval_metric\": \"rmse\",\n",
        "        \"booster\": \"gbtree\",\n",
        "        \"max_depth\": trial.suggest_int(\"max_depth\", 3, 10),\n",
        "        \"learning_rate\": trial.suggest_float(\"learning_rate\", 0.01, 0.3, log=True),\n",
        "        \"subsample\": trial.suggest_float(\"subsample\", 0.5, 1.0),\n",
        "        \"colsample_bytree\": trial.suggest_float(\"colsample_bytree\", 0.5, 1.0),\n",
        "        \"gamma\": trial.suggest_float(\"gamma\", 0, 5),\n",
        "        \"lambda\": trial.suggest_float(\"lambda\", 1e-3, 10.0, log=True),\n",
        "        \"alpha\": trial.suggest_float(\"alpha\", 1e-3, 10.0, log=True),\n",
        "        \"n_estimators\": trial.suggest_int(\"n_estimators\", 50, 500),\n",
        "    }\n",
        "\n",
        "    model = xgb.XGBRegressor(**params)\n",
        "    scores = cross_val_score(model, X, y, cv=3, scoring=mape_scorer)\n",
        "    return scores.mean()\n",
        "\n",
        "study = optuna.create_study(direction=\"maximize\")\n",
        "study.optimize(objective, n_trials=100)\n",
        "\n",
        "print(\"Best hyperparameters:\", study.best_params)\n"
      ],
      "metadata": {
        "id": "n-t_NrDMXX0e"
      },
      "execution_count": null,
      "outputs": []
    },
    {
      "cell_type": "code",
      "source": [
        "best_model = xgb.XGBRegressor(\n",
        "    **study.best_params,\n",
        "    objective=\"reg:squarederror\",\n",
        "    eval_metric=\"rmse\",\n",
        "    booster=\"gbtree\",\n",
        "    verbosity=0\n",
        ")\n",
        "evaluate_cv(best_model, X, y, cv=4)"
      ],
      "metadata": {
        "id": "kQDv5DnUZhaY"
      },
      "execution_count": null,
      "outputs": []
    },
    {
      "cell_type": "markdown",
      "source": [
        "### Random Forest"
      ],
      "metadata": {
        "id": "RJeqh-AMcxPS"
      }
    },
    {
      "cell_type": "code",
      "source": [
        "from sklearn.model_selection import GridSearchCV\n",
        "\n",
        "def objective(trail):\n",
        "  params = {\n",
        "      'n_estimators': trail.suggest_int('n_estimatos', 20, 300),\n",
        "      'max_depth': trail.suggest_int('max_depth', 10, 50),\n",
        "      'min_samples_leaf': trail.suggest_int('min_samples_leaf', 1, 5)\n",
        "  }\n",
        "  model = RandomForestRegressor(**params)\n",
        "\n",
        "  # not doing cross validation for RF, its too slow\n",
        "  X_train, X_val, y_train, y_val = train_test_split(\n",
        "      X, y, test_size=0.2, random_state=0)\n",
        "  model.fit(X_train, y_train)\n",
        "  score =  mean_absolute_percentage_error(model.predict(X_val), y_val)\n",
        "  return score\n",
        "\n",
        "study = optuna.create_study(direction='minimize')\n",
        "study.optimize(objective, n_trials=50)\n",
        "\n",
        "\n",
        "print(\"Best hyperparameters:\", study.best_params)"
      ],
      "metadata": {
        "id": "wgzqt302XKSM",
        "colab": {
          "base_uri": "https://localhost:8080/"
        },
        "outputId": "730dd1a3-1944-4ca6-ca83-996f30f923f2"
      },
      "execution_count": 156,
      "outputs": [
        {
          "output_type": "stream",
          "name": "stderr",
          "text": [
            "[I 2025-04-21 14:00:19,284] A new study created in memory with name: no-name-feb4bf5b-4a6a-4410-852f-28c2823ef683\n",
            "[I 2025-04-21 14:00:48,406] Trial 0 finished with value: 0.29257886290088797 and parameters: {'n_estimatos': 168, 'max_depth': 13, 'min_samples_leaf': 5}. Best is trial 0 with value: 0.29257886290088797.\n",
            "[I 2025-04-21 14:01:02,531] Trial 1 finished with value: 0.27174900121036766 and parameters: {'n_estimatos': 71, 'max_depth': 18, 'min_samples_leaf': 1}. Best is trial 1 with value: 0.27174900121036766.\n",
            "[I 2025-04-21 14:01:21,081] Trial 2 finished with value: 0.2710689304410118 and parameters: {'n_estimatos': 93, 'max_depth': 47, 'min_samples_leaf': 1}. Best is trial 2 with value: 0.2710689304410118.\n",
            "[I 2025-04-21 14:01:45,351] Trial 3 finished with value: 0.27107871219275015 and parameters: {'n_estimatos': 131, 'max_depth': 29, 'min_samples_leaf': 2}. Best is trial 2 with value: 0.2710689304410118.\n",
            "[I 2025-04-21 14:02:39,204] Trial 4 finished with value: 0.2689569954958463 and parameters: {'n_estimatos': 289, 'max_depth': 43, 'min_samples_leaf': 2}. Best is trial 4 with value: 0.2689569954958463.\n",
            "[I 2025-04-21 14:03:01,370] Trial 5 finished with value: 0.28605932903878445 and parameters: {'n_estimatos': 150, 'max_depth': 44, 'min_samples_leaf': 5}. Best is trial 4 with value: 0.2689569954958463.\n",
            "[I 2025-04-21 14:03:16,343] Trial 6 finished with value: 0.27430595767383414 and parameters: {'n_estimatos': 93, 'max_depth': 20, 'min_samples_leaf': 3}. Best is trial 4 with value: 0.2689569954958463.\n",
            "[I 2025-04-21 14:04:01,057] Trial 7 finished with value: 0.27435581221927924 and parameters: {'n_estimatos': 282, 'max_depth': 45, 'min_samples_leaf': 3}. Best is trial 4 with value: 0.2689569954958463.\n",
            "[I 2025-04-21 14:04:37,501] Trial 8 finished with value: 0.26912683244834695 and parameters: {'n_estimatos': 194, 'max_depth': 28, 'min_samples_leaf': 1}. Best is trial 4 with value: 0.2689569954958463.\n",
            "[I 2025-04-21 14:04:59,038] Trial 9 finished with value: 0.2783951552533355 and parameters: {'n_estimatos': 133, 'max_depth': 14, 'min_samples_leaf': 1}. Best is trial 4 with value: 0.2689569954958463.\n",
            "[I 2025-04-21 14:05:44,604] Trial 10 finished with value: 0.273621375344023 and parameters: {'n_estimatos': 300, 'max_depth': 37, 'min_samples_leaf': 3}. Best is trial 4 with value: 0.2689569954958463.\n",
            "[I 2025-04-21 14:06:23,357] Trial 11 finished with value: 0.27141403892394345 and parameters: {'n_estimatos': 228, 'max_depth': 28, 'min_samples_leaf': 2}. Best is trial 4 with value: 0.2689569954958463.\n",
            "[I 2025-04-21 14:07:00,577] Trial 12 finished with value: 0.2689423879358834 and parameters: {'n_estimatos': 228, 'max_depth': 35, 'min_samples_leaf': 2}. Best is trial 12 with value: 0.2689423879358834.\n",
            "[I 2025-04-21 14:07:41,640] Trial 13 finished with value: 0.27011279426142326 and parameters: {'n_estimatos': 249, 'max_depth': 37, 'min_samples_leaf': 2}. Best is trial 12 with value: 0.2689423879358834.\n",
            "[I 2025-04-21 14:08:17,847] Trial 14 finished with value: 0.2795992182796425 and parameters: {'n_estimatos': 247, 'max_depth': 37, 'min_samples_leaf': 4}. Best is trial 12 with value: 0.2689423879358834.\n",
            "[I 2025-04-21 14:08:50,508] Trial 15 finished with value: 0.27027375597815345 and parameters: {'n_estimatos': 201, 'max_depth': 50, 'min_samples_leaf': 2}. Best is trial 12 with value: 0.2689423879358834.\n",
            "[I 2025-04-21 14:09:31,714] Trial 16 finished with value: 0.2735305999145934 and parameters: {'n_estimatos': 270, 'max_depth': 41, 'min_samples_leaf': 3}. Best is trial 12 with value: 0.2689423879358834.\n",
            "[I 2025-04-21 14:10:03,196] Trial 17 finished with value: 0.2806806995733246 and parameters: {'n_estimatos': 216, 'max_depth': 35, 'min_samples_leaf': 4}. Best is trial 12 with value: 0.2689423879358834.\n",
            "[I 2025-04-21 14:10:06,777] Trial 18 finished with value: 0.27675765213073095 and parameters: {'n_estimatos': 23, 'max_depth': 23, 'min_samples_leaf': 2}. Best is trial 12 with value: 0.2689423879358834.\n",
            "[I 2025-04-21 14:10:43,783] Trial 19 finished with value: 0.2791605576308468 and parameters: {'n_estimatos': 255, 'max_depth': 41, 'min_samples_leaf': 4}. Best is trial 12 with value: 0.2689423879358834.\n",
            "[I 2025-04-21 14:11:31,919] Trial 20 finished with value: 0.2698267135828616 and parameters: {'n_estimatos': 294, 'max_depth': 31, 'min_samples_leaf': 2}. Best is trial 12 with value: 0.2689423879358834.\n",
            "[I 2025-04-21 14:12:04,454] Trial 21 finished with value: 0.2695206480516983 and parameters: {'n_estimatos': 174, 'max_depth': 32, 'min_samples_leaf': 1}. Best is trial 12 with value: 0.2689423879358834.\n",
            "[I 2025-04-21 14:12:42,696] Trial 22 finished with value: 0.2688068098448661 and parameters: {'n_estimatos': 207, 'max_depth': 25, 'min_samples_leaf': 1}. Best is trial 22 with value: 0.2688068098448661.\n",
            "[I 2025-04-21 14:13:25,036] Trial 23 finished with value: 0.2690157977037899 and parameters: {'n_estimatos': 230, 'max_depth': 24, 'min_samples_leaf': 1}. Best is trial 22 with value: 0.2688068098448661.\n",
            "[I 2025-04-21 14:13:57,352] Trial 24 finished with value: 0.26930160844638734 and parameters: {'n_estimatos': 196, 'max_depth': 40, 'min_samples_leaf': 2}. Best is trial 22 with value: 0.2688068098448661.\n",
            "[I 2025-04-21 14:14:41,608] Trial 25 finished with value: 0.26845989938871384 and parameters: {'n_estimatos': 272, 'max_depth': 33, 'min_samples_leaf': 2}. Best is trial 25 with value: 0.26845989938871384.\n",
            "[I 2025-04-21 14:15:31,075] Trial 26 finished with value: 0.26848724065203594 and parameters: {'n_estimatos': 266, 'max_depth': 24, 'min_samples_leaf': 1}. Best is trial 25 with value: 0.26845989938871384.\n",
            "[I 2025-04-21 14:16:20,344] Trial 27 finished with value: 0.2681587674561582 and parameters: {'n_estimatos': 265, 'max_depth': 25, 'min_samples_leaf': 1}. Best is trial 27 with value: 0.2681587674561582.\n",
            "[I 2025-04-21 14:16:54,492] Trial 28 finished with value: 0.32433625948864797 and parameters: {'n_estimatos': 266, 'max_depth': 10, 'min_samples_leaf': 1}. Best is trial 27 with value: 0.2681587674561582.\n",
            "[I 2025-04-21 14:17:42,284] Trial 29 finished with value: 0.26901661841275837 and parameters: {'n_estimatos': 268, 'max_depth': 18, 'min_samples_leaf': 1}. Best is trial 27 with value: 0.2681587674561582.\n",
            "[I 2025-04-21 14:18:29,181] Trial 30 finished with value: 0.2673256520732452 and parameters: {'n_estimatos': 242, 'max_depth': 22, 'min_samples_leaf': 1}. Best is trial 30 with value: 0.2673256520732452.\n",
            "[I 2025-04-21 14:19:13,157] Trial 31 finished with value: 0.26797745047502036 and parameters: {'n_estimatos': 237, 'max_depth': 21, 'min_samples_leaf': 1}. Best is trial 30 with value: 0.2673256520732452.\n",
            "[I 2025-04-21 14:19:56,424] Trial 32 finished with value: 0.2686154895726866 and parameters: {'n_estimatos': 237, 'max_depth': 20, 'min_samples_leaf': 1}. Best is trial 30 with value: 0.2673256520732452.\n",
            "[I 2025-04-21 14:20:28,697] Trial 33 finished with value: 0.2705977283037732 and parameters: {'n_estimatos': 173, 'max_depth': 21, 'min_samples_leaf': 1}. Best is trial 30 with value: 0.2673256520732452.\n",
            "[I 2025-04-21 14:21:14,771] Trial 34 finished with value: 0.27582533278867916 and parameters: {'n_estimatos': 278, 'max_depth': 15, 'min_samples_leaf': 1}. Best is trial 30 with value: 0.2673256520732452.\n",
            "[I 2025-04-21 14:21:56,612] Trial 35 finished with value: 0.27127812006614266 and parameters: {'n_estimatos': 252, 'max_depth': 27, 'min_samples_leaf': 2}. Best is trial 30 with value: 0.2673256520732452.\n",
            "[I 2025-04-21 14:22:36,357] Trial 36 finished with value: 0.2687503658593803 and parameters: {'n_estimatos': 215, 'max_depth': 26, 'min_samples_leaf': 1}. Best is trial 30 with value: 0.2673256520732452.\n",
            "[I 2025-04-21 14:23:26,101] Trial 37 finished with value: 0.2711277837749543 and parameters: {'n_estimatos': 241, 'max_depth': 17, 'min_samples_leaf': 2}. Best is trial 30 with value: 0.2673256520732452.\n",
            "[I 2025-04-21 14:24:05,604] Trial 38 finished with value: 0.26847156058208854 and parameters: {'n_estimatos': 152, 'max_depth': 32, 'min_samples_leaf': 1}. Best is trial 30 with value: 0.2673256520732452.\n",
            "[I 2025-04-21 14:24:34,016] Trial 39 finished with value: 0.27608186040848265 and parameters: {'n_estimatos': 187, 'max_depth': 21, 'min_samples_leaf': 3}. Best is trial 30 with value: 0.2673256520732452.\n",
            "[I 2025-04-21 14:25:28,383] Trial 40 finished with value: 0.271355499624315 and parameters: {'n_estimatos': 290, 'max_depth': 30, 'min_samples_leaf': 2}. Best is trial 30 with value: 0.2673256520732452.\n",
            "[I 2025-04-21 14:25:56,398] Trial 41 finished with value: 0.26701081759477274 and parameters: {'n_estimatos': 146, 'max_depth': 33, 'min_samples_leaf': 1}. Best is trial 41 with value: 0.26701081759477274.\n",
            "[I 2025-04-21 14:26:17,762] Trial 42 finished with value: 0.27118133466871197 and parameters: {'n_estimatos': 112, 'max_depth': 33, 'min_samples_leaf': 1}. Best is trial 41 with value: 0.26701081759477274.\n",
            "[I 2025-04-21 14:26:38,314] Trial 43 finished with value: 0.26971667532336613 and parameters: {'n_estimatos': 107, 'max_depth': 29, 'min_samples_leaf': 1}. Best is trial 41 with value: 0.26701081759477274.\n",
            "[I 2025-04-21 14:26:50,394] Trial 44 finished with value: 0.2710452316013321 and parameters: {'n_estimatos': 64, 'max_depth': 23, 'min_samples_leaf': 1}. Best is trial 41 with value: 0.26701081759477274.\n",
            "[I 2025-04-21 14:27:17,565] Trial 45 finished with value: 0.2691019399335584 and parameters: {'n_estimatos': 145, 'max_depth': 34, 'min_samples_leaf': 1}. Best is trial 41 with value: 0.26701081759477274.\n",
            "[I 2025-04-21 14:27:42,823] Trial 46 finished with value: 0.28709832700227295 and parameters: {'n_estimatos': 181, 'max_depth': 17, 'min_samples_leaf': 5}. Best is trial 41 with value: 0.26701081759477274.\n",
            "[I 2025-04-21 14:28:09,348] Trial 47 finished with value: 0.27039672384621094 and parameters: {'n_estimatos': 162, 'max_depth': 27, 'min_samples_leaf': 2}. Best is trial 41 with value: 0.26701081759477274.\n",
            "[I 2025-04-21 14:28:49,240] Trial 48 finished with value: 0.2680270484246764 and parameters: {'n_estimatos': 216, 'max_depth': 22, 'min_samples_leaf': 1}. Best is trial 41 with value: 0.26701081759477274.\n",
            "[I 2025-04-21 14:29:28,035] Trial 49 finished with value: 0.2686564156953874 and parameters: {'n_estimatos': 214, 'max_depth': 19, 'min_samples_leaf': 1}. Best is trial 41 with value: 0.26701081759477274.\n"
          ]
        },
        {
          "output_type": "stream",
          "name": "stdout",
          "text": [
            "Best hyperparameters: {'n_estimatos': 146, 'max_depth': 33, 'min_samples_leaf': 1}\n"
          ]
        }
      ]
    },
    {
      "cell_type": "markdown",
      "source": [
        "### Nueral Network"
      ],
      "metadata": {
        "id": "LJP8RrYJcSMA"
      }
    },
    {
      "cell_type": "code",
      "source": [
        "import torch.optim as optim\n",
        "import torch\n",
        "from torch.utils.data import TensorDataset\n",
        "\n",
        "scaler = StandardScaler()\n",
        "X_test_nn = np.array(test_df.drop('Unnamed: 0', axis=1))\n",
        "\n",
        "# fit scaler to both test and training\n",
        "scaler.fit(np.vstack((X, X_test_nn)))\n",
        "\n",
        "X__labelled_nn = scaler.transform(X)\n",
        "X_test_nn = torch.tensor(X_test_nn, dtype=torch.float32)\n",
        "\n",
        "X_train, X_val, y_train, y_val = train_test_split(\n",
        "    X__labelled_nn.astype(np.float32),\n",
        "    np.array(y).astype(np.float32).reshape(-1, 1), test_size=0.2)\n",
        "\n",
        "train_dataset = TensorDataset(torch.tensor(X_train), torch.tensor(y_train))\n",
        "val_dataset = TensorDataset(torch.tensor(X_val), torch.tensor(y_val))"
      ],
      "metadata": {
        "id": "gJv_NZVJTFg3"
      },
      "execution_count": 60,
      "outputs": []
    },
    {
      "cell_type": "code",
      "source": [
        "import torch.optim as optim\n",
        "from sklearn.preprocessing import MinMaxScaler, StandardScaler\n",
        "from sklearn.metrics import mean_absolute_percentage_error\n",
        "\n",
        "import optuna\n",
        "import torch\n",
        "import torch.nn as nn\n",
        "import torch.optim as optim\n",
        "from torch.utils.data import DataLoader, TensorDataset, random_split\n",
        "from sklearn.model_selection import train_test_split\n",
        "from sklearn.metrics import mean_squared_error\n",
        "import numpy as np\n",
        "\n",
        "\n",
        "class NN(nn.Module):\n",
        "  def __init__(self, input_size, hidden_layers):\n",
        "    super(NN, self).__init__()\n",
        "    layers = []\n",
        "    layers.append(nn.Linear(input_size, hidden_layers[0]))\n",
        "    layers.append(nn.ReLU())\n",
        "\n",
        "    for i in range(1, len(hidden_layers)):\n",
        "      layers.append(nn.Linear(hidden_layers[i-1], hidden_layers[i]))\n",
        "      layers.append(nn.ReLU())\n",
        "\n",
        "    layers.append(nn.Linear(hidden_layers[-1], 1))\n",
        "    self.model = nn.Sequential(*layers)\n",
        "\n",
        "  def forward(self, x):\n",
        "    return self.model(x)\n",
        "\n",
        "\n",
        "class EarlyStopper:\n",
        "  def __init__(self, patience=10, delta=1e-5):\n",
        "    self.patience = patience\n",
        "    self.delta = delta\n",
        "    self.counter = 0\n",
        "    self.best_score = None\n",
        "    self.early_stop = False\n",
        "\n",
        "  def check(self, model, val_loader):\n",
        "    current_score = evaluate(model, val_loader)\n",
        "    if self.best_score is None or current_score < self.best_score - self.delta:\n",
        "      self.best_score = current_score\n",
        "      self.counter = 0\n",
        "    else:\n",
        "      self.counter += 1\n",
        "\n",
        "    if self.counter >= self.patience:\n",
        "      self.early_stop = True\n",
        "\n",
        "    return self.early_stop, current_score\n",
        "\n",
        "\n",
        "def evaluate(model, data_loader):\n",
        "  model.eval()\n",
        "  all_preds, all_targets = [], []\n",
        "  with torch.no_grad():\n",
        "    for xb, yb in data_loader:\n",
        "      preds = model(xb)\n",
        "      all_preds.append(preds.numpy())\n",
        "      all_targets.append(yb.numpy())\n",
        "\n",
        "  all_preds = np.vstack(all_preds)\n",
        "  all_targets = np.vstack(all_targets)\n",
        "  return mean_absolute_percentage_error(all_targets, all_preds)\n",
        "\n",
        "\n",
        "def train(model, train_loader, val_loader,\n",
        "          epochs, lr, early_stopper=None):\n",
        "\n",
        "  mape_scores = []\n",
        "  criterion = nn.MSELoss()\n",
        "  optimizer = optim.Adam(model.parameters(), lr=lr)\n",
        "\n",
        "  for epoch in range(epochs):\n",
        "    model.train()\n",
        "    for xb, yb in train_loader:\n",
        "      optimizer.zero_grad()\n",
        "      preds = model(xb)\n",
        "      loss = criterion(preds, yb)\n",
        "      loss.backward()\n",
        "      optimizer.step()\n",
        "\n",
        "    if early_stopper:\n",
        "      should_stop, epoch_mape = early_stopper.check(model, val_loader)\n",
        "      mape_scores.append(epoch_mape)\n",
        "      if should_stop:\n",
        "        print(f\"Early stopping ended training at epoch {epoch + 1}\")\n",
        "        break\n",
        "\n",
        "  final_mape = evaluate(model, val_loader)\n",
        "  return final_mape, mape_scores\n",
        "\n",
        "\n",
        "def objective(trial):\n",
        "  # hyperparameter search space\n",
        "  n_layers = trial.suggest_int(\"n_layers\", 1, 3)\n",
        "  hidden_layers = [\n",
        "      trial.suggest_int(f\"n_units_l{i}\", 16, 128)\n",
        "      for i in range(n_layers)\n",
        "  ]\n",
        "  lr = trial.suggest_float(\"lr\", 1e-4, 1e-2, log=True)\n",
        "  batch_size = trial.suggest_categorical(\"batch_size\", [32, 64, 128])\n",
        "  model = NN(input_size=26, hidden_layers=hidden_layers)\n",
        "  mape, each_mape = train(\n",
        "      model,\n",
        "      train_loader=DataLoader(train_dataset, batch_size=batch_size, shuffle=True),\n",
        "      val_loader=DataLoader(val_dataset, batch_size=batch_size, shuffle=False),\n",
        "      epochs=15, # limited epochs for optimization\n",
        "      lr=lr\n",
        "  )\n",
        "  return mape\n",
        "\n",
        "# Optuna study\n",
        "study = optuna.create_study(direction=\"minimize\")\n",
        "study.optimize(objective, n_trials=200)\n",
        "\n",
        "print(\"Best trial:\")\n",
        "print(study.best_trial)"
      ],
      "metadata": {
        "id": "m0RhpXesKd10"
      },
      "execution_count": 28,
      "outputs": []
    },
    {
      "cell_type": "code",
      "source": [
        "study.best_params"
      ],
      "metadata": {
        "id": "8bGf6VElox4v",
        "colab": {
          "base_uri": "https://localhost:8080/"
        },
        "outputId": "a447c309-ea24-4875-f04f-b4be4370a785"
      },
      "execution_count": 25,
      "outputs": [
        {
          "output_type": "execute_result",
          "data": {
            "text/plain": [
              "{'n_layers': 3,\n",
              " 'n_units_l0': 125,\n",
              " 'n_units_l1': 82,\n",
              " 'n_units_l2': 69,\n",
              " 'lr': 0.0034579365725773397,\n",
              " 'batch_size': 128}"
            ]
          },
          "metadata": {},
          "execution_count": 25
        }
      ]
    },
    {
      "cell_type": "markdown",
      "source": [
        "## Final Evaluation"
      ],
      "metadata": {
        "id": "bFtX1ofHwlQK"
      }
    },
    {
      "cell_type": "code",
      "source": [
        "# re-setup the best performing model and train untill overfitting\n",
        "\n",
        "batch_size = 128\n",
        "\n",
        "model = NN(hidden_layers=[125, 82, 69], input_size=26)\n",
        "\n",
        "mape, mape_scores = train(\n",
        "    model,\n",
        "    train_loader=DataLoader(train_dataset, batch_size=batch_size, shuffle=True),\n",
        "    val_loader=DataLoader(val_dataset, batch_size=batch_size, shuffle=False),\n",
        "    epochs=500,\n",
        "    # rely on early stopping this time\n",
        "    early_stopper=EarlyStopper(patience=50, delta=1e-5),\n",
        "    lr=0.0034579365725773397,\n",
        ")\n",
        "\n",
        "print('validation MAPE: ', mape)\n",
        "plt.plot(mape_scores)\n",
        "plt.title('validation MAPE vs epoch')\n",
        "plt.show()"
      ],
      "metadata": {
        "id": "cO0pGPnDBWun",
        "colab": {
          "base_uri": "https://localhost:8080/",
          "height": 487
        },
        "outputId": "a6d46ca2-9871-40ca-c9bf-97e5f1e2d6aa"
      },
      "execution_count": 62,
      "outputs": [
        {
          "output_type": "stream",
          "name": "stdout",
          "text": [
            "Early stopping ended training at epoch 231\n",
            "validation MAPE:  0.1506958305835724\n"
          ]
        },
        {
          "output_type": "display_data",
          "data": {
            "text/plain": [
              "<Figure size 640x480 with 1 Axes>"
            ],
            "image/png": "[encoded data removed]"
          },
          "metadata": {}
        }
      ]
    },
    {
      "cell_type": "code",
      "source": [
        "model.eval()\n",
        "with torch.no_grad():\n",
        "    y_pred = model(X_test_nn).numpy()\n",
        "\n",
        "y_pred"
      ],
      "metadata": {
        "colab": {
          "base_uri": "https://localhost:8080/"
        },
        "id": "rYhxc2qfgydD",
        "outputId": "10bad60c-1e24-4815-b615-61e449261c83"
      },
      "execution_count": 63,
      "outputs": [
        {
          "output_type": "execute_result",
          "data": {
            "text/plain": [
              "array([[0.10118693],\n",
              "       [0.09592579],\n",
              "       [0.11938745],\n",
              "       ...,\n",
              "       [0.71103466],\n",
              "       [0.69867533],\n",
              "       [0.6625061 ]], dtype=float32)"
            ]
          },
          "metadata": {},
          "execution_count": 63
        }
      ]
    },
    {
      "cell_type": "code",
      "source": [
        "df = pd.DataFrame({\n",
        "    'Target Pressure (bar)': y_pred.reshape(len(y_pred)),\n",
        "    'ID': np.array(list(range(3203)))\n",
        "})"
      ],
      "metadata": {
        "id": "-E1MInWMz_jP"
      },
      "execution_count": 64,
      "outputs": []
    },
    {
      "cell_type": "code",
      "source": [
        "df"
      ],
      "metadata": {
        "colab": {
          "base_uri": "https://localhost:8080/",
          "height": 424
        },
        "id": "t_HlhXCrR6WZ",
        "outputId": "6b720ba1-a3fd-409c-e349-3eb36e1e8fc9"
      },
      "execution_count": 65,
      "outputs": [
        {
          "output_type": "execute_result",
          "data": {
            "text/plain": [
              "      Target Pressure (bar)    ID\n",
              "0                  0.101187     0\n",
              "1                  0.095926     1\n",
              "2                  0.119387     2\n",
              "3                  0.106834     3\n",
              "4                  0.108432     4\n",
              "...                     ...   ...\n",
              "3198               0.837287  3198\n",
              "3199               0.783544  3199\n",
              "3200               0.711035  3200\n",
              "3201               0.698675  3201\n",
              "3202               0.662506  3202\n",
              "\n",
              "[3203 rows x 2 columns]"
            ],
            "text/html": [
              "\n",
              "  <div id=\"df-53dcfdfb-abab-42d8-a690-569a7c536989\" class=\"colab-df-container\">\n",
              "    <div>\n",
              "<style scoped>\n",
              "    .dataframe tbody tr th:only-of-type {\n",
              "        vertical-align: middle;\n",
              "    }\n",
              "\n",
              "    .dataframe tbody tr th {\n",
              "        vertical-align: top;\n",
              "    }\n",
              "\n",
              "    .dataframe thead th {\n",
              "        text-align: right;\n",
              "    }\n",
              "</style>\n",
              "<table border=\"1\" class=\"dataframe\">\n",
              "  <thead>\n",
              "    <tr style=\"text-align: right;\">\n",
              "      <th></th>\n",
              "      <th>Target Pressure (bar)</th>\n",
              "      <th>ID</th>\n",
              "    </tr>\n",
              "  </thead>\n",
              "  <tbody>\n",
              "    <tr>\n",
              "      <th>0</th>\n",
              "      <td>0.101187</td>\n",
              "      <td>0</td>\n",
              "    </tr>\n",
              "    <tr>\n",
              "      <th>1</th>\n",
              "      <td>0.095926</td>\n",
              "      <td>1</td>\n",
              "    </tr>\n",
              "    <tr>\n",
              "      <th>2</th>\n",
              "      <td>0.119387</td>\n",
              "      <td>2</td>\n",
              "    </tr>\n",
              "    <tr>\n",
              "      <th>3</th>\n",
              "      <td>0.106834</td>\n",
              "      <td>3</td>\n",
              "    </tr>\n",
              "    <tr>\n",
              "      <th>4</th>\n",
              "      <td>0.108432</td>\n",
              "      <td>4</td>\n",
              "    </tr>\n",
              "    <tr>\n",
              "      <th>...</th>\n",
              "      <td>...</td>\n",
              "      <td>...</td>\n",
              "    </tr>\n",
              "    <tr>\n",
              "      <th>3198</th>\n",
              "      <td>0.837287</td>\n",
              "      <td>3198</td>\n",
              "    </tr>\n",
              "    <tr>\n",
              "      <th>3199</th>\n",
              "      <td>0.783544</td>\n",
              "      <td>3199</td>\n",
              "    </tr>\n",
              "    <tr>\n",
              "      <th>3200</th>\n",
              "      <td>0.711035</td>\n",
              "      <td>3200</td>\n",
              "    </tr>\n",
              "    <tr>\n",
              "      <th>3201</th>\n",
              "      <td>0.698675</td>\n",
              "      <td>3201</td>\n",
              "    </tr>\n",
              "    <tr>\n",
              "      <th>3202</th>\n",
              "      <td>0.662506</td>\n",
              "      <td>3202</td>\n",
              "    </tr>\n",
              "  </tbody>\n",
              "</table>\n",
              "<p>3203 rows × 2 columns</p>\n",
              "</div>\n",
              "    <div class=\"colab-df-buttons\">\n",
              "\n",
              "  <div class=\"colab-df-container\">\n",
              "    <button class=\"colab-df-convert\" onclick=\"convertToInteractive('df-53dcfdfb-abab-42d8-a690-569a7c536989')\"\n",
              "            title=\"Convert this dataframe to an interactive table.\"\n",
              "            style=\"display:none;\">\n",
              "\n",
              "  <svg xmlns=\"http://www.w3.org/2000/svg\" height=\"24px\" viewBox=\"0 -960 960 960\">\n",
              "    <path d=\"M120-120v-720h720v720H120Zm60-500h600v-160H180v160Zm220 220h160v-160H400v160Zm0 220h160v-160H400v160ZM180-400h160v-160H180v160Zm440 0h160v-160H620v160ZM180-180h160v-160H180v160Zm440 0h160v-160H620v160Z\"/>\n",
              "  </svg>\n",
              "    </button>\n",
              "\n",
              "  <style>\n",
              "    .colab-df-container {\n",
              "      display:flex;\n",
              "      gap: 12px;\n",
              "    }\n",
              "\n",
              "    .colab-df-convert {\n",
              "      background-color: #E8F0FE;\n",
              "      border: none;\n",
              "      border-radius: 50%;\n",
              "      cursor: pointer;\n",
              "      display: none;\n",
              "      fill: #1967D2;\n",
              "      height: 32px;\n",
              "      padding: 0 0 0 0;\n",
              "      width: 32px;\n",
              "    }\n",
              "\n",
              "    .colab-df-convert:hover {\n",
              "      background-color: #E2EBFA;\n",
              "      box-shadow: 0px 1px 2px rgba(60, 64, 67, 0.3), 0px 1px 3px 1px rgba(60, 64, 67, 0.15);\n",
              "      fill: #174EA6;\n",
              "    }\n",
              "\n",
              "    .colab-df-buttons div {\n",
              "      margin-bottom: 4px;\n",
              "    }\n",
              "\n",
              "    [theme=dark] .colab-df-convert {\n",
              "      background-color: #3B4455;\n",
              "      fill: #D2E3FC;\n",
              "    }\n",
              "\n",
              "    [theme=dark] .colab-df-convert:hover {\n",
              "      background-color: #434B5C;\n",
              "      box-shadow: 0px 1px 3px 1px rgba(0, 0, 0, 0.15);\n",
              "      filter: drop-shadow(0px 1px 2px rgba(0, 0, 0, 0.3));\n",
              "      fill: #FFFFFF;\n",
              "    }\n",
              "  </style>\n",
              "\n",
              "    <script>\n",
              "      const buttonEl =\n",
              "        document.querySelector('#df-53dcfdfb-abab-42d8-a690-569a7c536989 button.colab-df-convert');\n",
              "      buttonEl.style.display =\n",
              "        google.colab.kernel.accessAllowed ? 'block' : 'none';\n",
              "\n",
              "      async function convertToInteractive(key) {\n",
              "        const element = document.querySelector('#df-53dcfdfb-abab-42d8-a690-569a7c536989');\n",
              "        const dataTable =\n",
              "          await google.colab.kernel.invokeFunction('convertToInteractive',\n",
              "                                                    [key], {});\n",
              "        if (!dataTable) return;\n",
              "\n",
              "        const docLinkHtml = 'Like what you see? Visit the ' +\n",
              "          '<a target=\"_blank\" href=https://colab.research.google.com/notebooks/data_table.ipynb>data table notebook</a>'\n",
              "          + ' to learn more about interactive tables.';\n",
              "        element.innerHTML = '';\n",
              "        dataTable['output_type'] = 'display_data';\n",
              "        await google.colab.output.renderOutput(dataTable, element);\n",
              "        const docLink = document.createElement('div');\n",
              "        docLink.innerHTML = docLinkHtml;\n",
              "        element.appendChild(docLink);\n",
              "      }\n",
              "    </script>\n",
              "  </div>\n",
              "\n",
              "\n",
              "<div id=\"df-219bb4ff-9084-4318-84dc-9313912d5991\">\n",
              "  <button class=\"colab-df-quickchart\" onclick=\"quickchart('df-219bb4ff-9084-4318-84dc-9313912d5991')\"\n",
              "            title=\"Suggest charts\"\n",
              "            style=\"display:none;\">\n",
              "\n",
              "<svg xmlns=\"http://www.w3.org/2000/svg\" height=\"24px\"viewBox=\"0 0 24 24\"\n",
              "     width=\"24px\">\n",
              "    <g>\n",
              "        <path d=\"M19 3H5c-1.1 0-2 .9-2 2v14c0 1.1.9 2 2 2h14c1.1 0 2-.9 2-2V5c0-1.1-.9-2-2-2zM9 17H7v-7h2v7zm4 0h-2V7h2v10zm4 0h-2v-4h2v4z\"/>\n",
              "    </g>\n",
              "</svg>\n",
              "  </button>\n",
              "\n",
              "<style>\n",
              "  .colab-df-quickchart {\n",
              "      --bg-color: #E8F0FE;\n",
              "      --fill-color: #1967D2;\n",
              "      --hover-bg-color: #E2EBFA;\n",
              "      --hover-fill-color: #174EA6;\n",
              "      --disabled-fill-color: #AAA;\n",
              "      --disabled-bg-color: #DDD;\n",
              "  }\n",
              "\n",
              "  [theme=dark] .colab-df-quickchart {\n",
              "      --bg-color: #3B4455;\n",
              "      --fill-color: #D2E3FC;\n",
              "      --hover-bg-color: #434B5C;\n",
              "      --hover-fill-color: #FFFFFF;\n",
              "      --disabled-bg-color: #3B4455;\n",
              "      --disabled-fill-color: #666;\n",
              "  }\n",
              "\n",
              "  .colab-df-quickchart {\n",
              "    background-color: var(--bg-color);\n",
              "    border: none;\n",
              "    border-radius: 50%;\n",
              "    cursor: pointer;\n",
              "    display: none;\n",
              "    fill: var(--fill-color);\n",
              "    height: 32px;\n",
              "    padding: 0;\n",
              "    width: 32px;\n",
              "  }\n",
              "\n",
              "  .colab-df-quickchart:hover {\n",
              "    background-color: var(--hover-bg-color);\n",
              "    box-shadow: 0 1px 2px rgba(60, 64, 67, 0.3), 0 1px 3px 1px rgba(60, 64, 67, 0.15);\n",
              "    fill: var(--button-hover-fill-color);\n",
              "  }\n",
              "\n",
              "  .colab-df-quickchart-complete:disabled,\n",
              "  .colab-df-quickchart-complete:disabled:hover {\n",
              "    background-color: var(--disabled-bg-color);\n",
              "    fill: var(--disabled-fill-color);\n",
              "    box-shadow: none;\n",
              "  }\n",
              "\n",
              "  .colab-df-spinner {\n",
              "    border: 2px solid var(--fill-color);\n",
              "    border-color: transparent;\n",
              "    border-bottom-color: var(--fill-color);\n",
              "    animation:\n",
              "      spin 1s steps(1) infinite;\n",
              "  }\n",
              "\n",
              "  @keyframes spin {\n",
              "    0% {\n",
              "      border-color: transparent;\n",
              "      border-bottom-color: var(--fill-color);\n",
              "      border-left-color: var(--fill-color);\n",
              "    }\n",
              "    20% {\n",
              "      border-color: transparent;\n",
              "      border-left-color: var(--fill-color);\n",
              "      border-top-color: var(--fill-color);\n",
              "    }\n",
              "    30% {\n",
              "      border-color: transparent;\n",
              "      border-left-color: var(--fill-color);\n",
              "      border-top-color: var(--fill-color);\n",
              "      border-right-color: var(--fill-color);\n",
              "    }\n",
              "    40% {\n",
              "      border-color: transparent;\n",
              "      border-right-color: var(--fill-color);\n",
              "      border-top-color: var(--fill-color);\n",
              "    }\n",
              "    60% {\n",
              "      border-color: transparent;\n",
              "      border-right-color: var(--fill-color);\n",
              "    }\n",
              "    80% {\n",
              "      border-color: transparent;\n",
              "      border-right-color: var(--fill-color);\n",
              "      border-bottom-color: var(--fill-color);\n",
              "    }\n",
              "    90% {\n",
              "      border-color: transparent;\n",
              "      border-bottom-color: var(--fill-color);\n",
              "    }\n",
              "  }\n",
              "</style>\n",
              "\n",
              "  <script>\n",
              "    async function quickchart(key) {\n",
              "      const quickchartButtonEl =\n",
              "        document.querySelector('#' + key + ' button');\n",
              "      quickchartButtonEl.disabled = true;  // To prevent multiple clicks.\n",
              "      quickchartButtonEl.classList.add('colab-df-spinner');\n",
              "      try {\n",
              "        const charts = await google.colab.kernel.invokeFunction(\n",
              "            'suggestCharts', [key], {});\n",
              "      } catch (error) {\n",
              "        console.error('Error during call to suggestCharts:', error);\n",
              "      }\n",
              "      quickchartButtonEl.classList.remove('colab-df-spinner');\n",
              "      quickchartButtonEl.classList.add('colab-df-quickchart-complete');\n",
              "    }\n",
              "    (() => {\n",
              "      let quickchartButtonEl =\n",
              "        document.querySelector('#df-219bb4ff-9084-4318-84dc-9313912d5991 button');\n",
              "      quickchartButtonEl.style.display =\n",
              "        google.colab.kernel.accessAllowed ? 'block' : 'none';\n",
              "    })();\n",
              "  </script>\n",
              "</div>\n",
              "\n",
              "  <div id=\"id_650b5ffa-a46b-4aea-a610-37e84f2c5b32\">\n",
              "    <style>\n",
              "      .colab-df-generate {\n",
              "        background-color: #E8F0FE;\n",
              "        border: none;\n",
              "        border-radius: 50%;\n",
              "        cursor: pointer;\n",
              "        display: none;\n",
              "        fill: #1967D2;\n",
              "        height: 32px;\n",
              "        padding: 0 0 0 0;\n",
              "        width: 32px;\n",
              "      }\n",
              "\n",
              "      .colab-df-generate:hover {\n",
              "        background-color: #E2EBFA;\n",
              "        box-shadow: 0px 1px 2px rgba(60, 64, 67, 0.3), 0px 1px 3px 1px rgba(60, 64, 67, 0.15);\n",
              "        fill: #174EA6;\n",
              "      }\n",
              "\n",
              "      [theme=dark] .colab-df-generate {\n",
              "        background-color: #3B4455;\n",
              "        fill: #D2E3FC;\n",
              "      }\n",
              "\n",
              "      [theme=dark] .colab-df-generate:hover {\n",
              "        background-color: #434B5C;\n",
              "        box-shadow: 0px 1px 3px 1px rgba(0, 0, 0, 0.15);\n",
              "        filter: drop-shadow(0px 1px 2px rgba(0, 0, 0, 0.3));\n",
              "        fill: #FFFFFF;\n",
              "      }\n",
              "    </style>\n",
              "    <button class=\"colab-df-generate\" onclick=\"generateWithVariable('df')\"\n",
              "            title=\"Generate code using this dataframe.\"\n",
              "            style=\"display:none;\">\n",
              "\n",
              "  <svg xmlns=\"http://www.w3.org/2000/svg\" height=\"24px\"viewBox=\"0 0 24 24\"\n",
              "       width=\"24px\">\n",
              "    <path d=\"M7,19H8.4L18.45,9,17,7.55,7,17.6ZM5,21V16.75L18.45,3.32a2,2,0,0,1,2.83,0l1.4,1.43a1.91,1.91,0,0,1,.58,1.4,1.91,1.91,0,0,1-.58,1.4L9.25,21ZM18.45,9,17,7.55Zm-12,3A5.31,5.31,0,0,0,4.9,8.1,5.31,5.31,0,0,0,1,6.5,5.31,5.31,0,0,0,4.9,4.9,5.31,5.31,0,0,0,6.5,1,5.31,5.31,0,0,0,8.1,4.9,5.31,5.31,0,0,0,12,6.5,5.46,5.46,0,0,0,6.5,12Z\"/>\n",
              "  </svg>\n",
              "    </button>\n",
              "    <script>\n",
              "      (() => {\n",
              "      const buttonEl =\n",
              "        document.querySelector('#id_650b5ffa-a46b-4aea-a610-37e84f2c5b32 button.colab-df-generate');\n",
              "      buttonEl.style.display =\n",
              "        google.colab.kernel.accessAllowed ? 'block' : 'none';\n",
              "\n",
              "      buttonEl.onclick = () => {\n",
              "        google.colab.notebook.generateWithVariable('df');\n",
              "      }\n",
              "      })();\n",
              "    </script>\n",
              "  </div>\n",
              "\n",
              "    </div>\n",
              "  </div>\n"
            ],
            "application/vnd.google.colaboratory.intrinsic+json": {
              "type": "dataframe",
              "variable_name": "df",
              "summary": "{\n  \"name\": \"df\",\n  \"rows\": 3203,\n  \"fields\": [\n    {\n      \"column\": \"Target Pressure (bar)\",\n      \"properties\": {\n        \"dtype\": \"float32\",\n        \"num_unique_values\": 3196,\n        \"samples\": [\n          0.5722822546958923,\n          0.17672783136367798,\n          0.6271066069602966\n        ],\n        \"semantic_type\": \"\",\n        \"description\": \"\"\n      }\n    },\n    {\n      \"column\": \"ID\",\n      \"properties\": {\n        \"dtype\": \"number\",\n        \"std\": 924,\n        \"min\": 0,\n        \"max\": 3202,\n        \"num_unique_values\": 3203,\n        \"samples\": [\n          3008,\n          102,\n          862\n        ],\n        \"semantic_type\": \"\",\n        \"description\": \"\"\n      }\n    }\n  ]\n}"
            }
          },
          "metadata": {},
          "execution_count": 65
        }
      ]
    },
    {
      "cell_type": "code",
      "source": [
        "df.to_csv('y_pred.csv', index=False)"
      ],
      "metadata": {
        "id": "52sXz6f91ybD"
      },
      "execution_count": 66,
      "outputs": []
    }
  ]
}